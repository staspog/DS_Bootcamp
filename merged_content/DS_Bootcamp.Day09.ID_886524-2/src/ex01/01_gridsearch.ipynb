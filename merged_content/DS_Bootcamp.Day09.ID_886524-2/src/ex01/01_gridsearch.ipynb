{
    "cells": [
        {
            "cell_type": "markdown",
            "metadata": {},
            "source": [
                "# Day 09. Exercise 01\n",
                "# Gridsearch"
            ]
        },
        {
            "cell_type": "markdown",
            "metadata": {},
            "source": [
                "### Запуск контейнера с нужными версиями\n",
                "\n",
                "docker run -d \\\n",
                "  --platform linux/amd64 \\\n",
                "  -p 8888:8888 \\\n",
                "  -v $(pwd):/home/jovyan/work \\\n",
                "  --name sklearn \\\n",
                "  jupyter/scipy-notebook:python-3.8 \\\n",
                "  bash -c \"pip install scikit-learn==0.23.1 tqdm==4.46.1 && start-notebook.sh --NotebookApp.token=''\"\n",
                "\n",
                "#### и выбираем правильный kernel в vscode на localhost (который отдает докер)"
            ]
        },
        {
            "cell_type": "code",
            "execution_count": 44,
            "metadata": {},
            "outputs": [
                {
                    "name": "stdout",
                    "output_type": "stream",
                    "text": [
                        "Python версия: 3.8.13 | packaged by conda-forge | (default, Mar 25 2022, 06:04:10) \n",
                        "[GCC 10.3.0]\n",
                        "scikit-learn версия: 0.23.1\n",
                        "pandas версия: 1.5.0\n",
                        "numpy версия: 1.23.3\n",
                        "tqdm версия: 4.64.1\n"
                    ]
                }
            ],
            "source": [
                "import sys\n",
                "print(\"Python версия:\", sys.version)\n",
                "\n",
                "import sklearn\n",
                "print(\"scikit-learn версия:\", sklearn.__version__)\n",
                "\n",
                "import pandas as pd\n",
                "print(\"pandas версия:\", pd.__version__)\n",
                "\n",
                "import numpy as np\n",
                "print(\"numpy версия:\", np.__version__)\n",
                "\n",
                "import tqdm\n",
                "print(\"tqdm версия:\", tqdm.__version__)"
            ]
        },
        {
            "cell_type": "markdown",
            "metadata": {},
            "source": [
                "## 0. Imports"
            ]
        },
        {
            "cell_type": "code",
            "execution_count": 45,
            "metadata": {},
            "outputs": [],
            "source": [
                "import pandas as pd\n",
                "from sklearn.model_selection import train_test_split, GridSearchCV, cross_val_score\n",
                "from sklearn.svm import SVC\n",
                "from sklearn.tree import DecisionTreeClassifier\n",
                "from sklearn.ensemble import RandomForestClassifier\n",
                "from sklearn.metrics import accuracy_score, classification_report, confusion_matrix\n",
                "from tqdm.notebook import tqdm\n",
                "import itertools"
            ]
        },
        {
            "cell_type": "markdown",
            "metadata": {},
            "source": [
                "## 1. Preprocessing"
            ]
        },
        {
            "cell_type": "markdown",
            "metadata": {},
            "source": [
                "1. Read the file [`day-of-week-not-scaled.csv`](https://drive.google.com/file/d/1AlGvsJDSzPT_70caausx8bFuupIEZkfh/view?usp=sharing). It is similar to the one from the previous exercise, but this time we did not scale continuous features (we are not going to use logreg anymore). Don't forget to enrich the table with the 'dayofweek' column from the previous day's .csv-file.\n",
                "2. Using `train_test_split` with parameters `test_size=0.2`, `random_state=21` get `X_train`, `y_train`, `X_test`, `y_test`. Use the additional parameter `stratify`."
            ]
        },
        {
            "cell_type": "code",
            "execution_count": 46,
            "metadata": {},
            "outputs": [
                {
                    "name": "stdout",
                    "output_type": "stream",
                    "text": [
                        "Размерность данных: (1686, 43)\n",
                        "Колонки в файле: ['numTrials', 'hour', 'uid_user_0', 'uid_user_1', 'uid_user_10', 'uid_user_11', 'uid_user_12', 'uid_user_13', 'uid_user_14', 'uid_user_15', 'uid_user_16', 'uid_user_17', 'uid_user_18', 'uid_user_19', 'uid_user_2', 'uid_user_20', 'uid_user_21', 'uid_user_22', 'uid_user_23', 'uid_user_24', 'uid_user_25', 'uid_user_26', 'uid_user_27', 'uid_user_28', 'uid_user_29', 'uid_user_3', 'uid_user_30', 'uid_user_31', 'uid_user_4', 'uid_user_6', 'uid_user_7', 'uid_user_8', 'labname_code_rvw', 'labname_lab02', 'labname_lab03', 'labname_lab03s', 'labname_lab05s', 'labname_laba04', 'labname_laba04s', 'labname_laba05', 'labname_laba06', 'labname_laba06s', 'labname_project1']\n"
                    ]
                }
            ],
            "source": [
                "df = pd.read_csv('work/src/data/day-of-week-not-scaled.csv')\n",
                "print(f\"Размерность данных: {df.shape}\")\n",
                "print(f\"Колонки в файле: {df.columns.tolist()}\")"
            ]
        },
        {
            "cell_type": "code",
            "execution_count": 47,
            "metadata": {},
            "outputs": [
                {
                    "name": "stdout",
                    "output_type": "stream",
                    "text": [
                        "Новая размерность: (1686, 44)\n",
                        "Финальные колонки: ['numTrials', 'hour', 'uid_user_0', 'uid_user_1', 'uid_user_10', 'uid_user_11', 'uid_user_12', 'uid_user_13', 'uid_user_14', 'uid_user_15', 'uid_user_16', 'uid_user_17', 'uid_user_18', 'uid_user_19', 'uid_user_2', 'uid_user_20', 'uid_user_21', 'uid_user_22', 'uid_user_23', 'uid_user_24', 'uid_user_25', 'uid_user_26', 'uid_user_27', 'uid_user_28', 'uid_user_29', 'uid_user_3', 'uid_user_30', 'uid_user_31', 'uid_user_4', 'uid_user_6', 'uid_user_7', 'uid_user_8', 'labname_code_rvw', 'labname_lab02', 'labname_lab03', 'labname_lab03s', 'labname_lab05s', 'labname_laba04', 'labname_laba04s', 'labname_laba05', 'labname_laba06', 'labname_laba06s', 'labname_project1', 'dayofweek']\n"
                    ]
                },
                {
                    "data": {
                        "text/html": [
                            "<div>\n",
                            "<style scoped>\n",
                            "    .dataframe tbody tr th:only-of-type {\n",
                            "        vertical-align: middle;\n",
                            "    }\n",
                            "\n",
                            "    .dataframe tbody tr th {\n",
                            "        vertical-align: top;\n",
                            "    }\n",
                            "\n",
                            "    .dataframe thead th {\n",
                            "        text-align: right;\n",
                            "    }\n",
                            "</style>\n",
                            "<table border=\"1\" class=\"dataframe\">\n",
                            "  <thead>\n",
                            "    <tr style=\"text-align: right;\">\n",
                            "      <th></th>\n",
                            "      <th>numTrials</th>\n",
                            "      <th>hour</th>\n",
                            "      <th>uid_user_0</th>\n",
                            "      <th>uid_user_1</th>\n",
                            "      <th>uid_user_10</th>\n",
                            "      <th>uid_user_11</th>\n",
                            "      <th>uid_user_12</th>\n",
                            "      <th>uid_user_13</th>\n",
                            "      <th>uid_user_14</th>\n",
                            "      <th>uid_user_15</th>\n",
                            "      <th>...</th>\n",
                            "      <th>labname_lab03</th>\n",
                            "      <th>labname_lab03s</th>\n",
                            "      <th>labname_lab05s</th>\n",
                            "      <th>labname_laba04</th>\n",
                            "      <th>labname_laba04s</th>\n",
                            "      <th>labname_laba05</th>\n",
                            "      <th>labname_laba06</th>\n",
                            "      <th>labname_laba06s</th>\n",
                            "      <th>labname_project1</th>\n",
                            "      <th>dayofweek</th>\n",
                            "    </tr>\n",
                            "  </thead>\n",
                            "  <tbody>\n",
                            "    <tr>\n",
                            "      <th>0</th>\n",
                            "      <td>1</td>\n",
                            "      <td>5</td>\n",
                            "      <td>0.0</td>\n",
                            "      <td>0.0</td>\n",
                            "      <td>0.0</td>\n",
                            "      <td>0.0</td>\n",
                            "      <td>0.0</td>\n",
                            "      <td>0.0</td>\n",
                            "      <td>0.0</td>\n",
                            "      <td>0.0</td>\n",
                            "      <td>...</td>\n",
                            "      <td>0.0</td>\n",
                            "      <td>0.0</td>\n",
                            "      <td>0.0</td>\n",
                            "      <td>0.0</td>\n",
                            "      <td>0.0</td>\n",
                            "      <td>0.0</td>\n",
                            "      <td>0.0</td>\n",
                            "      <td>0.0</td>\n",
                            "      <td>1.0</td>\n",
                            "      <td>4</td>\n",
                            "    </tr>\n",
                            "    <tr>\n",
                            "      <th>1</th>\n",
                            "      <td>2</td>\n",
                            "      <td>5</td>\n",
                            "      <td>0.0</td>\n",
                            "      <td>0.0</td>\n",
                            "      <td>0.0</td>\n",
                            "      <td>0.0</td>\n",
                            "      <td>0.0</td>\n",
                            "      <td>0.0</td>\n",
                            "      <td>0.0</td>\n",
                            "      <td>0.0</td>\n",
                            "      <td>...</td>\n",
                            "      <td>0.0</td>\n",
                            "      <td>0.0</td>\n",
                            "      <td>0.0</td>\n",
                            "      <td>0.0</td>\n",
                            "      <td>0.0</td>\n",
                            "      <td>0.0</td>\n",
                            "      <td>0.0</td>\n",
                            "      <td>0.0</td>\n",
                            "      <td>1.0</td>\n",
                            "      <td>4</td>\n",
                            "    </tr>\n",
                            "    <tr>\n",
                            "      <th>2</th>\n",
                            "      <td>3</td>\n",
                            "      <td>5</td>\n",
                            "      <td>0.0</td>\n",
                            "      <td>0.0</td>\n",
                            "      <td>0.0</td>\n",
                            "      <td>0.0</td>\n",
                            "      <td>0.0</td>\n",
                            "      <td>0.0</td>\n",
                            "      <td>0.0</td>\n",
                            "      <td>0.0</td>\n",
                            "      <td>...</td>\n",
                            "      <td>0.0</td>\n",
                            "      <td>0.0</td>\n",
                            "      <td>0.0</td>\n",
                            "      <td>0.0</td>\n",
                            "      <td>0.0</td>\n",
                            "      <td>0.0</td>\n",
                            "      <td>0.0</td>\n",
                            "      <td>0.0</td>\n",
                            "      <td>1.0</td>\n",
                            "      <td>4</td>\n",
                            "    </tr>\n",
                            "    <tr>\n",
                            "      <th>3</th>\n",
                            "      <td>4</td>\n",
                            "      <td>5</td>\n",
                            "      <td>0.0</td>\n",
                            "      <td>0.0</td>\n",
                            "      <td>0.0</td>\n",
                            "      <td>0.0</td>\n",
                            "      <td>0.0</td>\n",
                            "      <td>0.0</td>\n",
                            "      <td>0.0</td>\n",
                            "      <td>0.0</td>\n",
                            "      <td>...</td>\n",
                            "      <td>0.0</td>\n",
                            "      <td>0.0</td>\n",
                            "      <td>0.0</td>\n",
                            "      <td>0.0</td>\n",
                            "      <td>0.0</td>\n",
                            "      <td>0.0</td>\n",
                            "      <td>0.0</td>\n",
                            "      <td>0.0</td>\n",
                            "      <td>1.0</td>\n",
                            "      <td>4</td>\n",
                            "    </tr>\n",
                            "    <tr>\n",
                            "      <th>4</th>\n",
                            "      <td>5</td>\n",
                            "      <td>5</td>\n",
                            "      <td>0.0</td>\n",
                            "      <td>0.0</td>\n",
                            "      <td>0.0</td>\n",
                            "      <td>0.0</td>\n",
                            "      <td>0.0</td>\n",
                            "      <td>0.0</td>\n",
                            "      <td>0.0</td>\n",
                            "      <td>0.0</td>\n",
                            "      <td>...</td>\n",
                            "      <td>0.0</td>\n",
                            "      <td>0.0</td>\n",
                            "      <td>0.0</td>\n",
                            "      <td>0.0</td>\n",
                            "      <td>0.0</td>\n",
                            "      <td>0.0</td>\n",
                            "      <td>0.0</td>\n",
                            "      <td>0.0</td>\n",
                            "      <td>1.0</td>\n",
                            "      <td>4</td>\n",
                            "    </tr>\n",
                            "  </tbody>\n",
                            "</table>\n",
                            "<p>5 rows × 44 columns</p>\n",
                            "</div>"
                        ],
                        "text/plain": [
                            "   numTrials  hour  uid_user_0  uid_user_1  uid_user_10  uid_user_11  \\\n",
                            "0          1     5         0.0         0.0          0.0          0.0   \n",
                            "1          2     5         0.0         0.0          0.0          0.0   \n",
                            "2          3     5         0.0         0.0          0.0          0.0   \n",
                            "3          4     5         0.0         0.0          0.0          0.0   \n",
                            "4          5     5         0.0         0.0          0.0          0.0   \n",
                            "\n",
                            "   uid_user_12  uid_user_13  uid_user_14  uid_user_15  ...  labname_lab03  \\\n",
                            "0          0.0          0.0          0.0          0.0  ...            0.0   \n",
                            "1          0.0          0.0          0.0          0.0  ...            0.0   \n",
                            "2          0.0          0.0          0.0          0.0  ...            0.0   \n",
                            "3          0.0          0.0          0.0          0.0  ...            0.0   \n",
                            "4          0.0          0.0          0.0          0.0  ...            0.0   \n",
                            "\n",
                            "   labname_lab03s  labname_lab05s  labname_laba04  labname_laba04s  \\\n",
                            "0             0.0             0.0             0.0              0.0   \n",
                            "1             0.0             0.0             0.0              0.0   \n",
                            "2             0.0             0.0             0.0              0.0   \n",
                            "3             0.0             0.0             0.0              0.0   \n",
                            "4             0.0             0.0             0.0              0.0   \n",
                            "\n",
                            "   labname_laba05  labname_laba06  labname_laba06s  labname_project1  \\\n",
                            "0             0.0             0.0              0.0               1.0   \n",
                            "1             0.0             0.0              0.0               1.0   \n",
                            "2             0.0             0.0              0.0               1.0   \n",
                            "3             0.0             0.0              0.0               1.0   \n",
                            "4             0.0             0.0              0.0               1.0   \n",
                            "\n",
                            "   dayofweek  \n",
                            "0          4  \n",
                            "1          4  \n",
                            "2          4  \n",
                            "3          4  \n",
                            "4          4  \n",
                            "\n",
                            "[5 rows x 44 columns]"
                        ]
                    },
                    "execution_count": 47,
                    "metadata": {},
                    "output_type": "execute_result"
                }
            ],
            "source": [
                "df_target = pd.read_csv('work/src/data/dayofweek.csv')\n",
                "\n",
                "df['dayofweek'] = df_target['dayofweek']\n",
                "\n",
                "print(f\"Новая размерность: {df.shape}\")\n",
                "print(\"Финальные колонки:\", df.columns.tolist())\n",
                "\n",
                "df.head()"
            ]
        },
        {
            "cell_type": "code",
            "execution_count": 48,
            "metadata": {},
            "outputs": [
                {
                    "name": "stdout",
                    "output_type": "stream",
                    "text": [
                        "Распределение целевой переменной:\n"
                    ]
                },
                {
                    "data": {
                        "text/plain": [
                            "0    136\n",
                            "1    274\n",
                            "2    149\n",
                            "3    396\n",
                            "4    104\n",
                            "5    271\n",
                            "6    356\n",
                            "Name: dayofweek, dtype: int64"
                        ]
                    },
                    "execution_count": 48,
                    "metadata": {},
                    "output_type": "execute_result"
                }
            ],
            "source": [
                "print(\"Распределение целевой переменной:\")\n",
                "df['dayofweek'].value_counts().sort_index()"
            ]
        },
        {
            "cell_type": "code",
            "execution_count": 49,
            "metadata": {},
            "outputs": [
                {
                    "name": "stdout",
                    "output_type": "stream",
                    "text": [
                        "Общая информация о данных:\n",
                        "- Количество образцов: 1686\n",
                        "- Количество признаков: 43\n",
                        "- Количество классов: 7\n",
                        "- Классы: [0, 1, 2, 3, 4, 5, 6]\n"
                    ]
                }
            ],
            "source": [
                "print(f\"Общая информация о данных:\")\n",
                "print(f\"- Количество образцов: {len(df)}\")\n",
                "print(f\"- Количество признаков: {len(df.columns) - 1}\")\n",
                "print(f\"- Количество классов: {df['dayofweek'].nunique()}\")\n",
                "print(f\"- Классы: {sorted(df['dayofweek'].unique())}\")"
            ]
        },
        {
            "cell_type": "code",
            "execution_count": 50,
            "metadata": {},
            "outputs": [
                {
                    "name": "stdout",
                    "output_type": "stream",
                    "text": [
                        "Размерность тренировочного набора: (1348, 43)\n",
                        "Размерность тестового набора: (338, 43)\n"
                    ]
                }
            ],
            "source": [
                "X = df.drop('dayofweek', axis=1)\n",
                "y = df['dayofweek']\n",
                "\n",
                "X_train, X_test, y_train, y_test = train_test_split(\n",
                "    X, y, \n",
                "    test_size=0.2, \n",
                "    random_state=21, \n",
                "    stratify=y\n",
                ")\n",
                "\n",
                "print(\"Размерность тренировочного набора:\", X_train.shape)\n",
                "print(\"Размерность тестового набора:\", X_test.shape)"
            ]
        },
        {
            "cell_type": "markdown",
            "metadata": {},
            "source": [
                "## 2. SVM gridsearch"
            ]
        },
        {
            "cell_type": "markdown",
            "metadata": {},
            "source": [
                "1. Using `GridSearchCV` try different parameters of kernel (`linear`, `rbf`, `sigmoid`), C (`0.01`, `0.1`, `1`, `1.5`, `5`, `10`), gamma (`scale`, `auto`), class_weight (`balanced`, `None`) use `random_state=21` and `probability=True` and get the best combination of them in terms of accuracy.\n",
                "2. Create a dataframe from the results of the gridsearch and sort it ascendingly by the `rank_test_score`. Check if there is a huge difference between different combinations (sometimes a simpler model may give a comparable result)."
            ]
        },
        {
            "cell_type": "code",
            "execution_count": 51,
            "metadata": {},
            "outputs": [
                {
                    "name": "stdout",
                    "output_type": "stream",
                    "text": [
                        "=== SVM GridSearch ===\n",
                        "\n",
                        "Общее количество комбинаций: 72\n"
                    ]
                }
            ],
            "source": [
                "print(\"=== SVM GridSearch ===\\n\")\n",
                "\n",
                "svm_param_grid = {\n",
                "    'kernel': ['linear', 'rbf', 'sigmoid'],\n",
                "    'C': [0.01, 0.1, 1, 1.5, 5, 10],\n",
                "    'gamma': ['scale', 'auto'],\n",
                "    'class_weight': ['balanced', None]\n",
                "}\n",
                "\n",
                "svm_model = SVC(random_state=21, probability=True)\n",
                "\n",
                "svm_grid_search = GridSearchCV(\n",
                "    estimator=svm_model,\n",
                "    param_grid=svm_param_grid,\n",
                "    scoring='accuracy',\n",
                "    cv=5,\n",
                "    n_jobs=-1,\n",
                "    verbose=1\n",
                ")\n",
                "\n",
                "print(f\"Общее количество комбинаций: {len(svm_param_grid['kernel']) * len(svm_param_grid['C']) * len(svm_param_grid['gamma']) * len(svm_param_grid['class_weight'])}\")"
            ]
        },
        {
            "cell_type": "code",
            "execution_count": 52,
            "metadata": {},
            "outputs": [
                {
                    "name": "stdout",
                    "output_type": "stream",
                    "text": [
                        "Fitting 5 folds for each of 72 candidates, totalling 360 fits\n"
                    ]
                },
                {
                    "name": "stderr",
                    "output_type": "stream",
                    "text": [
                        "[Parallel(n_jobs=-1)]: Using backend LokyBackend with 10 concurrent workers.\n",
                        "[Parallel(n_jobs=-1)]: Done  30 tasks      | elapsed:    5.3s\n",
                        "[Parallel(n_jobs=-1)]: Done 180 tasks      | elapsed:   38.2s\n",
                        "[Parallel(n_jobs=-1)]: Done 360 out of 360 | elapsed:  3.6min finished\n"
                    ]
                },
                {
                    "name": "stdout",
                    "output_type": "stream",
                    "text": [
                        "CPU times: user 1.59 s, sys: 246 ms, total: 1.83 s\n",
                        "Wall time: 3min 35s\n"
                    ]
                },
                {
                    "data": {
                        "text/plain": [
                            "GridSearchCV(cv=5, estimator=SVC(probability=True, random_state=21), n_jobs=-1,\n",
                            "             param_grid={'C': [0.01, 0.1, 1, 1.5, 5, 10],\n",
                            "                         'class_weight': ['balanced', None],\n",
                            "                         'gamma': ['scale', 'auto'],\n",
                            "                         'kernel': ['linear', 'rbf', 'sigmoid']},\n",
                            "             scoring='accuracy', verbose=1)"
                        ]
                    },
                    "execution_count": 52,
                    "metadata": {},
                    "output_type": "execute_result"
                }
            ],
            "source": [
                "%%time\n",
                "\n",
                "svm_grid_search.fit(X_train, y_train)"
            ]
        },
        {
            "cell_type": "code",
            "execution_count": 53,
            "metadata": {},
            "outputs": [
                {
                    "name": "stdout",
                    "output_type": "stream",
                    "text": [
                        "Лучшие параметры SVM: {'C': 10, 'class_weight': None, 'gamma': 'auto', 'kernel': 'rbf'}\n",
                        "Лучший CV score: 0.8761090458488228\n"
                    ]
                }
            ],
            "source": [
                "print(f\"Лучшие параметры SVM: {svm_grid_search.best_params_}\")\n",
                "print(f\"Лучший CV score: {svm_grid_search.best_score_}\")"
            ]
        },
        {
            "cell_type": "code",
            "execution_count": 54,
            "metadata": {},
            "outputs": [
                {
                    "name": "stdout",
                    "output_type": "stream",
                    "text": [
                        "Топ-10 результатов SVM GridSearch:\n",
                        "Rank 1: 0.87611 (±0.01842) - {'C': 10, 'class_weight': None, 'gamma': 'auto', 'kernel': 'rbf', 'probability': True, 'random_state': 21}\n",
                        "Rank 2: 0.86350 (±0.01087) - {'C': 10, 'class_weight': 'balanced', 'gamma': 'auto', 'kernel': 'rbf', 'probability': True, 'random_state': 21}\n",
                        "Rank 3: 0.81602 (±0.00812) - {'C': 5, 'class_weight': None, 'gamma': 'auto', 'kernel': 'rbf', 'probability': True, 'random_state': 21}\n",
                        "Rank 4: 0.80861 (±0.02101) - {'C': 5, 'class_weight': 'balanced', 'gamma': 'auto', 'kernel': 'rbf', 'probability': True, 'random_state': 21}\n",
                        "Rank 5: 0.72105 (±0.03444) - {'C': 10, 'class_weight': 'balanced', 'gamma': 'auto', 'kernel': 'linear', 'probability': True, 'random_state': 21}\n",
                        "Rank 5: 0.72105 (±0.03444) - {'C': 10, 'class_weight': 'balanced', 'gamma': 'scale', 'kernel': 'linear', 'probability': True, 'random_state': 21}\n",
                        "Rank 7: 0.71959 (±0.01746) - {'C': 10, 'class_weight': None, 'gamma': 'scale', 'kernel': 'linear', 'probability': True, 'random_state': 21}\n",
                        "Rank 7: 0.71959 (±0.01746) - {'C': 10, 'class_weight': None, 'gamma': 'auto', 'kernel': 'linear', 'probability': True, 'random_state': 21}\n",
                        "Rank 9: 0.70623 (±0.03162) - {'C': 5, 'class_weight': 'balanced', 'gamma': 'auto', 'kernel': 'linear', 'probability': True, 'random_state': 21}\n",
                        "Rank 9: 0.70623 (±0.03162) - {'C': 5, 'class_weight': 'balanced', 'gamma': 'scale', 'kernel': 'linear', 'probability': True, 'random_state': 21}\n"
                    ]
                }
            ],
            "source": [
                "svm_results_df = pd.DataFrame(svm_grid_search.cv_results_)\n",
                "svm_results_df_sorted = svm_results_df.sort_values('rank_test_score')\n",
                "\n",
                "print(\"Топ-10 результатов SVM GridSearch:\")\n",
                "top_svm_results = svm_results_df_sorted[['params', 'mean_test_score', 'std_test_score', 'rank_test_score']].head(10)\n",
                "for idx, row in top_svm_results.iterrows():\n",
                "    row['params']['probability'] = True\n",
                "    row['params']['random_state'] = 21\n",
                "    print(f\"Rank {int(row['rank_test_score'])}: {row['mean_test_score']:.5f} (±{row['std_test_score']:.5f}) - {row['params']}\")"
            ]
        },
        {
            "cell_type": "code",
            "execution_count": 55,
            "metadata": {},
            "outputs": [
                {
                    "name": "stdout",
                    "output_type": "stream",
                    "text": [
                        "Разница между лучшим и 5-м результатом: 0.15506\n",
                        "Разница существенная - стоит использовать лучшую модель\n"
                    ]
                }
            ],
            "source": [
                "top_5_scores = svm_results_df_sorted['mean_test_score'].head(5)\n",
                "score_difference = top_5_scores.max() - top_5_scores.min()\n",
                "\n",
                "print(f\"Разница между лучшим и 5-м результатом: {score_difference:.5f}\")\n",
                "\n",
                "if score_difference < 0.01:\n",
                "    print(\"Разница небольшая - можно выбрать более простую модель\")\n",
                "else:\n",
                "    print(\"Разница существенная - стоит использовать лучшую модель\")"
            ]
        },
        {
            "cell_type": "markdown",
            "metadata": {},
            "source": [
                "## 3. Decision tree"
            ]
        },
        {
            "cell_type": "markdown",
            "metadata": {},
            "source": [
                "1. Using `GridSearchCV` try different parameters of `max_depth` (from `1` to `49`), `class_weight` (`balanced`, `None`) and `criterion` (`entropy` and `gini`) and get the best combination of them in terms of accuracy. Use `random_state=21`.\n",
                "2. Create a dataframe from the results of the gridsearch and sort it ascendingly by the `rank_test_score`, check if there is a huge difference between different combinations (sometimes a simpler model may give a comparable result)."
            ]
        },
        {
            "cell_type": "code",
            "execution_count": 56,
            "metadata": {},
            "outputs": [
                {
                    "name": "stdout",
                    "output_type": "stream",
                    "text": [
                        "=== Decision Tree GridSearch ===\n",
                        "\n",
                        "Общее количество комбинаций: 196\n"
                    ]
                }
            ],
            "source": [
                "print(\"=== Decision Tree GridSearch ===\\n\")\n",
                "\n",
                "dt_param_grid = {\n",
                "    'max_depth': list(range(1, 50)),\n",
                "    'class_weight': ['balanced', None],\n",
                "    'criterion': ['entropy', 'gini']\n",
                "}\n",
                "\n",
                "dt_model = DecisionTreeClassifier(random_state=21)\n",
                "\n",
                "dt_grid_search = GridSearchCV(\n",
                "    estimator=dt_model,\n",
                "    param_grid=dt_param_grid,\n",
                "    scoring='accuracy',\n",
                "    cv=5,\n",
                "    n_jobs=-1,\n",
                "    verbose=1\n",
                ")\n",
                "\n",
                "print(f\"Общее количество комбинаций: {len(dt_param_grid['max_depth']) * len(dt_param_grid['class_weight']) * len(dt_param_grid['criterion'])}\")"
            ]
        },
        {
            "cell_type": "code",
            "execution_count": 57,
            "metadata": {},
            "outputs": [
                {
                    "name": "stdout",
                    "output_type": "stream",
                    "text": [
                        "Fitting 5 folds for each of 196 candidates, totalling 980 fits\n"
                    ]
                },
                {
                    "name": "stderr",
                    "output_type": "stream",
                    "text": [
                        "[Parallel(n_jobs=-1)]: Using backend LokyBackend with 10 concurrent workers.\n",
                        "[Parallel(n_jobs=-1)]: Done  40 tasks      | elapsed:    0.2s\n"
                    ]
                },
                {
                    "name": "stdout",
                    "output_type": "stream",
                    "text": [
                        "CPU times: user 423 ms, sys: 82.9 ms, total: 506 ms\n",
                        "Wall time: 1.05 s\n"
                    ]
                },
                {
                    "name": "stderr",
                    "output_type": "stream",
                    "text": [
                        "[Parallel(n_jobs=-1)]: Done 980 out of 980 | elapsed:    1.0s finished\n"
                    ]
                },
                {
                    "data": {
                        "text/plain": [
                            "GridSearchCV(cv=5, estimator=DecisionTreeClassifier(random_state=21), n_jobs=-1,\n",
                            "             param_grid={'class_weight': ['balanced', None],\n",
                            "                         'criterion': ['entropy', 'gini'],\n",
                            "                         'max_depth': [1, 2, 3, 4, 5, 6, 7, 8, 9, 10, 11, 12,\n",
                            "                                       13, 14, 15, 16, 17, 18, 19, 20, 21, 22,\n",
                            "                                       23, 24, 25, 26, 27, 28, 29, 30, ...]},\n",
                            "             scoring='accuracy', verbose=1)"
                        ]
                    },
                    "execution_count": 57,
                    "metadata": {},
                    "output_type": "execute_result"
                }
            ],
            "source": [
                "%%time\n",
                "\n",
                "dt_grid_search.fit(X_train, y_train)"
            ]
        },
        {
            "cell_type": "code",
            "execution_count": 58,
            "metadata": {},
            "outputs": [
                {
                    "name": "stdout",
                    "output_type": "stream",
                    "text": [
                        "Лучшие параметры Decision Tree: {'class_weight': 'balanced', 'criterion': 'gini', 'max_depth': 21}\n",
                        "Лучший CV score: 0.873864794162192\n"
                    ]
                }
            ],
            "source": [
                "print(f\"Лучшие параметры Decision Tree: {dt_grid_search.best_params_}\")\n",
                "print(f\"Лучший CV score: {dt_grid_search.best_score_}\")"
            ]
        },
        {
            "cell_type": "code",
            "execution_count": 59,
            "metadata": {},
            "outputs": [
                {
                    "name": "stdout",
                    "output_type": "stream",
                    "text": [
                        "Топ-10 результатов Decision Tree GridSearch:\n",
                        "Rank 1: 0.87386 (±0.02507) - {'class_weight': 'balanced', 'criterion': 'gini', 'max_depth': 21, 'random_state': 21}\n",
                        "Rank 2: 0.87385 (±0.02502) - {'class_weight': 'balanced', 'criterion': 'gini', 'max_depth': 25, 'random_state': 21}\n",
                        "Rank 3: 0.87238 (±0.02526) - {'class_weight': 'balanced', 'criterion': 'gini', 'max_depth': 22, 'random_state': 21}\n",
                        "Rank 4: 0.87237 (±0.02518) - {'class_weight': 'balanced', 'criterion': 'gini', 'max_depth': 49, 'random_state': 21}\n",
                        "Rank 4: 0.87237 (±0.02518) - {'class_weight': 'balanced', 'criterion': 'gini', 'max_depth': 23, 'random_state': 21}\n",
                        "Rank 4: 0.87237 (±0.02518) - {'class_weight': 'balanced', 'criterion': 'gini', 'max_depth': 27, 'random_state': 21}\n",
                        "Rank 4: 0.87237 (±0.02518) - {'class_weight': 'balanced', 'criterion': 'gini', 'max_depth': 28, 'random_state': 21}\n",
                        "Rank 4: 0.87237 (±0.02518) - {'class_weight': 'balanced', 'criterion': 'gini', 'max_depth': 29, 'random_state': 21}\n",
                        "Rank 4: 0.87237 (±0.02518) - {'class_weight': 'balanced', 'criterion': 'gini', 'max_depth': 30, 'random_state': 21}\n",
                        "Rank 4: 0.87237 (±0.02518) - {'class_weight': 'balanced', 'criterion': 'gini', 'max_depth': 31, 'random_state': 21}\n"
                    ]
                }
            ],
            "source": [
                "dt_results_df = pd.DataFrame(dt_grid_search.cv_results_)\n",
                "dt_results_df_sorted = dt_results_df.sort_values('rank_test_score')\n",
                "\n",
                "print(\"Топ-10 результатов Decision Tree GridSearch:\")\n",
                "top_dt_results = dt_results_df_sorted[['params', 'mean_test_score', 'std_test_score', 'rank_test_score']].head(10)\n",
                "for idx, row in top_dt_results.iterrows():\n",
                "    row['params']['random_state'] = 21\n",
                "    print(f\"Rank {int(row['rank_test_score'])}: {row['mean_test_score']:.5f} (±{row['std_test_score']:.5f}) - {row['params']}\")"
            ]
        },
        {
            "cell_type": "code",
            "execution_count": 60,
            "metadata": {},
            "outputs": [
                {
                    "name": "stdout",
                    "output_type": "stream",
                    "text": [
                        "Анализ по глубине дерева:\n",
                        "\n",
                        "Лучшие результаты по глубинам (топ-10):\n",
                        "                    mean      max      std\n",
                        "param_max_depth                           \n",
                        "21               0.86812  0.87386  0.00425\n",
                        "25               0.86645  0.87385  0.00580\n",
                        "22               0.86627  0.87238  0.00515\n",
                        "37               0.86627  0.87237  0.00462\n",
                        "29               0.86627  0.87237  0.00462\n",
                        "30               0.86627  0.87237  0.00462\n",
                        "31               0.86627  0.87237  0.00462\n",
                        "32               0.86627  0.87237  0.00462\n",
                        "33               0.86627  0.87237  0.00462\n",
                        "34               0.86627  0.87237  0.00462\n",
                        "\n",
                        "Разница между лучшим и 5-м результатом: 0.00149\n",
                        "Разница небольшая - можно выбрать более простую модель (меньшая глубина)\n"
                    ]
                }
            ],
            "source": [
                "print(\"Анализ по глубине дерева:\\n\")\n",
                "depth_analysis = dt_results_df.groupby(dt_results_df['param_max_depth'])['mean_test_score'].agg(['mean', 'max', 'std']).round(5)\n",
                "print(\"Лучшие результаты по глубинам (топ-10):\")\n",
                "print(depth_analysis.sort_values('max', ascending=False).head(10))\n",
                "\n",
                "top_5_scores = dt_results_df_sorted['mean_test_score'].head(5)\n",
                "score_difference = top_5_scores.max() - top_5_scores.min()\n",
                "print(f\"\\nРазница между лучшим и 5-м результатом: {score_difference:.5f}\")\n",
                "if score_difference < 0.01:\n",
                "    print(\"Разница небольшая - можно выбрать более простую модель (меньшая глубина)\")\n",
                "else:\n",
                "    print(\"Разница существенная - стоит использовать лучшую модель\")"
            ]
        },
        {
            "cell_type": "markdown",
            "metadata": {},
            "source": [
                "## 4. Random forest"
            ]
        },
        {
            "cell_type": "markdown",
            "metadata": {},
            "source": [
                "1. Using `GridSearchCV` try different parameters of `n_estimators` (`5`, `10`, `50`, `100`), `max_depth` (from `1` to `49`), `class_weight` (`balanced`, `None`) and `criterion` (`entropy` and `gini`) and get the best combination of them in terms of accuracy. Use random_state=21.\n",
                "2. Create a dataframe from the results of the gridsearch and sort it ascendengly by the `rank_test_score`, check if there is a huge difference between different combinations (sometimes a simpler model may give a comparable result)."
            ]
        },
        {
            "cell_type": "code",
            "execution_count": 61,
            "metadata": {},
            "outputs": [
                {
                    "name": "stdout",
                    "output_type": "stream",
                    "text": [
                        "=== Random Forest GridSearch ===\n",
                        "\n",
                        "Общее количество комбинаций: 768\n"
                    ]
                }
            ],
            "source": [
                "print(\"=== Random Forest GridSearch ===\\n\")\n",
                "\n",
                "rf_param_grid = {\n",
                "    'n_estimators': [5, 10, 50, 100],\n",
                "    'max_depth': list(range(1, 49)),\n",
                "    'class_weight': ['balanced', None],\n",
                "    'criterion': ['entropy', 'gini']\n",
                "}\n",
                "\n",
                "rf_model = RandomForestClassifier(random_state=21)\n",
                "\n",
                "rf_grid_search = GridSearchCV(\n",
                "    estimator=rf_model,\n",
                "    param_grid=rf_param_grid,\n",
                "    scoring='accuracy',\n",
                "    cv=5,\n",
                "    n_jobs=-1,\n",
                "    verbose=1\n",
                ")\n",
                "\n",
                "total_combinations = len(rf_param_grid['n_estimators']) * len(rf_param_grid['max_depth']) * len(rf_param_grid['class_weight']) * len(rf_param_grid['criterion'])\n",
                "print(f\"Общее количество комбинаций: {total_combinations}\")"
            ]
        },
        {
            "cell_type": "code",
            "execution_count": 62,
            "metadata": {},
            "outputs": [
                {
                    "name": "stdout",
                    "output_type": "stream",
                    "text": [
                        "Fitting 5 folds for each of 768 candidates, totalling 3840 fits\n"
                    ]
                },
                {
                    "name": "stderr",
                    "output_type": "stream",
                    "text": [
                        "[Parallel(n_jobs=-1)]: Using backend LokyBackend with 10 concurrent workers.\n",
                        "[Parallel(n_jobs=-1)]: Done  40 tasks      | elapsed:    0.3s\n",
                        "[Parallel(n_jobs=-1)]: Done 1100 tasks      | elapsed:   10.0s\n",
                        "[Parallel(n_jobs=-1)]: Done 2200 tasks      | elapsed:   20.9s\n",
                        "[Parallel(n_jobs=-1)]: Done 3600 tasks      | elapsed:   34.1s\n"
                    ]
                },
                {
                    "name": "stdout",
                    "output_type": "stream",
                    "text": [
                        "CPU times: user 3 s, sys: 193 ms, total: 3.19 s\n",
                        "Wall time: 36.8 s\n"
                    ]
                },
                {
                    "name": "stderr",
                    "output_type": "stream",
                    "text": [
                        "[Parallel(n_jobs=-1)]: Done 3840 out of 3840 | elapsed:   36.6s finished\n"
                    ]
                },
                {
                    "data": {
                        "text/plain": [
                            "GridSearchCV(cv=5, estimator=RandomForestClassifier(random_state=21), n_jobs=-1,\n",
                            "             param_grid={'class_weight': ['balanced', None],\n",
                            "                         'criterion': ['entropy', 'gini'],\n",
                            "                         'max_depth': [1, 2, 3, 4, 5, 6, 7, 8, 9, 10, 11, 12,\n",
                            "                                       13, 14, 15, 16, 17, 18, 19, 20, 21, 22,\n",
                            "                                       23, 24, 25, 26, 27, 28, 29, 30, ...],\n",
                            "                         'n_estimators': [5, 10, 50, 100]},\n",
                            "             scoring='accuracy', verbose=1)"
                        ]
                    },
                    "execution_count": 62,
                    "metadata": {},
                    "output_type": "execute_result"
                }
            ],
            "source": [
                "%%time\n",
                "\n",
                "rf_grid_search.fit(X_train, y_train)"
            ]
        },
        {
            "cell_type": "code",
            "execution_count": 63,
            "metadata": {},
            "outputs": [
                {
                    "name": "stdout",
                    "output_type": "stream",
                    "text": [
                        "Лучшие параметры Random Forest: {'class_weight': 'balanced', 'criterion': 'entropy', 'max_depth': 24, 'n_estimators': 100}\n",
                        "Лучший CV score: 0.9042929918766351\n"
                    ]
                }
            ],
            "source": [
                "print(f\"Лучшие параметры Random Forest: {rf_grid_search.best_params_}\")\n",
                "print(f\"Лучший CV score: {rf_grid_search.best_score_}\")"
            ]
        },
        {
            "cell_type": "code",
            "execution_count": 64,
            "metadata": {},
            "outputs": [
                {
                    "name": "stdout",
                    "output_type": "stream",
                    "text": [
                        "Топ-10 результатов Random Forest GridSearch:\n",
                        "Rank 1: 0.90429 (±0.01236) - {'class_weight': 'balanced', 'criterion': 'entropy', 'max_depth': 24, 'n_estimators': 100, 'random_state': 21}\n",
                        "Rank 2: 0.90429 (±0.01096) - {'class_weight': None, 'criterion': 'gini', 'max_depth': 28, 'n_estimators': 50, 'random_state': 21}\n",
                        "Rank 2: 0.90429 (±0.01216) - {'class_weight': 'balanced', 'criterion': 'entropy', 'max_depth': 29, 'n_estimators': 100, 'random_state': 21}\n",
                        "Rank 4: 0.90355 (±0.01206) - {'class_weight': 'balanced', 'criterion': 'gini', 'max_depth': 30, 'n_estimators': 50, 'random_state': 21}\n",
                        "Rank 5: 0.90355 (±0.01438) - {'class_weight': None, 'criterion': 'gini', 'max_depth': 31, 'n_estimators': 100, 'random_state': 21}\n",
                        "Rank 6: 0.90281 (±0.01364) - {'class_weight': 'balanced', 'criterion': 'entropy', 'max_depth': 25, 'n_estimators': 100, 'random_state': 21}\n",
                        "Rank 7: 0.90281 (±0.01363) - {'class_weight': 'balanced', 'criterion': 'gini', 'max_depth': 33, 'n_estimators': 50, 'random_state': 21}\n",
                        "Rank 8: 0.90281 (±0.01170) - {'class_weight': None, 'criterion': 'gini', 'max_depth': 29, 'n_estimators': 50, 'random_state': 21}\n",
                        "Rank 8: 0.90281 (±0.01046) - {'class_weight': None, 'criterion': 'gini', 'max_depth': 37, 'n_estimators': 100, 'random_state': 21}\n",
                        "Rank 8: 0.90281 (±0.01046) - {'class_weight': None, 'criterion': 'gini', 'max_depth': 38, 'n_estimators': 100, 'random_state': 21}\n"
                    ]
                }
            ],
            "source": [
                "rf_results_df = pd.DataFrame(rf_grid_search.cv_results_)\n",
                "rf_results_df_sorted = rf_results_df.sort_values('rank_test_score')\n",
                "\n",
                "print(\"Топ-10 результатов Random Forest GridSearch:\")\n",
                "top_rf_results = rf_results_df_sorted[['params', 'mean_test_score', 'std_test_score', 'rank_test_score']].head(10)\n",
                "for idx, row in top_rf_results.iterrows():\n",
                "    row['params']['random_state'] = 21\n",
                "    print(f\"Rank {int(row['rank_test_score'])}: {row['mean_test_score']:.5f} (±{row['std_test_score']:.5f}) - {row['params']}\")"
            ]
        },
        {
            "cell_type": "code",
            "execution_count": 65,
            "metadata": {},
            "outputs": [
                {
                    "name": "stdout",
                    "output_type": "stream",
                    "text": [
                        "Анализ по количеству деревьев:\n",
                        "\n",
                        "                       mean      max      std\n",
                        "param_n_estimators                           \n",
                        "50                  0.84266  0.90429  0.11907\n",
                        "100                 0.84466  0.90429  0.11936\n",
                        "10                  0.82603  0.89317  0.12446\n",
                        "5                   0.80737  0.88648  0.13683\n",
                        "\n",
                        "Разница между лучшим и 5-м результатом: 0.00075\n",
                        "Разница небольшая - можно выбрать более простую модель (меньше деревьев)\n"
                    ]
                }
            ],
            "source": [
                "print(\"Анализ по количеству деревьев:\\n\")\n",
                "n_est_analysis = rf_results_df.groupby(rf_results_df['param_n_estimators'])['mean_test_score'].agg(['mean', 'max', 'std']).round(5)\n",
                "print(n_est_analysis.sort_values('max', ascending=False))\n",
                "\n",
                "top_5_scores = rf_results_df_sorted['mean_test_score'].head(5)\n",
                "score_difference = top_5_scores.max() - top_5_scores.min()\n",
                "print(f\"\\nРазница между лучшим и 5-м результатом: {score_difference:.5f}\")\n",
                "if score_difference < 0.01:\n",
                "    print(\"Разница небольшая - можно выбрать более простую модель (меньше деревьев)\")\n",
                "else:\n",
                "    print(\"Разница существенная - стоит использовать лучшую модель\")"
            ]
        },
        {
            "cell_type": "markdown",
            "metadata": {},
            "source": [
                "## 5. Progress bar"
            ]
        },
        {
            "cell_type": "markdown",
            "metadata": {},
            "source": [
                "Gridsearch can be a quite long process and you may find yourself wondering when it will end.\n",
                "1. Create a manual gridsearch for the same parameters values of random forest iterating through the list of the possible values and calculating `cross_val_score` for each combination. Try to increase `n_jobs`. The value `cv` for `cross_val_score` is 5.\n",
                "2. Track the progress using the library `tqdm.notebook`.\n",
                "3. Create a dataframe from the results of the gridsearch with the columns corresponding to the names of the parameters and `mean_accuracy` and `std_accuracy`.\n",
                "4. Sort it descendingly by the `mean_accuracy`, check if there is a huge difference between different combinations (sometimes a simpler model may give a comparable result)."
            ]
        },
        {
            "cell_type": "code",
            "execution_count": 66,
            "metadata": {},
            "outputs": [
                {
                    "name": "stdout",
                    "output_type": "stream",
                    "text": [
                        "=== Manual Random Forest GridSearch with Progress Bar ===\n",
                        "\n",
                        "Всего комбинаций параметров: 768\n"
                    ]
                }
            ],
            "source": [
                "print(\"=== Manual Random Forest GridSearch with Progress Bar ===\\n\")\n",
                "\n",
                "manual_param_values = {\n",
                "    'n_estimators': [5, 10, 50, 100],\n",
                "    'max_depth': list(range(1, 49)),\n",
                "    'class_weight': ['balanced', None],\n",
                "    'criterion': ['entropy', 'gini']\n",
                "}\n",
                "\n",
                "param_names = list(manual_param_values.keys())\n",
                "param_combinations = list(itertools.product(*manual_param_values.values()))\n",
                "\n",
                "print(f\"Всего комбинаций параметров: {len(param_combinations)}\")"
            ]
        },
        {
            "cell_type": "code",
            "execution_count": 67,
            "metadata": {},
            "outputs": [
                {
                    "data": {
                        "application/vnd.jupyter.widget-view+json": {
                            "model_id": "093801a0460c41c5a6d589322e88a853",
                            "version_major": 2,
                            "version_minor": 0
                        },
                        "text/plain": [
                            "Manual GridSearch Progress:   0%|          | 0/768 [00:00<?, ?combination/s]"
                        ]
                    },
                    "metadata": {},
                    "output_type": "display_data"
                },
                {
                    "name": "stdout",
                    "output_type": "stream",
                    "text": [
                        "CPU times: user 8.5 s, sys: 1.15 s, total: 9.65 s\n",
                        "Wall time: 2min 13s\n"
                    ]
                }
            ],
            "source": [
                "%%time\n",
                "\n",
                "manual_results = []\n",
                "\n",
                "for params in tqdm(param_combinations, desc=\"Manual GridSearch Progress\", unit=\"combination\"):\n",
                "    param_dict = dict(zip(param_names, params))\n",
                "    \n",
                "    rf_model = RandomForestClassifier(\n",
                "        random_state=21,\n",
                "        n_jobs=-1,\n",
                "        **param_dict\n",
                "    )\n",
                "    \n",
                "    scores = cross_val_score(rf_model, X_train, y_train, cv=5, scoring='accuracy', n_jobs=-1)\n",
                "    \n",
                "    result = param_dict.copy()\n",
                "    result['mean_accuracy'] = scores.mean()\n",
                "    result['std_accuracy'] = scores.std()\n",
                "    manual_results.append(result)"
            ]
        },
        {
            "cell_type": "code",
            "execution_count": 68,
            "metadata": {},
            "outputs": [
                {
                    "name": "stdout",
                    "output_type": "stream",
                    "text": [
                        "Топ-15 результатов Manual GridSearch:\n",
                        "0.90429 (±0.01236) - n_estimators=100, max_depth=24, class_weight=balanced, criterion=entropy\n",
                        "0.90429 (±0.01096) - n_estimators=50, max_depth=28, class_weight=None, criterion=gini\n",
                        "0.90429 (±0.01216) - n_estimators=100, max_depth=29, class_weight=balanced, criterion=entropy\n",
                        "0.90355 (±0.01206) - n_estimators=50, max_depth=30, class_weight=balanced, criterion=gini\n",
                        "0.90355 (±0.01438) - n_estimators=100, max_depth=31, class_weight=None, criterion=gini\n",
                        "0.90281 (±0.01364) - n_estimators=100, max_depth=25, class_weight=balanced, criterion=entropy\n",
                        "0.90281 (±0.01363) - n_estimators=50, max_depth=33, class_weight=balanced, criterion=gini\n",
                        "0.90281 (±0.01046) - n_estimators=100, max_depth=45, class_weight=None, criterion=gini\n",
                        "0.90281 (±0.01170) - n_estimators=50, max_depth=29, class_weight=None, criterion=gini\n",
                        "0.90281 (±0.01046) - n_estimators=100, max_depth=48, class_weight=None, criterion=gini\n",
                        "0.90281 (±0.01046) - n_estimators=100, max_depth=36, class_weight=None, criterion=gini\n",
                        "0.90281 (±0.01046) - n_estimators=100, max_depth=37, class_weight=None, criterion=gini\n",
                        "0.90281 (±0.01046) - n_estimators=100, max_depth=38, class_weight=None, criterion=gini\n",
                        "0.90281 (±0.01046) - n_estimators=100, max_depth=39, class_weight=None, criterion=gini\n",
                        "0.90281 (±0.01046) - n_estimators=100, max_depth=40, class_weight=None, criterion=gini\n"
                    ]
                }
            ],
            "source": [
                "manual_results_df = pd.DataFrame(manual_results)\n",
                "manual_results_df_sorted = manual_results_df.sort_values('mean_accuracy', ascending=False)\n",
                "\n",
                "print(\"Топ-15 результатов Manual GridSearch:\")\n",
                "for idx, row in manual_results_df_sorted.head(15).iterrows():\n",
                "    params_str = \", \".join([f\"{k}={v}\" for k, v in row.items() if k not in ['mean_accuracy', 'std_accuracy']])\n",
                "    print(f\"{row['mean_accuracy']:.5f} (±{row['std_accuracy']:.5f}) - {params_str}\")\n",
                "\n",
                "best_manual_score = manual_results_df_sorted['mean_accuracy'].iloc[0]\n",
                "best_auto_score = rf_grid_search.best_score_"
            ]
        },
        {
            "cell_type": "code",
            "execution_count": 69,
            "metadata": {},
            "outputs": [
                {
                    "name": "stdout",
                    "output_type": "stream",
                    "text": [
                        "=== Сравнение результатов ===\n",
                        "\n",
                        "Лучший результат Manual GridSearch: 0.90429\n",
                        "Лучший результат Auto GridSearch: 0.90429\n",
                        "Разница: 0.00000\n",
                        "\n",
                        "Разница между лучшим и 5-м результатом (manual): 0.00075\n",
                        "Разница небольшая - можно выбрать более простую модель\n"
                    ]
                }
            ],
            "source": [
                "print(f\"=== Сравнение результатов ===\\n\")\n",
                "print(f\"Лучший результат Manual GridSearch: {best_manual_score:.5f}\")\n",
                "print(f\"Лучший результат Auto GridSearch: {best_auto_score:.5f}\")\n",
                "print(f\"Разница: {abs(best_manual_score - best_auto_score):.5f}\")\n",
                "\n",
                "top_5_manual_scores = manual_results_df_sorted['mean_accuracy'].head(5)\n",
                "score_difference = top_5_manual_scores.max() - top_5_manual_scores.min()\n",
                "print(f\"\\nРазница между лучшим и 5-м результатом (manual): {score_difference:.5f}\")\n",
                "if score_difference < 0.01:\n",
                "    print(\"Разница небольшая - можно выбрать более простую модель\")\n",
                "else:\n",
                "    print(\"Разница существенная - стоит использовать лучшую модель\")"
            ]
        },
        {
            "cell_type": "markdown",
            "metadata": {},
            "source": [
                "## 6. Predictions"
            ]
        },
        {
            "cell_type": "markdown",
            "metadata": {},
            "source": [
                "1. Choose the best model and use it to make predictions for the test dataset.\n",
                "2. Calculate the final accuracy."
            ]
        },
        {
            "cell_type": "code",
            "execution_count": 70,
            "metadata": {},
            "outputs": [
                {
                    "name": "stdout",
                    "output_type": "stream",
                    "text": [
                        "=== СРАВНЕНИЕ ФИНАЛЬНЫХ МОДЕЛЕЙ ===\n",
                        "\n",
                        "SVM: 0.87611\n",
                        "Decision Tree: 0.87386\n",
                        "Random Forest (Auto): 0.90429\n",
                        "Random Forest (Manual): 0.90429\n"
                    ]
                }
            ],
            "source": [
                "print(\"=== СРАВНЕНИЕ ФИНАЛЬНЫХ МОДЕЛЕЙ ===\\n\")\n",
                "\n",
                "model_scores = {\n",
                "    'SVM': svm_grid_search.best_score_,\n",
                "    'Decision Tree': dt_grid_search.best_score_,\n",
                "    'Random Forest (Auto)': rf_grid_search.best_score_,\n",
                "    'Random Forest (Manual)': best_manual_score\n",
                "}\n",
                "\n",
                "for model_name, score in model_scores.items():\n",
                "    print(f\"{model_name}: {score:.5f}\")\n",
                "\n",
                "best_model_name = max(model_scores, key=model_scores.get)\n",
                "best_cv_score = model_scores[best_model_name]"
            ]
        },
        {
            "cell_type": "code",
            "execution_count": 71,
            "metadata": {},
            "outputs": [
                {
                    "name": "stdout",
                    "output_type": "stream",
                    "text": [
                        "Лучшая модель: Random Forest (Auto) с CV score: 0.90429\n",
                        "Лучшие параметры: {'class_weight': 'balanced', 'criterion': 'entropy', 'max_depth': 24, 'n_estimators': 100, 'random_state': 21}\n"
                    ]
                }
            ],
            "source": [
                "print(f\"Лучшая модель: {best_model_name} с CV score: {best_cv_score:.5f}\")\n",
                "\n",
                "if best_model_name == 'SVM':\n",
                "    best_model = svm_grid_search.best_estimator_\n",
                "    best_params = svm_grid_search.best_params_\n",
                "elif best_model_name == 'Decision Tree':\n",
                "    best_model = dt_grid_search.best_estimator_\n",
                "    best_params = dt_grid_search.best_params_\n",
                "elif 'Random Forest' in best_model_name:\n",
                "    best_model = rf_grid_search.best_estimator_\n",
                "    best_params = rf_grid_search.best_params_\n",
                "\n",
                "print(f\"Лучшие параметры: {best_params}\")"
            ]
        },
        {
            "cell_type": "code",
            "execution_count": 72,
            "metadata": {},
            "outputs": [
                {
                    "name": "stdout",
                    "output_type": "stream",
                    "text": [
                        "=== Финальные предсказания ===\n",
                        "\n",
                        "Финальная точность на тестовом наборе: 0.92604\n",
                        "CV Score: 0.90429\n",
                        "\n",
                        "Разница (CV - Test): -0.02174\n",
                        "✅ Разница между CV и Test приемлемая\n",
                        "CPU times: user 25.7 ms, sys: 3.9 ms, total: 29.6 ms\n",
                        "Wall time: 27.6 ms\n"
                    ]
                }
            ],
            "source": [
                "%%time\n",
                "\n",
                "print(\"=== Финальные предсказания ===\\n\")\n",
                "\n",
                "if not hasattr(best_model, 'classes_'):\n",
                "    best_model.fit(X_train, y_train)\n",
                "\n",
                "y_pred = best_model.predict(X_test)\n",
                "test_accuracy = accuracy_score(y_test, y_pred)\n",
                "\n",
                "print(f\"Финальная точность на тестовом наборе: {test_accuracy:.5f}\")\n",
                "print(f\"CV Score: {best_cv_score:.5f}\")\n",
                "print(f\"\\nРазница (CV - Test): {best_cv_score - test_accuracy:.5f}\")\n",
                "\n",
                "if abs(best_cv_score - test_accuracy) > 0.05:\n",
                "    print(\"⚠️  Большая разница между CV и Test - возможно переобучение\")\n",
                "else:\n",
                "    print(\"✅ Разница между CV и Test приемлемая\")"
            ]
        },
        {
            "cell_type": "code",
            "execution_count": 73,
            "metadata": {},
            "outputs": [
                {
                    "name": "stdout",
                    "output_type": "stream",
                    "text": [
                        "=== Детальный анализ результатов ===\n",
                        "\n",
                        "Classification Report:\n",
                        "              precision    recall  f1-score   support\n",
                        "\n",
                        " Понедельник       0.91      0.78      0.84        27\n",
                        "     Вторник       0.96      0.93      0.94        55\n",
                        "       Среда       0.93      0.93      0.93        30\n",
                        "     Четверг       0.95      0.96      0.96        80\n",
                        "     Пятница       1.00      0.86      0.92        21\n",
                        "     Суббота       0.86      0.91      0.88        54\n",
                        " Воскресенье       0.91      0.97      0.94        71\n",
                        "\n",
                        "    accuracy                           0.93       338\n",
                        "   macro avg       0.93      0.91      0.92       338\n",
                        "weighted avg       0.93      0.93      0.93       338\n",
                        "\n",
                        "\n",
                        "Confusion Matrix:\n",
                        "[[21  1  0  1  0  1  3]\n",
                        " [ 1 51  2  0  0  1  0]\n",
                        " [ 0  0 28  1  0  1  0]\n",
                        " [ 1  1  0 77  0  0  1]\n",
                        " [ 0  0  0  0 18  3  0]\n",
                        " [ 0  0  0  2  0 49  3]\n",
                        " [ 0  0  0  0  0  2 69]]\n"
                    ]
                }
            ],
            "source": [
                "print(\"=== Детальный анализ результатов ===\\n\")\n",
                "\n",
                "print(\"Classification Report:\")\n",
                "weekdays = ['Понедельник', 'Вторник', 'Среда', 'Четверг', 'Пятница', 'Суббота', 'Воскресенье']\n",
                "print(classification_report(y_test, y_pred, target_names=weekdays))\n",
                "\n",
                "print(\"\\nConfusion Matrix:\")\n",
                "cm = confusion_matrix(y_test, y_pred)\n",
                "print(cm)"
            ]
        },
        {
            "cell_type": "code",
            "execution_count": null,
            "metadata": {},
            "outputs": [
                {
                    "name": "stdout",
                    "output_type": "stream",
                    "text": [
                        "=== Анализ ошибок по дням недели ===\n",
                        "\n",
                        "Понедельник (класс 0): 22.22% ошибок (6/27 ошибок)\n",
                        "Вторник (класс 1): 7.27% ошибок (4/55 ошибок)\n",
                        "Среда (класс 2): 6.67% ошибок (2/30 ошибок)\n",
                        "Четверг (класс 3): 3.75% ошибок (3/80 ошибок)\n",
                        "Пятница (класс 4): 14.29% ошибок (3/21 ошибок)\n",
                        "Суббота (класс 5): 9.26% ошибок (5/54 ошибок)\n",
                        "Воскресенье (класс 6): 2.82% ошибок (2/71 ошибок)\n",
                        "\n",
                        "День с наибольшим количеством ошибок: Понедельник (22.22% ошибок)\n",
                        "День с наименьшим количеством ошибок: Воскресенье (2.82% ошибок)\n"
                    ]
                }
            ],
            "source": [
                "print(\"Анализ ошибок по дням недели\\n\")\n",
                "error_rates = {}\n",
                "\n",
                "for i, day in enumerate(weekdays):\n",
                "    total_samples = sum(cm[i, :])\n",
                "    correct_predictions = cm[i, i]\n",
                "    if total_samples > 0:\n",
                "        error_rate = (total_samples - correct_predictions) / total_samples * 100\n",
                "        error_rates[day] = error_rate\n",
                "        print(f\"{day} (класс {i}): {error_rate:.2f}% ошибок ({total_samples - correct_predictions}/{total_samples} ошибок)\")\n",
                "\n",
                "if error_rates:\n",
                "    worst_day = max(error_rates, key=error_rates.get)\n",
                "    worst_error_rate = error_rates[worst_day]\n",
                "    print(f\"\\nДень с наибольшим количеством ошибок: {worst_day} ({worst_error_rate:.2f}% ошибок)\")\n",
                "    \n",
                "    best_day = min(error_rates, key=error_rates.get)\n",
                "    best_error_rate = error_rates[best_day]\n",
                "    print(f\"День с наименьшим количеством ошибок: {best_day} ({best_error_rate:.2f}% ошибок)\")"
            ]
        }
    ],
    "metadata": {
        "kernelspec": {
            "display_name": "Python 3 (ipykernel)",
            "language": "python",
            "name": "python3"
        },
        "language_info": {
            "codemirror_mode": {
                "name": "ipython",
                "version": 3
            },
            "file_extension": ".py",
            "mimetype": "text/x-python",
            "name": "python",
            "nbconvert_exporter": "python",
            "pygments_lexer": "ipython3",
            "version": "3.8.13"
        }
    },
    "nbformat": 4,
    "nbformat_minor": 4
}
