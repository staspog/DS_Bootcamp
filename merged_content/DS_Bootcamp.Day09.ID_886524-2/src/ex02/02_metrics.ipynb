{
    "cells": [
        {
            "cell_type": "markdown",
            "metadata": {},
            "source": [
                "# Day 09. Exercise 02\n",
                "# Metrics"
            ]
        },
        {
            "cell_type": "markdown",
            "metadata": {},
            "source": [
                "### Запуск контейнера с нужными версиями\n",
                "\n",
                "docker run -d \\\n",
                "  --platform linux/amd64 \\\n",
                "  -p 8888:8888 \\\n",
                "  -v $(pwd):/home/jovyan/work \\\n",
                "  --name sklearn \\\n",
                "  jupyter/scipy-notebook:python-3.8 \\\n",
                "  bash -c \"pip install scikit-learn==0.23.1 && start-notebook.sh --NotebookApp.token=''\"\n",
                "\n",
                "#### и выбираем правильный kernel в vscode на localhost (который отдает докер)"
            ]
        },
        {
            "cell_type": "code",
            "execution_count": 1,
            "metadata": {},
            "outputs": [
                {
                    "name": "stdout",
                    "output_type": "stream",
                    "text": [
                        "Python версия: 3.8.13 | packaged by conda-forge | (default, Mar 25 2022, 06:04:10) \n",
                        "[GCC 10.3.0]\n",
                        "scikit-learn версия: 0.23.1\n",
                        "pandas версия: 1.5.0\n",
                        "numpy версия: 1.23.3\n"
                    ]
                }
            ],
            "source": [
                "import sys\n",
                "print(\"Python версия:\", sys.version)\n",
                "\n",
                "import sklearn\n",
                "print(\"scikit-learn версия:\", sklearn.__version__)\n",
                "\n",
                "import pandas as pd\n",
                "print(\"pandas версия:\", pd.__version__)\n",
                "\n",
                "import numpy as np\n",
                "print(\"numpy версия:\", np.__version__)"
            ]
        },
        {
            "cell_type": "markdown",
            "metadata": {},
            "source": [
                "## 0. Imports"
            ]
        },
        {
            "cell_type": "code",
            "execution_count": 2,
            "metadata": {},
            "outputs": [],
            "source": [
                "import pandas as pd\n",
                "from sklearn.model_selection import train_test_split\n",
                "from sklearn.svm import SVC\n",
                "from sklearn.tree import DecisionTreeClassifier\n",
                "from sklearn.ensemble import RandomForestClassifier\n",
                "from sklearn.metrics import accuracy_score, precision_score, recall_score, roc_auc_score\n",
                "import joblib\n",
                "import json"
            ]
        },
        {
            "cell_type": "markdown",
            "metadata": {},
            "source": [
                "## 1. Preprocessing"
            ]
        },
        {
            "cell_type": "markdown",
            "metadata": {},
            "source": [
                "1. Create the same dataframe as in the previous exercise.\n",
                "2. Using `train_test_split` with parameters `test_size=0.2`, `random_state=21` get `X_train`, `y_train`, `X_test`, `y_test`. Use the additional parameter `stratify`."
            ]
        },
        {
            "cell_type": "code",
            "execution_count": 3,
            "metadata": {},
            "outputs": [
                {
                    "name": "stdout",
                    "output_type": "stream",
                    "text": [
                        "Размерность данных: (1686, 43)\n",
                        "Колонки в файле: ['numTrials', 'hour', 'uid_user_0', 'uid_user_1', 'uid_user_10', 'uid_user_11', 'uid_user_12', 'uid_user_13', 'uid_user_14', 'uid_user_15', 'uid_user_16', 'uid_user_17', 'uid_user_18', 'uid_user_19', 'uid_user_2', 'uid_user_20', 'uid_user_21', 'uid_user_22', 'uid_user_23', 'uid_user_24', 'uid_user_25', 'uid_user_26', 'uid_user_27', 'uid_user_28', 'uid_user_29', 'uid_user_3', 'uid_user_30', 'uid_user_31', 'uid_user_4', 'uid_user_6', 'uid_user_7', 'uid_user_8', 'labname_code_rvw', 'labname_lab02', 'labname_lab03', 'labname_lab03s', 'labname_lab05s', 'labname_laba04', 'labname_laba04s', 'labname_laba05', 'labname_laba06', 'labname_laba06s', 'labname_project1']\n"
                    ]
                }
            ],
            "source": [
                "df = pd.read_csv('work/src/data/day-of-week-not-scaled.csv')\n",
                "print(f\"Размерность данных: {df.shape}\")\n",
                "print(f\"Колонки в файле: {df.columns.tolist()}\")"
            ]
        },
        {
            "cell_type": "code",
            "execution_count": 4,
            "metadata": {},
            "outputs": [
                {
                    "name": "stdout",
                    "output_type": "stream",
                    "text": [
                        "Новая размерность: (1686, 44)\n",
                        "Финальные колонки: ['numTrials', 'hour', 'uid_user_0', 'uid_user_1', 'uid_user_10', 'uid_user_11', 'uid_user_12', 'uid_user_13', 'uid_user_14', 'uid_user_15', 'uid_user_16', 'uid_user_17', 'uid_user_18', 'uid_user_19', 'uid_user_2', 'uid_user_20', 'uid_user_21', 'uid_user_22', 'uid_user_23', 'uid_user_24', 'uid_user_25', 'uid_user_26', 'uid_user_27', 'uid_user_28', 'uid_user_29', 'uid_user_3', 'uid_user_30', 'uid_user_31', 'uid_user_4', 'uid_user_6', 'uid_user_7', 'uid_user_8', 'labname_code_rvw', 'labname_lab02', 'labname_lab03', 'labname_lab03s', 'labname_lab05s', 'labname_laba04', 'labname_laba04s', 'labname_laba05', 'labname_laba06', 'labname_laba06s', 'labname_project1', 'dayofweek']\n"
                    ]
                },
                {
                    "data": {
                        "text/html": [
                            "<div>\n",
                            "<style scoped>\n",
                            "    .dataframe tbody tr th:only-of-type {\n",
                            "        vertical-align: middle;\n",
                            "    }\n",
                            "\n",
                            "    .dataframe tbody tr th {\n",
                            "        vertical-align: top;\n",
                            "    }\n",
                            "\n",
                            "    .dataframe thead th {\n",
                            "        text-align: right;\n",
                            "    }\n",
                            "</style>\n",
                            "<table border=\"1\" class=\"dataframe\">\n",
                            "  <thead>\n",
                            "    <tr style=\"text-align: right;\">\n",
                            "      <th></th>\n",
                            "      <th>numTrials</th>\n",
                            "      <th>hour</th>\n",
                            "      <th>uid_user_0</th>\n",
                            "      <th>uid_user_1</th>\n",
                            "      <th>uid_user_10</th>\n",
                            "      <th>uid_user_11</th>\n",
                            "      <th>uid_user_12</th>\n",
                            "      <th>uid_user_13</th>\n",
                            "      <th>uid_user_14</th>\n",
                            "      <th>uid_user_15</th>\n",
                            "      <th>...</th>\n",
                            "      <th>labname_lab03</th>\n",
                            "      <th>labname_lab03s</th>\n",
                            "      <th>labname_lab05s</th>\n",
                            "      <th>labname_laba04</th>\n",
                            "      <th>labname_laba04s</th>\n",
                            "      <th>labname_laba05</th>\n",
                            "      <th>labname_laba06</th>\n",
                            "      <th>labname_laba06s</th>\n",
                            "      <th>labname_project1</th>\n",
                            "      <th>dayofweek</th>\n",
                            "    </tr>\n",
                            "  </thead>\n",
                            "  <tbody>\n",
                            "    <tr>\n",
                            "      <th>0</th>\n",
                            "      <td>1</td>\n",
                            "      <td>5</td>\n",
                            "      <td>0.0</td>\n",
                            "      <td>0.0</td>\n",
                            "      <td>0.0</td>\n",
                            "      <td>0.0</td>\n",
                            "      <td>0.0</td>\n",
                            "      <td>0.0</td>\n",
                            "      <td>0.0</td>\n",
                            "      <td>0.0</td>\n",
                            "      <td>...</td>\n",
                            "      <td>0.0</td>\n",
                            "      <td>0.0</td>\n",
                            "      <td>0.0</td>\n",
                            "      <td>0.0</td>\n",
                            "      <td>0.0</td>\n",
                            "      <td>0.0</td>\n",
                            "      <td>0.0</td>\n",
                            "      <td>0.0</td>\n",
                            "      <td>1.0</td>\n",
                            "      <td>4</td>\n",
                            "    </tr>\n",
                            "    <tr>\n",
                            "      <th>1</th>\n",
                            "      <td>2</td>\n",
                            "      <td>5</td>\n",
                            "      <td>0.0</td>\n",
                            "      <td>0.0</td>\n",
                            "      <td>0.0</td>\n",
                            "      <td>0.0</td>\n",
                            "      <td>0.0</td>\n",
                            "      <td>0.0</td>\n",
                            "      <td>0.0</td>\n",
                            "      <td>0.0</td>\n",
                            "      <td>...</td>\n",
                            "      <td>0.0</td>\n",
                            "      <td>0.0</td>\n",
                            "      <td>0.0</td>\n",
                            "      <td>0.0</td>\n",
                            "      <td>0.0</td>\n",
                            "      <td>0.0</td>\n",
                            "      <td>0.0</td>\n",
                            "      <td>0.0</td>\n",
                            "      <td>1.0</td>\n",
                            "      <td>4</td>\n",
                            "    </tr>\n",
                            "    <tr>\n",
                            "      <th>2</th>\n",
                            "      <td>3</td>\n",
                            "      <td>5</td>\n",
                            "      <td>0.0</td>\n",
                            "      <td>0.0</td>\n",
                            "      <td>0.0</td>\n",
                            "      <td>0.0</td>\n",
                            "      <td>0.0</td>\n",
                            "      <td>0.0</td>\n",
                            "      <td>0.0</td>\n",
                            "      <td>0.0</td>\n",
                            "      <td>...</td>\n",
                            "      <td>0.0</td>\n",
                            "      <td>0.0</td>\n",
                            "      <td>0.0</td>\n",
                            "      <td>0.0</td>\n",
                            "      <td>0.0</td>\n",
                            "      <td>0.0</td>\n",
                            "      <td>0.0</td>\n",
                            "      <td>0.0</td>\n",
                            "      <td>1.0</td>\n",
                            "      <td>4</td>\n",
                            "    </tr>\n",
                            "    <tr>\n",
                            "      <th>3</th>\n",
                            "      <td>4</td>\n",
                            "      <td>5</td>\n",
                            "      <td>0.0</td>\n",
                            "      <td>0.0</td>\n",
                            "      <td>0.0</td>\n",
                            "      <td>0.0</td>\n",
                            "      <td>0.0</td>\n",
                            "      <td>0.0</td>\n",
                            "      <td>0.0</td>\n",
                            "      <td>0.0</td>\n",
                            "      <td>...</td>\n",
                            "      <td>0.0</td>\n",
                            "      <td>0.0</td>\n",
                            "      <td>0.0</td>\n",
                            "      <td>0.0</td>\n",
                            "      <td>0.0</td>\n",
                            "      <td>0.0</td>\n",
                            "      <td>0.0</td>\n",
                            "      <td>0.0</td>\n",
                            "      <td>1.0</td>\n",
                            "      <td>4</td>\n",
                            "    </tr>\n",
                            "    <tr>\n",
                            "      <th>4</th>\n",
                            "      <td>5</td>\n",
                            "      <td>5</td>\n",
                            "      <td>0.0</td>\n",
                            "      <td>0.0</td>\n",
                            "      <td>0.0</td>\n",
                            "      <td>0.0</td>\n",
                            "      <td>0.0</td>\n",
                            "      <td>0.0</td>\n",
                            "      <td>0.0</td>\n",
                            "      <td>0.0</td>\n",
                            "      <td>...</td>\n",
                            "      <td>0.0</td>\n",
                            "      <td>0.0</td>\n",
                            "      <td>0.0</td>\n",
                            "      <td>0.0</td>\n",
                            "      <td>0.0</td>\n",
                            "      <td>0.0</td>\n",
                            "      <td>0.0</td>\n",
                            "      <td>0.0</td>\n",
                            "      <td>1.0</td>\n",
                            "      <td>4</td>\n",
                            "    </tr>\n",
                            "  </tbody>\n",
                            "</table>\n",
                            "<p>5 rows × 44 columns</p>\n",
                            "</div>"
                        ],
                        "text/plain": [
                            "   numTrials  hour  uid_user_0  uid_user_1  uid_user_10  uid_user_11  \\\n",
                            "0          1     5         0.0         0.0          0.0          0.0   \n",
                            "1          2     5         0.0         0.0          0.0          0.0   \n",
                            "2          3     5         0.0         0.0          0.0          0.0   \n",
                            "3          4     5         0.0         0.0          0.0          0.0   \n",
                            "4          5     5         0.0         0.0          0.0          0.0   \n",
                            "\n",
                            "   uid_user_12  uid_user_13  uid_user_14  uid_user_15  ...  labname_lab03  \\\n",
                            "0          0.0          0.0          0.0          0.0  ...            0.0   \n",
                            "1          0.0          0.0          0.0          0.0  ...            0.0   \n",
                            "2          0.0          0.0          0.0          0.0  ...            0.0   \n",
                            "3          0.0          0.0          0.0          0.0  ...            0.0   \n",
                            "4          0.0          0.0          0.0          0.0  ...            0.0   \n",
                            "\n",
                            "   labname_lab03s  labname_lab05s  labname_laba04  labname_laba04s  \\\n",
                            "0             0.0             0.0             0.0              0.0   \n",
                            "1             0.0             0.0             0.0              0.0   \n",
                            "2             0.0             0.0             0.0              0.0   \n",
                            "3             0.0             0.0             0.0              0.0   \n",
                            "4             0.0             0.0             0.0              0.0   \n",
                            "\n",
                            "   labname_laba05  labname_laba06  labname_laba06s  labname_project1  \\\n",
                            "0             0.0             0.0              0.0               1.0   \n",
                            "1             0.0             0.0              0.0               1.0   \n",
                            "2             0.0             0.0              0.0               1.0   \n",
                            "3             0.0             0.0              0.0               1.0   \n",
                            "4             0.0             0.0              0.0               1.0   \n",
                            "\n",
                            "   dayofweek  \n",
                            "0          4  \n",
                            "1          4  \n",
                            "2          4  \n",
                            "3          4  \n",
                            "4          4  \n",
                            "\n",
                            "[5 rows x 44 columns]"
                        ]
                    },
                    "execution_count": 4,
                    "metadata": {},
                    "output_type": "execute_result"
                }
            ],
            "source": [
                "df_target = pd.read_csv('work/src/data/dayofweek.csv')\n",
                "\n",
                "df['dayofweek'] = df_target['dayofweek']\n",
                "\n",
                "print(f\"Новая размерность: {df.shape}\")\n",
                "print(\"Финальные колонки:\", df.columns.tolist())\n",
                "\n",
                "df.head()"
            ]
        },
        {
            "cell_type": "code",
            "execution_count": 5,
            "metadata": {},
            "outputs": [
                {
                    "name": "stdout",
                    "output_type": "stream",
                    "text": [
                        "Распределение целевой переменной:\n"
                    ]
                },
                {
                    "data": {
                        "text/plain": [
                            "0    136\n",
                            "1    274\n",
                            "2    149\n",
                            "3    396\n",
                            "4    104\n",
                            "5    271\n",
                            "6    356\n",
                            "Name: dayofweek, dtype: int64"
                        ]
                    },
                    "execution_count": 5,
                    "metadata": {},
                    "output_type": "execute_result"
                }
            ],
            "source": [
                "print(\"Распределение целевой переменной:\")\n",
                "df['dayofweek'].value_counts().sort_index()"
            ]
        },
        {
            "cell_type": "code",
            "execution_count": 6,
            "metadata": {},
            "outputs": [
                {
                    "name": "stdout",
                    "output_type": "stream",
                    "text": [
                        "Общая информация о данных:\n",
                        "- Количество образцов: 1686\n",
                        "- Количество признаков: 43\n",
                        "- Количество классов: 7\n",
                        "- Классы: [0, 1, 2, 3, 4, 5, 6]\n"
                    ]
                }
            ],
            "source": [
                "print(f\"Общая информация о данных:\")\n",
                "print(f\"- Количество образцов: {len(df)}\")\n",
                "print(f\"- Количество признаков: {len(df.columns) - 1}\")\n",
                "print(f\"- Количество классов: {df['dayofweek'].nunique()}\")\n",
                "print(f\"- Классы: {sorted(df['dayofweek'].unique())}\")"
            ]
        },
        {
            "cell_type": "code",
            "execution_count": 7,
            "metadata": {},
            "outputs": [
                {
                    "name": "stdout",
                    "output_type": "stream",
                    "text": [
                        "Размерность тренировочного набора: (1348, 43)\n",
                        "Размерность тестового набора: (338, 43)\n",
                        "Размерность целевой переменной: (1686,)\n",
                        "Классы: [0, 1, 2, 3, 4, 5, 6]\n"
                    ]
                }
            ],
            "source": [
                "X = df.drop('dayofweek', axis=1)\n",
                "y = df['dayofweek']\n",
                "\n",
                "X_train, X_test, y_train, y_test = train_test_split(\n",
                "    X, y, \n",
                "    test_size=0.2, \n",
                "    random_state=21, \n",
                "    stratify=y\n",
                ")\n",
                "\n",
                "print(\"Размерность тренировочного набора:\", X_train.shape)\n",
                "print(\"Размерность тестового набора:\", X_test.shape)\n",
                "print(f\"Размерность целевой переменной: {y.shape}\")\n",
                "print(f\"Классы: {sorted(y.unique())}\")"
            ]
        },
        {
            "cell_type": "markdown",
            "metadata": {},
            "source": [
                "## 2. SVM"
            ]
        },
        {
            "cell_type": "markdown",
            "metadata": {},
            "source": [
                "1. Use the best parameters from the previous exercise and train the model of SVM.\n",
                "2. You need to calculate `accuracy`, `precision`, `recall`, `ROC AUC`.\n",
                "\n",
                " - `precision` and `recall` should be calculated for each class (use `average='weighted'`)\n",
                " - `ROC AUC` should be calculated for each class against any other class (all possible pairwise combinations) and then weighted average should be applied for the final metric\n",
                " - the code in the cell should display the result as below:\n",
                "\n",
                "```\n",
                "accuracy is 0.88757\n",
                "precision is 0.89267\n",
                "recall is 0.88757\n",
                "roc_auc is 0.97878\n",
                "```"
            ]
        },
        {
            "cell_type": "markdown",
            "metadata": {},
            "source": [
                "### predict_proba() - возвращает вероятность для каждого класса\n",
                "\n",
                "### Recall показывает: из всех реальных положительных случаев, сколько процентов мы нашли\n",
                "```\n",
                "Формула: Recall = TP / (TP + FN)\n",
                "\n",
                "TP (True Positive) - правильно предсказали положительный класс\n",
                "FN (False Negative) - пропустили положительный класс\n",
                "```\n",
                "\n",
                "#### Когда важен высокий recall?\n",
                "\n",
                "- Медицинская диагностика (не пропустить болезнь)\n",
                "- Детекция мошенничества\n",
                "- Поиск террористов\n",
                "- Лучше \"ложная тревога\", чем пропуск!\n",
                "\n",
                "### ROC AUC\n",
                "```\n",
                "ROC - кривая, AUC - площадь под этой кривой.\n",
                "ROC кривая строится так:\n",
                "\n",
                "Берем разные пороги (0.1, 0.2, 0.3... 0.9)\n",
                "Для каждого порога считаем:\n",
                "\n",
                "True Positive Rate (Recall)\n",
                "False Positive Rate (сколько неправильно классифицировали как положительные)\n",
                "\n",
                "\n",
                "Рисуем график: FPR по X, TPR по Y\n",
                "\n",
                "AUC (Area Under Curve) - площадь под ROC кривой:\n",
                "\n",
                "AUC = 1.0 - идеальная модель\n",
                "AUC = 0.5 - случайное угадывание\n",
                "AUC > 0.8 - хорошая модель\n",
                "```\n",
                "\n",
                "#### Зачем ROC AUC?\n",
                "\n",
                "- Показывает качество модели независимо от порога\n",
                "- Можно сравнивать модели между собой\n",
                "- Учитывает predict_proba, а не только финальные предсказания\n",
                "\n",
                "- ovo = one-vs-one = все возможные парные комбинации классов\n",
                "- ovr = one-vs-rest = каждый класс против всех остальных"
            ]
        },
        {
            "cell_type": "code",
            "execution_count": 8,
            "metadata": {},
            "outputs": [
                {
                    "name": "stdout",
                    "output_type": "stream",
                    "text": [
                        "accuracy is 0.88757\n",
                        "precision is 0.89267\n",
                        "recall is 0.88757\n",
                        "roc_auc is 0.97878\n"
                    ]
                }
            ],
            "source": [
                "svm_best_params = {'probability': True, 'random_state': 21, 'C': 10.0, 'class_weight': None, 'gamma': 'auto', 'kernel': 'rbf'}\n",
                "\n",
                "svm_model = SVC(**svm_best_params)\n",
                "svm_model.fit(X_train, y_train)\n",
                "\n",
                "y_pred_svm = svm_model.predict(X_test)\n",
                "y_pred_proba_svm = svm_model.predict_proba(X_test)\n",
                "\n",
                "svm_accuracy = accuracy_score(y_test, y_pred_svm)\n",
                "svm_precision = precision_score(y_test, y_pred_svm, average='weighted')\n",
                "svm_recall = recall_score(y_test, y_pred_svm, average='weighted')\n",
                "svm_roc_auc = roc_auc_score(y_test, y_pred_proba_svm, multi_class='ovo', average='weighted')\n",
                "\n",
                "print(f\"accuracy is {svm_accuracy:.5f}\")\n",
                "print(f\"precision is {svm_precision:.5f}\")\n",
                "print(f\"recall is {svm_recall:.5f}\")\n",
                "print(f\"roc_auc is {svm_roc_auc:.5f}\")"
            ]
        },
        {
            "cell_type": "markdown",
            "metadata": {},
            "source": [
                "## 3. Decision tree"
            ]
        },
        {
            "cell_type": "markdown",
            "metadata": {},
            "source": [
                "1. The same task for decision tree"
            ]
        },
        {
            "cell_type": "code",
            "execution_count": 9,
            "metadata": {},
            "outputs": [
                {
                    "name": "stdout",
                    "output_type": "stream",
                    "text": [
                        "accuracy is 0.88462\n",
                        "precision is 0.88765\n",
                        "recall is 0.88462\n",
                        "roc_auc is 0.93528\n"
                    ]
                }
            ],
            "source": [
                "tree_best_params = {'class_weight': 'balanced', 'criterion': 'gini', 'max_depth': 21, 'random_state': 21}\n",
                "\n",
                "tree_model = DecisionTreeClassifier(**tree_best_params)\n",
                "tree_model.fit(X_train, y_train)\n",
                "\n",
                "y_pred_tree = tree_model.predict(X_test)\n",
                "y_pred_proba_tree = tree_model.predict_proba(X_test)\n",
                "\n",
                "tree_accuracy = accuracy_score(y_test, y_pred_tree)\n",
                "tree_precision = precision_score(y_test, y_pred_tree, average='weighted')\n",
                "tree_recall = recall_score(y_test, y_pred_tree, average='weighted')\n",
                "tree_roc_auc = roc_auc_score(y_test, y_pred_proba_tree, multi_class='ovo', average='weighted')\n",
                "\n",
                "print(f\"accuracy is {tree_accuracy:.5f}\")\n",
                "print(f\"precision is {tree_precision:.5f}\")\n",
                "print(f\"recall is {tree_recall:.5f}\")\n",
                "print(f\"roc_auc is {tree_roc_auc:.5f}\")"
            ]
        },
        {
            "cell_type": "markdown",
            "metadata": {},
            "source": [
                "## 4. Random forest"
            ]
        },
        {
            "cell_type": "markdown",
            "metadata": {},
            "source": [
                "1. The same task for random forest."
            ]
        },
        {
            "cell_type": "code",
            "execution_count": 10,
            "metadata": {},
            "outputs": [
                {
                    "name": "stdout",
                    "output_type": "stream",
                    "text": [
                        "accuracy is 0.92604\n",
                        "precision is 0.92754\n",
                        "recall is 0.92604\n",
                        "roc_auc is 0.98939\n"
                    ]
                }
            ],
            "source": [
                "rf_best_params = {'class_weight': 'balanced', 'criterion': 'entropy', 'max_depth': 24, 'n_estimators': 100, 'random_state': 21}\n",
                "\n",
                "rf_model = RandomForestClassifier(**rf_best_params)\n",
                "rf_model.fit(X_train, y_train)\n",
                "\n",
                "y_pred_rf = rf_model.predict(X_test)\n",
                "y_pred_proba_rf = rf_model.predict_proba(X_test)\n",
                "\n",
                "rf_accuracy = accuracy_score(y_test, y_pred_rf)\n",
                "rf_precision = precision_score(y_test, y_pred_rf, average='weighted')\n",
                "rf_recall = recall_score(y_test, y_pred_rf, average='weighted')\n",
                "rf_roc_auc = roc_auc_score(y_test, y_pred_proba_rf, multi_class='ovo', average='weighted')\n",
                "\n",
                "print(f\"accuracy is {rf_accuracy:.5f}\")\n",
                "print(f\"precision is {rf_precision:.5f}\")\n",
                "print(f\"recall is {rf_recall:.5f}\")\n",
                "print(f\"roc_auc is {rf_roc_auc:.5f}\")"
            ]
        },
        {
            "cell_type": "markdown",
            "metadata": {},
            "source": [
                "## 5. Predictions"
            ]
        },
        {
            "cell_type": "markdown",
            "metadata": {},
            "source": [
                "1. Choose the best model.\n",
                "2. Analyze: for which `weekday` your model makes the most errors (in % of the total number of samples of that class in your full dataset), for which `labname` and for which `users`.\n",
                "3. Save the model."
            ]
        },
        {
            "cell_type": "code",
            "execution_count": 11,
            "metadata": {},
            "outputs": [
                {
                    "name": "stdout",
                    "output_type": "stream",
                    "text": [
                        "=== СРАВНЕНИЕ МОДЕЛЕЙ ===\n",
                        "SVM:\n",
                        "  accuracy: 0.88757\n",
                        "  precision: 0.89267\n",
                        "  recall: 0.88757\n",
                        "  roc_auc: 0.97878\n",
                        "\n",
                        "Decision Tree:\n",
                        "  accuracy: 0.88462\n",
                        "  precision: 0.88765\n",
                        "  recall: 0.88462\n",
                        "  roc_auc: 0.93528\n",
                        "\n",
                        "Random Forest:\n",
                        "  accuracy: 0.92604\n",
                        "  precision: 0.92754\n",
                        "  recall: 0.92604\n",
                        "  roc_auc: 0.98939\n",
                        "\n",
                        "Лучшая модель: Random Forest с ROC AUC: 0.98939\n"
                    ]
                }
            ],
            "source": [
                "print(\"=== СРАВНЕНИЕ МОДЕЛЕЙ ===\")\n",
                "\n",
                "model_results = {\n",
                "    'SVM': {\n",
                "        'accuracy': svm_accuracy,\n",
                "        'precision': svm_precision,\n",
                "        'recall': svm_recall,\n",
                "        'roc_auc': svm_roc_auc,\n",
                "        'model': svm_model,\n",
                "        'predictions': y_pred_svm\n",
                "    },\n",
                "    'Decision Tree': {\n",
                "        'accuracy': tree_accuracy,\n",
                "        'precision': tree_precision,\n",
                "        'recall': tree_recall,\n",
                "        'roc_auc': tree_roc_auc,\n",
                "        'model': tree_model,\n",
                "        'predictions': y_pred_tree\n",
                "    },\n",
                "    'Random Forest': {\n",
                "        'accuracy': rf_accuracy,\n",
                "        'precision': rf_precision,\n",
                "        'recall': rf_recall,\n",
                "        'roc_auc': rf_roc_auc,\n",
                "        'model': rf_model,\n",
                "        'predictions': y_pred_rf\n",
                "    }\n",
                "}\n",
                "\n",
                "for model_name, results in model_results.items():\n",
                "    print(f\"{model_name}:\")\n",
                "    print(f\"  accuracy: {results['accuracy']:.5f}\")\n",
                "    print(f\"  precision: {results['precision']:.5f}\")\n",
                "    print(f\"  recall: {results['recall']:.5f}\")\n",
                "    print(f\"  roc_auc: {results['roc_auc']:.5f}\")\n",
                "    print()\n",
                "\n",
                "best_model_name = max(model_results.keys(), key=lambda x: model_results[x]['roc_auc'])\n",
                "best_model = model_results[best_model_name]['model']\n",
                "best_predictions = model_results[best_model_name]['predictions']\n",
                "best_roc_auc = model_results[best_model_name]['roc_auc']\n",
                "\n",
                "print(f\"Лучшая модель: {best_model_name} с ROC AUC: {best_roc_auc:.5f}\")"
            ]
        },
        {
            "cell_type": "code",
            "execution_count": 12,
            "metadata": {},
            "outputs": [
                {
                    "name": "stdout",
                    "output_type": "stream",
                    "text": [
                        "=== АНАЛИЗ ОШИБОК ПО ДНЯМ НЕДЕЛИ ===\n",
                        "Понедельник (класс 0): 22.22% ошибок (6/27 ошибок)\n",
                        "Вторник (класс 1): 7.27% ошибок (4/55 ошибок)\n",
                        "Среда (класс 2): 6.67% ошибок (2/30 ошибок)\n",
                        "Четверг (класс 3): 3.75% ошибок (3/80 ошибок)\n",
                        "Пятница (класс 4): 14.29% ошибок (3/21 ошибок)\n",
                        "Суббота (класс 5): 9.26% ошибок (5/54 ошибок)\n",
                        "Воскресенье (класс 6): 2.82% ошибок (2/71 ошибок)\n",
                        "\n",
                        "День недели с наибольшими ошибками: Понедельник (22.22% ошибок)\n"
                    ]
                }
            ],
            "source": [
                "print(\"=== АНАЛИЗ ОШИБОК ПО ДНЯМ НЕДЕЛИ ===\")\n",
                "\n",
                "weekday_names = ['Понедельник', 'Вторник', 'Среда', 'Четверг', 'Пятница', 'Суббота', 'Воскресенье']\n",
                "\n",
                "weekday_errors = {}\n",
                "for weekday in sorted(y.unique()):\n",
                "    mask_true = y_test == weekday\n",
                "    mask_pred_wrong = (y_test == weekday) & (best_predictions != weekday)\n",
                "    \n",
                "    total_in_test = mask_true.sum()\n",
                "    errors_in_test = mask_pred_wrong.sum()\n",
                "    \n",
                "    if total_in_test > 0:\n",
                "        error_rate = errors_in_test / total_in_test * 100\n",
                "        weekday_errors[weekday] = error_rate\n",
                "        \n",
                "        day_name = weekday_names[weekday] if weekday < len(weekday_names) else f'День {weekday}'\n",
                "        print(f\"{day_name} (класс {weekday}): {error_rate:.2f}% ошибок ({errors_in_test}/{total_in_test} ошибок)\")\n",
                "\n",
                "worst_weekday = max(weekday_errors, key=weekday_errors.get)\n",
                "worst_weekday_error_rate = weekday_errors[worst_weekday]\n",
                "worst_weekday_name = weekday_names[worst_weekday] if worst_weekday < len(weekday_names) else f'День {worst_weekday}'\n",
                "\n",
                "print(f\"\\nДень недели с наибольшими ошибками: {worst_weekday_name} ({worst_weekday_error_rate:.2f}% ошибок)\")"
            ]
        },
        {
            "cell_type": "code",
            "execution_count": 13,
            "metadata": {},
            "outputs": [
                {
                    "name": "stdout",
                    "output_type": "stream",
                    "text": [
                        "=== АНАЛИЗ ОШИБОК ПО LABNAME ===\n",
                        "Найдено 11 labname колонок: ['labname_code_rvw', 'labname_lab02', 'labname_lab03', 'labname_lab03s', 'labname_lab05s', 'labname_laba04', 'labname_laba04s', 'labname_laba05', 'labname_laba06', 'labname_laba06s', 'labname_project1']\n",
                        "\n",
                        "Labname         Ошибки   Всего    Процент ошибок \n",
                        "--------------- -------- -------- ---------------\n",
                        "code_rvw        1        13       7.69           %\n",
                        "lab03           1        1        100.00         %\n",
                        "lab03s          0        1        0.00           %\n",
                        "lab05s          1        6        16.67          %\n",
                        "laba04          6        35       17.14          %\n",
                        "laba04s         2        25       8.00           %\n",
                        "laba05          1        47       2.13           %\n",
                        "laba06          1        9        11.11          %\n",
                        "laba06s         2        15       13.33          %\n",
                        "project1        10       186      5.38           %\n",
                        "\n",
                        "❌ Labname с наибольшими ошибками: lab03 (100.00% ошибок)\n",
                        "✅ Labname с наименьшими ошибками: lab03s (0.00% ошибок)\n"
                    ]
                }
            ],
            "source": [
                "print(\"=== АНАЛИЗ ОШИБОК ПО LABNAME ===\")\n",
                "\n",
                "test_indices = X_test.index\n",
                "df_test_analysis = df.loc[test_indices].copy()\n",
                "df_test_analysis['predictions'] = best_predictions\n",
                "\n",
                "labname_columns = [col for col in df.columns if col.startswith('labname_')]\n",
                "print(f\"Найдено {len(labname_columns)} labname колонок: {labname_columns}\")\n",
                "\n",
                "def get_original_labname(row):\n",
                "    for col in labname_columns:\n",
                "        if row[col] == 1:\n",
                "            return col.replace('labname_', '')\n",
                "    return 'unknown'\n",
                "\n",
                "df_test_analysis['original_labname'] = df_test_analysis.apply(get_original_labname, axis=1)\n",
                "\n",
                "labname_errors = {}\n",
                "print(f\"\\n{'Labname':<15} {'Ошибки':<8} {'Всего':<8} {'Процент ошибок':<15}\")\n",
                "print(f\"{'-'*15} {'-'*8} {'-'*8} {'-'*15}\")\n",
                "\n",
                "for labname in sorted(df_test_analysis['original_labname'].unique()):\n",
                "    mask_lab = df_test_analysis['original_labname'] == labname\n",
                "    if mask_lab.sum() > 0:\n",
                "        errors = (df_test_analysis.loc[mask_lab, 'dayofweek'] != df_test_analysis.loc[mask_lab, 'predictions']).sum()\n",
                "        total = mask_lab.sum()\n",
                "        error_rate = errors / total * 100\n",
                "        labname_errors[labname] = error_rate\n",
                "        print(f\"{labname:<15} {errors:<8} {total:<8} {error_rate:<15.2f}%\")\n",
                "\n",
                "if labname_errors:\n",
                "    worst_labname = max(labname_errors, key=labname_errors.get)\n",
                "    worst_labname_error_rate = labname_errors[worst_labname]\n",
                "    \n",
                "    best_labname = min(labname_errors, key=labname_errors.get)\n",
                "    best_labname_error_rate = labname_errors[best_labname]\n",
                "    \n",
                "    print(f\"\\n❌ Labname с наибольшими ошибками: {worst_labname} ({worst_labname_error_rate:.2f}% ошибок)\")\n",
                "    print(f\"✅ Labname с наименьшими ошибками: {best_labname} ({best_labname_error_rate:.2f}% ошибок)\")"
            ]
        },
        {
            "cell_type": "code",
            "execution_count": 14,
            "metadata": {},
            "outputs": [
                {
                    "name": "stdout",
                    "output_type": "stream",
                    "text": [
                        "=== АНАЛИЗ ОШИБОК ПО ПОЛЬЗОВАТЕЛЯМ (ТОП-10) ===\n",
                        "Найдено 30 uid колонок\n",
                        "\n",
                        "Топ-10 пользователей с наибольшим процентом ошибок:\n",
                        "Ранг  User ID  Ошибки   Всего    Процент ошибок \n",
                        "----- -------- -------- -------- ---------------\n",
                        "1     22       1        1        100.00         %\n",
                        "2     6        2        4        50.00          %\n",
                        "3     16       1        5        20.00          %\n",
                        "4     18       1        6        16.67          %\n",
                        "5     27       1        6        16.67          %\n",
                        "6     3        2        14       14.29          %\n",
                        "7     30       1        8        12.50          %\n",
                        "8     31       2        18       11.11          %\n",
                        "9     2        3        28       10.71          %\n",
                        "10    19       2        19       10.53          %\n",
                        "\n",
                        "❌ Пользователь с наибольшими ошибками: User 22 (100.00% ошибок)\n",
                        "✅ Пользователь с наименьшими ошибками: User 1 (0.00% ошибок)\n"
                    ]
                }
            ],
            "source": [
                "print(\"=== АНАЛИЗ ОШИБОК ПО ПОЛЬЗОВАТЕЛЯМ (ТОП-10) ===\")\n",
                "\n",
                "uid_columns = [col for col in df.columns if col.startswith('uid_user_')]\n",
                "print(f\"Найдено {len(uid_columns)} uid колонок\")\n",
                "\n",
                "def get_original_uid(row):\n",
                "    for col in uid_columns:\n",
                "        if row[col] == 1:\n",
                "            return col.replace('uid_user_', '')\n",
                "    return 'unknown'\n",
                "\n",
                "df_test_analysis['original_uid'] = df_test_analysis.apply(get_original_uid, axis=1)\n",
                "\n",
                "user_errors = []\n",
                "for uid in sorted(df_test_analysis['original_uid'].unique()):\n",
                "    mask_user = df_test_analysis['original_uid'] == uid\n",
                "    if mask_user.sum() > 0:\n",
                "        errors = (df_test_analysis.loc[mask_user, 'dayofweek'] != df_test_analysis.loc[mask_user, 'predictions']).sum()\n",
                "        total = mask_user.sum()\n",
                "        error_rate = errors / total * 100 if total > 0 else 0\n",
                "        user_errors.append((uid, error_rate, errors, total))\n",
                "\n",
                "user_errors.sort(key=lambda x: x[1], reverse=True)\n",
                "\n",
                "print(\"\\nТоп-10 пользователей с наибольшим процентом ошибок:\")\n",
                "print(f\"{'Ранг':<5} {'User ID':<8} {'Ошибки':<8} {'Всего':<8} {'Процент ошибок':<15}\")\n",
                "print(f\"{'-'*5} {'-'*8} {'-'*8} {'-'*8} {'-'*15}\")\n",
                "\n",
                "for i, (uid, error_rate, errors, total) in enumerate(user_errors[:10]):\n",
                "    print(f\"{i+1:<5} {uid:<8} {errors:<8} {total:<8} {error_rate:<15.2f}%\")\n",
                "\n",
                "if user_errors:\n",
                "    worst_user = user_errors[0]\n",
                "    print(f\"\\n❌ Пользователь с наибольшими ошибками: User {worst_user[0]} ({worst_user[1]:.2f}% ошибок)\")\n",
                "    \n",
                "    user_errors_sorted_asc = sorted(user_errors, key=lambda x: x[1])\n",
                "    best_user = user_errors_sorted_asc[0]\n",
                "    if best_user[1] < worst_user[1]:\n",
                "        print(f\"✅ Пользователь с наименьшими ошибками: User {best_user[0]} ({best_user[1]:.2f}% ошибок)\")"
            ]
        },
        {
            "cell_type": "code",
            "execution_count": 15,
            "metadata": {},
            "outputs": [
                {
                    "name": "stdout",
                    "output_type": "stream",
                    "text": [
                        "Лучшая модель (Random Forest) сохранена как: work/src/ex02/model/best_model_metrics.joblib\n"
                    ]
                }
            ],
            "source": [
                "model_filename = f'work/src/ex02/model/best_model_metrics.joblib'\n",
                "joblib.dump(best_model, model_filename)\n",
                "print(f\"Лучшая модель ({best_model_name}) сохранена как: {model_filename}\")\n",
                "\n",
                "model_info = {\n",
                "    'model_type': best_model_name,\n",
                "    'best_roc_auc': best_roc_auc,\n",
                "    'best_accuracy': model_results[best_model_name]['accuracy'],\n",
                "    'best_precision': model_results[best_model_name]['precision'],\n",
                "    'best_recall': model_results[best_model_name]['recall'],\n",
                "    'worst_weekday': worst_weekday_name,\n",
                "    'worst_weekday_error_rate': worst_weekday_error_rate,\n",
                "    'worst_labname': worst_labname,\n",
                "    'worst_labname_error_rate': worst_labname_error_rate,\n",
                "    'parameters': str(best_model.get_params())\n",
                "}\n",
                "\n",
                "with open('work/src/ex02/model/model_info_metrics.json', 'w') as f:\n",
                "    json.dump(model_info, f, indent=2)"
            ]
        },
        {
            "cell_type": "markdown",
            "metadata": {},
            "source": [
                "## 6. Function"
            ]
        },
        {
            "cell_type": "markdown",
            "metadata": {},
            "source": [
                "1. Write a function that takes a list of different models and a corresponding list of parameters (dicts) and returns a dict that contains all the 4 metrics for each model."
            ]
        },
        {
            "cell_type": "code",
            "execution_count": 19,
            "metadata": {},
            "outputs": [],
            "source": [
                "def evaluate_models_metrics(models_list, params_list, X_train, y_train, X_test, y_test):\n",
                "    \"\"\"\n",
                "    Оценка списка моделей с соответствующими параметрами\n",
                "    \n",
                "    Args:\n",
                "        models_list: список классов моделей (например, [SVC, DecisionTreeClassifier, RandomForestClassifier])\n",
                "        params_list: список словарей параметров для каждой модели\n",
                "        X_train, y_train: тренировочные данные\n",
                "        X_test, y_test: тестовые данные\n",
                "    \n",
                "    Returns:\n",
                "        dict: словарь с названиями моделей как ключами и метриками как значениями\n",
                "    \"\"\"\n",
                "    results = {}\n",
                "    \n",
                "    for i, (model_class, params) in enumerate(zip(models_list, params_list)):\n",
                "        model_name = model_class.__name__\n",
                "        print(f\"Оцениваем {model_name}...\")\n",
                "        \n",
                "        try:\n",
                "            if model_class == SVC:\n",
                "                model_params = params.copy()\n",
                "                model_params['probability'] = True\n",
                "                if 'random_state' not in model_params:\n",
                "                    model_params['random_state'] = 21\n",
                "                model = model_class(**model_params)\n",
                "            else:\n",
                "                model_params = params.copy()\n",
                "                if 'random_state' not in model_params:\n",
                "                    model_params['random_state'] = 21\n",
                "                model = model_class(**model_params)\n",
                "            \n",
                "            model.fit(X_train, y_train)\n",
                "            \n",
                "            y_pred = model.predict(X_test)\n",
                "            y_pred_proba = model.predict_proba(X_test)\n",
                "            \n",
                "            accuracy = accuracy_score(y_test, y_pred)\n",
                "            precision = precision_score(y_test, y_pred, average='weighted')\n",
                "            recall = recall_score(y_test, y_pred, average='weighted')\n",
                "            roc_auc = roc_auc_score(y_test, y_pred_proba, multi_class='ovo', average='weighted')\n",
                "            \n",
                "            results[model_name] = {\n",
                "                'accuracy': accuracy,\n",
                "                'precision': precision,\n",
                "                'recall': recall,\n",
                "                'roc_auc': roc_auc\n",
                "            }\n",
                "            \n",
                "            print(f\"  accuracy: {accuracy:.5f}\")\n",
                "            print(f\"  precision: {precision:.5f}\")\n",
                "            print(f\"  recall: {recall:.5f}\")\n",
                "            print(f\"  roc_auc: {roc_auc:.5f}\")\n",
                "            print()\n",
                "            \n",
                "        except Exception as e:\n",
                "            print(f\"Ошибка при оценке {model_name}: {str(e)}\")\n",
                "            results[model_name] = {\n",
                "                'accuracy': 0.0,\n",
                "                'precision': 0.0,\n",
                "                'recall': 0.0,\n",
                "                'roc_auc': 0.0\n",
                "            }\n",
                "    \n",
                "    return results"
            ]
        },
        {
            "cell_type": "code",
            "execution_count": 20,
            "metadata": {},
            "outputs": [
                {
                    "name": "stdout",
                    "output_type": "stream",
                    "text": [
                        "=== ТЕСТИРОВАНИЕ ФУНКЦИИ С ЛУЧШИМИ ПАРАМЕТРАМИ ===\n",
                        "Оцениваем SVC...\n",
                        "  accuracy: 0.88757\n",
                        "  precision: 0.89267\n",
                        "  recall: 0.88757\n",
                        "  roc_auc: 0.97878\n",
                        "\n",
                        "Оцениваем DecisionTreeClassifier...\n",
                        "  accuracy: 0.88462\n",
                        "  precision: 0.88765\n",
                        "  recall: 0.88462\n",
                        "  roc_auc: 0.93528\n",
                        "\n",
                        "Оцениваем RandomForestClassifier...\n",
                        "  accuracy: 0.92604\n",
                        "  precision: 0.92754\n",
                        "  recall: 0.92604\n",
                        "  roc_auc: 0.98939\n",
                        "\n"
                    ]
                }
            ],
            "source": [
                "print(\"=== ТЕСТИРОВАНИЕ ФУНКЦИИ С ЛУЧШИМИ ПАРАМЕТРАМИ ===\")\n",
                "\n",
                "test_models = [SVC, DecisionTreeClassifier, RandomForestClassifier]\n",
                "test_params = [\n",
                "    svm_best_params,\n",
                "    tree_best_params,\n",
                "    rf_best_params\n",
                "]\n",
                "\n",
                "function_results = evaluate_models_metrics(test_models, test_params, X_train, y_train, X_test, y_test)"
            ]
        },
        {
            "cell_type": "code",
            "execution_count": 22,
            "metadata": {},
            "outputs": [
                {
                    "name": "stdout",
                    "output_type": "stream",
                    "text": [
                        "=== РЕЗУЛЬТАТЫ ФУНКЦИИ ===\n",
                        "SVC:\n",
                        "  accuracy: 0.88757\n",
                        "  precision: 0.89267\n",
                        "  recall: 0.88757\n",
                        "  roc_auc: 0.97878\n",
                        "\n",
                        "DecisionTreeClassifier:\n",
                        "  accuracy: 0.88462\n",
                        "  precision: 0.88765\n",
                        "  recall: 0.88462\n",
                        "  roc_auc: 0.93528\n",
                        "\n",
                        "RandomForestClassifier:\n",
                        "  accuracy: 0.92604\n",
                        "  precision: 0.92754\n",
                        "  recall: 0.92604\n",
                        "  roc_auc: 0.98939\n",
                        "\n"
                    ]
                }
            ],
            "source": [
                "print(\"=== РЕЗУЛЬТАТЫ ФУНКЦИИ ===\")\n",
                "for model_name, metrics in function_results.items():\n",
                "    print(f\"{model_name}:\")\n",
                "    for metric_name, value in metrics.items():\n",
                "        print(f\"  {metric_name}: {value:.5f}\")\n",
                "    print()"
            ]
        },
        {
            "cell_type": "code",
            "execution_count": 23,
            "metadata": {},
            "outputs": [
                {
                    "name": "stdout",
                    "output_type": "stream",
                    "text": [
                        "=== СРАВНЕНИЕ РЕЗУЛЬТАТОВ ФУНКЦИИ И УПРАЖНЕНИЯ ===\n",
                        "Модель               Метрика      Упражнение   Функция      Разница     \n",
                        "----------------------------------------------------------------------\n",
                        "SVM                  accuracy     0.88757      0.88757      0.000000    \n",
                        "SVM                  precision    0.89267      0.89267      0.000000    \n",
                        "SVM                  recall       0.88757      0.88757      0.000000    \n",
                        "SVM                  roc_auc      0.97878      0.97878      0.000000    \n",
                        "\n",
                        "Decision Tree        accuracy     0.88462      0.88462      0.000000    \n",
                        "Decision Tree        precision    0.88765      0.88765      0.000000    \n",
                        "Decision Tree        recall       0.88462      0.88462      0.000000    \n",
                        "Decision Tree        roc_auc      0.93528      0.93528      0.000000    \n",
                        "\n",
                        "Random Forest        accuracy     0.92604      0.92604      0.000000    \n",
                        "Random Forest        precision    0.92754      0.92754      0.000000    \n",
                        "Random Forest        recall       0.92604      0.92604      0.000000    \n",
                        "Random Forest        roc_auc      0.98939      0.98939      0.000000    \n",
                        "\n",
                        "✅ РЕЗУЛЬТАТЫ СОВПАДАЮТ! Функция работает корректно.\n"
                    ]
                }
            ],
            "source": [
                "print(\"=== СРАВНЕНИЕ РЕЗУЛЬТАТОВ ФУНКЦИИ И УПРАЖНЕНИЯ ===\")\n",
                "\n",
                "model_name_mapping = {\n",
                "    'SVC': 'SVM',\n",
                "    'DecisionTreeClassifier': 'Decision Tree', \n",
                "    'RandomForestClassifier': 'Random Forest'\n",
                "}\n",
                "\n",
                "print(f\"{'Модель':<20} {'Метрика':<12} {'Упражнение':<12} {'Функция':<12} {'Разница':<12}\")\n",
                "print(\"-\" * 70)\n",
                "\n",
                "for func_model_name, func_metrics in function_results.items():\n",
                "    orig_model_name = model_name_mapping[func_model_name]\n",
                "    orig_metrics = model_results[orig_model_name]\n",
                "    \n",
                "    for metric in ['accuracy', 'precision', 'recall', 'roc_auc']:\n",
                "        orig_value = orig_metrics[metric]\n",
                "        func_value = func_metrics[metric]\n",
                "        diff = abs(orig_value - func_value)\n",
                "        \n",
                "        print(f\"{orig_model_name:<20} {metric:<12} {orig_value:<12.5f} {func_value:<12.5f} {diff:<12.6f}\")\n",
                "    print()\n",
                "\n",
                "all_match = True\n",
                "tolerance = 1e-5\n",
                "\n",
                "for func_model_name, func_metrics in function_results.items():\n",
                "    orig_model_name = model_name_mapping[func_model_name]\n",
                "    orig_metrics = model_results[orig_model_name]\n",
                "    \n",
                "    for metric in ['accuracy', 'precision', 'recall', 'roc_auc']:\n",
                "        if abs(orig_metrics[metric] - func_metrics[metric]) > tolerance:\n",
                "            all_match = False\n",
                "            break\n",
                "\n",
                "if all_match:\n",
                "    print(\"✅ РЕЗУЛЬТАТЫ СОВПАДАЮТ! Функция работает корректно.\")\n",
                "else:\n",
                "    print(\"❌ Есть расхождения в результатах. Проверьте реализацию функции.\")"
            ]
        }
    ],
    "metadata": {
        "kernelspec": {
            "display_name": "Python 3 (ipykernel)",
            "language": "python",
            "name": "python3"
        }
    },
    "nbformat": 4,
    "nbformat_minor": 4
}
