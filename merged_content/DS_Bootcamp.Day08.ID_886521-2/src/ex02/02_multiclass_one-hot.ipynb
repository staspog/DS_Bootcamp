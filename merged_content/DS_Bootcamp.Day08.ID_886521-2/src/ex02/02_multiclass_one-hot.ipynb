{
 "cells": [
  {
   "cell_type": "markdown",
   "metadata": {},
   "source": [
    "# Day 08. Exercise 02\n",
    "# Multiclass classification. One-hot encoding. Random forest"
   ]
  },
  {
   "cell_type": "markdown",
   "metadata": {},
   "source": [
    "## 0. Imports"
   ]
  },
  {
   "cell_type": "code",
   "execution_count": 443,
   "metadata": {},
   "outputs": [],
   "source": [
    "import pandas as pd\n",
    "import numpy as np\n",
    "import matplotlib.pyplot as plt\n",
    "from datetime import datetime\n",
    "from sklearn.linear_model import LogisticRegression\n",
    "from sklearn.svm import SVC\n",
    "from sklearn.tree import DecisionTreeClassifier\n",
    "from sklearn.ensemble import RandomForestClassifier\n",
    "from sklearn.preprocessing import OneHotEncoder, StandardScaler\n",
    "from sklearn.multiclass import OneVsRestClassifier\n",
    "from sklearn.metrics import accuracy_score\n",
    "from sklearn.compose import ColumnTransformer"
   ]
  },
  {
   "cell_type": "markdown",
   "metadata": {},
   "source": [
    "## 1. Preprocessing"
   ]
  },
  {
   "cell_type": "markdown",
   "metadata": {},
   "source": [
    "1. Read the file [`checker-submits.csv`](https://drive.google.com/file/d/14voc4fNJZiLEFaZyd8nEG-lQt5JjatYw/view?usp=sharing).\n",
    "2. Create a dataframe `df` with the columns: `uid`, `labname`, `numTrials`, `hour`, `dayofweek` where `hour` is extracted from the `timestamp` as well as the `dayofweek` (`0` is Monday, `6` is Sunday). We will try to predict the day of the week having data about which user made a commit for which lab at which hour and which try it was.\n",
    "3. Using `OneHotEncoder()` transform your categorical features, delete from the dataframe the initial columns.\n",
    "4. Use `StandardScaler()` and scale your continuous features.\n",
    "5. Save the dataframe as `dayofweek.csv`.\n",
    "6. Before trying out different algorithms, find out the accuracy of the naive algorithms – the one that predicts everything as the most popular class."
   ]
  },
  {
   "cell_type": "code",
   "execution_count": 444,
   "metadata": {},
   "outputs": [
    {
     "name": "stdout",
     "output_type": "stream",
     "text": [
      "Исходные данные:\n",
      "      uid   labname  numTrials                   timestamp\n",
      "0  user_4  project1          1  2020-04-17 05:19:02.744528\n",
      "1  user_4  project1          2  2020-04-17 05:22:45.549397\n",
      "2  user_4  project1          3  2020-04-17 05:34:24.422370\n",
      "3  user_4  project1          4  2020-04-17 05:43:27.773992\n",
      "4  user_4  project1          5  2020-04-17 05:46:32.275104\n",
      "Размер данных: (1686, 4)\n"
     ]
    }
   ],
   "source": [
    "# Загружаем данные\n",
    "df = pd.read_csv('../data/checker_submits.csv')\n",
    "print(\"Исходные данные:\")\n",
    "print(df.head())\n",
    "print(f\"Размер данных: {df.shape}\")"
   ]
  },
  {
   "cell_type": "code",
   "execution_count": 445,
   "metadata": {},
   "outputs": [
    {
     "name": "stdout",
     "output_type": "stream",
     "text": [
      "Размер данных: (1686, 6)\n"
     ]
    },
    {
     "data": {
      "text/html": [
       "<div>\n",
       "<style scoped>\n",
       "    .dataframe tbody tr th:only-of-type {\n",
       "        vertical-align: middle;\n",
       "    }\n",
       "\n",
       "    .dataframe tbody tr th {\n",
       "        vertical-align: top;\n",
       "    }\n",
       "\n",
       "    .dataframe thead th {\n",
       "        text-align: right;\n",
       "    }\n",
       "</style>\n",
       "<table border=\"1\" class=\"dataframe\">\n",
       "  <thead>\n",
       "    <tr style=\"text-align: right;\">\n",
       "      <th></th>\n",
       "      <th>numTrials</th>\n",
       "      <th>timestamp</th>\n",
       "      <th>hour</th>\n",
       "      <th>dayofweek</th>\n",
       "    </tr>\n",
       "  </thead>\n",
       "  <tbody>\n",
       "    <tr>\n",
       "      <th>count</th>\n",
       "      <td>1686.000000</td>\n",
       "      <td>1686</td>\n",
       "      <td>1686.000000</td>\n",
       "      <td>1686.000000</td>\n",
       "    </tr>\n",
       "    <tr>\n",
       "      <th>mean</th>\n",
       "      <td>25.720641</td>\n",
       "      <td>2020-05-07 02:23:36.397669632</td>\n",
       "      <td>15.957295</td>\n",
       "      <td>3.361210</td>\n",
       "    </tr>\n",
       "    <tr>\n",
       "      <th>min</th>\n",
       "      <td>1.000000</td>\n",
       "      <td>2020-04-17 05:19:02.744528</td>\n",
       "      <td>0.000000</td>\n",
       "      <td>0.000000</td>\n",
       "    </tr>\n",
       "    <tr>\n",
       "      <th>25%</th>\n",
       "      <td>4.000000</td>\n",
       "      <td>2020-05-02 09:44:33.389479936</td>\n",
       "      <td>13.000000</td>\n",
       "      <td>2.000000</td>\n",
       "    </tr>\n",
       "    <tr>\n",
       "      <th>50%</th>\n",
       "      <td>13.000000</td>\n",
       "      <td>2020-05-09 22:41:09.708265472</td>\n",
       "      <td>16.000000</td>\n",
       "      <td>3.000000</td>\n",
       "    </tr>\n",
       "    <tr>\n",
       "      <th>75%</th>\n",
       "      <td>36.000000</td>\n",
       "      <td>2020-05-13 21:17:20.682178304</td>\n",
       "      <td>20.000000</td>\n",
       "      <td>5.000000</td>\n",
       "    </tr>\n",
       "    <tr>\n",
       "      <th>max</th>\n",
       "      <td>164.000000</td>\n",
       "      <td>2020-05-21 20:37:00.290491</td>\n",
       "      <td>23.000000</td>\n",
       "      <td>6.000000</td>\n",
       "    </tr>\n",
       "    <tr>\n",
       "      <th>std</th>\n",
       "      <td>31.354122</td>\n",
       "      <td>NaN</td>\n",
       "      <td>4.277533</td>\n",
       "      <td>1.985261</td>\n",
       "    </tr>\n",
       "  </tbody>\n",
       "</table>\n",
       "</div>"
      ],
      "text/plain": [
       "         numTrials                      timestamp         hour    dayofweek\n",
       "count  1686.000000                           1686  1686.000000  1686.000000\n",
       "mean     25.720641  2020-05-07 02:23:36.397669632    15.957295     3.361210\n",
       "min       1.000000     2020-04-17 05:19:02.744528     0.000000     0.000000\n",
       "25%       4.000000  2020-05-02 09:44:33.389479936    13.000000     2.000000\n",
       "50%      13.000000  2020-05-09 22:41:09.708265472    16.000000     3.000000\n",
       "75%      36.000000  2020-05-13 21:17:20.682178304    20.000000     5.000000\n",
       "max     164.000000     2020-05-21 20:37:00.290491    23.000000     6.000000\n",
       "std      31.354122                            NaN     4.277533     1.985261"
      ]
     },
     "execution_count": 445,
     "metadata": {},
     "output_type": "execute_result"
    }
   ],
   "source": [
    "df['timestamp'] = pd.to_datetime(df['timestamp'])\n",
    "df['hour'] = df['timestamp'].dt.hour\n",
    "df['dayofweek'] = df['timestamp'].dt.day_of_week\n",
    "# df['dayofweek'].min()\n",
    "\n",
    "print(f\"Размер данных: {df.shape}\")\n",
    "df\n",
    "df.max()\n",
    "df.describe()\n",
    "\n",
    "# df.max(numeric_only=True) - df.min(numeric_only=True)\n"
   ]
  },
  {
   "cell_type": "code",
   "execution_count": 446,
   "metadata": {},
   "outputs": [
    {
     "name": "stdout",
     "output_type": "stream",
     "text": [
      "Данные после извлечения признаков:\n",
      "      uid   labname  numTrials  hour  dayofweek\n",
      "0  user_4  project1          1     5          4\n",
      "1  user_4  project1          2     5          4\n",
      "2  user_4  project1          3     5          4\n",
      "3  user_4  project1          4     5          4\n",
      "4  user_4  project1          5     5          4\n",
      "5  user_4  project1          6     5          4\n",
      "6  user_4  project1          7     5          4\n",
      "7  user_4    laba04          1    11          4\n",
      "8  user_4    laba04          2    11          4\n",
      "9  user_4    laba04          3    11          4\n"
     ]
    }
   ],
   "source": [
    "final_df = df[['uid', 'labname', 'numTrials', 'hour', 'dayofweek']].copy()\n",
    "print(\"Данные после извлечения признаков:\")\n",
    "print(final_df.head(10))"
   ]
  },
  {
   "cell_type": "code",
   "execution_count": 447,
   "metadata": {},
   "outputs": [
    {
     "name": "stdout",
     "output_type": "stream",
     "text": [
      "Распределение дней недели:\n",
      "Пн (0): 136\n",
      "Вт (1): 274\n",
      "Ср (2): 149\n",
      "Чт (3): 396\n",
      "Пт (4): 104\n",
      "Сб (5): 271\n",
      "Вс (6): 356\n"
     ]
    }
   ],
   "source": [
    "# Проверяем распределение целевой переменной\n",
    "print(\"Распределение дней недели:\")\n",
    "dayofweek_counts = final_df['dayofweek'].value_counts().sort_index()\n",
    "days_names = ['Пн', 'Вт', 'Ср', 'Чт', 'Пт', 'Сб', 'Вс']\n",
    "for day, count in dayofweek_counts.items():\n",
    "    print(f\"{days_names[day]} ({day}): {count}\")"
   ]
  },
  {
   "cell_type": "code",
   "execution_count": 448,
   "metadata": {},
   "outputs": [
    {
     "data": {
      "text/html": [
       "<div>\n",
       "<style scoped>\n",
       "    .dataframe tbody tr th:only-of-type {\n",
       "        vertical-align: middle;\n",
       "    }\n",
       "\n",
       "    .dataframe tbody tr th {\n",
       "        vertical-align: top;\n",
       "    }\n",
       "\n",
       "    .dataframe thead th {\n",
       "        text-align: right;\n",
       "    }\n",
       "</style>\n",
       "<table border=\"1\" class=\"dataframe\">\n",
       "  <thead>\n",
       "    <tr style=\"text-align: right;\">\n",
       "      <th></th>\n",
       "      <th>uid</th>\n",
       "      <th>labname</th>\n",
       "      <th>numTrials</th>\n",
       "      <th>hour</th>\n",
       "    </tr>\n",
       "  </thead>\n",
       "  <tbody>\n",
       "    <tr>\n",
       "      <th>0</th>\n",
       "      <td>user_4</td>\n",
       "      <td>project1</td>\n",
       "      <td>1</td>\n",
       "      <td>5</td>\n",
       "    </tr>\n",
       "    <tr>\n",
       "      <th>1</th>\n",
       "      <td>user_4</td>\n",
       "      <td>project1</td>\n",
       "      <td>2</td>\n",
       "      <td>5</td>\n",
       "    </tr>\n",
       "    <tr>\n",
       "      <th>2</th>\n",
       "      <td>user_4</td>\n",
       "      <td>project1</td>\n",
       "      <td>3</td>\n",
       "      <td>5</td>\n",
       "    </tr>\n",
       "    <tr>\n",
       "      <th>3</th>\n",
       "      <td>user_4</td>\n",
       "      <td>project1</td>\n",
       "      <td>4</td>\n",
       "      <td>5</td>\n",
       "    </tr>\n",
       "    <tr>\n",
       "      <th>4</th>\n",
       "      <td>user_4</td>\n",
       "      <td>project1</td>\n",
       "      <td>5</td>\n",
       "      <td>5</td>\n",
       "    </tr>\n",
       "    <tr>\n",
       "      <th>...</th>\n",
       "      <td>...</td>\n",
       "      <td>...</td>\n",
       "      <td>...</td>\n",
       "      <td>...</td>\n",
       "    </tr>\n",
       "    <tr>\n",
       "      <th>1681</th>\n",
       "      <td>user_19</td>\n",
       "      <td>laba06s</td>\n",
       "      <td>9</td>\n",
       "      <td>20</td>\n",
       "    </tr>\n",
       "    <tr>\n",
       "      <th>1682</th>\n",
       "      <td>user_1</td>\n",
       "      <td>laba06s</td>\n",
       "      <td>6</td>\n",
       "      <td>20</td>\n",
       "    </tr>\n",
       "    <tr>\n",
       "      <th>1683</th>\n",
       "      <td>user_1</td>\n",
       "      <td>laba06s</td>\n",
       "      <td>7</td>\n",
       "      <td>20</td>\n",
       "    </tr>\n",
       "    <tr>\n",
       "      <th>1684</th>\n",
       "      <td>user_1</td>\n",
       "      <td>laba06s</td>\n",
       "      <td>8</td>\n",
       "      <td>20</td>\n",
       "    </tr>\n",
       "    <tr>\n",
       "      <th>1685</th>\n",
       "      <td>user_1</td>\n",
       "      <td>laba06s</td>\n",
       "      <td>9</td>\n",
       "      <td>20</td>\n",
       "    </tr>\n",
       "  </tbody>\n",
       "</table>\n",
       "<p>1686 rows × 4 columns</p>\n",
       "</div>"
      ],
      "text/plain": [
       "          uid   labname  numTrials  hour\n",
       "0      user_4  project1          1     5\n",
       "1      user_4  project1          2     5\n",
       "2      user_4  project1          3     5\n",
       "3      user_4  project1          4     5\n",
       "4      user_4  project1          5     5\n",
       "...       ...       ...        ...   ...\n",
       "1681  user_19   laba06s          9    20\n",
       "1682   user_1   laba06s          6    20\n",
       "1683   user_1   laba06s          7    20\n",
       "1684   user_1   laba06s          8    20\n",
       "1685   user_1   laba06s          9    20\n",
       "\n",
       "[1686 rows x 4 columns]"
      ]
     },
     "execution_count": 448,
     "metadata": {},
     "output_type": "execute_result"
    }
   ],
   "source": [
    "# Подготавливаем данные для обучения\n",
    "X = final_df.drop('dayofweek', axis=1)\n",
    "y = final_df['dayofweek']\n",
    "X"
   ]
  },
  {
   "cell_type": "code",
   "execution_count": 449,
   "metadata": {},
   "outputs": [],
   "source": [
    "# Определяем категориальные и числовые признаки\n",
    "numerical_features = ['numTrials', 'hour']\n",
    "categorical_features = ['uid', 'labname']"
   ]
  },
  {
   "cell_type": "code",
   "execution_count": null,
   "metadata": {},
   "outputs": [],
   "source": [
    "# Создаем трансформер для обработки данных\n",
    "preprocessor = ColumnTransformer(\n",
    "    transformers=[\n",
    "        ('num', StandardScaler(), numerical_features),\n",
    "        ('cat', OneHotEncoder(sparse_output=False), categorical_features)\n",
    "    ]\n",
    ")\n",
    "X_processed = preprocessor.fit_transform(X)"
   ]
  },
  {
   "cell_type": "code",
   "execution_count": 452,
   "metadata": {},
   "outputs": [
    {
     "data": {
      "text/plain": [
       "['numTrials',\n",
       " 'hour',\n",
       " 'uid_user_0',\n",
       " 'uid_user_1',\n",
       " 'uid_user_10',\n",
       " 'uid_user_11',\n",
       " 'uid_user_12',\n",
       " 'uid_user_13',\n",
       " 'uid_user_14',\n",
       " 'uid_user_15',\n",
       " 'uid_user_16',\n",
       " 'uid_user_17',\n",
       " 'uid_user_18',\n",
       " 'uid_user_19',\n",
       " 'uid_user_2',\n",
       " 'uid_user_20',\n",
       " 'uid_user_21',\n",
       " 'uid_user_22',\n",
       " 'uid_user_23',\n",
       " 'uid_user_24',\n",
       " 'uid_user_25',\n",
       " 'uid_user_26',\n",
       " 'uid_user_27',\n",
       " 'uid_user_28',\n",
       " 'uid_user_29',\n",
       " 'uid_user_3',\n",
       " 'uid_user_30',\n",
       " 'uid_user_31',\n",
       " 'uid_user_4',\n",
       " 'uid_user_6',\n",
       " 'uid_user_7',\n",
       " 'uid_user_8',\n",
       " 'labname_code_rvw',\n",
       " 'labname_lab02',\n",
       " 'labname_lab03',\n",
       " 'labname_lab03s',\n",
       " 'labname_lab05s',\n",
       " 'labname_laba04',\n",
       " 'labname_laba04s',\n",
       " 'labname_laba05',\n",
       " 'labname_laba06',\n",
       " 'labname_laba06s',\n",
       " 'labname_project1']"
      ]
     },
     "execution_count": 452,
     "metadata": {},
     "output_type": "execute_result"
    }
   ],
   "source": [
    "# Получаем названия признаков после трансформации\n",
    "feature_names = (numerical_features + \n",
    "                list(preprocessor.named_transformers_['cat'].get_feature_names_out()))\n",
    "feature_names"
   ]
  },
  {
   "cell_type": "code",
   "execution_count": null,
   "metadata": {},
   "outputs": [
    {
     "name": "stdout",
     "output_type": "stream",
     "text": [
      "Размер после обработки: (1686, 43)\n"
     ]
    }
   ],
   "source": [
    "print(f\"Размер после обработки: {X_processed.shape}\")"
   ]
  },
  {
   "cell_type": "code",
   "execution_count": null,
   "metadata": {},
   "outputs": [
    {
     "name": "stdout",
     "output_type": "stream",
     "text": [
      "Размер: (1686, 44)\n"
     ]
    }
   ],
   "source": [
    "# Создаем датафрейм для сохранения\n",
    "processed_df = pd.DataFrame(X_processed, columns=feature_names)\n",
    "processed_df['dayofweek'] = y.values\n",
    "print(f\"Размер: {processed_df.shape}\")"
   ]
  },
  {
   "cell_type": "markdown",
   "metadata": {},
   "source": [
    "## Размер csv-df: (1686, 44)"
   ]
  },
  {
   "cell_type": "code",
   "execution_count": 455,
   "metadata": {},
   "outputs": [],
   "source": [
    "# Сохраняем обработанные данные\n",
    "processed_df.to_csv('data/dayofweek.csv', index=False)"
   ]
  },
  {
   "cell_type": "code",
   "execution_count": 456,
   "metadata": {},
   "outputs": [
    {
     "name": "stdout",
     "output_type": "stream",
     "text": [
      "Baseline accuracy (самый популярный класс \"Чт\"):\n",
      "0.23487544483985764\n"
     ]
    }
   ],
   "source": [
    "# Baseline accuracy (самый популярный класс)\n",
    "most_common_class = y.value_counts().idxmax()\n",
    "baseline_accuracy = y.value_counts().max() / len(y)\n",
    "print(f\"Baseline accuracy (самый популярный класс \\\"{days_names[most_common_class]}\\\"):\\n{baseline_accuracy}\")"
   ]
  },
  {
   "cell_type": "markdown",
   "metadata": {},
   "source": [
    "## 2. Algorithms"
   ]
  },
  {
   "cell_type": "markdown",
   "metadata": {},
   "source": [
    "### a. Logreg"
   ]
  },
  {
   "cell_type": "markdown",
   "metadata": {},
   "source": [
    "1. Train logistic regression, for the baseline model use `random_state=21`, `fit_intercept=False`. \n",
    "2. Calculate the accuracy.\n",
    "3. Write a function that draws the plot (`barh`) taking coefficients of any trained models, names of the features and the number of `top-n` most important features to display.\n",
    "4. Draw a plot (`barh`) for the baseline model with top-10 most important features (absolute value) for the trained model.\n",
    "5. Remember that it is a multiclass classification and `coef_` returns a matrix, to calculate importance for a feature you need to sum all the individual feature importances for all the target values."
   ]
  },
  {
   "cell_type": "code",
   "execution_count": null,
   "metadata": {},
   "outputs": [],
   "source": [
    "def plot_feature_importance(importances, feature_names, top_n=10, title=\"Feature Importance\"):\n",
    "    \"\"\"Рисует горизонтальную барную диаграмму важности признаков\"\"\"\n",
    "    \n",
    "\n",
    "    # Получаем топ-N признаков по важности\n",
    "    indices = np.argsort(np.abs(importances))[-top_n:]\n",
    "    plt.figure(figsize=(10, 6))\n",
    "\n",
    "    plt.barh(range(len(indices)), np.abs(importances[indices]))\n",
    "        # Горизонтальные столбцы: позиции от 0 до len(indices)-1\n",
    "        # Длина столбцов: значения важности для выбранных индексов\n",
    "\n",
    "    plt.yticks(range(len(indices)), [feature_names[i] for i in indices])\n",
    "        # Подписи по Y: названия признаков для выбранных индексов\n",
    "\n",
    "    plt.xlabel('Важность признака')\n",
    "    plt.title(title)\n",
    "    # plt.tight_layout()\n",
    "    plt.show()"
   ]
  },
  {
   "cell_type": "markdown",
   "metadata": {},
   "source": [
    "## LOGISTIC REGRESSION"
   ]
  },
  {
   "cell_type": "code",
   "execution_count": null,
   "metadata": {},
   "outputs": [
    {
     "name": "stdout",
     "output_type": "stream",
     "text": [
      "Logistic Regression accuracy: 0.6215895610913404\n"
     ]
    }
   ],
   "source": [
    "# Обучаем логистическую регрессию\n",
    "logreg = LogisticRegression(random_state=21, fit_intercept=False, solver='liblinear')\n",
    "logreg.fit(X_processed, y);\n",
    "\n",
    "logreg_pred = logreg.predict(X_processed)\n",
    "logreg_accuracy = accuracy_score(y, logreg_pred)\n",
    "print(f\"Logistic Regression accuracy: {logreg_accuracy}\")"
   ]
  },
  {
   "cell_type": "code",
   "execution_count": 459,
   "metadata": {},
   "outputs": [
    {
     "data": {
      "image/png": "[encoded data removed]",
      "text/plain": [
       "<Figure size 1000x600 with 1 Axes>"
      ]
     },
     "metadata": {},
     "output_type": "display_data"
    }
   ],
   "source": [
    "# Важность признаков для многоклассовой классификации\n",
    "\n",
    "# Суммируем абсолютные значения коэффициентов по всем классам\n",
    "logreg_importance = np.sum(np.abs(logreg.coef_), axis=0)\n",
    "# logreg_importance = np.sum((logreg.coef_), axis=0)\n",
    "\n",
    "    # В многоклассовой классификации один признак может:\n",
    "\n",
    "    # Сильно влиять на понедельник (+0.8)\n",
    "    # Слабо влиять на вторник (-0.1)\n",
    "    # Средне влиять на среду (+0.3)\n",
    "\n",
    "    # Общая важность признака = сумма его влияния на ВСЕ классы.\n",
    "\n",
    "plot_feature_importance(logreg_importance, feature_names, title=\"Logistic Regression - Top 10 Features\")"
   ]
  },
  {
   "cell_type": "markdown",
   "metadata": {},
   "source": [
    "## SVC"
   ]
  },
  {
   "cell_type": "markdown",
   "metadata": {},
   "source": [
    "### b. SVC"
   ]
  },
  {
   "cell_type": "markdown",
   "metadata": {},
   "source": [
    "1. Train a `SVC` model, for the baseline model use parameters `kernel='linear'`, `probability=True`, `random_state=21`. \n",
    "2. Try different kernels, calculate the accuracies.\n",
    "3. Draw a plot (`barh`) for the baseline model with top-10 most important features (absolute value) for the trained model for the linear kernel *\n",
    "\n",
    "*By default SVC uses “one vs one” strategy of the classification, thus in `coef_` it returns a matrix. To calculate importance for a feature you need to use [OneVsRestClassifier](https://scikit-learn.org/stable/modules/generated/sklearn.multiclass.OneVsRestClassifier.html) over the SVC and sum all the individual feature importances for all the target values."
   ]
  },
  {
   "cell_type": "code",
   "execution_count": 460,
   "metadata": {},
   "outputs": [
    {
     "name": "stdout",
     "output_type": "stream",
     "text": [
      "SVC linear: 0.7028\n",
      "SVC poly: 0.8594\n",
      "SVC rbf: 0.8559\n",
      "SVC sigmoid: 0.3998\n"
     ]
    }
   ],
   "source": [
    "# Пробуем разные ядра\n",
    "kernels = ['linear', 'poly', 'rbf', 'sigmoid']\n",
    "svc_results = {}\n",
    "\n",
    "for kernel in kernels:\n",
    "    svc = SVC(kernel=kernel, probability=True, random_state=21)\n",
    "    svc.fit(X_processed, y)\n",
    "    svc_pred = svc.predict(X_processed)\n",
    "    svc_acc = accuracy_score(y, svc_pred)\n",
    "    svc_results[kernel] = svc_acc\n",
    "    print(f\"SVC {kernel}: {svc_acc:.4f}\")"
   ]
  },
  {
   "cell_type": "code",
   "execution_count": 461,
   "metadata": {},
   "outputs": [
    {
     "data": {
      "image/png": "[encoded data removed]",
      "text/plain": [
       "<Figure size 1000x600 with 1 Axes>"
      ]
     },
     "metadata": {},
     "output_type": "display_data"
    }
   ],
   "source": [
    "# Используем линейное ядро для анализа важности признаков\n",
    "svc_ovr = OneVsRestClassifier(SVC(kernel='linear', random_state=21))\n",
    "svc_ovr.fit(X_processed, y)\n",
    "\n",
    "# Важность признаков для SVC с линейным ядром\n",
    "svc_importance = np.sum(np.abs([estimator.coef_[0] for estimator in svc_ovr.estimators_]), axis=0)\n",
    "plot_feature_importance(svc_importance, feature_names, title=\"SVC Linear - Top 10 Features\")"
   ]
  },
  {
   "cell_type": "markdown",
   "metadata": {},
   "source": [
    "## Decision tree"
   ]
  },
  {
   "cell_type": "markdown",
   "metadata": {},
   "source": [
    "### c. Decision tree"
   ]
  },
  {
   "cell_type": "markdown",
   "metadata": {},
   "source": [
    "1. Train a `DecisionTreeClassifier` using for the baseline model `max_depth=4`, `random_state=21`. \n",
    "2. Try different values of `max_depth`, calculate the accuracies.\n",
    "3. Draw a plot (`barh`) for the baseline model with top-10 most important features (absolute value) for the trained model using the written function."
   ]
  },
  {
   "cell_type": "code",
   "execution_count": 462,
   "metadata": {},
   "outputs": [
    {
     "name": "stdout",
     "output_type": "stream",
     "text": [
      "Decision Tree depth=3: 0.4899\n",
      "Decision Tree depth=4: 0.5516\n",
      "Decision Tree depth=5: 0.6109\n",
      "Decision Tree depth=6: 0.6637\n",
      "Decision Tree depth=7: 0.7064\n",
      "Decision Tree depth=8: 0.7503\n",
      "Decision Tree depth=10: 0.8197\n"
     ]
    }
   ],
   "source": [
    "# Пробуем разные глубины\n",
    "depths = [3, 4, 5, 6, 7, 8, 10]\n",
    "tree_results = {}\n",
    "\n",
    "for depth in depths:\n",
    "    tree = DecisionTreeClassifier(max_depth=depth, random_state=21)\n",
    "    tree.fit(X_processed, y)\n",
    "    tree_pred = tree.predict(X_processed)\n",
    "    tree_acc = accuracy_score(y, tree_pred)\n",
    "    tree_results[depth] = tree_acc\n",
    "    print(f\"Decision Tree depth={depth}: {tree_acc:.4f}\")"
   ]
  },
  {
   "cell_type": "code",
   "execution_count": 463,
   "metadata": {},
   "outputs": [
    {
     "data": {
      "image/png": "[encoded data removed]",
      "text/plain": [
       "<Figure size 1000x600 with 1 Axes>"
      ]
     },
     "metadata": {},
     "output_type": "display_data"
    }
   ],
   "source": [
    "# Базовая модель с глубиной 4\n",
    "tree_base = DecisionTreeClassifier(max_depth=4, random_state=21)\n",
    "tree_base.fit(X_processed, y)\n",
    "\n",
    "# Важность признаков у деревьев есть встроенная\n",
    "tree_importance = tree_base.feature_importances_\n",
    "plot_feature_importance(tree_importance, feature_names, title=\"Decision Tree - Top 10 Features\")\n"
   ]
  },
  {
   "cell_type": "markdown",
   "metadata": {},
   "source": [
    "## Random forest"
   ]
  },
  {
   "cell_type": "markdown",
   "metadata": {},
   "source": [
    "### d. Random forest"
   ]
  },
  {
   "cell_type": "markdown",
   "metadata": {},
   "source": [
    "In real life forest is a set of trees. The same thing is with machine learning. Random forest is a set of individual decision trees (check the documentation for more details).\n",
    "\n",
    "1. Train a `RandomForestClassifier` using for the baseline model parameters `n_estimators=100`, `max_depth = 25`, `random_state=21`. \n",
    "2. Try different values of `max_depth` and `n_estimators`, calculate the accuracies.\n",
    "3. Draw a plot (`barh`) for the baseline model with top-10 most important features (absolute value) for the trained model using the written function."
   ]
  },
  {
   "cell_type": "code",
   "execution_count": 464,
   "metadata": {},
   "outputs": [
    {
     "name": "stdout",
     "output_type": "stream",
     "text": [
      "Random Forest baseline: 1.0000\n"
     ]
    }
   ],
   "source": [
    "# Базовая модель\n",
    "rf_base = RandomForestClassifier(n_estimators=100, max_depth=25, random_state=21)\n",
    "rf_base.fit(X_processed, y)\n",
    "rf_pred = rf_base.predict(X_processed)\n",
    "rf_accuracy = accuracy_score(y, rf_pred)\n",
    "print(f\"Random Forest baseline: {rf_accuracy:.4f}\")"
   ]
  },
  {
   "cell_type": "code",
   "execution_count": 465,
   "metadata": {},
   "outputs": [
    {
     "name": "stdout",
     "output_type": "stream",
     "text": [
      "Подбор параметров Random Forest:\n",
      "n_estimators=50, max_depth=15: 0.9786\n",
      "n_estimators=50, max_depth=20: 0.9970\n",
      "n_estimators=50, max_depth=25: 1.0000\n",
      "n_estimators=50, max_depth=30: 1.0000\n",
      "n_estimators=100, max_depth=15: 0.9781\n",
      "n_estimators=100, max_depth=20: 0.9964\n",
      "n_estimators=100, max_depth=25: 1.0000\n",
      "n_estimators=100, max_depth=30: 1.0000\n",
      "n_estimators=200, max_depth=15: 0.9792\n",
      "n_estimators=200, max_depth=20: 0.9964\n",
      "n_estimators=200, max_depth=25: 1.0000\n",
      "n_estimators=200, max_depth=30: 1.0000\n",
      "\n",
      "Лучшие параметры: {'n_estimators': 50, 'max_depth': 25} с accuracy: 1.0000\n"
     ]
    }
   ],
   "source": [
    "# Пробуем разные параметры\n",
    "n_estimators_list = [50, 100, 200]\n",
    "max_depths = [15, 20, 25, 30]\n",
    "\n",
    "print(\"Подбор параметров Random Forest:\")\n",
    "best_params = {}\n",
    "best_score = 0\n",
    "\n",
    "for n_est in n_estimators_list:\n",
    "    for depth in max_depths:\n",
    "        rf = RandomForestClassifier(n_estimators=n_est, max_depth=depth, random_state=21)\n",
    "        rf.fit(X_processed, y)\n",
    "        rf_pred = rf.predict(X_processed)\n",
    "        rf_acc = accuracy_score(y, rf_pred)\n",
    "        print(f\"n_estimators={n_est}, max_depth={depth}: {rf_acc:.4f}\")\n",
    "        \n",
    "        if rf_acc > best_score:\n",
    "            best_score = rf_acc\n",
    "            best_params = {'n_estimators': n_est, 'max_depth': depth}\n",
    "\n",
    "print(f\"\\nЛучшие параметры: {best_params} с accuracy: {best_score:.4f}\")"
   ]
  },
  {
   "cell_type": "code",
   "execution_count": 466,
   "metadata": {},
   "outputs": [
    {
     "data": {
      "image/png": "[encoded data removed]",
      "text/plain": [
       "<Figure size 1000x600 with 1 Axes>"
      ]
     },
     "metadata": {},
     "output_type": "display_data"
    }
   ],
   "source": [
    "# Важность признаков у Random Forest есть встроенная\n",
    "rf_importance = rf_base.feature_importances_\n",
    "plot_feature_importance(rf_importance, feature_names, title=\"Random Forest - Top 10 Features\")"
   ]
  },
  {
   "cell_type": "markdown",
   "metadata": {},
   "source": [
    "```\n",
    "Ключевые параметры:\n",
    "🌳 n_estimators - количество деревьев\n",
    "\n",
    "Больше деревьев = обычно лучше качество, но медленнее\n",
    "Стандарт: 100-200 для начала\n",
    "Принцип: \"Один дурак может ошибиться, сто дураков дают мудрый ответ\"\n",
    "\n",
    "📏 max_depth - глубина каждого дерева\n",
    "\n",
    "Мелкие деревья (1-3) = недообучение\n",
    "Глубокие деревья (None) = переобучение\n",
    "Золотая середина: 10-25\n",
    "\n",
    "🎲 max_features - признаки для разбиения\n",
    "\n",
    "'sqrt' = √(кол-во признаков) ← стандарт для классификации\n",
    "Меньше признаков = больше разнообразия между деревьями\n",
    "Все признаки = деревья становятся похожими\n",
    "```"
   ]
  }
 ],
 "metadata": {
  "kernelspec": {
   "display_name": "marquiem",
   "language": "python",
   "name": "python3"
  },
  "language_info": {
   "codemirror_mode": {
    "name": "ipython",
    "version": 3
   },
   "file_extension": ".py",
   "mimetype": "text/x-python",
   "name": "python",
   "nbconvert_exporter": "python",
   "pygments_lexer": "ipython3",
   "version": "3.13.2"
  }
 },
 "nbformat": 4,
 "nbformat_minor": 4
}
