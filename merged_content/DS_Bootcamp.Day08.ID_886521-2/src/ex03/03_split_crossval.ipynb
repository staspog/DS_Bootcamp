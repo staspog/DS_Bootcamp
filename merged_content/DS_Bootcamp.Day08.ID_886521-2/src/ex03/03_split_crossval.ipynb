{
 "cells": [
  {
   "cell_type": "markdown",
   "metadata": {},
   "source": [
    "# Day 08. Exercise 03\n",
    "# Overfitting"
   ]
  },
  {
   "cell_type": "markdown",
   "metadata": {},
   "source": [
    "## 0. Imports"
   ]
  },
  {
   "cell_type": "code",
   "execution_count": 284,
   "metadata": {},
   "outputs": [],
   "source": [
    "import pandas as pd\n",
    "import numpy as np\n",
    "import matplotlib.pyplot as plt\n",
    "from sklearn.model_selection import train_test_split, cross_val_score\n",
    "from sklearn.linear_model import LogisticRegression\n",
    "from sklearn.svm import SVC\n",
    "from sklearn.tree import DecisionTreeClassifier\n",
    "from sklearn.ensemble import RandomForestClassifier\n",
    "from sklearn.multiclass import OneVsRestClassifier\n",
    "from sklearn.metrics import accuracy_score\n",
    "import joblib"
   ]
  },
  {
   "cell_type": "code",
   "execution_count": 285,
   "metadata": {},
   "outputs": [],
   "source": [
    "def plot_feature_importance(importances, feature_names, top_n=10, title=\"Feature Importance\"):\n",
    "    \"\"\"Рисует горизонтальную барную диаграмму важности признаков\"\"\"\n",
    "    indices = np.argsort(np.abs(importances))[-top_n:]\n",
    "    \n",
    "    plt.figure(figsize=(10, 6))\n",
    "    plt.barh(range(len(indices)), np.abs(importances[indices]))\n",
    "    plt.yticks(range(len(indices)), [feature_names[i] for i in indices])\n",
    "    plt.xlabel('Важность признака')\n",
    "    plt.title(title)\n",
    "    plt.tight_layout()\n",
    "    plt.show()"
   ]
  },
  {
   "cell_type": "markdown",
   "metadata": {},
   "source": [
    "## 1. Preprocessing"
   ]
  },
  {
   "cell_type": "markdown",
   "metadata": {},
   "source": [
    "1. Read the file `dayofweek.csv` to a dataframe.\n",
    "2. Using `train_test_split` with parameters `test_size=0.2`, `random_state=21` get `X_train`, `y_train`, `X_test`, `y_test`.\n",
    "3. Using, for example, `value_counts()` to check if the distribution of classes is similar in train and test.\n",
    "4. Use the additional parameter `stratify=` and check the distribution again, now it should be more or less similar in both datasets."
   ]
  },
  {
   "cell_type": "code",
   "execution_count": 286,
   "metadata": {},
   "outputs": [
    {
     "name": "stdout",
     "output_type": "stream",
     "text": [
      "Загружены данные: (1686, 44)\n"
     ]
    },
    {
     "data": {
      "text/html": [
       "<div>\n",
       "<style scoped>\n",
       "    .dataframe tbody tr th:only-of-type {\n",
       "        vertical-align: middle;\n",
       "    }\n",
       "\n",
       "    .dataframe tbody tr th {\n",
       "        vertical-align: top;\n",
       "    }\n",
       "\n",
       "    .dataframe thead th {\n",
       "        text-align: right;\n",
       "    }\n",
       "</style>\n",
       "<table border=\"1\" class=\"dataframe\">\n",
       "  <thead>\n",
       "    <tr style=\"text-align: right;\">\n",
       "      <th></th>\n",
       "      <th>numTrials</th>\n",
       "      <th>hour</th>\n",
       "      <th>uid_user_0</th>\n",
       "      <th>uid_user_1</th>\n",
       "      <th>uid_user_10</th>\n",
       "      <th>uid_user_11</th>\n",
       "      <th>uid_user_12</th>\n",
       "      <th>uid_user_13</th>\n",
       "      <th>uid_user_14</th>\n",
       "      <th>uid_user_15</th>\n",
       "      <th>...</th>\n",
       "      <th>labname_lab03</th>\n",
       "      <th>labname_lab03s</th>\n",
       "      <th>labname_lab05s</th>\n",
       "      <th>labname_laba04</th>\n",
       "      <th>labname_laba04s</th>\n",
       "      <th>labname_laba05</th>\n",
       "      <th>labname_laba06</th>\n",
       "      <th>labname_laba06s</th>\n",
       "      <th>labname_project1</th>\n",
       "      <th>dayofweek</th>\n",
       "    </tr>\n",
       "  </thead>\n",
       "  <tbody>\n",
       "    <tr>\n",
       "      <th>0</th>\n",
       "      <td>-0.788667</td>\n",
       "      <td>-2.562352</td>\n",
       "      <td>0.0</td>\n",
       "      <td>0.0</td>\n",
       "      <td>0.0</td>\n",
       "      <td>0.0</td>\n",
       "      <td>0.0</td>\n",
       "      <td>0.0</td>\n",
       "      <td>0.0</td>\n",
       "      <td>0.0</td>\n",
       "      <td>...</td>\n",
       "      <td>0.0</td>\n",
       "      <td>0.0</td>\n",
       "      <td>0.0</td>\n",
       "      <td>0.0</td>\n",
       "      <td>0.0</td>\n",
       "      <td>0.0</td>\n",
       "      <td>0.0</td>\n",
       "      <td>0.0</td>\n",
       "      <td>1.0</td>\n",
       "      <td>4</td>\n",
       "    </tr>\n",
       "    <tr>\n",
       "      <th>1</th>\n",
       "      <td>-0.756764</td>\n",
       "      <td>-2.562352</td>\n",
       "      <td>0.0</td>\n",
       "      <td>0.0</td>\n",
       "      <td>0.0</td>\n",
       "      <td>0.0</td>\n",
       "      <td>0.0</td>\n",
       "      <td>0.0</td>\n",
       "      <td>0.0</td>\n",
       "      <td>0.0</td>\n",
       "      <td>...</td>\n",
       "      <td>0.0</td>\n",
       "      <td>0.0</td>\n",
       "      <td>0.0</td>\n",
       "      <td>0.0</td>\n",
       "      <td>0.0</td>\n",
       "      <td>0.0</td>\n",
       "      <td>0.0</td>\n",
       "      <td>0.0</td>\n",
       "      <td>1.0</td>\n",
       "      <td>4</td>\n",
       "    </tr>\n",
       "    <tr>\n",
       "      <th>2</th>\n",
       "      <td>-0.724861</td>\n",
       "      <td>-2.562352</td>\n",
       "      <td>0.0</td>\n",
       "      <td>0.0</td>\n",
       "      <td>0.0</td>\n",
       "      <td>0.0</td>\n",
       "      <td>0.0</td>\n",
       "      <td>0.0</td>\n",
       "      <td>0.0</td>\n",
       "      <td>0.0</td>\n",
       "      <td>...</td>\n",
       "      <td>0.0</td>\n",
       "      <td>0.0</td>\n",
       "      <td>0.0</td>\n",
       "      <td>0.0</td>\n",
       "      <td>0.0</td>\n",
       "      <td>0.0</td>\n",
       "      <td>0.0</td>\n",
       "      <td>0.0</td>\n",
       "      <td>1.0</td>\n",
       "      <td>4</td>\n",
       "    </tr>\n",
       "    <tr>\n",
       "      <th>3</th>\n",
       "      <td>-0.692958</td>\n",
       "      <td>-2.562352</td>\n",
       "      <td>0.0</td>\n",
       "      <td>0.0</td>\n",
       "      <td>0.0</td>\n",
       "      <td>0.0</td>\n",
       "      <td>0.0</td>\n",
       "      <td>0.0</td>\n",
       "      <td>0.0</td>\n",
       "      <td>0.0</td>\n",
       "      <td>...</td>\n",
       "      <td>0.0</td>\n",
       "      <td>0.0</td>\n",
       "      <td>0.0</td>\n",
       "      <td>0.0</td>\n",
       "      <td>0.0</td>\n",
       "      <td>0.0</td>\n",
       "      <td>0.0</td>\n",
       "      <td>0.0</td>\n",
       "      <td>1.0</td>\n",
       "      <td>4</td>\n",
       "    </tr>\n",
       "    <tr>\n",
       "      <th>4</th>\n",
       "      <td>-0.661055</td>\n",
       "      <td>-2.562352</td>\n",
       "      <td>0.0</td>\n",
       "      <td>0.0</td>\n",
       "      <td>0.0</td>\n",
       "      <td>0.0</td>\n",
       "      <td>0.0</td>\n",
       "      <td>0.0</td>\n",
       "      <td>0.0</td>\n",
       "      <td>0.0</td>\n",
       "      <td>...</td>\n",
       "      <td>0.0</td>\n",
       "      <td>0.0</td>\n",
       "      <td>0.0</td>\n",
       "      <td>0.0</td>\n",
       "      <td>0.0</td>\n",
       "      <td>0.0</td>\n",
       "      <td>0.0</td>\n",
       "      <td>0.0</td>\n",
       "      <td>1.0</td>\n",
       "      <td>4</td>\n",
       "    </tr>\n",
       "  </tbody>\n",
       "</table>\n",
       "<p>5 rows × 44 columns</p>\n",
       "</div>"
      ],
      "text/plain": [
       "   numTrials      hour  uid_user_0  uid_user_1  uid_user_10  uid_user_11  \\\n",
       "0  -0.788667 -2.562352         0.0         0.0          0.0          0.0   \n",
       "1  -0.756764 -2.562352         0.0         0.0          0.0          0.0   \n",
       "2  -0.724861 -2.562352         0.0         0.0          0.0          0.0   \n",
       "3  -0.692958 -2.562352         0.0         0.0          0.0          0.0   \n",
       "4  -0.661055 -2.562352         0.0         0.0          0.0          0.0   \n",
       "\n",
       "   uid_user_12  uid_user_13  uid_user_14  uid_user_15  ...  labname_lab03  \\\n",
       "0          0.0          0.0          0.0          0.0  ...            0.0   \n",
       "1          0.0          0.0          0.0          0.0  ...            0.0   \n",
       "2          0.0          0.0          0.0          0.0  ...            0.0   \n",
       "3          0.0          0.0          0.0          0.0  ...            0.0   \n",
       "4          0.0          0.0          0.0          0.0  ...            0.0   \n",
       "\n",
       "   labname_lab03s  labname_lab05s  labname_laba04  labname_laba04s  \\\n",
       "0             0.0             0.0             0.0              0.0   \n",
       "1             0.0             0.0             0.0              0.0   \n",
       "2             0.0             0.0             0.0              0.0   \n",
       "3             0.0             0.0             0.0              0.0   \n",
       "4             0.0             0.0             0.0              0.0   \n",
       "\n",
       "   labname_laba05  labname_laba06  labname_laba06s  labname_project1  \\\n",
       "0             0.0             0.0              0.0               1.0   \n",
       "1             0.0             0.0              0.0               1.0   \n",
       "2             0.0             0.0              0.0               1.0   \n",
       "3             0.0             0.0              0.0               1.0   \n",
       "4             0.0             0.0              0.0               1.0   \n",
       "\n",
       "   dayofweek  \n",
       "0          4  \n",
       "1          4  \n",
       "2          4  \n",
       "3          4  \n",
       "4          4  \n",
       "\n",
       "[5 rows x 44 columns]"
      ]
     },
     "execution_count": 286,
     "metadata": {},
     "output_type": "execute_result"
    }
   ],
   "source": [
    "# Загружаем обработанные данные из предыдущего упражнения\n",
    "df = pd.read_csv('../ex02/data/dayofweek.csv')\n",
    "print(f\"Загружены данные: {df.shape}\")\n",
    "df.head()"
   ]
  },
  {
   "cell_type": "code",
   "execution_count": 287,
   "metadata": {},
   "outputs": [
    {
     "name": "stdout",
     "output_type": "stream",
     "text": [
      "Признаки: 43\n",
      "Наблюдения: 1686\n"
     ]
    }
   ],
   "source": [
    "# Подготавливаем X и y\n",
    "X = df.drop('dayofweek', axis=1)\n",
    "y = df['dayofweek']\n",
    "feature_names = X.columns.tolist()\n",
    "\n",
    "print(f\"Признаки: {X.shape[1]}\")\n",
    "print(f\"Наблюдения: {X.shape[0]}\")"
   ]
  },
  {
   "cell_type": "code",
   "execution_count": 288,
   "metadata": {},
   "outputs": [
    {
     "name": "stdout",
     "output_type": "stream",
     "text": [
      "📊 Исходное распределение дней недели:\n",
      "Пн (0): 136 (8.1%)\n",
      "Вт (1): 274 (16.3%)\n",
      "Ср (2): 149 (8.8%)\n",
      "Чт (3): 396 (23.5%)\n",
      "Пт (4): 104 (6.2%)\n",
      "Сб (5): 271 (16.1%)\n",
      "Вс (6): 356 (21.1%)\n"
     ]
    }
   ],
   "source": [
    "# Проверяем исходное распределение классов\n",
    "print(\"📊 Исходное распределение дней недели:\")\n",
    "days_names = ['Пн', 'Вт', 'Ср', 'Чт', 'Пт', 'Сб', 'Вс']\n",
    "for day, count in y.value_counts().sort_index().items():\n",
    "    percentage = count / len(y) * 100\n",
    "    print(f\"{days_names[day]} ({day}): {count} ({percentage:.1f}%)\")"
   ]
  },
  {
   "cell_type": "markdown",
   "metadata": {},
   "source": [
    "### ================================================================\n",
    "### РАЗДЕЛЕНИЕ БЕЗ СТРАТИФИКАЦИИ\n",
    "### ================================================================"
   ]
  },
  {
   "cell_type": "code",
   "execution_count": 289,
   "metadata": {},
   "outputs": [
    {
     "name": "stdout",
     "output_type": "stream",
     "text": [
      "🔴 Разделение БЕЗ стратификации:\n",
      "Train set: (1348, 43)\n",
      "Test set: (338, 43)\n",
      "\n",
      "📊 Распределение в TRAIN наборе:\n",
      "Пн: 105 (7.8%)\n",
      "Вт: 222 (16.5%)\n",
      "Ср: 125 (9.3%)\n",
      "Чт: 313 (23.2%)\n",
      "Пт: 80 (5.9%)\n",
      "Сб: 216 (16.0%)\n",
      "Вс: 287 (21.3%)\n",
      "\n",
      "📊 Распределение в TEST наборе:\n",
      "Пн: 31 (9.2%)\n",
      "Вт: 52 (15.4%)\n",
      "Ср: 24 (7.1%)\n",
      "Чт: 83 (24.6%)\n",
      "Пт: 24 (7.1%)\n",
      "Сб: 55 (16.3%)\n",
      "Вс: 69 (20.4%)\n"
     ]
    }
   ],
   "source": [
    "print(\"🔴 Разделение БЕЗ стратификации:\")\n",
    "X_train, X_test, y_train, y_test = train_test_split(\n",
    "    X, y, test_size=0.2, random_state=21\n",
    ")\n",
    "\n",
    "print(f\"Train set: {X_train.shape}\")\n",
    "print(f\"Test set: {X_test.shape}\")\n",
    "\n",
    "print(\"\\n📊 Распределение в TRAIN наборе:\")\n",
    "for day, count in y_train.value_counts().sort_index().items():\n",
    "    percentage = count / len(y_train) * 100\n",
    "    print(f\"{days_names[day]}: {count} ({percentage:.1f}%)\")\n",
    "\n",
    "print(\"\\n📊 Распределение в TEST наборе:\")\n",
    "for day, count in y_test.value_counts().sort_index().items():\n",
    "    percentage = count / len(y_test) * 100\n",
    "    print(f\"{days_names[day]}: {count} ({percentage:.1f}%)\")"
   ]
  },
  {
   "cell_type": "markdown",
   "metadata": {},
   "source": [
    "### ================================================================\n",
    "### РАЗДЕЛЕНИЕ СО СТРАТИФИКАЦИЕЙ\n",
    "### ================================================================"
   ]
  },
  {
   "cell_type": "code",
   "execution_count": 290,
   "metadata": {},
   "outputs": [
    {
     "name": "stdout",
     "output_type": "stream",
     "text": [
      "🟢 Разделение СО стратификацией:\n",
      "Train set: (1348, 43)\n",
      "Test set: (338, 43)\n",
      "\n",
      "📊 Распределение в TRAIN наборе (stratified):\n",
      "Пн: 109 (8.1%)\n",
      "Вт: 219 (16.2%)\n",
      "Ср: 119 (8.8%)\n",
      "Чт: 316 (23.4%)\n",
      "Пт: 83 (6.2%)\n",
      "Сб: 217 (16.1%)\n",
      "Вс: 285 (21.1%)\n",
      "\n",
      "📊 Распределение в TEST наборе (stratified):\n",
      "Пн: 27 (8.0%)\n",
      "Вт: 55 (16.3%)\n",
      "Ср: 30 (8.9%)\n",
      "Чт: 80 (23.7%)\n",
      "Пт: 21 (6.2%)\n",
      "Сб: 54 (16.0%)\n",
      "Вс: 71 (21.0%)\n"
     ]
    }
   ],
   "source": [
    "print(\"🟢 Разделение СО стратификацией:\")\n",
    "X_train, X_test, y_train, y_test = train_test_split(\n",
    "    X, y, test_size=0.2, random_state=21, stratify=y\n",
    ")\n",
    "\n",
    "print(f\"Train set: {X_train.shape}\")\n",
    "print(f\"Test set: {X_test.shape}\")\n",
    "\n",
    "print(\"\\n📊 Распределение в TRAIN наборе (stratified):\")\n",
    "for day, count in y_train.value_counts().sort_index().items():\n",
    "    percentage = count / len(y_train) * 100\n",
    "    print(f\"{days_names[day]}: {count} ({percentage:.1f}%)\")\n",
    "\n",
    "print(\"\\n📊 Распределение в TEST наборе (stratified):\")\n",
    "for day, count in y_test.value_counts().sort_index().items():\n",
    "    percentage = count / len(y_test) * 100\n",
    "    print(f\"{days_names[day]}: {count} ({percentage:.1f}%)\")"
   ]
  },
  {
   "cell_type": "markdown",
   "metadata": {},
   "source": [
    "## 2. Baseline models"
   ]
  },
  {
   "cell_type": "markdown",
   "metadata": {},
   "source": [
    "1. Train exactly the same baseline models from the previous exercise and calculate the accuracies using the test dataset with stratification.\n",
    "2. Did all the models show the similar values of the metric? Which one has the largest difference comparing the current exercise and the previous? Put the answer to the markdown cell in the end of the section."
   ]
  },
  {
   "cell_type": "code",
   "execution_count": 291,
   "metadata": {},
   "outputs": [],
   "source": [
    "# Результаты из предыдущего упражнения для сравнения\n",
    "previous_results = {\n",
    "    \"LogisticRegression\": 0.62158956109134042,\n",
    "    \"SVC_linear\": 0.702846975088968, \n",
    "    \"DecisionTree_4\": 0.5516014234875445,\n",
    "    \"RandomForest_100_25\": 1\n",
    "}\n",
    "\n",
    "current_results = {}"
   ]
  },
  {
   "cell_type": "markdown",
   "metadata": {},
   "source": [
    "### a. Logreg"
   ]
  },
  {
   "cell_type": "code",
   "execution_count": null,
   "metadata": {},
   "outputs": [
    {
     "name": "stdout",
     "output_type": "stream",
     "text": [
      "📈 Train accuracy: 0.6439169139465876\n",
      "📉 Test accuracy:  0.6272189349112426\n",
      "🔍 Разница (переобучение): 0.01669797903534498\n"
     ]
    }
   ],
   "source": [
    "logreg = LogisticRegression(random_state=21, fit_intercept=False, solver='sag')\n",
    "logreg.fit(X_train, y_train)\n",
    "\n",
    "# Предсказания на тестовом наборе\n",
    "logreg_pred = logreg.predict(X_test)\n",
    "logreg_test_accuracy = accuracy_score(y_test, logreg_pred)\n",
    "\n",
    "# Для сравнения - точность на тренировочном наборе (переобучение)\n",
    "logreg_train_pred = logreg.predict(X_train)\n",
    "logreg_train_accuracy = accuracy_score(y_train, logreg_train_pred)\n",
    "                                       \n",
    "current_results[\"LogisticRegression\"] = logreg_test_accuracy\n",
    "\n",
    "print(f\"📈 Train accuracy: {logreg_train_accuracy}\")\n",
    "print(f\"📉 Test accuracy:  {logreg_test_accuracy}\")\n",
    "print(f\"🔍 Разница (переобучение): {logreg_train_accuracy - logreg_test_accuracy}\")\n"
   ]
  },
  {
   "cell_type": "markdown",
   "metadata": {},
   "source": [
    "### b. SVM"
   ]
  },
  {
   "cell_type": "code",
   "execution_count": null,
   "metadata": {},
   "outputs": [
    {
     "name": "stdout",
     "output_type": "stream",
     "text": [
      "📈 Train accuracy: 0.6891691394658753\n",
      "📉 Test accuracy:  0.7159763313609467\n",
      "🔍 Разница (переобучение): -0.026807191895071414\n"
     ]
    }
   ],
   "source": [
    "svm = SVC(kernel='linear', random_state=21) \n",
    "svm.fit(X_train, y_train)\n",
    "\n",
    "svm_pred = svm.predict(X_test)\n",
    "svm_test_accuracy = accuracy_score(y_test, svm_pred)\n",
    "\n",
    "svm_train_pred = svm.predict(X_train)\n",
    "svm_train_accuracy = accuracy_score(y_train, svm_train_pred)\n",
    "\n",
    "current_results[\"SVC_linear\"] = svm_test_accuracy\n",
    "\n",
    "print(f\"📈 Train accuracy: {svm_train_accuracy}\")\n",
    "print(f\"📉 Test accuracy:  {svm_test_accuracy}\")\n",
    "print(f\"🔍 Разница (переобучение): {svm_train_accuracy - svm_test_accuracy}\")\n"
   ]
  },
  {
   "cell_type": "markdown",
   "metadata": {},
   "source": [
    "### c. Decision tree"
   ]
  },
  {
   "cell_type": "code",
   "execution_count": 296,
   "metadata": {},
   "outputs": [
    {
     "name": "stdout",
     "output_type": "stream",
     "text": [
      "📈 Train accuracy: 0.5326409495548962\n",
      "📉 Test accuracy:  0.5295857988165681\n",
      "🔍 Разница (переобучение): 0.003055150738328072\n"
     ]
    }
   ],
   "source": [
    "tree = DecisionTreeClassifier(max_depth=4, random_state=21)\n",
    "tree.fit(X_train, y_train)\n",
    "\n",
    "tree_pred = tree.predict(X_test)\n",
    "tree_test_accuracy = accuracy_score(y_test, tree_pred)\n",
    "\n",
    "tree_train_pred = tree.predict(X_train)\n",
    "tree_train_accuracy = accuracy_score(y_train, tree_train_pred)\n",
    "\n",
    "current_results[\"DecisionTree_4\"] = tree_test_accuracy\n",
    "\n",
    "print(f\"📈 Train accuracy: {tree_train_accuracy}\")\n",
    "print(f\"📉 Test accuracy:  {tree_test_accuracy}\")\n",
    "print(f\"🔍 Разница (переобучение): {tree_train_accuracy - tree_test_accuracy}\")\n"
   ]
  },
  {
   "cell_type": "markdown",
   "metadata": {},
   "source": [
    "### d. Random forest"
   ]
  },
  {
   "cell_type": "code",
   "execution_count": 297,
   "metadata": {},
   "outputs": [
    {
     "name": "stdout",
     "output_type": "stream",
     "text": [
      "📈 Train accuracy: 1.0\n",
      "📉 Test accuracy:  0.9289940828402367\n",
      "🔍 Разница (переобучение): 0.07100591715976334\n"
     ]
    }
   ],
   "source": [
    "rf = RandomForestClassifier(n_estimators=100, max_depth=25, random_state=21)\n",
    "rf.fit(X_train, y_train)\n",
    "\n",
    "rf_pred = rf.predict(X_test)\n",
    "rf_test_accuracy = accuracy_score(y_test, rf_pred)\n",
    "\n",
    "rf_train_pred = rf.predict(X_train)\n",
    "rf_train_accuracy = accuracy_score(y_train, rf_train_pred)\n",
    "\n",
    "current_results[\"RandomForest_100_25\"] = rf_test_accuracy\n",
    "\n",
    "print(f\"📈 Train accuracy: {rf_train_accuracy}\")\n",
    "print(f\"📉 Test accuracy:  {rf_test_accuracy}\")\n",
    "print(f\"🔍 Разница (переобучение): {rf_train_accuracy - rf_test_accuracy}\")\n"
   ]
  },
  {
   "cell_type": "code",
   "execution_count": 298,
   "metadata": {},
   "outputs": [
    {
     "name": "stdout",
     "output_type": "stream",
     "text": [
      "📊 СРАВНЕНИЕ: Ex02 vs Ex03 (честное тестирование)\n",
      "==================================================\n",
      "⚠️ В Ex02 мы тестировали на тех же данных, что обучали!\n",
      "✅ В Ex03 тестируем на отдельных данных\n",
      "\n",
      "Модель\t\t\tEx03 Test Accuracy\tEx02 Train Accuracy\tDiff\n",
      "----------------------------------------------------------------------------------------------------\n",
      "LogisticRegression  \t0.6272189349112426\t0.6215895610913404\t0.005629373819902139\n",
      "SVC_linear          \t0.7159763313609467\t0.702846975088968\t0.013129356271978754\n",
      "DecisionTree_4      \t0.5295857988165681\t0.5516014234875445\t-0.022015624670976397\n",
      "RandomForest_100_25 \t0.9289940828402367\t1\t\t\t-0.07100591715976334\n"
     ]
    }
   ],
   "source": [
    "print(\"📊 СРАВНЕНИЕ: Ex02 vs Ex03 (честное тестирование)\")\n",
    "print(\"=\"*50)\n",
    "print(\"⚠️ В Ex02 мы тестировали на тех же данных, что обучали!\")\n",
    "print(\"✅ В Ex03 тестируем на отдельных данных\")\n",
    "print(\"\\nМодель\\t\\t\\tEx03 Test Accuracy\\tEx02 Train Accuracy\\tDiff\")\n",
    "print(\"-\"*100)\n",
    "for model, accuracy in current_results.items():\n",
    "    print(f\"{model:<20}\\t{accuracy}\\t{previous_results[model]}\\t{'\\t\\t' if model=='RandomForest_100_25' else ''}{accuracy-previous_results[model]}\")\n",
    "\n"
   ]
  },
  {
   "cell_type": "markdown",
   "metadata": {},
   "source": [
    "## Вопрос 1: Which one has the largest difference comparing the current exercise and the previous? \n",
    "### Ответ: Random forest"
   ]
  },
  {
   "cell_type": "markdown",
   "metadata": {},
   "source": [
    "## 3. Crossvalidation"
   ]
  },
  {
   "cell_type": "markdown",
   "metadata": {},
   "source": [
    "We could play with parameters of the model trying to achive a better accuracy on the test dataset, but it is a bad practice. It leads us again to overfitting. Test dataset is only for checking quality of a final model.\n",
    "\n",
    "But there is another way of solving the problem – crossvalidation. It does not use test dataset, but creates one more split of train dataset. Again, there are different ways of doing it, but the common thing is that there is a validation dataset that is used for hyperparameters optimization."
   ]
  },
  {
   "cell_type": "markdown",
   "metadata": {},
   "source": [
    "1. Using `cross_val_score` with `cv=10` calculate the mean accuracy and standard deviation for every model that you used before (logreg with `solver='liblinear'`, SVC, decision tree, random forest)."
   ]
  },
  {
   "cell_type": "markdown",
   "metadata": {},
   "source": [
    "```Кросс-валидация - это техника для более надёжной оценки качества модели. Проблема обычного train/test split в том, что результат может зависеть от того, как \"повезло\" с разбиением данных.```\n",
    "\n",
    "Здесь в кв:\n",
    "- Каждое наблюдение используется для тестирования ровно 1 раз\n",
    "- Каждое наблюдение используется для обучения 9 раз\n",
    "- Получаем 10 независимых оценок качества"
   ]
  },
  {
   "cell_type": "markdown",
   "metadata": {},
   "source": [
    "### a. Logreg"
   ]
  },
  {
   "cell_type": "code",
   "execution_count": 299,
   "metadata": {},
   "outputs": [
    {
     "name": "stdout",
     "output_type": "stream",
     "text": [
      "📊 CV Scores: [0.56296296 0.61481481 0.59259259 0.60740741 0.55555556 0.57777778\n",
      " 0.61481481 0.53333333 0.58208955 0.57462687]\n",
      "📈 Mean CV Accuracy: 0.5816\n",
      "📏 Std CV Accuracy:  0.0253\n",
      "🎯 95% Confidence Interval: [0.5310, 0.6322]\n"
     ]
    }
   ],
   "source": [
    "logreg_cv = LogisticRegression(random_state=21, fit_intercept=False, solver='liblinear')\n",
    "logreg_scores = cross_val_score(logreg_cv, X_train, y_train, cv=10, scoring='accuracy')\n",
    "\n",
    "print(f\"📊 CV Scores: {logreg_scores}\")\n",
    "print(f\"📈 Mean CV Accuracy: {logreg_scores.mean():.4f}\")\n",
    "print(f\"📏 Std CV Accuracy:  {logreg_scores.std():.4f}\")\n",
    "print(f\"🎯 95% Confidence Interval: [{logreg_scores.mean() - 2*logreg_scores.std():.4f}, {logreg_scores.mean() + 2*logreg_scores.std():.4f}]\")\n"
   ]
  },
  {
   "cell_type": "markdown",
   "metadata": {},
   "source": [
    "Анализ:\n",
    "\n",
    "🟡 Средняя производительность - чуть лучше случайного выбора\n",
    "\n",
    "✅ Стабильная - низкое стандартное отклонение (2.53%)\n",
    "\n",
    "📊 Разброс от 53.3% до 61.5% - не очень впечатляет"
   ]
  },
  {
   "cell_type": "markdown",
   "metadata": {},
   "source": [
    "### b. SVM"
   ]
  },
  {
   "cell_type": "code",
   "execution_count": 300,
   "metadata": {},
   "outputs": [
    {
     "name": "stdout",
     "output_type": "stream",
     "text": [
      "📊 CV Scores: [0.65925926 0.75555556 0.62222222 0.65185185 0.65185185 0.64444444\n",
      " 0.72592593 0.62222222 0.61940299 0.63432836]\n",
      "📈 Mean CV Accuracy: 0.6587\n",
      "📏 Std CV Accuracy:  0.0436\n",
      "🎯 95% Confidence Interval: [0.5715, 0.7459]\n"
     ]
    }
   ],
   "source": [
    "svm_cv = SVC(kernel='linear', random_state=21)\n",
    "svm_scores = cross_val_score(svm_cv, X_train, y_train, cv=10, scoring='accuracy')\n",
    "\n",
    "print(f\"📊 CV Scores: {svm_scores}\")\n",
    "print(f\"📈 Mean CV Accuracy: {svm_scores.mean():.4f}\")\n",
    "print(f\"📏 Std CV Accuracy:  {svm_scores.std():.4f}\")\n",
    "print(f\"🎯 95% Confidence Interval: [{svm_scores.mean() - 2*svm_scores.std():.4f}, {svm_scores.mean() + 2*svm_scores.std():.4f}]\")\n"
   ]
  },
  {
   "cell_type": "markdown",
   "metadata": {},
   "source": [
    "Анализ:\n",
    "\n",
    "🟢 Хорошая производительность - заметно лучше LogReg\n",
    "\n",
    "⚠️ Менее стабильная - более высокое std (4.36%)\n",
    "\n",
    "📊 Большой разброс: от 61.9% до 75.6%\n",
    "\n",
    "🎯 Есть фолды где работает очень хорошо (75.6%), есть где хуже"
   ]
  },
  {
   "cell_type": "markdown",
   "metadata": {},
   "source": [
    "### c. Decision tree"
   ]
  },
  {
   "cell_type": "code",
   "execution_count": 301,
   "metadata": {},
   "outputs": [
    {
     "name": "stdout",
     "output_type": "stream",
     "text": [
      "📊 CV Scores: [0.48148148 0.52592593 0.47407407 0.52592593 0.57037037 0.51111111\n",
      " 0.5037037  0.48888889 0.54477612 0.46268657]\n",
      "📈 Mean CV Accuracy: 0.5089\n",
      "📏 Std CV Accuracy:  0.0319\n",
      "🎯 95% Confidence Interval: [0.4451, 0.5727]\n"
     ]
    }
   ],
   "source": [
    "tree_cv = DecisionTreeClassifier(max_depth=4, random_state=21)\n",
    "tree_scores = cross_val_score(tree_cv, X_train, y_train, cv=10, scoring='accuracy')\n",
    "\n",
    "print(f\"📊 CV Scores: {tree_scores}\")\n",
    "print(f\"📈 Mean CV Accuracy: {tree_scores.mean():.4f}\")\n",
    "print(f\"📏 Std CV Accuracy:  {tree_scores.std():.4f}\")\n",
    "print(f\"🎯 95% Confidence Interval: [{tree_scores.mean() - 2*tree_scores.std():.4f}, {tree_scores.mean() + 2*tree_scores.std():.4f}]\")"
   ]
  },
  {
   "cell_type": "markdown",
   "metadata": {},
   "source": [
    "Анализ:\n",
    "\n",
    "🔴 Худшая производительность - практически на уровне случайного выбора\n",
    "\n",
    "✅ Относительно стабильная\n",
    "\n",
    "⚠️ Переобучение - дерево глубины 4 может быть слишком простым\n",
    "\n",
    "📊 Почти все фолды показывают посредственные результаты"
   ]
  },
  {
   "cell_type": "markdown",
   "metadata": {},
   "source": [
    "### d. Random forest"
   ]
  },
  {
   "cell_type": "code",
   "execution_count": 302,
   "metadata": {},
   "outputs": [
    {
     "name": "stdout",
     "output_type": "stream",
     "text": [
      "📊 CV Scores: [0.9037037  0.96296296 0.8962963  0.94074074 0.91851852 0.8962963\n",
      " 0.92592593 0.8962963  0.93283582 0.90298507]\n",
      "📈 Mean CV Accuracy: 0.9177\n",
      "📏 Std CV Accuracy:  0.0216\n",
      "🎯 95% Confidence Interval: [0.8745, 0.9608]\n"
     ]
    }
   ],
   "source": [
    "rf_cv = RandomForestClassifier(n_estimators=100, max_depth=25, random_state=21)\n",
    "rf_scores = cross_val_score(rf_cv, X_train, y_train, cv=10, scoring='accuracy')\n",
    "\n",
    "print(f\"📊 CV Scores: {rf_scores}\")\n",
    "print(f\"📈 Mean CV Accuracy: {rf_scores.mean():.4f}\")\n",
    "print(f\"📏 Std CV Accuracy:  {rf_scores.std():.4f}\")\n",
    "print(f\"🎯 95% Confidence Interval: [{rf_scores.mean() - 2*rf_scores.std():.4f}, {rf_scores.mean() + 2*rf_scores.std():.4f}]\")"
   ]
  },
  {
   "cell_type": "markdown",
   "metadata": {},
   "source": [
    "Анализ:\n",
    "\n",
    "🏆 ОТЛИЧНАЯ производительность - 91.77%!\n",
    "\n",
    "⭐ ОЧЕНЬ стабильная - самое низкое std (2.16%)\n",
    "\n",
    "🎯 Все фолды хорошие - даже худший результат 89.6%\n",
    "\n",
    "✅ Узкий доверительный интервал - высокая надёжность"
   ]
  },
  {
   "cell_type": "markdown",
   "metadata": {},
   "source": [
    "## Вопрос 2: \n",
    "### Ответ: c"
   ]
  },
  {
   "cell_type": "markdown",
   "metadata": {},
   "source": [
    "## 4. Optimization"
   ]
  },
  {
   "cell_type": "markdown",
   "metadata": {},
   "source": [
    "1. Choose the best model and play a little bit with the parameters on cross-validation, find a good enough parameter or a combination of the parameters.\n",
    "2. Calculate the accuracy for the final model on the test dataset.\n",
    "3. Draw a plot that displays the top-10 most  important features for that model.\n",
    "4. Save the model using `joblib`.\n",
    "5. Load the model, make predictions for the test dataset and calculate the accuracy."
   ]
  },
  {
   "cell_type": "markdown",
   "metadata": {},
   "source": [
    "## Оптимизируем RandomForestClassifier (лучшая финальная модель)"
   ]
  },
  {
   "cell_type": "code",
   "execution_count": 303,
   "metadata": {},
   "outputs": [
    {
     "name": "stdout",
     "output_type": "stream",
     "text": [
      "🔍 Поиск лучших параметров...\n",
      "n_est=50, depth=10, features=sqrt: 0.8026\n",
      "n_est=50, depth=10, features=log2: 0.8138\n",
      "n_est=50, depth=10, features=None: 0.8093\n",
      "n_est=50, depth=15, features=sqrt: 0.8783\n",
      "n_est=50, depth=15, features=log2: 0.8783\n",
      "n_est=50, depth=15, features=None: 0.8731\n",
      "n_est=50, depth=20, features=sqrt: 0.8917\n",
      "n_est=50, depth=20, features=log2: 0.8984\n",
      "n_est=50, depth=20, features=None: 0.8939\n",
      "n_est=50, depth=25, features=sqrt: 0.8984\n",
      "n_est=50, depth=25, features=log2: 0.8969\n",
      "n_est=50, depth=25, features=None: 0.8954\n",
      "n_est=50, depth=30, features=sqrt: 0.8998\n",
      "n_est=50, depth=30, features=log2: 0.9021\n",
      "n_est=50, depth=30, features=None: 0.8954\n",
      "n_est=100, depth=10, features=sqrt: 0.8093\n",
      "n_est=100, depth=10, features=log2: 0.8123\n",
      "n_est=100, depth=10, features=None: 0.8130\n",
      "n_est=100, depth=15, features=sqrt: 0.8783\n",
      "n_est=100, depth=15, features=log2: 0.8768\n",
      "n_est=100, depth=15, features=None: 0.8798\n",
      "n_est=100, depth=20, features=sqrt: 0.8954\n",
      "n_est=100, depth=20, features=log2: 0.8946\n",
      "n_est=100, depth=20, features=None: 0.8954\n",
      "n_est=100, depth=25, features=sqrt: 0.8984\n",
      "n_est=100, depth=25, features=log2: 0.8969\n",
      "n_est=100, depth=25, features=None: 0.8939\n",
      "n_est=100, depth=30, features=sqrt: 0.9013\n",
      "n_est=100, depth=30, features=log2: 0.8976\n",
      "n_est=100, depth=30, features=None: 0.8932\n",
      "n_est=200, depth=10, features=sqrt: 0.8116\n",
      "n_est=200, depth=10, features=log2: 0.8093\n",
      "n_est=200, depth=10, features=None: 0.8138\n",
      "n_est=200, depth=15, features=sqrt: 0.8835\n",
      "n_est=200, depth=15, features=log2: 0.8835\n",
      "n_est=200, depth=15, features=None: 0.8798\n",
      "n_est=200, depth=20, features=sqrt: 0.8939\n",
      "n_est=200, depth=20, features=log2: 0.8954\n",
      "n_est=200, depth=20, features=None: 0.8969\n",
      "n_est=200, depth=25, features=sqrt: 0.9028\n",
      "n_est=200, depth=25, features=log2: 0.8954\n",
      "n_est=200, depth=25, features=None: 0.8954\n",
      "n_est=200, depth=30, features=sqrt: 0.9021\n",
      "n_est=200, depth=30, features=log2: 0.9006\n",
      "n_est=200, depth=30, features=None: 0.8932\n",
      "\n",
      "🎯 Лучшие параметры: {'n_estimators': 200, 'max_depth': 25, 'max_features': 'sqrt'}\n",
      "🏆 Лучший CV score: 0.9028\n"
     ]
    }
   ],
   "source": [
    "# Подбор параметров через кросс-валидацию\n",
    "best_score = 0\n",
    "best_params = {}\n",
    "\n",
    "param_grid = {\n",
    "    'n_estimators': [50, 100, 200],\n",
    "    'max_depth': [10, 15, 20, 25, 30],\n",
    "    'max_features': ['sqrt', 'log2', None]\n",
    "}\n",
    "\n",
    "print(\"🔍 Поиск лучших параметров...\")\n",
    "for n_est in param_grid['n_estimators']:\n",
    "    for depth in param_grid['max_depth']:\n",
    "        for features in param_grid['max_features']:\n",
    "            rf_temp = RandomForestClassifier(\n",
    "                n_estimators=n_est, \n",
    "                max_depth=depth, \n",
    "                max_features=features,\n",
    "                random_state=21\n",
    "            )\n",
    "            \n",
    "            scores = cross_val_score(rf_temp, X_train, y_train, cv=5, scoring='accuracy')\n",
    "            mean_score = scores.mean()\n",
    "            \n",
    "            if mean_score > best_score:\n",
    "                best_score = mean_score\n",
    "                best_params = {\n",
    "                    'n_estimators': n_est,\n",
    "                    'max_depth': depth, \n",
    "                    'max_features': features\n",
    "                }\n",
    "                \n",
    "            print(f\"n_est={n_est}, depth={depth}, features={features}: {mean_score:.4f}\")\n",
    "\n",
    "print(f\"\\n🎯 Лучшие параметры: {best_params}\")\n",
    "print(f\"🏆 Лучший CV score: {best_score:.4f}\")"
   ]
  },
  {
   "cell_type": "code",
   "execution_count": null,
   "metadata": {},
   "outputs": [
    {
     "name": "stdout",
     "output_type": "stream",
     "text": [
      "\n",
      "🚀 Обучение финальной модели...\n",
      "✅ Финальная точность на тесте: 0.9320\n"
     ]
    }
   ],
   "source": [
    "print(\"🚀 Обучение финальной модели...\")\n",
    "final_model = RandomForestClassifier(**best_params, random_state=21)\n",
    "final_model.fit(X_train, y_train)\n",
    "\n",
    "# Тестирование финальной модели\n",
    "final_pred = final_model.predict(X_test)\n",
    "final_accuracy = accuracy_score(y_test, final_pred)\n",
    "\n",
    "print(f\"✅ Финальная точность на тесте: {final_accuracy:.4f}\")"
   ]
  },
  {
   "cell_type": "code",
   "execution_count": null,
   "metadata": {},
   "outputs": [
    {
     "data": {
      "image/png": "[encoded data removed]",
      "text/plain": [
       "<Figure size 1000x600 with 1 Axes>"
      ]
     },
     "metadata": {},
     "output_type": "display_data"
    }
   ],
   "source": [
    "feature_importance = final_model.feature_importances_\n",
    "plot_feature_importance(feature_importance, feature_names, \n",
    "                       title=\"Random Forest - Top 10 Features (Финальная модель)\")\n",
    "\n",
    "# # Топ-10 важных признаков\n",
    "# top_features_idx = np.argsort(feature_importance)[-10:]\n",
    "# print(\"\\n🔝 Топ-10 важных признаков:\")\n",
    "# for i, idx in enumerate(reversed(top_features_idx)):\n",
    "#     print(f\"{i+1:2d}. {feature_names[idx]:<30} : {feature_importance[idx]:.4f}\")"
   ]
  },
  {
   "cell_type": "code",
   "execution_count": null,
   "metadata": {},
   "outputs": [
    {
     "name": "stdout",
     "output_type": "stream",
     "text": [
      "\n",
      "💾 Сохранение модели...\n",
      "✅ Модель сохранена: models/best_dayofweek_classifier.joblib\n",
      "\n",
      "📂 Загрузка модели...\n",
      "✅ Точность загруженной модели: 0.9320\n",
      "🔍 Модели идентичны: True\n"
     ]
    }
   ],
   "source": [
    "print(\"💾 Сохранение модели...\")\n",
    "model_filename = 'models/best_dayofweek_classifier.joblib'\n",
    "\n",
    "# Создаём папку если её нет\n",
    "import os\n",
    "os.makedirs('models', exist_ok=True)\n",
    "\n",
    "# Сохраняем модель\n",
    "joblib.dump(final_model, model_filename)\n",
    "print(f\"✅ Модель сохранена: {model_filename}\")\n",
    "\n",
    "# Загружаем модель\n",
    "print(f\"\\n📂 Загрузка модели...\")\n",
    "loaded_model = joblib.load(model_filename)\n",
    "\n",
    "# Проверяем, что загруженная модель работает\n",
    "loaded_pred = loaded_model.predict(X_test)\n",
    "loaded_accuracy = accuracy_score(y_test, loaded_pred)\n",
    "\n",
    "print(f\"✅ Точность загруженной модели: {loaded_accuracy:.4f}\")\n",
    "print(f\"🔍 Модели идентичны: {np.array_equal(final_pred, loaded_pred)}\")"
   ]
  }
 ],
 "metadata": {
  "kernelspec": {
   "display_name": "marquiem",
   "language": "python",
   "name": "python3"
  },
  "language_info": {
   "codemirror_mode": {
    "name": "ipython",
    "version": 3
   },
   "file_extension": ".py",
   "mimetype": "text/x-python",
   "name": "python",
   "nbconvert_exporter": "python",
   "pygments_lexer": "ipython3",
   "version": "3.13.2"
  }
 },
 "nbformat": 4,
 "nbformat_minor": 4
}
