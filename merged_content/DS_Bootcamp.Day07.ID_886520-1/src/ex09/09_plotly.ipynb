{
 "cells": [
  {
   "cell_type": "markdown",
   "id": "15472d80",
   "metadata": {},
   "source": [
    "## EX 09"
   ]
  },
  {
   "cell_type": "code",
   "execution_count": 78,
   "id": "d2bd892a",
   "metadata": {},
   "outputs": [
    {
     "data": {
      "application/vnd.plotly.v1+json": {
       "config": {
        "plotlyServerURL": "https://plot.ly"
       },
       "data": [
        {
         "mode": "lines+markers",
         "name": "user_1",
         "type": "scatter",
         "x": [],
         "y": []
        },
        {
         "mode": "lines+markers",
         "name": "user_10",
         "type": "scatter",
         "x": [],
         "y": []
        },
        {
         "mode": "lines+markers",
         "name": "user_11",
         "type": "scatter",
         "x": [],
         "y": []
        },
        {
         "mode": "lines+markers",
         "name": "user_12",
         "type": "scatter",
         "x": [],
         "y": []
        },
        {
         "mode": "lines+markers",
         "name": "user_13",
         "type": "scatter",
         "x": [],
         "y": []
        },
        {
         "mode": "lines+markers",
         "name": "user_14",
         "type": "scatter",
         "x": [],
         "y": []
        },
        {
         "mode": "lines+markers",
         "name": "user_15",
         "type": "scatter",
         "x": [],
         "y": []
        },
        {
         "mode": "lines+markers",
         "name": "user_16",
         "type": "scatter",
         "x": [],
         "y": []
        },
        {
         "mode": "lines+markers",
         "name": "user_17",
         "type": "scatter",
         "x": [],
         "y": []
        },
        {
         "mode": "lines+markers",
         "name": "user_18",
         "type": "scatter",
         "x": [],
         "y": []
        },
        {
         "mode": "lines+markers",
         "name": "user_19",
         "type": "scatter",
         "x": [],
         "y": []
        },
        {
         "mode": "lines+markers",
         "name": "user_2",
         "type": "scatter",
         "x": [],
         "y": []
        },
        {
         "mode": "lines+markers",
         "name": "user_20",
         "type": "scatter",
         "x": [],
         "y": []
        },
        {
         "mode": "lines+markers",
         "name": "user_21",
         "type": "scatter",
         "x": [],
         "y": []
        },
        {
         "mode": "lines+markers",
         "name": "user_22",
         "type": "scatter",
         "x": [],
         "y": []
        },
        {
         "mode": "lines+markers",
         "name": "user_24",
         "type": "scatter",
         "x": [],
         "y": []
        },
        {
         "mode": "lines+markers",
         "name": "user_25",
         "type": "scatter",
         "x": [],
         "y": []
        },
        {
         "mode": "lines+markers",
         "name": "user_26",
         "type": "scatter",
         "x": [],
         "y": []
        },
        {
         "mode": "lines+markers",
         "name": "user_27",
         "type": "scatter",
         "x": [],
         "y": []
        },
        {
         "mode": "lines+markers",
         "name": "user_28",
         "type": "scatter",
         "x": [],
         "y": []
        },
        {
         "mode": "lines+markers",
         "name": "user_29",
         "type": "scatter",
         "x": [],
         "y": []
        },
        {
         "mode": "lines+markers",
         "name": "user_3",
         "type": "scatter",
         "x": [],
         "y": []
        },
        {
         "mode": "lines+markers",
         "name": "user_30",
         "type": "scatter",
         "x": [],
         "y": []
        },
        {
         "mode": "lines+markers",
         "name": "user_31",
         "type": "scatter",
         "x": [],
         "y": []
        },
        {
         "mode": "lines+markers",
         "name": "user_4",
         "type": "scatter",
         "x": [],
         "y": []
        },
        {
         "mode": "lines+markers",
         "name": "user_6",
         "type": "scatter",
         "x": [],
         "y": []
        },
        {
         "mode": "lines+markers",
         "name": "user_8",
         "type": "scatter",
         "x": [],
         "y": []
        }
       ],
       "frames": [
        {
         "data": [
          {
           "mode": "lines+markers",
           "name": "user_1",
           "type": "scatter",
           "x": {
            "bdata": "AAAAAA==",
            "dtype": "i4"
           },
           "y": {
            "bdata": "AAAAAA==",
            "dtype": "i4"
           }
          },
          {
           "mode": "lines+markers",
           "name": "user_10",
           "type": "scatter",
           "x": {
            "bdata": "AAAAAA==",
            "dtype": "i4"
           },
           "y": {
            "bdata": "AAAAAA==",
            "dtype": "i4"
           }
          },
          {
           "mode": "lines+markers",
           "name": "user_11",
           "type": "scatter",
           "x": {
            "bdata": "AAAAAA==",
            "dtype": "i4"
           },
           "y": {
            "bdata": "AAAAAA==",
            "dtype": "i4"
           }
          },
          {
           "mode": "lines+markers",
           "name": "user_12",
           "type": "scatter",
           "x": {
            "bdata": "AAAAAA==",
            "dtype": "i4"
           },
           "y": {
            "bdata": "AAAAAA==",
            "dtype": "i4"
           }
          },
          {
           "mode": "lines+markers",
           "name": "user_13",
           "type": "scatter",
           "x": {
            "bdata": "AAAAAA==",
            "dtype": "i4"
           },
           "y": {
            "bdata": "AAAAAA==",
            "dtype": "i4"
           }
          },
          {
           "mode": "lines+markers",
           "name": "user_14",
           "type": "scatter",
           "x": {
            "bdata": "AAAAAA==",
            "dtype": "i4"
           },
           "y": {
            "bdata": "AAAAAA==",
            "dtype": "i4"
           }
          },
          {
           "mode": "lines+markers",
           "name": "user_15",
           "type": "scatter",
           "x": {
            "bdata": "AAAAAA==",
            "dtype": "i4"
           },
           "y": {
            "bdata": "AAAAAA==",
            "dtype": "i4"
           }
          },
          {
           "mode": "lines+markers",
           "name": "user_16",
           "type": "scatter",
           "x": {
            "bdata": "AAAAAA==",
            "dtype": "i4"
           },
           "y": {
            "bdata": "AAAAAA==",
            "dtype": "i4"
           }
          },
          {
           "mode": "lines+markers",
           "name": "user_17",
           "type": "scatter",
           "x": {
            "bdata": "AAAAAA==",
            "dtype": "i4"
           },
           "y": {
            "bdata": "AAAAAA==",
            "dtype": "i4"
           }
          },
          {
           "mode": "lines+markers",
           "name": "user_18",
           "type": "scatter",
           "x": {
            "bdata": "AAAAAA==",
            "dtype": "i4"
           },
           "y": {
            "bdata": "AAAAAA==",
            "dtype": "i4"
           }
          },
          {
           "mode": "lines+markers",
           "name": "user_19",
           "type": "scatter",
           "x": {
            "bdata": "AAAAAA==",
            "dtype": "i4"
           },
           "y": {
            "bdata": "AAAAAA==",
            "dtype": "i4"
           }
          },
          {
           "mode": "lines+markers",
           "name": "user_2",
           "type": "scatter",
           "x": {
            "bdata": "AAAAAA==",
            "dtype": "i4"
           },
           "y": {
            "bdata": "AAAAAA==",
            "dtype": "i4"
           }
          },
          {
           "mode": "lines+markers",
           "name": "user_20",
           "type": "scatter",
           "x": {
            "bdata": "AAAAAA==",
            "dtype": "i4"
           },
           "y": {
            "bdata": "AAAAAA==",
            "dtype": "i4"
           }
          },
          {
           "mode": "lines+markers",
           "name": "user_21",
           "type": "scatter",
           "x": {
            "bdata": "AAAAAA==",
            "dtype": "i4"
           },
           "y": {
            "bdata": "AAAAAA==",
            "dtype": "i4"
           }
          },
          {
           "mode": "lines+markers",
           "name": "user_22",
           "type": "scatter",
           "x": {
            "bdata": "AAAAAA==",
            "dtype": "i4"
           },
           "y": {
            "bdata": "AAAAAA==",
            "dtype": "i4"
           }
          },
          {
           "mode": "lines+markers",
           "name": "user_24",
           "type": "scatter",
           "x": {
            "bdata": "AAAAAA==",
            "dtype": "i4"
           },
           "y": {
            "bdata": "AAAAAA==",
            "dtype": "i4"
           }
          },
          {
           "mode": "lines+markers",
           "name": "user_25",
           "type": "scatter",
           "x": {
            "bdata": "AAAAAA==",
            "dtype": "i4"
           },
           "y": {
            "bdata": "AAAAAA==",
            "dtype": "i4"
           }
          },
          {
           "mode": "lines+markers",
           "name": "user_26",
           "type": "scatter",
           "x": {
            "bdata": "AAAAAA==",
            "dtype": "i4"
           },
           "y": {
            "bdata": "AAAAAA==",
            "dtype": "i4"
           }
          },
          {
           "mode": "lines+markers",
           "name": "user_27",
           "type": "scatter",
           "x": {
            "bdata": "AAAAAA==",
            "dtype": "i4"
           },
           "y": {
            "bdata": "AAAAAA==",
            "dtype": "i4"
           }
          },
          {
           "mode": "lines+markers",
           "name": "user_28",
           "type": "scatter",
           "x": {
            "bdata": "AAAAAA==",
            "dtype": "i4"
           },
           "y": {
            "bdata": "AAAAAA==",
            "dtype": "i4"
           }
          },
          {
           "mode": "lines+markers",
           "name": "user_29",
           "type": "scatter",
           "x": {
            "bdata": "AAAAAA==",
            "dtype": "i4"
           },
           "y": {
            "bdata": "AAAAAA==",
            "dtype": "i4"
           }
          },
          {
           "mode": "lines+markers",
           "name": "user_3",
           "type": "scatter",
           "x": {
            "bdata": "AAAAAA==",
            "dtype": "i4"
           },
           "y": {
            "bdata": "AAAAAA==",
            "dtype": "i4"
           }
          },
          {
           "mode": "lines+markers",
           "name": "user_30",
           "type": "scatter",
           "x": {
            "bdata": "AAAAAA==",
            "dtype": "i4"
           },
           "y": {
            "bdata": "AAAAAA==",
            "dtype": "i4"
           }
          },
          {
           "mode": "lines+markers",
           "name": "user_31",
           "type": "scatter",
           "x": {
            "bdata": "AAAAAA==",
            "dtype": "i4"
           },
           "y": {
            "bdata": "AAAAAA==",
            "dtype": "i4"
           }
          },
          {
           "mode": "lines+markers",
           "name": "user_4",
           "type": "scatter",
           "x": {
            "bdata": "AAAAAA==",
            "dtype": "i4"
           },
           "y": {
            "bdata": "BwAAAA==",
            "dtype": "i4"
           }
          },
          {
           "mode": "lines+markers",
           "name": "user_6",
           "type": "scatter",
           "x": {
            "bdata": "AAAAAA==",
            "dtype": "i4"
           },
           "y": {
            "bdata": "AAAAAA==",
            "dtype": "i4"
           }
          },
          {
           "mode": "lines+markers",
           "name": "user_8",
           "type": "scatter",
           "x": {
            "bdata": "AAAAAA==",
            "dtype": "i4"
           },
           "y": {
            "bdata": "AAAAAA==",
            "dtype": "i4"
           }
          }
         ],
         "name": "0"
        },
        {
         "data": [
          {
           "mode": "lines+markers",
           "name": "user_1",
           "type": "scatter",
           "x": {
            "bdata": "AAAAAAIAAAA=",
            "dtype": "i4"
           },
           "y": {
            "bdata": "AAAAAAAAAAA=",
            "dtype": "i4"
           }
          },
          {
           "mode": "lines+markers",
           "name": "user_10",
           "type": "scatter",
           "x": {
            "bdata": "AAAAAAIAAAA=",
            "dtype": "i4"
           },
           "y": {
            "bdata": "AAAAAAAAAAA=",
            "dtype": "i4"
           }
          },
          {
           "mode": "lines+markers",
           "name": "user_11",
           "type": "scatter",
           "x": {
            "bdata": "AAAAAAIAAAA=",
            "dtype": "i4"
           },
           "y": {
            "bdata": "AAAAAAAAAAA=",
            "dtype": "i4"
           }
          },
          {
           "mode": "lines+markers",
           "name": "user_12",
           "type": "scatter",
           "x": {
            "bdata": "AAAAAAIAAAA=",
            "dtype": "i4"
           },
           "y": {
            "bdata": "AAAAAAAAAAA=",
            "dtype": "i4"
           }
          },
          {
           "mode": "lines+markers",
           "name": "user_13",
           "type": "scatter",
           "x": {
            "bdata": "AAAAAAIAAAA=",
            "dtype": "i4"
           },
           "y": {
            "bdata": "AAAAAAAAAAA=",
            "dtype": "i4"
           }
          },
          {
           "mode": "lines+markers",
           "name": "user_14",
           "type": "scatter",
           "x": {
            "bdata": "AAAAAAIAAAA=",
            "dtype": "i4"
           },
           "y": {
            "bdata": "AAAAAAAAAAA=",
            "dtype": "i4"
           }
          },
          {
           "mode": "lines+markers",
           "name": "user_15",
           "type": "scatter",
           "x": {
            "bdata": "AAAAAAIAAAA=",
            "dtype": "i4"
           },
           "y": {
            "bdata": "AAAAAAAAAAA=",
            "dtype": "i4"
           }
          },
          {
           "mode": "lines+markers",
           "name": "user_16",
           "type": "scatter",
           "x": {
            "bdata": "AAAAAAIAAAA=",
            "dtype": "i4"
           },
           "y": {
            "bdata": "AAAAAAAAAAA=",
            "dtype": "i4"
           }
          },
          {
           "mode": "lines+markers",
           "name": "user_17",
           "type": "scatter",
           "x": {
            "bdata": "AAAAAAIAAAA=",
            "dtype": "i4"
           },
           "y": {
            "bdata": "AAAAAAEAAAA=",
            "dtype": "i4"
           }
          },
          {
           "mode": "lines+markers",
           "name": "user_18",
           "type": "scatter",
           "x": {
            "bdata": "AAAAAAIAAAA=",
            "dtype": "i4"
           },
           "y": {
            "bdata": "AAAAAAAAAAA=",
            "dtype": "i4"
           }
          },
          {
           "mode": "lines+markers",
           "name": "user_19",
           "type": "scatter",
           "x": {
            "bdata": "AAAAAAIAAAA=",
            "dtype": "i4"
           },
           "y": {
            "bdata": "AAAAAAAAAAA=",
            "dtype": "i4"
           }
          },
          {
           "mode": "lines+markers",
           "name": "user_2",
           "type": "scatter",
           "x": {
            "bdata": "AAAAAAIAAAA=",
            "dtype": "i4"
           },
           "y": {
            "bdata": "AAAAAAAAAAA=",
            "dtype": "i4"
           }
          },
          {
           "mode": "lines+markers",
           "name": "user_20",
           "type": "scatter",
           "x": {
            "bdata": "AAAAAAIAAAA=",
            "dtype": "i4"
           },
           "y": {
            "bdata": "AAAAAAAAAAA=",
            "dtype": "i4"
           }
          },
          {
           "mode": "lines+markers",
           "name": "user_21",
           "type": "scatter",
           "x": {
            "bdata": "AAAAAAIAAAA=",
            "dtype": "i4"
           },
           "y": {
            "bdata": "AAAAAAAAAAA=",
            "dtype": "i4"
           }
          },
          {
           "mode": "lines+markers",
           "name": "user_22",
           "type": "scatter",
           "x": {
            "bdata": "AAAAAAIAAAA=",
            "dtype": "i4"
           },
           "y": {
            "bdata": "AAAAAAAAAAA=",
            "dtype": "i4"
           }
          },
          {
           "mode": "lines+markers",
           "name": "user_24",
           "type": "scatter",
           "x": {
            "bdata": "AAAAAAIAAAA=",
            "dtype": "i4"
           },
           "y": {
            "bdata": "AAAAAAAAAAA=",
            "dtype": "i4"
           }
          },
          {
           "mode": "lines+markers",
           "name": "user_25",
           "type": "scatter",
           "x": {
            "bdata": "AAAAAAIAAAA=",
            "dtype": "i4"
           },
           "y": {
            "bdata": "AAAAAAAAAAA=",
            "dtype": "i4"
           }
          },
          {
           "mode": "lines+markers",
           "name": "user_26",
           "type": "scatter",
           "x": {
            "bdata": "AAAAAAIAAAA=",
            "dtype": "i4"
           },
           "y": {
            "bdata": "AAAAAAAAAAA=",
            "dtype": "i4"
           }
          },
          {
           "mode": "lines+markers",
           "name": "user_27",
           "type": "scatter",
           "x": {
            "bdata": "AAAAAAIAAAA=",
            "dtype": "i4"
           },
           "y": {
            "bdata": "AAAAAAAAAAA=",
            "dtype": "i4"
           }
          },
          {
           "mode": "lines+markers",
           "name": "user_28",
           "type": "scatter",
           "x": {
            "bdata": "AAAAAAIAAAA=",
            "dtype": "i4"
           },
           "y": {
            "bdata": "AAAAAAAAAAA=",
            "dtype": "i4"
           }
          },
          {
           "mode": "lines+markers",
           "name": "user_29",
           "type": "scatter",
           "x": {
            "bdata": "AAAAAAIAAAA=",
            "dtype": "i4"
           },
           "y": {
            "bdata": "AAAAAAAAAAA=",
            "dtype": "i4"
           }
          },
          {
           "mode": "lines+markers",
           "name": "user_3",
           "type": "scatter",
           "x": {
            "bdata": "AAAAAAIAAAA=",
            "dtype": "i4"
           },
           "y": {
            "bdata": "AAAAAAAAAAA=",
            "dtype": "i4"
           }
          },
          {
           "mode": "lines+markers",
           "name": "user_30",
           "type": "scatter",
           "x": {
            "bdata": "AAAAAAIAAAA=",
            "dtype": "i4"
           },
           "y": {
            "bdata": "AAAAAAAAAAA=",
            "dtype": "i4"
           }
          },
          {
           "mode": "lines+markers",
           "name": "user_31",
           "type": "scatter",
           "x": {
            "bdata": "AAAAAAIAAAA=",
            "dtype": "i4"
           },
           "y": {
            "bdata": "AAAAAAAAAAA=",
            "dtype": "i4"
           }
          },
          {
           "mode": "lines+markers",
           "name": "user_4",
           "type": "scatter",
           "x": {
            "bdata": "AAAAAAIAAAA=",
            "dtype": "i4"
           },
           "y": {
            "bdata": "BwAAAAcAAAA=",
            "dtype": "i4"
           }
          },
          {
           "mode": "lines+markers",
           "name": "user_6",
           "type": "scatter",
           "x": {
            "bdata": "AAAAAAIAAAA=",
            "dtype": "i4"
           },
           "y": {
            "bdata": "AAAAAAAAAAA=",
            "dtype": "i4"
           }
          },
          {
           "mode": "lines+markers",
           "name": "user_8",
           "type": "scatter",
           "x": {
            "bdata": "AAAAAAIAAAA=",
            "dtype": "i4"
           },
           "y": {
            "bdata": "AAAAAAAAAAA=",
            "dtype": "i4"
           }
          }
         ],
         "name": "2"
        },
        {
         "data": [
          {
           "mode": "lines+markers",
           "name": "user_1",
           "type": "scatter",
           "x": {
            "bdata": "AAAAAAIAAAAEAAAA",
            "dtype": "i4"
           },
           "y": {
            "bdata": "AAAAAAAAAAAAAAAA",
            "dtype": "i4"
           }
          },
          {
           "mode": "lines+markers",
           "name": "user_10",
           "type": "scatter",
           "x": {
            "bdata": "AAAAAAIAAAAEAAAA",
            "dtype": "i4"
           },
           "y": {
            "bdata": "AAAAAAAAAAAAAAAA",
            "dtype": "i4"
           }
          },
          {
           "mode": "lines+markers",
           "name": "user_11",
           "type": "scatter",
           "x": {
            "bdata": "AAAAAAIAAAAEAAAA",
            "dtype": "i4"
           },
           "y": {
            "bdata": "AAAAAAAAAAAAAAAA",
            "dtype": "i4"
           }
          },
          {
           "mode": "lines+markers",
           "name": "user_12",
           "type": "scatter",
           "x": {
            "bdata": "AAAAAAIAAAAEAAAA",
            "dtype": "i4"
           },
           "y": {
            "bdata": "AAAAAAAAAAAAAAAA",
            "dtype": "i4"
           }
          },
          {
           "mode": "lines+markers",
           "name": "user_13",
           "type": "scatter",
           "x": {
            "bdata": "AAAAAAIAAAAEAAAA",
            "dtype": "i4"
           },
           "y": {
            "bdata": "AAAAAAAAAAAAAAAA",
            "dtype": "i4"
           }
          },
          {
           "mode": "lines+markers",
           "name": "user_14",
           "type": "scatter",
           "x": {
            "bdata": "AAAAAAIAAAAEAAAA",
            "dtype": "i4"
           },
           "y": {
            "bdata": "AAAAAAAAAAAAAAAA",
            "dtype": "i4"
           }
          },
          {
           "mode": "lines+markers",
           "name": "user_15",
           "type": "scatter",
           "x": {
            "bdata": "AAAAAAIAAAAEAAAA",
            "dtype": "i4"
           },
           "y": {
            "bdata": "AAAAAAAAAAAAAAAA",
            "dtype": "i4"
           }
          },
          {
           "mode": "lines+markers",
           "name": "user_16",
           "type": "scatter",
           "x": {
            "bdata": "AAAAAAIAAAAEAAAA",
            "dtype": "i4"
           },
           "y": {
            "bdata": "AAAAAAAAAAAAAAAA",
            "dtype": "i4"
           }
          },
          {
           "mode": "lines+markers",
           "name": "user_17",
           "type": "scatter",
           "x": {
            "bdata": "AAAAAAIAAAAEAAAA",
            "dtype": "i4"
           },
           "y": {
            "bdata": "AAAAAAEAAAABAAAA",
            "dtype": "i4"
           }
          },
          {
           "mode": "lines+markers",
           "name": "user_18",
           "type": "scatter",
           "x": {
            "bdata": "AAAAAAIAAAAEAAAA",
            "dtype": "i4"
           },
           "y": {
            "bdata": "AAAAAAAAAAAAAAAA",
            "dtype": "i4"
           }
          },
          {
           "mode": "lines+markers",
           "name": "user_19",
           "type": "scatter",
           "x": {
            "bdata": "AAAAAAIAAAAEAAAA",
            "dtype": "i4"
           },
           "y": {
            "bdata": "AAAAAAAAAAAAAAAA",
            "dtype": "i4"
           }
          },
          {
           "mode": "lines+markers",
           "name": "user_2",
           "type": "scatter",
           "x": {
            "bdata": "AAAAAAIAAAAEAAAA",
            "dtype": "i4"
           },
           "y": {
            "bdata": "AAAAAAAAAAAAAAAA",
            "dtype": "i4"
           }
          },
          {
           "mode": "lines+markers",
           "name": "user_20",
           "type": "scatter",
           "x": {
            "bdata": "AAAAAAIAAAAEAAAA",
            "dtype": "i4"
           },
           "y": {
            "bdata": "AAAAAAAAAAAAAAAA",
            "dtype": "i4"
           }
          },
          {
           "mode": "lines+markers",
           "name": "user_21",
           "type": "scatter",
           "x": {
            "bdata": "AAAAAAIAAAAEAAAA",
            "dtype": "i4"
           },
           "y": {
            "bdata": "AAAAAAAAAAAAAAAA",
            "dtype": "i4"
           }
          },
          {
           "mode": "lines+markers",
           "name": "user_22",
           "type": "scatter",
           "x": {
            "bdata": "AAAAAAIAAAAEAAAA",
            "dtype": "i4"
           },
           "y": {
            "bdata": "AAAAAAAAAAAAAAAA",
            "dtype": "i4"
           }
          },
          {
           "mode": "lines+markers",
           "name": "user_24",
           "type": "scatter",
           "x": {
            "bdata": "AAAAAAIAAAAEAAAA",
            "dtype": "i4"
           },
           "y": {
            "bdata": "AAAAAAAAAAAAAAAA",
            "dtype": "i4"
           }
          },
          {
           "mode": "lines+markers",
           "name": "user_25",
           "type": "scatter",
           "x": {
            "bdata": "AAAAAAIAAAAEAAAA",
            "dtype": "i4"
           },
           "y": {
            "bdata": "AAAAAAAAAAAAAAAA",
            "dtype": "i4"
           }
          },
          {
           "mode": "lines+markers",
           "name": "user_26",
           "type": "scatter",
           "x": {
            "bdata": "AAAAAAIAAAAEAAAA",
            "dtype": "i4"
           },
           "y": {
            "bdata": "AAAAAAAAAAAAAAAA",
            "dtype": "i4"
           }
          },
          {
           "mode": "lines+markers",
           "name": "user_27",
           "type": "scatter",
           "x": {
            "bdata": "AAAAAAIAAAAEAAAA",
            "dtype": "i4"
           },
           "y": {
            "bdata": "AAAAAAAAAAAAAAAA",
            "dtype": "i4"
           }
          },
          {
           "mode": "lines+markers",
           "name": "user_28",
           "type": "scatter",
           "x": {
            "bdata": "AAAAAAIAAAAEAAAA",
            "dtype": "i4"
           },
           "y": {
            "bdata": "AAAAAAAAAAAAAAAA",
            "dtype": "i4"
           }
          },
          {
           "mode": "lines+markers",
           "name": "user_29",
           "type": "scatter",
           "x": {
            "bdata": "AAAAAAIAAAAEAAAA",
            "dtype": "i4"
           },
           "y": {
            "bdata": "AAAAAAAAAAAAAAAA",
            "dtype": "i4"
           }
          },
          {
           "mode": "lines+markers",
           "name": "user_3",
           "type": "scatter",
           "x": {
            "bdata": "AAAAAAIAAAAEAAAA",
            "dtype": "i4"
           },
           "y": {
            "bdata": "AAAAAAAAAAAAAAAA",
            "dtype": "i4"
           }
          },
          {
           "mode": "lines+markers",
           "name": "user_30",
           "type": "scatter",
           "x": {
            "bdata": "AAAAAAIAAAAEAAAA",
            "dtype": "i4"
           },
           "y": {
            "bdata": "AAAAAAAAAAAAAAAA",
            "dtype": "i4"
           }
          },
          {
           "mode": "lines+markers",
           "name": "user_31",
           "type": "scatter",
           "x": {
            "bdata": "AAAAAAIAAAAEAAAA",
            "dtype": "i4"
           },
           "y": {
            "bdata": "AAAAAAAAAAAAAAAA",
            "dtype": "i4"
           }
          },
          {
           "mode": "lines+markers",
           "name": "user_4",
           "type": "scatter",
           "x": {
            "bdata": "AAAAAAIAAAAEAAAA",
            "dtype": "i4"
           },
           "y": {
            "bdata": "BwAAAAcAAAALAAAA",
            "dtype": "i4"
           }
          },
          {
           "mode": "lines+markers",
           "name": "user_6",
           "type": "scatter",
           "x": {
            "bdata": "AAAAAAIAAAAEAAAA",
            "dtype": "i4"
           },
           "y": {
            "bdata": "AAAAAAAAAAAAAAAA",
            "dtype": "i4"
           }
          },
          {
           "mode": "lines+markers",
           "name": "user_8",
           "type": "scatter",
           "x": {
            "bdata": "AAAAAAIAAAAEAAAA",
            "dtype": "i4"
           },
           "y": {
            "bdata": "AAAAAAAAAAAAAAAA",
            "dtype": "i4"
           }
          }
         ],
         "name": "4"
        },
        {
         "data": [
          {
           "mode": "lines+markers",
           "name": "user_1",
           "type": "scatter",
           "x": {
            "bdata": "AAAAAAIAAAAEAAAABgAAAA==",
            "dtype": "i4"
           },
           "y": {
            "bdata": "AAAAAAAAAAAAAAAAAAAAAA==",
            "dtype": "i4"
           }
          },
          {
           "mode": "lines+markers",
           "name": "user_10",
           "type": "scatter",
           "x": {
            "bdata": "AAAAAAIAAAAEAAAABgAAAA==",
            "dtype": "i4"
           },
           "y": {
            "bdata": "AAAAAAAAAAAAAAAAAAAAAA==",
            "dtype": "i4"
           }
          },
          {
           "mode": "lines+markers",
           "name": "user_11",
           "type": "scatter",
           "x": {
            "bdata": "AAAAAAIAAAAEAAAABgAAAA==",
            "dtype": "i4"
           },
           "y": {
            "bdata": "AAAAAAAAAAAAAAAAAAAAAA==",
            "dtype": "i4"
           }
          },
          {
           "mode": "lines+markers",
           "name": "user_12",
           "type": "scatter",
           "x": {
            "bdata": "AAAAAAIAAAAEAAAABgAAAA==",
            "dtype": "i4"
           },
           "y": {
            "bdata": "AAAAAAAAAAAAAAAAAAAAAA==",
            "dtype": "i4"
           }
          },
          {
           "mode": "lines+markers",
           "name": "user_13",
           "type": "scatter",
           "x": {
            "bdata": "AAAAAAIAAAAEAAAABgAAAA==",
            "dtype": "i4"
           },
           "y": {
            "bdata": "AAAAAAAAAAAAAAAAAAAAAA==",
            "dtype": "i4"
           }
          },
          {
           "mode": "lines+markers",
           "name": "user_14",
           "type": "scatter",
           "x": {
            "bdata": "AAAAAAIAAAAEAAAABgAAAA==",
            "dtype": "i4"
           },
           "y": {
            "bdata": "AAAAAAAAAAAAAAAAAAAAAA==",
            "dtype": "i4"
           }
          },
          {
           "mode": "lines+markers",
           "name": "user_15",
           "type": "scatter",
           "x": {
            "bdata": "AAAAAAIAAAAEAAAABgAAAA==",
            "dtype": "i4"
           },
           "y": {
            "bdata": "AAAAAAAAAAAAAAAAAAAAAA==",
            "dtype": "i4"
           }
          },
          {
           "mode": "lines+markers",
           "name": "user_16",
           "type": "scatter",
           "x": {
            "bdata": "AAAAAAIAAAAEAAAABgAAAA==",
            "dtype": "i4"
           },
           "y": {
            "bdata": "AAAAAAAAAAAAAAAAAAAAAA==",
            "dtype": "i4"
           }
          },
          {
           "mode": "lines+markers",
           "name": "user_17",
           "type": "scatter",
           "x": {
            "bdata": "AAAAAAIAAAAEAAAABgAAAA==",
            "dtype": "i4"
           },
           "y": {
            "bdata": "AAAAAAEAAAABAAAAAQAAAA==",
            "dtype": "i4"
           }
          },
          {
           "mode": "lines+markers",
           "name": "user_18",
           "type": "scatter",
           "x": {
            "bdata": "AAAAAAIAAAAEAAAABgAAAA==",
            "dtype": "i4"
           },
           "y": {
            "bdata": "AAAAAAAAAAAAAAAAAAAAAA==",
            "dtype": "i4"
           }
          },
          {
           "mode": "lines+markers",
           "name": "user_19",
           "type": "scatter",
           "x": {
            "bdata": "AAAAAAIAAAAEAAAABgAAAA==",
            "dtype": "i4"
           },
           "y": {
            "bdata": "AAAAAAAAAAAAAAAAAAAAAA==",
            "dtype": "i4"
           }
          },
          {
           "mode": "lines+markers",
           "name": "user_2",
           "type": "scatter",
           "x": {
            "bdata": "AAAAAAIAAAAEAAAABgAAAA==",
            "dtype": "i4"
           },
           "y": {
            "bdata": "AAAAAAAAAAAAAAAAAAAAAA==",
            "dtype": "i4"
           }
          },
          {
           "mode": "lines+markers",
           "name": "user_20",
           "type": "scatter",
           "x": {
            "bdata": "AAAAAAIAAAAEAAAABgAAAA==",
            "dtype": "i4"
           },
           "y": {
            "bdata": "AAAAAAAAAAAAAAAAAAAAAA==",
            "dtype": "i4"
           }
          },
          {
           "mode": "lines+markers",
           "name": "user_21",
           "type": "scatter",
           "x": {
            "bdata": "AAAAAAIAAAAEAAAABgAAAA==",
            "dtype": "i4"
           },
           "y": {
            "bdata": "AAAAAAAAAAAAAAAAAAAAAA==",
            "dtype": "i4"
           }
          },
          {
           "mode": "lines+markers",
           "name": "user_22",
           "type": "scatter",
           "x": {
            "bdata": "AAAAAAIAAAAEAAAABgAAAA==",
            "dtype": "i4"
           },
           "y": {
            "bdata": "AAAAAAAAAAAAAAAAAAAAAA==",
            "dtype": "i4"
           }
          },
          {
           "mode": "lines+markers",
           "name": "user_24",
           "type": "scatter",
           "x": {
            "bdata": "AAAAAAIAAAAEAAAABgAAAA==",
            "dtype": "i4"
           },
           "y": {
            "bdata": "AAAAAAAAAAAAAAAAAAAAAA==",
            "dtype": "i4"
           }
          },
          {
           "mode": "lines+markers",
           "name": "user_25",
           "type": "scatter",
           "x": {
            "bdata": "AAAAAAIAAAAEAAAABgAAAA==",
            "dtype": "i4"
           },
           "y": {
            "bdata": "AAAAAAAAAAAAAAAAAAAAAA==",
            "dtype": "i4"
           }
          },
          {
           "mode": "lines+markers",
           "name": "user_26",
           "type": "scatter",
           "x": {
            "bdata": "AAAAAAIAAAAEAAAABgAAAA==",
            "dtype": "i4"
           },
           "y": {
            "bdata": "AAAAAAAAAAAAAAAAAAAAAA==",
            "dtype": "i4"
           }
          },
          {
           "mode": "lines+markers",
           "name": "user_27",
           "type": "scatter",
           "x": {
            "bdata": "AAAAAAIAAAAEAAAABgAAAA==",
            "dtype": "i4"
           },
           "y": {
            "bdata": "AAAAAAAAAAAAAAAAAAAAAA==",
            "dtype": "i4"
           }
          },
          {
           "mode": "lines+markers",
           "name": "user_28",
           "type": "scatter",
           "x": {
            "bdata": "AAAAAAIAAAAEAAAABgAAAA==",
            "dtype": "i4"
           },
           "y": {
            "bdata": "AAAAAAAAAAAAAAAAAAAAAA==",
            "dtype": "i4"
           }
          },
          {
           "mode": "lines+markers",
           "name": "user_29",
           "type": "scatter",
           "x": {
            "bdata": "AAAAAAIAAAAEAAAABgAAAA==",
            "dtype": "i4"
           },
           "y": {
            "bdata": "AAAAAAAAAAAAAAAAAAAAAA==",
            "dtype": "i4"
           }
          },
          {
           "mode": "lines+markers",
           "name": "user_3",
           "type": "scatter",
           "x": {
            "bdata": "AAAAAAIAAAAEAAAABgAAAA==",
            "dtype": "i4"
           },
           "y": {
            "bdata": "AAAAAAAAAAAAAAAAAAAAAA==",
            "dtype": "i4"
           }
          },
          {
           "mode": "lines+markers",
           "name": "user_30",
           "type": "scatter",
           "x": {
            "bdata": "AAAAAAIAAAAEAAAABgAAAA==",
            "dtype": "i4"
           },
           "y": {
            "bdata": "AAAAAAAAAAAAAAAAAQAAAA==",
            "dtype": "i4"
           }
          },
          {
           "mode": "lines+markers",
           "name": "user_31",
           "type": "scatter",
           "x": {
            "bdata": "AAAAAAIAAAAEAAAABgAAAA==",
            "dtype": "i4"
           },
           "y": {
            "bdata": "AAAAAAAAAAAAAAAAAAAAAA==",
            "dtype": "i4"
           }
          },
          {
           "mode": "lines+markers",
           "name": "user_4",
           "type": "scatter",
           "x": {
            "bdata": "AAAAAAIAAAAEAAAABgAAAA==",
            "dtype": "i4"
           },
           "y": {
            "bdata": "BwAAAAcAAAALAAAACwAAAA==",
            "dtype": "i4"
           }
          },
          {
           "mode": "lines+markers",
           "name": "user_6",
           "type": "scatter",
           "x": {
            "bdata": "AAAAAAIAAAAEAAAABgAAAA==",
            "dtype": "i4"
           },
           "y": {
            "bdata": "AAAAAAAAAAAAAAAAAAAAAA==",
            "dtype": "i4"
           }
          },
          {
           "mode": "lines+markers",
           "name": "user_8",
           "type": "scatter",
           "x": {
            "bdata": "AAAAAAIAAAAEAAAABgAAAA==",
            "dtype": "i4"
           },
           "y": {
            "bdata": "AAAAAAAAAAAAAAAAAAAAAA==",
            "dtype": "i4"
           }
          }
         ],
         "name": "6"
        },
        {
         "data": [
          {
           "mode": "lines+markers",
           "name": "user_1",
           "type": "scatter",
           "x": {
            "bdata": "AAAAAAIAAAAEAAAABgAAAAgAAAA=",
            "dtype": "i4"
           },
           "y": {
            "bdata": "AAAAAAAAAAAAAAAAAAAAAAAAAAA=",
            "dtype": "i4"
           }
          },
          {
           "mode": "lines+markers",
           "name": "user_10",
           "type": "scatter",
           "x": {
            "bdata": "AAAAAAIAAAAEAAAABgAAAAgAAAA=",
            "dtype": "i4"
           },
           "y": {
            "bdata": "AAAAAAAAAAAAAAAAAAAAAAAAAAA=",
            "dtype": "i4"
           }
          },
          {
           "mode": "lines+markers",
           "name": "user_11",
           "type": "scatter",
           "x": {
            "bdata": "AAAAAAIAAAAEAAAABgAAAAgAAAA=",
            "dtype": "i4"
           },
           "y": {
            "bdata": "AAAAAAAAAAAAAAAAAAAAAAAAAAA=",
            "dtype": "i4"
           }
          },
          {
           "mode": "lines+markers",
           "name": "user_12",
           "type": "scatter",
           "x": {
            "bdata": "AAAAAAIAAAAEAAAABgAAAAgAAAA=",
            "dtype": "i4"
           },
           "y": {
            "bdata": "AAAAAAAAAAAAAAAAAAAAAAAAAAA=",
            "dtype": "i4"
           }
          },
          {
           "mode": "lines+markers",
           "name": "user_13",
           "type": "scatter",
           "x": {
            "bdata": "AAAAAAIAAAAEAAAABgAAAAgAAAA=",
            "dtype": "i4"
           },
           "y": {
            "bdata": "AAAAAAAAAAAAAAAAAAAAAAAAAAA=",
            "dtype": "i4"
           }
          },
          {
           "mode": "lines+markers",
           "name": "user_14",
           "type": "scatter",
           "x": {
            "bdata": "AAAAAAIAAAAEAAAABgAAAAgAAAA=",
            "dtype": "i4"
           },
           "y": {
            "bdata": "AAAAAAAAAAAAAAAAAAAAAAAAAAA=",
            "dtype": "i4"
           }
          },
          {
           "mode": "lines+markers",
           "name": "user_15",
           "type": "scatter",
           "x": {
            "bdata": "AAAAAAIAAAAEAAAABgAAAAgAAAA=",
            "dtype": "i4"
           },
           "y": {
            "bdata": "AAAAAAAAAAAAAAAAAAAAAAAAAAA=",
            "dtype": "i4"
           }
          },
          {
           "mode": "lines+markers",
           "name": "user_16",
           "type": "scatter",
           "x": {
            "bdata": "AAAAAAIAAAAEAAAABgAAAAgAAAA=",
            "dtype": "i4"
           },
           "y": {
            "bdata": "AAAAAAAAAAAAAAAAAAAAAAAAAAA=",
            "dtype": "i4"
           }
          },
          {
           "mode": "lines+markers",
           "name": "user_17",
           "type": "scatter",
           "x": {
            "bdata": "AAAAAAIAAAAEAAAABgAAAAgAAAA=",
            "dtype": "i4"
           },
           "y": {
            "bdata": "AAAAAAEAAAABAAAAAQAAAAEAAAA=",
            "dtype": "i4"
           }
          },
          {
           "mode": "lines+markers",
           "name": "user_18",
           "type": "scatter",
           "x": {
            "bdata": "AAAAAAIAAAAEAAAABgAAAAgAAAA=",
            "dtype": "i4"
           },
           "y": {
            "bdata": "AAAAAAAAAAAAAAAAAAAAAAAAAAA=",
            "dtype": "i4"
           }
          },
          {
           "mode": "lines+markers",
           "name": "user_19",
           "type": "scatter",
           "x": {
            "bdata": "AAAAAAIAAAAEAAAABgAAAAgAAAA=",
            "dtype": "i4"
           },
           "y": {
            "bdata": "AAAAAAAAAAAAAAAAAAAAAAAAAAA=",
            "dtype": "i4"
           }
          },
          {
           "mode": "lines+markers",
           "name": "user_2",
           "type": "scatter",
           "x": {
            "bdata": "AAAAAAIAAAAEAAAABgAAAAgAAAA=",
            "dtype": "i4"
           },
           "y": {
            "bdata": "AAAAAAAAAAAAAAAAAAAAAAAAAAA=",
            "dtype": "i4"
           }
          },
          {
           "mode": "lines+markers",
           "name": "user_20",
           "type": "scatter",
           "x": {
            "bdata": "AAAAAAIAAAAEAAAABgAAAAgAAAA=",
            "dtype": "i4"
           },
           "y": {
            "bdata": "AAAAAAAAAAAAAAAAAAAAAAAAAAA=",
            "dtype": "i4"
           }
          },
          {
           "mode": "lines+markers",
           "name": "user_21",
           "type": "scatter",
           "x": {
            "bdata": "AAAAAAIAAAAEAAAABgAAAAgAAAA=",
            "dtype": "i4"
           },
           "y": {
            "bdata": "AAAAAAAAAAAAAAAAAAAAAAAAAAA=",
            "dtype": "i4"
           }
          },
          {
           "mode": "lines+markers",
           "name": "user_22",
           "type": "scatter",
           "x": {
            "bdata": "AAAAAAIAAAAEAAAABgAAAAgAAAA=",
            "dtype": "i4"
           },
           "y": {
            "bdata": "AAAAAAAAAAAAAAAAAAAAAAAAAAA=",
            "dtype": "i4"
           }
          },
          {
           "mode": "lines+markers",
           "name": "user_24",
           "type": "scatter",
           "x": {
            "bdata": "AAAAAAIAAAAEAAAABgAAAAgAAAA=",
            "dtype": "i4"
           },
           "y": {
            "bdata": "AAAAAAAAAAAAAAAAAAAAAAAAAAA=",
            "dtype": "i4"
           }
          },
          {
           "mode": "lines+markers",
           "name": "user_25",
           "type": "scatter",
           "x": {
            "bdata": "AAAAAAIAAAAEAAAABgAAAAgAAAA=",
            "dtype": "i4"
           },
           "y": {
            "bdata": "AAAAAAAAAAAAAAAAAAAAAAAAAAA=",
            "dtype": "i4"
           }
          },
          {
           "mode": "lines+markers",
           "name": "user_26",
           "type": "scatter",
           "x": {
            "bdata": "AAAAAAIAAAAEAAAABgAAAAgAAAA=",
            "dtype": "i4"
           },
           "y": {
            "bdata": "AAAAAAAAAAAAAAAAAAAAAAAAAAA=",
            "dtype": "i4"
           }
          },
          {
           "mode": "lines+markers",
           "name": "user_27",
           "type": "scatter",
           "x": {
            "bdata": "AAAAAAIAAAAEAAAABgAAAAgAAAA=",
            "dtype": "i4"
           },
           "y": {
            "bdata": "AAAAAAAAAAAAAAAAAAAAAAAAAAA=",
            "dtype": "i4"
           }
          },
          {
           "mode": "lines+markers",
           "name": "user_28",
           "type": "scatter",
           "x": {
            "bdata": "AAAAAAIAAAAEAAAABgAAAAgAAAA=",
            "dtype": "i4"
           },
           "y": {
            "bdata": "AAAAAAAAAAAAAAAAAAAAAAAAAAA=",
            "dtype": "i4"
           }
          },
          {
           "mode": "lines+markers",
           "name": "user_29",
           "type": "scatter",
           "x": {
            "bdata": "AAAAAAIAAAAEAAAABgAAAAgAAAA=",
            "dtype": "i4"
           },
           "y": {
            "bdata": "AAAAAAAAAAAAAAAAAAAAAAAAAAA=",
            "dtype": "i4"
           }
          },
          {
           "mode": "lines+markers",
           "name": "user_3",
           "type": "scatter",
           "x": {
            "bdata": "AAAAAAIAAAAEAAAABgAAAAgAAAA=",
            "dtype": "i4"
           },
           "y": {
            "bdata": "AAAAAAAAAAAAAAAAAAAAAAAAAAA=",
            "dtype": "i4"
           }
          },
          {
           "mode": "lines+markers",
           "name": "user_30",
           "type": "scatter",
           "x": {
            "bdata": "AAAAAAIAAAAEAAAABgAAAAgAAAA=",
            "dtype": "i4"
           },
           "y": {
            "bdata": "AAAAAAAAAAAAAAAAAQAAAAIAAAA=",
            "dtype": "i4"
           }
          },
          {
           "mode": "lines+markers",
           "name": "user_31",
           "type": "scatter",
           "x": {
            "bdata": "AAAAAAIAAAAEAAAABgAAAAgAAAA=",
            "dtype": "i4"
           },
           "y": {
            "bdata": "AAAAAAAAAAAAAAAAAAAAAAAAAAA=",
            "dtype": "i4"
           }
          },
          {
           "mode": "lines+markers",
           "name": "user_4",
           "type": "scatter",
           "x": {
            "bdata": "AAAAAAIAAAAEAAAABgAAAAgAAAA=",
            "dtype": "i4"
           },
           "y": {
            "bdata": "BwAAAAcAAAALAAAACwAAABQAAAA=",
            "dtype": "i4"
           }
          },
          {
           "mode": "lines+markers",
           "name": "user_6",
           "type": "scatter",
           "x": {
            "bdata": "AAAAAAIAAAAEAAAABgAAAAgAAAA=",
            "dtype": "i4"
           },
           "y": {
            "bdata": "AAAAAAAAAAAAAAAAAAAAAAAAAAA=",
            "dtype": "i4"
           }
          },
          {
           "mode": "lines+markers",
           "name": "user_8",
           "type": "scatter",
           "x": {
            "bdata": "AAAAAAIAAAAEAAAABgAAAAgAAAA=",
            "dtype": "i4"
           },
           "y": {
            "bdata": "AAAAAAAAAAAAAAAAAAAAAAAAAAA=",
            "dtype": "i4"
           }
          }
         ],
         "name": "8"
        },
        {
         "data": [
          {
           "mode": "lines+markers",
           "name": "user_1",
           "type": "scatter",
           "x": {
            "bdata": "AAAAAAIAAAAEAAAABgAAAAgAAAAKAAAA",
            "dtype": "i4"
           },
           "y": {
            "bdata": "AAAAAAAAAAAAAAAAAAAAAAAAAAAAAAAA",
            "dtype": "i4"
           }
          },
          {
           "mode": "lines+markers",
           "name": "user_10",
           "type": "scatter",
           "x": {
            "bdata": "AAAAAAIAAAAEAAAABgAAAAgAAAAKAAAA",
            "dtype": "i4"
           },
           "y": {
            "bdata": "AAAAAAAAAAAAAAAAAAAAAAAAAAAAAAAA",
            "dtype": "i4"
           }
          },
          {
           "mode": "lines+markers",
           "name": "user_11",
           "type": "scatter",
           "x": {
            "bdata": "AAAAAAIAAAAEAAAABgAAAAgAAAAKAAAA",
            "dtype": "i4"
           },
           "y": {
            "bdata": "AAAAAAAAAAAAAAAAAAAAAAAAAAAAAAAA",
            "dtype": "i4"
           }
          },
          {
           "mode": "lines+markers",
           "name": "user_12",
           "type": "scatter",
           "x": {
            "bdata": "AAAAAAIAAAAEAAAABgAAAAgAAAAKAAAA",
            "dtype": "i4"
           },
           "y": {
            "bdata": "AAAAAAAAAAAAAAAAAAAAAAAAAAAAAAAA",
            "dtype": "i4"
           }
          },
          {
           "mode": "lines+markers",
           "name": "user_13",
           "type": "scatter",
           "x": {
            "bdata": "AAAAAAIAAAAEAAAABgAAAAgAAAAKAAAA",
            "dtype": "i4"
           },
           "y": {
            "bdata": "AAAAAAAAAAAAAAAAAAAAAAAAAAAAAAAA",
            "dtype": "i4"
           }
          },
          {
           "mode": "lines+markers",
           "name": "user_14",
           "type": "scatter",
           "x": {
            "bdata": "AAAAAAIAAAAEAAAABgAAAAgAAAAKAAAA",
            "dtype": "i4"
           },
           "y": {
            "bdata": "AAAAAAAAAAAAAAAAAAAAAAAAAAAAAAAA",
            "dtype": "i4"
           }
          },
          {
           "mode": "lines+markers",
           "name": "user_15",
           "type": "scatter",
           "x": {
            "bdata": "AAAAAAIAAAAEAAAABgAAAAgAAAAKAAAA",
            "dtype": "i4"
           },
           "y": {
            "bdata": "AAAAAAAAAAAAAAAAAAAAAAAAAAAAAAAA",
            "dtype": "i4"
           }
          },
          {
           "mode": "lines+markers",
           "name": "user_16",
           "type": "scatter",
           "x": {
            "bdata": "AAAAAAIAAAAEAAAABgAAAAgAAAAKAAAA",
            "dtype": "i4"
           },
           "y": {
            "bdata": "AAAAAAAAAAAAAAAAAAAAAAAAAAAAAAAA",
            "dtype": "i4"
           }
          },
          {
           "mode": "lines+markers",
           "name": "user_17",
           "type": "scatter",
           "x": {
            "bdata": "AAAAAAIAAAAEAAAABgAAAAgAAAAKAAAA",
            "dtype": "i4"
           },
           "y": {
            "bdata": "AAAAAAEAAAABAAAAAQAAAAEAAAABAAAA",
            "dtype": "i4"
           }
          },
          {
           "mode": "lines+markers",
           "name": "user_18",
           "type": "scatter",
           "x": {
            "bdata": "AAAAAAIAAAAEAAAABgAAAAgAAAAKAAAA",
            "dtype": "i4"
           },
           "y": {
            "bdata": "AAAAAAAAAAAAAAAAAAAAAAAAAAAAAAAA",
            "dtype": "i4"
           }
          },
          {
           "mode": "lines+markers",
           "name": "user_19",
           "type": "scatter",
           "x": {
            "bdata": "AAAAAAIAAAAEAAAABgAAAAgAAAAKAAAA",
            "dtype": "i4"
           },
           "y": {
            "bdata": "AAAAAAAAAAAAAAAAAAAAAAAAAAAAAAAA",
            "dtype": "i4"
           }
          },
          {
           "mode": "lines+markers",
           "name": "user_2",
           "type": "scatter",
           "x": {
            "bdata": "AAAAAAIAAAAEAAAABgAAAAgAAAAKAAAA",
            "dtype": "i4"
           },
           "y": {
            "bdata": "AAAAAAAAAAAAAAAAAAAAAAAAAAAAAAAA",
            "dtype": "i4"
           }
          },
          {
           "mode": "lines+markers",
           "name": "user_20",
           "type": "scatter",
           "x": {
            "bdata": "AAAAAAIAAAAEAAAABgAAAAgAAAAKAAAA",
            "dtype": "i4"
           },
           "y": {
            "bdata": "AAAAAAAAAAAAAAAAAAAAAAAAAAAAAAAA",
            "dtype": "i4"
           }
          },
          {
           "mode": "lines+markers",
           "name": "user_21",
           "type": "scatter",
           "x": {
            "bdata": "AAAAAAIAAAAEAAAABgAAAAgAAAAKAAAA",
            "dtype": "i4"
           },
           "y": {
            "bdata": "AAAAAAAAAAAAAAAAAAAAAAAAAAAAAAAA",
            "dtype": "i4"
           }
          },
          {
           "mode": "lines+markers",
           "name": "user_22",
           "type": "scatter",
           "x": {
            "bdata": "AAAAAAIAAAAEAAAABgAAAAgAAAAKAAAA",
            "dtype": "i4"
           },
           "y": {
            "bdata": "AAAAAAAAAAAAAAAAAAAAAAAAAAAAAAAA",
            "dtype": "i4"
           }
          },
          {
           "mode": "lines+markers",
           "name": "user_24",
           "type": "scatter",
           "x": {
            "bdata": "AAAAAAIAAAAEAAAABgAAAAgAAAAKAAAA",
            "dtype": "i4"
           },
           "y": {
            "bdata": "AAAAAAAAAAAAAAAAAAAAAAAAAAAAAAAA",
            "dtype": "i4"
           }
          },
          {
           "mode": "lines+markers",
           "name": "user_25",
           "type": "scatter",
           "x": {
            "bdata": "AAAAAAIAAAAEAAAABgAAAAgAAAAKAAAA",
            "dtype": "i4"
           },
           "y": {
            "bdata": "AAAAAAAAAAAAAAAAAAAAAAAAAAAAAAAA",
            "dtype": "i4"
           }
          },
          {
           "mode": "lines+markers",
           "name": "user_26",
           "type": "scatter",
           "x": {
            "bdata": "AAAAAAIAAAAEAAAABgAAAAgAAAAKAAAA",
            "dtype": "i4"
           },
           "y": {
            "bdata": "AAAAAAAAAAAAAAAAAAAAAAAAAAAAAAAA",
            "dtype": "i4"
           }
          },
          {
           "mode": "lines+markers",
           "name": "user_27",
           "type": "scatter",
           "x": {
            "bdata": "AAAAAAIAAAAEAAAABgAAAAgAAAAKAAAA",
            "dtype": "i4"
           },
           "y": {
            "bdata": "AAAAAAAAAAAAAAAAAAAAAAAAAAAAAAAA",
            "dtype": "i4"
           }
          },
          {
           "mode": "lines+markers",
           "name": "user_28",
           "type": "scatter",
           "x": {
            "bdata": "AAAAAAIAAAAEAAAABgAAAAgAAAAKAAAA",
            "dtype": "i4"
           },
           "y": {
            "bdata": "AAAAAAAAAAAAAAAAAAAAAAAAAAAAAAAA",
            "dtype": "i4"
           }
          },
          {
           "mode": "lines+markers",
           "name": "user_29",
           "type": "scatter",
           "x": {
            "bdata": "AAAAAAIAAAAEAAAABgAAAAgAAAAKAAAA",
            "dtype": "i4"
           },
           "y": {
            "bdata": "AAAAAAAAAAAAAAAAAAAAAAAAAAAAAAAA",
            "dtype": "i4"
           }
          },
          {
           "mode": "lines+markers",
           "name": "user_3",
           "type": "scatter",
           "x": {
            "bdata": "AAAAAAIAAAAEAAAABgAAAAgAAAAKAAAA",
            "dtype": "i4"
           },
           "y": {
            "bdata": "AAAAAAAAAAAAAAAAAAAAAAAAAAAAAAAA",
            "dtype": "i4"
           }
          },
          {
           "mode": "lines+markers",
           "name": "user_30",
           "type": "scatter",
           "x": {
            "bdata": "AAAAAAIAAAAEAAAABgAAAAgAAAAKAAAA",
            "dtype": "i4"
           },
           "y": {
            "bdata": "AAAAAAAAAAAAAAAAAQAAAAIAAAACAAAA",
            "dtype": "i4"
           }
          },
          {
           "mode": "lines+markers",
           "name": "user_31",
           "type": "scatter",
           "x": {
            "bdata": "AAAAAAIAAAAEAAAABgAAAAgAAAAKAAAA",
            "dtype": "i4"
           },
           "y": {
            "bdata": "AAAAAAAAAAAAAAAAAAAAAAAAAAAAAAAA",
            "dtype": "i4"
           }
          },
          {
           "mode": "lines+markers",
           "name": "user_4",
           "type": "scatter",
           "x": {
            "bdata": "AAAAAAIAAAAEAAAABgAAAAgAAAAKAAAA",
            "dtype": "i4"
           },
           "y": {
            "bdata": "BwAAAAcAAAALAAAACwAAABQAAAAbAAAA",
            "dtype": "i4"
           }
          },
          {
           "mode": "lines+markers",
           "name": "user_6",
           "type": "scatter",
           "x": {
            "bdata": "AAAAAAIAAAAEAAAABgAAAAgAAAAKAAAA",
            "dtype": "i4"
           },
           "y": {
            "bdata": "AAAAAAAAAAAAAAAAAAAAAAAAAAAAAAAA",
            "dtype": "i4"
           }
          },
          {
           "mode": "lines+markers",
           "name": "user_8",
           "type": "scatter",
           "x": {
            "bdata": "AAAAAAIAAAAEAAAABgAAAAgAAAAKAAAA",
            "dtype": "i4"
           },
           "y": {
            "bdata": "AAAAAAAAAAAAAAAAAAAAAAAAAAAAAAAA",
            "dtype": "i4"
           }
          }
         ],
         "name": "10"
        },
        {
         "data": [
          {
           "mode": "lines+markers",
           "name": "user_1",
           "type": "scatter",
           "x": {
            "bdata": "AAAAAAIAAAAEAAAABgAAAAgAAAAKAAAADAAAAA==",
            "dtype": "i4"
           },
           "y": {
            "bdata": "AAAAAAAAAAAAAAAAAAAAAAAAAAAAAAAAAAAAAA==",
            "dtype": "i4"
           }
          },
          {
           "mode": "lines+markers",
           "name": "user_10",
           "type": "scatter",
           "x": {
            "bdata": "AAAAAAIAAAAEAAAABgAAAAgAAAAKAAAADAAAAA==",
            "dtype": "i4"
           },
           "y": {
            "bdata": "AAAAAAAAAAAAAAAAAAAAAAAAAAAAAAAAAAAAAA==",
            "dtype": "i4"
           }
          },
          {
           "mode": "lines+markers",
           "name": "user_11",
           "type": "scatter",
           "x": {
            "bdata": "AAAAAAIAAAAEAAAABgAAAAgAAAAKAAAADAAAAA==",
            "dtype": "i4"
           },
           "y": {
            "bdata": "AAAAAAAAAAAAAAAAAAAAAAAAAAAAAAAAAQAAAA==",
            "dtype": "i4"
           }
          },
          {
           "mode": "lines+markers",
           "name": "user_12",
           "type": "scatter",
           "x": {
            "bdata": "AAAAAAIAAAAEAAAABgAAAAgAAAAKAAAADAAAAA==",
            "dtype": "i4"
           },
           "y": {
            "bdata": "AAAAAAAAAAAAAAAAAAAAAAAAAAAAAAAAAAAAAA==",
            "dtype": "i4"
           }
          },
          {
           "mode": "lines+markers",
           "name": "user_13",
           "type": "scatter",
           "x": {
            "bdata": "AAAAAAIAAAAEAAAABgAAAAgAAAAKAAAADAAAAA==",
            "dtype": "i4"
           },
           "y": {
            "bdata": "AAAAAAAAAAAAAAAAAAAAAAAAAAAAAAAAAAAAAA==",
            "dtype": "i4"
           }
          },
          {
           "mode": "lines+markers",
           "name": "user_14",
           "type": "scatter",
           "x": {
            "bdata": "AAAAAAIAAAAEAAAABgAAAAgAAAAKAAAADAAAAA==",
            "dtype": "i4"
           },
           "y": {
            "bdata": "AAAAAAAAAAAAAAAAAAAAAAAAAAAAAAAAAAAAAA==",
            "dtype": "i4"
           }
          },
          {
           "mode": "lines+markers",
           "name": "user_15",
           "type": "scatter",
           "x": {
            "bdata": "AAAAAAIAAAAEAAAABgAAAAgAAAAKAAAADAAAAA==",
            "dtype": "i4"
           },
           "y": {
            "bdata": "AAAAAAAAAAAAAAAAAAAAAAAAAAAAAAAAAAAAAA==",
            "dtype": "i4"
           }
          },
          {
           "mode": "lines+markers",
           "name": "user_16",
           "type": "scatter",
           "x": {
            "bdata": "AAAAAAIAAAAEAAAABgAAAAgAAAAKAAAADAAAAA==",
            "dtype": "i4"
           },
           "y": {
            "bdata": "AAAAAAAAAAAAAAAAAAAAAAAAAAAAAAAAAAAAAA==",
            "dtype": "i4"
           }
          },
          {
           "mode": "lines+markers",
           "name": "user_17",
           "type": "scatter",
           "x": {
            "bdata": "AAAAAAIAAAAEAAAABgAAAAgAAAAKAAAADAAAAA==",
            "dtype": "i4"
           },
           "y": {
            "bdata": "AAAAAAEAAAABAAAAAQAAAAEAAAABAAAAAQAAAA==",
            "dtype": "i4"
           }
          },
          {
           "mode": "lines+markers",
           "name": "user_18",
           "type": "scatter",
           "x": {
            "bdata": "AAAAAAIAAAAEAAAABgAAAAgAAAAKAAAADAAAAA==",
            "dtype": "i4"
           },
           "y": {
            "bdata": "AAAAAAAAAAAAAAAAAAAAAAAAAAAAAAAAAAAAAA==",
            "dtype": "i4"
           }
          },
          {
           "mode": "lines+markers",
           "name": "user_19",
           "type": "scatter",
           "x": {
            "bdata": "AAAAAAIAAAAEAAAABgAAAAgAAAAKAAAADAAAAA==",
            "dtype": "i4"
           },
           "y": {
            "bdata": "AAAAAAAAAAAAAAAAAAAAAAAAAAAAAAAAAAAAAA==",
            "dtype": "i4"
           }
          },
          {
           "mode": "lines+markers",
           "name": "user_2",
           "type": "scatter",
           "x": {
            "bdata": "AAAAAAIAAAAEAAAABgAAAAgAAAAKAAAADAAAAA==",
            "dtype": "i4"
           },
           "y": {
            "bdata": "AAAAAAAAAAAAAAAAAAAAAAAAAAAAAAAAAAAAAA==",
            "dtype": "i4"
           }
          },
          {
           "mode": "lines+markers",
           "name": "user_20",
           "type": "scatter",
           "x": {
            "bdata": "AAAAAAIAAAAEAAAABgAAAAgAAAAKAAAADAAAAA==",
            "dtype": "i4"
           },
           "y": {
            "bdata": "AAAAAAAAAAAAAAAAAAAAAAAAAAAAAAAAAAAAAA==",
            "dtype": "i4"
           }
          },
          {
           "mode": "lines+markers",
           "name": "user_21",
           "type": "scatter",
           "x": {
            "bdata": "AAAAAAIAAAAEAAAABgAAAAgAAAAKAAAADAAAAA==",
            "dtype": "i4"
           },
           "y": {
            "bdata": "AAAAAAAAAAAAAAAAAAAAAAAAAAAAAAAAAAAAAA==",
            "dtype": "i4"
           }
          },
          {
           "mode": "lines+markers",
           "name": "user_22",
           "type": "scatter",
           "x": {
            "bdata": "AAAAAAIAAAAEAAAABgAAAAgAAAAKAAAADAAAAA==",
            "dtype": "i4"
           },
           "y": {
            "bdata": "AAAAAAAAAAAAAAAAAAAAAAAAAAAAAAAAAQAAAA==",
            "dtype": "i4"
           }
          },
          {
           "mode": "lines+markers",
           "name": "user_24",
           "type": "scatter",
           "x": {
            "bdata": "AAAAAAIAAAAEAAAABgAAAAgAAAAKAAAADAAAAA==",
            "dtype": "i4"
           },
           "y": {
            "bdata": "AAAAAAAAAAAAAAAAAAAAAAAAAAAAAAAAAAAAAA==",
            "dtype": "i4"
           }
          },
          {
           "mode": "lines+markers",
           "name": "user_25",
           "type": "scatter",
           "x": {
            "bdata": "AAAAAAIAAAAEAAAABgAAAAgAAAAKAAAADAAAAA==",
            "dtype": "i4"
           },
           "y": {
            "bdata": "AAAAAAAAAAAAAAAAAAAAAAAAAAAAAAAAAAAAAA==",
            "dtype": "i4"
           }
          },
          {
           "mode": "lines+markers",
           "name": "user_26",
           "type": "scatter",
           "x": {
            "bdata": "AAAAAAIAAAAEAAAABgAAAAgAAAAKAAAADAAAAA==",
            "dtype": "i4"
           },
           "y": {
            "bdata": "AAAAAAAAAAAAAAAAAAAAAAAAAAAAAAAAAAAAAA==",
            "dtype": "i4"
           }
          },
          {
           "mode": "lines+markers",
           "name": "user_27",
           "type": "scatter",
           "x": {
            "bdata": "AAAAAAIAAAAEAAAABgAAAAgAAAAKAAAADAAAAA==",
            "dtype": "i4"
           },
           "y": {
            "bdata": "AAAAAAAAAAAAAAAAAAAAAAAAAAAAAAAAAAAAAA==",
            "dtype": "i4"
           }
          },
          {
           "mode": "lines+markers",
           "name": "user_28",
           "type": "scatter",
           "x": {
            "bdata": "AAAAAAIAAAAEAAAABgAAAAgAAAAKAAAADAAAAA==",
            "dtype": "i4"
           },
           "y": {
            "bdata": "AAAAAAAAAAAAAAAAAAAAAAAAAAAAAAAAAAAAAA==",
            "dtype": "i4"
           }
          },
          {
           "mode": "lines+markers",
           "name": "user_29",
           "type": "scatter",
           "x": {
            "bdata": "AAAAAAIAAAAEAAAABgAAAAgAAAAKAAAADAAAAA==",
            "dtype": "i4"
           },
           "y": {
            "bdata": "AAAAAAAAAAAAAAAAAAAAAAAAAAAAAAAAAAAAAA==",
            "dtype": "i4"
           }
          },
          {
           "mode": "lines+markers",
           "name": "user_3",
           "type": "scatter",
           "x": {
            "bdata": "AAAAAAIAAAAEAAAABgAAAAgAAAAKAAAADAAAAA==",
            "dtype": "i4"
           },
           "y": {
            "bdata": "AAAAAAAAAAAAAAAAAAAAAAAAAAAAAAAAAAAAAA==",
            "dtype": "i4"
           }
          },
          {
           "mode": "lines+markers",
           "name": "user_30",
           "type": "scatter",
           "x": {
            "bdata": "AAAAAAIAAAAEAAAABgAAAAgAAAAKAAAADAAAAA==",
            "dtype": "i4"
           },
           "y": {
            "bdata": "AAAAAAAAAAAAAAAAAQAAAAIAAAACAAAABAAAAA==",
            "dtype": "i4"
           }
          },
          {
           "mode": "lines+markers",
           "name": "user_31",
           "type": "scatter",
           "x": {
            "bdata": "AAAAAAIAAAAEAAAABgAAAAgAAAAKAAAADAAAAA==",
            "dtype": "i4"
           },
           "y": {
            "bdata": "AAAAAAAAAAAAAAAAAAAAAAAAAAAAAAAAAAAAAA==",
            "dtype": "i4"
           }
          },
          {
           "mode": "lines+markers",
           "name": "user_4",
           "type": "scatter",
           "x": {
            "bdata": "AAAAAAIAAAAEAAAABgAAAAgAAAAKAAAADAAAAA==",
            "dtype": "i4"
           },
           "y": {
            "bdata": "BwAAAAcAAAALAAAACwAAABQAAAAbAAAAIwAAAA==",
            "dtype": "i4"
           }
          },
          {
           "mode": "lines+markers",
           "name": "user_6",
           "type": "scatter",
           "x": {
            "bdata": "AAAAAAIAAAAEAAAABgAAAAgAAAAKAAAADAAAAA==",
            "dtype": "i4"
           },
           "y": {
            "bdata": "AAAAAAAAAAAAAAAAAAAAAAAAAAAAAAAAAAAAAA==",
            "dtype": "i4"
           }
          },
          {
           "mode": "lines+markers",
           "name": "user_8",
           "type": "scatter",
           "x": {
            "bdata": "AAAAAAIAAAAEAAAABgAAAAgAAAAKAAAADAAAAA==",
            "dtype": "i4"
           },
           "y": {
            "bdata": "AAAAAAAAAAAAAAAAAAAAAAAAAAAAAAAAAAAAAA==",
            "dtype": "i4"
           }
          }
         ],
         "name": "12"
        },
        {
         "data": [
          {
           "mode": "lines+markers",
           "name": "user_1",
           "type": "scatter",
           "x": {
            "bdata": "AAAAAAIAAAAEAAAABgAAAAgAAAAKAAAADAAAAA4AAAA=",
            "dtype": "i4"
           },
           "y": {
            "bdata": "AAAAAAAAAAAAAAAAAAAAAAAAAAAAAAAAAAAAAAAAAAA=",
            "dtype": "i4"
           }
          },
          {
           "mode": "lines+markers",
           "name": "user_10",
           "type": "scatter",
           "x": {
            "bdata": "AAAAAAIAAAAEAAAABgAAAAgAAAAKAAAADAAAAA4AAAA=",
            "dtype": "i4"
           },
           "y": {
            "bdata": "AAAAAAAAAAAAAAAAAAAAAAAAAAAAAAAAAAAAAAAAAAA=",
            "dtype": "i4"
           }
          },
          {
           "mode": "lines+markers",
           "name": "user_11",
           "type": "scatter",
           "x": {
            "bdata": "AAAAAAIAAAAEAAAABgAAAAgAAAAKAAAADAAAAA4AAAA=",
            "dtype": "i4"
           },
           "y": {
            "bdata": "AAAAAAAAAAAAAAAAAAAAAAAAAAAAAAAAAQAAAAEAAAA=",
            "dtype": "i4"
           }
          },
          {
           "mode": "lines+markers",
           "name": "user_12",
           "type": "scatter",
           "x": {
            "bdata": "AAAAAAIAAAAEAAAABgAAAAgAAAAKAAAADAAAAA4AAAA=",
            "dtype": "i4"
           },
           "y": {
            "bdata": "AAAAAAAAAAAAAAAAAAAAAAAAAAAAAAAAAAAAAAAAAAA=",
            "dtype": "i4"
           }
          },
          {
           "mode": "lines+markers",
           "name": "user_13",
           "type": "scatter",
           "x": {
            "bdata": "AAAAAAIAAAAEAAAABgAAAAgAAAAKAAAADAAAAA4AAAA=",
            "dtype": "i4"
           },
           "y": {
            "bdata": "AAAAAAAAAAAAAAAAAAAAAAAAAAAAAAAAAAAAAAAAAAA=",
            "dtype": "i4"
           }
          },
          {
           "mode": "lines+markers",
           "name": "user_14",
           "type": "scatter",
           "x": {
            "bdata": "AAAAAAIAAAAEAAAABgAAAAgAAAAKAAAADAAAAA4AAAA=",
            "dtype": "i4"
           },
           "y": {
            "bdata": "AAAAAAAAAAAAAAAAAAAAAAAAAAAAAAAAAAAAAAAAAAA=",
            "dtype": "i4"
           }
          },
          {
           "mode": "lines+markers",
           "name": "user_15",
           "type": "scatter",
           "x": {
            "bdata": "AAAAAAIAAAAEAAAABgAAAAgAAAAKAAAADAAAAA4AAAA=",
            "dtype": "i4"
           },
           "y": {
            "bdata": "AAAAAAAAAAAAAAAAAAAAAAAAAAAAAAAAAAAAAAAAAAA=",
            "dtype": "i4"
           }
          },
          {
           "mode": "lines+markers",
           "name": "user_16",
           "type": "scatter",
           "x": {
            "bdata": "AAAAAAIAAAAEAAAABgAAAAgAAAAKAAAADAAAAA4AAAA=",
            "dtype": "i4"
           },
           "y": {
            "bdata": "AAAAAAAAAAAAAAAAAAAAAAAAAAAAAAAAAAAAAAAAAAA=",
            "dtype": "i4"
           }
          },
          {
           "mode": "lines+markers",
           "name": "user_17",
           "type": "scatter",
           "x": {
            "bdata": "AAAAAAIAAAAEAAAABgAAAAgAAAAKAAAADAAAAA4AAAA=",
            "dtype": "i4"
           },
           "y": {
            "bdata": "AAAAAAEAAAABAAAAAQAAAAEAAAABAAAAAQAAAAEAAAA=",
            "dtype": "i4"
           }
          },
          {
           "mode": "lines+markers",
           "name": "user_18",
           "type": "scatter",
           "x": {
            "bdata": "AAAAAAIAAAAEAAAABgAAAAgAAAAKAAAADAAAAA4AAAA=",
            "dtype": "i4"
           },
           "y": {
            "bdata": "AAAAAAAAAAAAAAAAAAAAAAAAAAAAAAAAAAAAAAAAAAA=",
            "dtype": "i4"
           }
          },
          {
           "mode": "lines+markers",
           "name": "user_19",
           "type": "scatter",
           "x": {
            "bdata": "AAAAAAIAAAAEAAAABgAAAAgAAAAKAAAADAAAAA4AAAA=",
            "dtype": "i4"
           },
           "y": {
            "bdata": "AAAAAAAAAAAAAAAAAAAAAAAAAAAAAAAAAAAAAAAAAAA=",
            "dtype": "i4"
           }
          },
          {
           "mode": "lines+markers",
           "name": "user_2",
           "type": "scatter",
           "x": {
            "bdata": "AAAAAAIAAAAEAAAABgAAAAgAAAAKAAAADAAAAA4AAAA=",
            "dtype": "i4"
           },
           "y": {
            "bdata": "AAAAAAAAAAAAAAAAAAAAAAAAAAAAAAAAAAAAAAAAAAA=",
            "dtype": "i4"
           }
          },
          {
           "mode": "lines+markers",
           "name": "user_20",
           "type": "scatter",
           "x": {
            "bdata": "AAAAAAIAAAAEAAAABgAAAAgAAAAKAAAADAAAAA4AAAA=",
            "dtype": "i4"
           },
           "y": {
            "bdata": "AAAAAAAAAAAAAAAAAAAAAAAAAAAAAAAAAAAAAAAAAAA=",
            "dtype": "i4"
           }
          },
          {
           "mode": "lines+markers",
           "name": "user_21",
           "type": "scatter",
           "x": {
            "bdata": "AAAAAAIAAAAEAAAABgAAAAgAAAAKAAAADAAAAA4AAAA=",
            "dtype": "i4"
           },
           "y": {
            "bdata": "AAAAAAAAAAAAAAAAAAAAAAAAAAAAAAAAAAAAAAAAAAA=",
            "dtype": "i4"
           }
          },
          {
           "mode": "lines+markers",
           "name": "user_22",
           "type": "scatter",
           "x": {
            "bdata": "AAAAAAIAAAAEAAAABgAAAAgAAAAKAAAADAAAAA4AAAA=",
            "dtype": "i4"
           },
           "y": {
            "bdata": "AAAAAAAAAAAAAAAAAAAAAAAAAAAAAAAAAQAAAAEAAAA=",
            "dtype": "i4"
           }
          },
          {
           "mode": "lines+markers",
           "name": "user_24",
           "type": "scatter",
           "x": {
            "bdata": "AAAAAAIAAAAEAAAABgAAAAgAAAAKAAAADAAAAA4AAAA=",
            "dtype": "i4"
           },
           "y": {
            "bdata": "AAAAAAAAAAAAAAAAAAAAAAAAAAAAAAAAAAAAAAAAAAA=",
            "dtype": "i4"
           }
          },
          {
           "mode": "lines+markers",
           "name": "user_25",
           "type": "scatter",
           "x": {
            "bdata": "AAAAAAIAAAAEAAAABgAAAAgAAAAKAAAADAAAAA4AAAA=",
            "dtype": "i4"
           },
           "y": {
            "bdata": "AAAAAAAAAAAAAAAAAAAAAAAAAAAAAAAAAAAAAAAAAAA=",
            "dtype": "i4"
           }
          },
          {
           "mode": "lines+markers",
           "name": "user_26",
           "type": "scatter",
           "x": {
            "bdata": "AAAAAAIAAAAEAAAABgAAAAgAAAAKAAAADAAAAA4AAAA=",
            "dtype": "i4"
           },
           "y": {
            "bdata": "AAAAAAAAAAAAAAAAAAAAAAAAAAAAAAAAAAAAAAAAAAA=",
            "dtype": "i4"
           }
          },
          {
           "mode": "lines+markers",
           "name": "user_27",
           "type": "scatter",
           "x": {
            "bdata": "AAAAAAIAAAAEAAAABgAAAAgAAAAKAAAADAAAAA4AAAA=",
            "dtype": "i4"
           },
           "y": {
            "bdata": "AAAAAAAAAAAAAAAAAAAAAAAAAAAAAAAAAAAAAAAAAAA=",
            "dtype": "i4"
           }
          },
          {
           "mode": "lines+markers",
           "name": "user_28",
           "type": "scatter",
           "x": {
            "bdata": "AAAAAAIAAAAEAAAABgAAAAgAAAAKAAAADAAAAA4AAAA=",
            "dtype": "i4"
           },
           "y": {
            "bdata": "AAAAAAAAAAAAAAAAAAAAAAAAAAAAAAAAAAAAAAAAAAA=",
            "dtype": "i4"
           }
          },
          {
           "mode": "lines+markers",
           "name": "user_29",
           "type": "scatter",
           "x": {
            "bdata": "AAAAAAIAAAAEAAAABgAAAAgAAAAKAAAADAAAAA4AAAA=",
            "dtype": "i4"
           },
           "y": {
            "bdata": "AAAAAAAAAAAAAAAAAAAAAAAAAAAAAAAAAAAAAAAAAAA=",
            "dtype": "i4"
           }
          },
          {
           "mode": "lines+markers",
           "name": "user_3",
           "type": "scatter",
           "x": {
            "bdata": "AAAAAAIAAAAEAAAABgAAAAgAAAAKAAAADAAAAA4AAAA=",
            "dtype": "i4"
           },
           "y": {
            "bdata": "AAAAAAAAAAAAAAAAAAAAAAAAAAAAAAAAAAAAAAAAAAA=",
            "dtype": "i4"
           }
          },
          {
           "mode": "lines+markers",
           "name": "user_30",
           "type": "scatter",
           "x": {
            "bdata": "AAAAAAIAAAAEAAAABgAAAAgAAAAKAAAADAAAAA4AAAA=",
            "dtype": "i4"
           },
           "y": {
            "bdata": "AAAAAAAAAAAAAAAAAQAAAAIAAAACAAAABAAAAAUAAAA=",
            "dtype": "i4"
           }
          },
          {
           "mode": "lines+markers",
           "name": "user_31",
           "type": "scatter",
           "x": {
            "bdata": "AAAAAAIAAAAEAAAABgAAAAgAAAAKAAAADAAAAA4AAAA=",
            "dtype": "i4"
           },
           "y": {
            "bdata": "AAAAAAAAAAAAAAAAAAAAAAAAAAAAAAAAAAAAAAAAAAA=",
            "dtype": "i4"
           }
          },
          {
           "mode": "lines+markers",
           "name": "user_4",
           "type": "scatter",
           "x": {
            "bdata": "AAAAAAIAAAAEAAAABgAAAAgAAAAKAAAADAAAAA4AAAA=",
            "dtype": "i4"
           },
           "y": {
            "bdata": "BwAAAAcAAAALAAAACwAAABQAAAAbAAAAIwAAADAAAAA=",
            "dtype": "i4"
           }
          },
          {
           "mode": "lines+markers",
           "name": "user_6",
           "type": "scatter",
           "x": {
            "bdata": "AAAAAAIAAAAEAAAABgAAAAgAAAAKAAAADAAAAA4AAAA=",
            "dtype": "i4"
           },
           "y": {
            "bdata": "AAAAAAAAAAAAAAAAAAAAAAAAAAAAAAAAAAAAAAAAAAA=",
            "dtype": "i4"
           }
          },
          {
           "mode": "lines+markers",
           "name": "user_8",
           "type": "scatter",
           "x": {
            "bdata": "AAAAAAIAAAAEAAAABgAAAAgAAAAKAAAADAAAAA4AAAA=",
            "dtype": "i4"
           },
           "y": {
            "bdata": "AAAAAAAAAAAAAAAAAAAAAAAAAAAAAAAAAAAAAAAAAAA=",
            "dtype": "i4"
           }
          }
         ],
         "name": "14"
        },
        {
         "data": [
          {
           "mode": "lines+markers",
           "name": "user_1",
           "type": "scatter",
           "x": {
            "bdata": "AAAAAAIAAAAEAAAABgAAAAgAAAAKAAAADAAAAA4AAAAQAAAA",
            "dtype": "i4"
           },
           "y": {
            "bdata": "AAAAAAAAAAAAAAAAAAAAAAAAAAAAAAAAAAAAAAAAAAAAAAAA",
            "dtype": "i4"
           }
          },
          {
           "mode": "lines+markers",
           "name": "user_10",
           "type": "scatter",
           "x": {
            "bdata": "AAAAAAIAAAAEAAAABgAAAAgAAAAKAAAADAAAAA4AAAAQAAAA",
            "dtype": "i4"
           },
           "y": {
            "bdata": "AAAAAAAAAAAAAAAAAAAAAAAAAAAAAAAAAAAAAAAAAAAAAAAA",
            "dtype": "i4"
           }
          },
          {
           "mode": "lines+markers",
           "name": "user_11",
           "type": "scatter",
           "x": {
            "bdata": "AAAAAAIAAAAEAAAABgAAAAgAAAAKAAAADAAAAA4AAAAQAAAA",
            "dtype": "i4"
           },
           "y": {
            "bdata": "AAAAAAAAAAAAAAAAAAAAAAAAAAAAAAAAAQAAAAEAAAABAAAA",
            "dtype": "i4"
           }
          },
          {
           "mode": "lines+markers",
           "name": "user_12",
           "type": "scatter",
           "x": {
            "bdata": "AAAAAAIAAAAEAAAABgAAAAgAAAAKAAAADAAAAA4AAAAQAAAA",
            "dtype": "i4"
           },
           "y": {
            "bdata": "AAAAAAAAAAAAAAAAAAAAAAAAAAAAAAAAAAAAAAAAAAAAAAAA",
            "dtype": "i4"
           }
          },
          {
           "mode": "lines+markers",
           "name": "user_13",
           "type": "scatter",
           "x": {
            "bdata": "AAAAAAIAAAAEAAAABgAAAAgAAAAKAAAADAAAAA4AAAAQAAAA",
            "dtype": "i4"
           },
           "y": {
            "bdata": "AAAAAAAAAAAAAAAAAAAAAAAAAAAAAAAAAAAAAAAAAAAAAAAA",
            "dtype": "i4"
           }
          },
          {
           "mode": "lines+markers",
           "name": "user_14",
           "type": "scatter",
           "x": {
            "bdata": "AAAAAAIAAAAEAAAABgAAAAgAAAAKAAAADAAAAA4AAAAQAAAA",
            "dtype": "i4"
           },
           "y": {
            "bdata": "AAAAAAAAAAAAAAAAAAAAAAAAAAAAAAAAAAAAAAAAAAABAAAA",
            "dtype": "i4"
           }
          },
          {
           "mode": "lines+markers",
           "name": "user_15",
           "type": "scatter",
           "x": {
            "bdata": "AAAAAAIAAAAEAAAABgAAAAgAAAAKAAAADAAAAA4AAAAQAAAA",
            "dtype": "i4"
           },
           "y": {
            "bdata": "AAAAAAAAAAAAAAAAAAAAAAAAAAAAAAAAAAAAAAAAAAAAAAAA",
            "dtype": "i4"
           }
          },
          {
           "mode": "lines+markers",
           "name": "user_16",
           "type": "scatter",
           "x": {
            "bdata": "AAAAAAIAAAAEAAAABgAAAAgAAAAKAAAADAAAAA4AAAAQAAAA",
            "dtype": "i4"
           },
           "y": {
            "bdata": "AAAAAAAAAAAAAAAAAAAAAAAAAAAAAAAAAAAAAAAAAAAAAAAA",
            "dtype": "i4"
           }
          },
          {
           "mode": "lines+markers",
           "name": "user_17",
           "type": "scatter",
           "x": {
            "bdata": "AAAAAAIAAAAEAAAABgAAAAgAAAAKAAAADAAAAA4AAAAQAAAA",
            "dtype": "i4"
           },
           "y": {
            "bdata": "AAAAAAEAAAABAAAAAQAAAAEAAAABAAAAAQAAAAEAAAABAAAA",
            "dtype": "i4"
           }
          },
          {
           "mode": "lines+markers",
           "name": "user_18",
           "type": "scatter",
           "x": {
            "bdata": "AAAAAAIAAAAEAAAABgAAAAgAAAAKAAAADAAAAA4AAAAQAAAA",
            "dtype": "i4"
           },
           "y": {
            "bdata": "AAAAAAAAAAAAAAAAAAAAAAAAAAAAAAAAAAAAAAAAAAAAAAAA",
            "dtype": "i4"
           }
          },
          {
           "mode": "lines+markers",
           "name": "user_19",
           "type": "scatter",
           "x": {
            "bdata": "AAAAAAIAAAAEAAAABgAAAAgAAAAKAAAADAAAAA4AAAAQAAAA",
            "dtype": "i4"
           },
           "y": {
            "bdata": "AAAAAAAAAAAAAAAAAAAAAAAAAAAAAAAAAAAAAAAAAAAAAAAA",
            "dtype": "i4"
           }
          },
          {
           "mode": "lines+markers",
           "name": "user_2",
           "type": "scatter",
           "x": {
            "bdata": "AAAAAAIAAAAEAAAABgAAAAgAAAAKAAAADAAAAA4AAAAQAAAA",
            "dtype": "i4"
           },
           "y": {
            "bdata": "AAAAAAAAAAAAAAAAAAAAAAAAAAAAAAAAAAAAAAAAAAA5AAAA",
            "dtype": "i4"
           }
          },
          {
           "mode": "lines+markers",
           "name": "user_20",
           "type": "scatter",
           "x": {
            "bdata": "AAAAAAIAAAAEAAAABgAAAAgAAAAKAAAADAAAAA4AAAAQAAAA",
            "dtype": "i4"
           },
           "y": {
            "bdata": "AAAAAAAAAAAAAAAAAAAAAAAAAAAAAAAAAAAAAAAAAAAAAAAA",
            "dtype": "i4"
           }
          },
          {
           "mode": "lines+markers",
           "name": "user_21",
           "type": "scatter",
           "x": {
            "bdata": "AAAAAAIAAAAEAAAABgAAAAgAAAAKAAAADAAAAA4AAAAQAAAA",
            "dtype": "i4"
           },
           "y": {
            "bdata": "AAAAAAAAAAAAAAAAAAAAAAAAAAAAAAAAAAAAAAAAAAAAAAAA",
            "dtype": "i4"
           }
          },
          {
           "mode": "lines+markers",
           "name": "user_22",
           "type": "scatter",
           "x": {
            "bdata": "AAAAAAIAAAAEAAAABgAAAAgAAAAKAAAADAAAAA4AAAAQAAAA",
            "dtype": "i4"
           },
           "y": {
            "bdata": "AAAAAAAAAAAAAAAAAAAAAAAAAAAAAAAAAQAAAAEAAAABAAAA",
            "dtype": "i4"
           }
          },
          {
           "mode": "lines+markers",
           "name": "user_24",
           "type": "scatter",
           "x": {
            "bdata": "AAAAAAIAAAAEAAAABgAAAAgAAAAKAAAADAAAAA4AAAAQAAAA",
            "dtype": "i4"
           },
           "y": {
            "bdata": "AAAAAAAAAAAAAAAAAAAAAAAAAAAAAAAAAAAAAAAAAAAAAAAA",
            "dtype": "i4"
           }
          },
          {
           "mode": "lines+markers",
           "name": "user_25",
           "type": "scatter",
           "x": {
            "bdata": "AAAAAAIAAAAEAAAABgAAAAgAAAAKAAAADAAAAA4AAAAQAAAA",
            "dtype": "i4"
           },
           "y": {
            "bdata": "AAAAAAAAAAAAAAAAAAAAAAAAAAAAAAAAAAAAAAAAAAAAAAAA",
            "dtype": "i4"
           }
          },
          {
           "mode": "lines+markers",
           "name": "user_26",
           "type": "scatter",
           "x": {
            "bdata": "AAAAAAIAAAAEAAAABgAAAAgAAAAKAAAADAAAAA4AAAAQAAAA",
            "dtype": "i4"
           },
           "y": {
            "bdata": "AAAAAAAAAAAAAAAAAAAAAAAAAAAAAAAAAAAAAAAAAAAAAAAA",
            "dtype": "i4"
           }
          },
          {
           "mode": "lines+markers",
           "name": "user_27",
           "type": "scatter",
           "x": {
            "bdata": "AAAAAAIAAAAEAAAABgAAAAgAAAAKAAAADAAAAA4AAAAQAAAA",
            "dtype": "i4"
           },
           "y": {
            "bdata": "AAAAAAAAAAAAAAAAAAAAAAAAAAAAAAAAAAAAAAAAAAAAAAAA",
            "dtype": "i4"
           }
          },
          {
           "mode": "lines+markers",
           "name": "user_28",
           "type": "scatter",
           "x": {
            "bdata": "AAAAAAIAAAAEAAAABgAAAAgAAAAKAAAADAAAAA4AAAAQAAAA",
            "dtype": "i4"
           },
           "y": {
            "bdata": "AAAAAAAAAAAAAAAAAAAAAAAAAAAAAAAAAAAAAAAAAAAAAAAA",
            "dtype": "i4"
           }
          },
          {
           "mode": "lines+markers",
           "name": "user_29",
           "type": "scatter",
           "x": {
            "bdata": "AAAAAAIAAAAEAAAABgAAAAgAAAAKAAAADAAAAA4AAAAQAAAA",
            "dtype": "i4"
           },
           "y": {
            "bdata": "AAAAAAAAAAAAAAAAAAAAAAAAAAAAAAAAAAAAAAAAAAAAAAAA",
            "dtype": "i4"
           }
          },
          {
           "mode": "lines+markers",
           "name": "user_3",
           "type": "scatter",
           "x": {
            "bdata": "AAAAAAIAAAAEAAAABgAAAAgAAAAKAAAADAAAAA4AAAAQAAAA",
            "dtype": "i4"
           },
           "y": {
            "bdata": "AAAAAAAAAAAAAAAAAAAAAAAAAAAAAAAAAAAAAAAAAAAAAAAA",
            "dtype": "i4"
           }
          },
          {
           "mode": "lines+markers",
           "name": "user_30",
           "type": "scatter",
           "x": {
            "bdata": "AAAAAAIAAAAEAAAABgAAAAgAAAAKAAAADAAAAA4AAAAQAAAA",
            "dtype": "i4"
           },
           "y": {
            "bdata": "AAAAAAAAAAAAAAAAAQAAAAIAAAACAAAABAAAAAUAAAAFAAAA",
            "dtype": "i4"
           }
          },
          {
           "mode": "lines+markers",
           "name": "user_31",
           "type": "scatter",
           "x": {
            "bdata": "AAAAAAIAAAAEAAAABgAAAAgAAAAKAAAADAAAAA4AAAAQAAAA",
            "dtype": "i4"
           },
           "y": {
            "bdata": "AAAAAAAAAAAAAAAAAAAAAAAAAAAAAAAAAAAAAAAAAAAAAAAA",
            "dtype": "i4"
           }
          },
          {
           "mode": "lines+markers",
           "name": "user_4",
           "type": "scatter",
           "x": {
            "bdata": "AAAAAAIAAAAEAAAABgAAAAgAAAAKAAAADAAAAA4AAAAQAAAA",
            "dtype": "i4"
           },
           "y": {
            "bdata": "BwAAAAcAAAALAAAACwAAABQAAAAbAAAAIwAAADAAAAA1AAAA",
            "dtype": "i4"
           }
          },
          {
           "mode": "lines+markers",
           "name": "user_6",
           "type": "scatter",
           "x": {
            "bdata": "AAAAAAIAAAAEAAAABgAAAAgAAAAKAAAADAAAAA4AAAAQAAAA",
            "dtype": "i4"
           },
           "y": {
            "bdata": "AAAAAAAAAAAAAAAAAAAAAAAAAAAAAAAAAAAAAAAAAAAAAAAA",
            "dtype": "i4"
           }
          },
          {
           "mode": "lines+markers",
           "name": "user_8",
           "type": "scatter",
           "x": {
            "bdata": "AAAAAAIAAAAEAAAABgAAAAgAAAAKAAAADAAAAA4AAAAQAAAA",
            "dtype": "i4"
           },
           "y": {
            "bdata": "AAAAAAAAAAAAAAAAAAAAAAAAAAAAAAAAAAAAAAAAAAAAAAAA",
            "dtype": "i4"
           }
          }
         ],
         "name": "16"
        },
        {
         "data": [
          {
           "mode": "lines+markers",
           "name": "user_1",
           "type": "scatter",
           "x": {
            "bdata": "AAAAAAIAAAAEAAAABgAAAAgAAAAKAAAADAAAAA4AAAAQAAAAEgAAAA==",
            "dtype": "i4"
           },
           "y": {
            "bdata": "AAAAAAAAAAAAAAAAAAAAAAAAAAAAAAAAAAAAAAAAAAAAAAAAAAAAAA==",
            "dtype": "i4"
           }
          },
          {
           "mode": "lines+markers",
           "name": "user_10",
           "type": "scatter",
           "x": {
            "bdata": "AAAAAAIAAAAEAAAABgAAAAgAAAAKAAAADAAAAA4AAAAQAAAAEgAAAA==",
            "dtype": "i4"
           },
           "y": {
            "bdata": "AAAAAAAAAAAAAAAAAAAAAAAAAAAAAAAAAAAAAAAAAAAAAAAAAAAAAA==",
            "dtype": "i4"
           }
          },
          {
           "mode": "lines+markers",
           "name": "user_11",
           "type": "scatter",
           "x": {
            "bdata": "AAAAAAIAAAAEAAAABgAAAAgAAAAKAAAADAAAAA4AAAAQAAAAEgAAAA==",
            "dtype": "i4"
           },
           "y": {
            "bdata": "AAAAAAAAAAAAAAAAAAAAAAAAAAAAAAAAAQAAAAEAAAABAAAAAQAAAA==",
            "dtype": "i4"
           }
          },
          {
           "mode": "lines+markers",
           "name": "user_12",
           "type": "scatter",
           "x": {
            "bdata": "AAAAAAIAAAAEAAAABgAAAAgAAAAKAAAADAAAAA4AAAAQAAAAEgAAAA==",
            "dtype": "i4"
           },
           "y": {
            "bdata": "AAAAAAAAAAAAAAAAAAAAAAAAAAAAAAAAAAAAAAAAAAAAAAAAAAAAAA==",
            "dtype": "i4"
           }
          },
          {
           "mode": "lines+markers",
           "name": "user_13",
           "type": "scatter",
           "x": {
            "bdata": "AAAAAAIAAAAEAAAABgAAAAgAAAAKAAAADAAAAA4AAAAQAAAAEgAAAA==",
            "dtype": "i4"
           },
           "y": {
            "bdata": "AAAAAAAAAAAAAAAAAAAAAAAAAAAAAAAAAAAAAAAAAAAAAAAAAAAAAA==",
            "dtype": "i4"
           }
          },
          {
           "mode": "lines+markers",
           "name": "user_14",
           "type": "scatter",
           "x": {
            "bdata": "AAAAAAIAAAAEAAAABgAAAAgAAAAKAAAADAAAAA4AAAAQAAAAEgAAAA==",
            "dtype": "i4"
           },
           "y": {
            "bdata": "AAAAAAAAAAAAAAAAAAAAAAAAAAAAAAAAAAAAAAAAAAABAAAAAQAAAA==",
            "dtype": "i4"
           }
          },
          {
           "mode": "lines+markers",
           "name": "user_15",
           "type": "scatter",
           "x": {
            "bdata": "AAAAAAIAAAAEAAAABgAAAAgAAAAKAAAADAAAAA4AAAAQAAAAEgAAAA==",
            "dtype": "i4"
           },
           "y": {
            "bdata": "AAAAAAAAAAAAAAAAAAAAAAAAAAAAAAAAAAAAAAAAAAAAAAAAAAAAAA==",
            "dtype": "i4"
           }
          },
          {
           "mode": "lines+markers",
           "name": "user_16",
           "type": "scatter",
           "x": {
            "bdata": "AAAAAAIAAAAEAAAABgAAAAgAAAAKAAAADAAAAA4AAAAQAAAAEgAAAA==",
            "dtype": "i4"
           },
           "y": {
            "bdata": "AAAAAAAAAAAAAAAAAAAAAAAAAAAAAAAAAAAAAAAAAAAAAAAAAAAAAA==",
            "dtype": "i4"
           }
          },
          {
           "mode": "lines+markers",
           "name": "user_17",
           "type": "scatter",
           "x": {
            "bdata": "AAAAAAIAAAAEAAAABgAAAAgAAAAKAAAADAAAAA4AAAAQAAAAEgAAAA==",
            "dtype": "i4"
           },
           "y": {
            "bdata": "AAAAAAEAAAABAAAAAQAAAAEAAAABAAAAAQAAAAEAAAABAAAAAQAAAA==",
            "dtype": "i4"
           }
          },
          {
           "mode": "lines+markers",
           "name": "user_18",
           "type": "scatter",
           "x": {
            "bdata": "AAAAAAIAAAAEAAAABgAAAAgAAAAKAAAADAAAAA4AAAAQAAAAEgAAAA==",
            "dtype": "i4"
           },
           "y": {
            "bdata": "AAAAAAAAAAAAAAAAAAAAAAAAAAAAAAAAAAAAAAAAAAAAAAAAAAAAAA==",
            "dtype": "i4"
           }
          },
          {
           "mode": "lines+markers",
           "name": "user_19",
           "type": "scatter",
           "x": {
            "bdata": "AAAAAAIAAAAEAAAABgAAAAgAAAAKAAAADAAAAA4AAAAQAAAAEgAAAA==",
            "dtype": "i4"
           },
           "y": {
            "bdata": "AAAAAAAAAAAAAAAAAAAAAAAAAAAAAAAAAAAAAAAAAAAAAAAAAAAAAA==",
            "dtype": "i4"
           }
          },
          {
           "mode": "lines+markers",
           "name": "user_2",
           "type": "scatter",
           "x": {
            "bdata": "AAAAAAIAAAAEAAAABgAAAAgAAAAKAAAADAAAAA4AAAAQAAAAEgAAAA==",
            "dtype": "i4"
           },
           "y": {
            "bdata": "AAAAAAAAAAAAAAAAAAAAAAAAAAAAAAAAAAAAAAAAAAA5AAAAOgAAAA==",
            "dtype": "i4"
           }
          },
          {
           "mode": "lines+markers",
           "name": "user_20",
           "type": "scatter",
           "x": {
            "bdata": "AAAAAAIAAAAEAAAABgAAAAgAAAAKAAAADAAAAA4AAAAQAAAAEgAAAA==",
            "dtype": "i4"
           },
           "y": {
            "bdata": "AAAAAAAAAAAAAAAAAAAAAAAAAAAAAAAAAAAAAAAAAAAAAAAAAAAAAA==",
            "dtype": "i4"
           }
          },
          {
           "mode": "lines+markers",
           "name": "user_21",
           "type": "scatter",
           "x": {
            "bdata": "AAAAAAIAAAAEAAAABgAAAAgAAAAKAAAADAAAAA4AAAAQAAAAEgAAAA==",
            "dtype": "i4"
           },
           "y": {
            "bdata": "AAAAAAAAAAAAAAAAAAAAAAAAAAAAAAAAAAAAAAAAAAAAAAAAAAAAAA==",
            "dtype": "i4"
           }
          },
          {
           "mode": "lines+markers",
           "name": "user_22",
           "type": "scatter",
           "x": {
            "bdata": "AAAAAAIAAAAEAAAABgAAAAgAAAAKAAAADAAAAA4AAAAQAAAAEgAAAA==",
            "dtype": "i4"
           },
           "y": {
            "bdata": "AAAAAAAAAAAAAAAAAAAAAAAAAAAAAAAAAQAAAAEAAAABAAAAAQAAAA==",
            "dtype": "i4"
           }
          },
          {
           "mode": "lines+markers",
           "name": "user_24",
           "type": "scatter",
           "x": {
            "bdata": "AAAAAAIAAAAEAAAABgAAAAgAAAAKAAAADAAAAA4AAAAQAAAAEgAAAA==",
            "dtype": "i4"
           },
           "y": {
            "bdata": "AAAAAAAAAAAAAAAAAAAAAAAAAAAAAAAAAAAAAAAAAAAAAAAAAAAAAA==",
            "dtype": "i4"
           }
          },
          {
           "mode": "lines+markers",
           "name": "user_25",
           "type": "scatter",
           "x": {
            "bdata": "AAAAAAIAAAAEAAAABgAAAAgAAAAKAAAADAAAAA4AAAAQAAAAEgAAAA==",
            "dtype": "i4"
           },
           "y": {
            "bdata": "AAAAAAAAAAAAAAAAAAAAAAAAAAAAAAAAAAAAAAAAAAAAAAAAAAAAAA==",
            "dtype": "i4"
           }
          },
          {
           "mode": "lines+markers",
           "name": "user_26",
           "type": "scatter",
           "x": {
            "bdata": "AAAAAAIAAAAEAAAABgAAAAgAAAAKAAAADAAAAA4AAAAQAAAAEgAAAA==",
            "dtype": "i4"
           },
           "y": {
            "bdata": "AAAAAAAAAAAAAAAAAAAAAAAAAAAAAAAAAAAAAAAAAAAAAAAAAAAAAA==",
            "dtype": "i4"
           }
          },
          {
           "mode": "lines+markers",
           "name": "user_27",
           "type": "scatter",
           "x": {
            "bdata": "AAAAAAIAAAAEAAAABgAAAAgAAAAKAAAADAAAAA4AAAAQAAAAEgAAAA==",
            "dtype": "i4"
           },
           "y": {
            "bdata": "AAAAAAAAAAAAAAAAAAAAAAAAAAAAAAAAAAAAAAAAAAAAAAAAAAAAAA==",
            "dtype": "i4"
           }
          },
          {
           "mode": "lines+markers",
           "name": "user_28",
           "type": "scatter",
           "x": {
            "bdata": "AAAAAAIAAAAEAAAABgAAAAgAAAAKAAAADAAAAA4AAAAQAAAAEgAAAA==",
            "dtype": "i4"
           },
           "y": {
            "bdata": "AAAAAAAAAAAAAAAAAAAAAAAAAAAAAAAAAAAAAAAAAAAAAAAAAAAAAA==",
            "dtype": "i4"
           }
          },
          {
           "mode": "lines+markers",
           "name": "user_29",
           "type": "scatter",
           "x": {
            "bdata": "AAAAAAIAAAAEAAAABgAAAAgAAAAKAAAADAAAAA4AAAAQAAAAEgAAAA==",
            "dtype": "i4"
           },
           "y": {
            "bdata": "AAAAAAAAAAAAAAAAAAAAAAAAAAAAAAAAAAAAAAAAAAAAAAAAAAAAAA==",
            "dtype": "i4"
           }
          },
          {
           "mode": "lines+markers",
           "name": "user_3",
           "type": "scatter",
           "x": {
            "bdata": "AAAAAAIAAAAEAAAABgAAAAgAAAAKAAAADAAAAA4AAAAQAAAAEgAAAA==",
            "dtype": "i4"
           },
           "y": {
            "bdata": "AAAAAAAAAAAAAAAAAAAAAAAAAAAAAAAAAAAAAAAAAAAAAAAAAAAAAA==",
            "dtype": "i4"
           }
          },
          {
           "mode": "lines+markers",
           "name": "user_30",
           "type": "scatter",
           "x": {
            "bdata": "AAAAAAIAAAAEAAAABgAAAAgAAAAKAAAADAAAAA4AAAAQAAAAEgAAAA==",
            "dtype": "i4"
           },
           "y": {
            "bdata": "AAAAAAAAAAAAAAAAAQAAAAIAAAACAAAABAAAAAUAAAAFAAAABQAAAA==",
            "dtype": "i4"
           }
          },
          {
           "mode": "lines+markers",
           "name": "user_31",
           "type": "scatter",
           "x": {
            "bdata": "AAAAAAIAAAAEAAAABgAAAAgAAAAKAAAADAAAAA4AAAAQAAAAEgAAAA==",
            "dtype": "i4"
           },
           "y": {
            "bdata": "AAAAAAAAAAAAAAAAAAAAAAAAAAAAAAAAAAAAAAAAAAAAAAAAAAAAAA==",
            "dtype": "i4"
           }
          },
          {
           "mode": "lines+markers",
           "name": "user_4",
           "type": "scatter",
           "x": {
            "bdata": "AAAAAAIAAAAEAAAABgAAAAgAAAAKAAAADAAAAA4AAAAQAAAAEgAAAA==",
            "dtype": "i4"
           },
           "y": {
            "bdata": "BwAAAAcAAAALAAAACwAAABQAAAAbAAAAIwAAADAAAAA1AAAANQAAAA==",
            "dtype": "i4"
           }
          },
          {
           "mode": "lines+markers",
           "name": "user_6",
           "type": "scatter",
           "x": {
            "bdata": "AAAAAAIAAAAEAAAABgAAAAgAAAAKAAAADAAAAA4AAAAQAAAAEgAAAA==",
            "dtype": "i4"
           },
           "y": {
            "bdata": "AAAAAAAAAAAAAAAAAAAAAAAAAAAAAAAAAAAAAAAAAAAAAAAAAAAAAA==",
            "dtype": "i4"
           }
          },
          {
           "mode": "lines+markers",
           "name": "user_8",
           "type": "scatter",
           "x": {
            "bdata": "AAAAAAIAAAAEAAAABgAAAAgAAAAKAAAADAAAAA4AAAAQAAAAEgAAAA==",
            "dtype": "i4"
           },
           "y": {
            "bdata": "AAAAAAAAAAAAAAAAAAAAAAAAAAAAAAAAAAAAAAAAAAAAAAAAAAAAAA==",
            "dtype": "i4"
           }
          }
         ],
         "name": "18"
        },
        {
         "data": [
          {
           "mode": "lines+markers",
           "name": "user_1",
           "type": "scatter",
           "x": {
            "bdata": "AAAAAAIAAAAEAAAABgAAAAgAAAAKAAAADAAAAA4AAAAQAAAAEgAAABQAAAA=",
            "dtype": "i4"
           },
           "y": {
            "bdata": "AAAAAAAAAAAAAAAAAAAAAAAAAAAAAAAAAAAAAAAAAAAAAAAAAAAAAAAAAAA=",
            "dtype": "i4"
           }
          },
          {
           "mode": "lines+markers",
           "name": "user_10",
           "type": "scatter",
           "x": {
            "bdata": "AAAAAAIAAAAEAAAABgAAAAgAAAAKAAAADAAAAA4AAAAQAAAAEgAAABQAAAA=",
            "dtype": "i4"
           },
           "y": {
            "bdata": "AAAAAAAAAAAAAAAAAAAAAAAAAAAAAAAAAAAAAAAAAAAAAAAAAAAAAAAAAAA=",
            "dtype": "i4"
           }
          },
          {
           "mode": "lines+markers",
           "name": "user_11",
           "type": "scatter",
           "x": {
            "bdata": "AAAAAAIAAAAEAAAABgAAAAgAAAAKAAAADAAAAA4AAAAQAAAAEgAAABQAAAA=",
            "dtype": "i4"
           },
           "y": {
            "bdata": "AAAAAAAAAAAAAAAAAAAAAAAAAAAAAAAAAQAAAAEAAAABAAAAAQAAAAEAAAA=",
            "dtype": "i4"
           }
          },
          {
           "mode": "lines+markers",
           "name": "user_12",
           "type": "scatter",
           "x": {
            "bdata": "AAAAAAIAAAAEAAAABgAAAAgAAAAKAAAADAAAAA4AAAAQAAAAEgAAABQAAAA=",
            "dtype": "i4"
           },
           "y": {
            "bdata": "AAAAAAAAAAAAAAAAAAAAAAAAAAAAAAAAAAAAAAAAAAAAAAAAAAAAAAAAAAA=",
            "dtype": "i4"
           }
          },
          {
           "mode": "lines+markers",
           "name": "user_13",
           "type": "scatter",
           "x": {
            "bdata": "AAAAAAIAAAAEAAAABgAAAAgAAAAKAAAADAAAAA4AAAAQAAAAEgAAABQAAAA=",
            "dtype": "i4"
           },
           "y": {
            "bdata": "AAAAAAAAAAAAAAAAAAAAAAAAAAAAAAAAAAAAAAAAAAAAAAAAAAAAAAAAAAA=",
            "dtype": "i4"
           }
          },
          {
           "mode": "lines+markers",
           "name": "user_14",
           "type": "scatter",
           "x": {
            "bdata": "AAAAAAIAAAAEAAAABgAAAAgAAAAKAAAADAAAAA4AAAAQAAAAEgAAABQAAAA=",
            "dtype": "i4"
           },
           "y": {
            "bdata": "AAAAAAAAAAAAAAAAAAAAAAAAAAAAAAAAAAAAAAAAAAABAAAAAQAAAAEAAAA=",
            "dtype": "i4"
           }
          },
          {
           "mode": "lines+markers",
           "name": "user_15",
           "type": "scatter",
           "x": {
            "bdata": "AAAAAAIAAAAEAAAABgAAAAgAAAAKAAAADAAAAA4AAAAQAAAAEgAAABQAAAA=",
            "dtype": "i4"
           },
           "y": {
            "bdata": "AAAAAAAAAAAAAAAAAAAAAAAAAAAAAAAAAAAAAAAAAAAAAAAAAAAAAAAAAAA=",
            "dtype": "i4"
           }
          },
          {
           "mode": "lines+markers",
           "name": "user_16",
           "type": "scatter",
           "x": {
            "bdata": "AAAAAAIAAAAEAAAABgAAAAgAAAAKAAAADAAAAA4AAAAQAAAAEgAAABQAAAA=",
            "dtype": "i4"
           },
           "y": {
            "bdata": "AAAAAAAAAAAAAAAAAAAAAAAAAAAAAAAAAAAAAAAAAAAAAAAAAAAAAAAAAAA=",
            "dtype": "i4"
           }
          },
          {
           "mode": "lines+markers",
           "name": "user_17",
           "type": "scatter",
           "x": {
            "bdata": "AAAAAAIAAAAEAAAABgAAAAgAAAAKAAAADAAAAA4AAAAQAAAAEgAAABQAAAA=",
            "dtype": "i4"
           },
           "y": {
            "bdata": "AAAAAAEAAAABAAAAAQAAAAEAAAABAAAAAQAAAAEAAAABAAAAAQAAAAEAAAA=",
            "dtype": "i4"
           }
          },
          {
           "mode": "lines+markers",
           "name": "user_18",
           "type": "scatter",
           "x": {
            "bdata": "AAAAAAIAAAAEAAAABgAAAAgAAAAKAAAADAAAAA4AAAAQAAAAEgAAABQAAAA=",
            "dtype": "i4"
           },
           "y": {
            "bdata": "AAAAAAAAAAAAAAAAAAAAAAAAAAAAAAAAAAAAAAAAAAAAAAAAAAAAAAAAAAA=",
            "dtype": "i4"
           }
          },
          {
           "mode": "lines+markers",
           "name": "user_19",
           "type": "scatter",
           "x": {
            "bdata": "AAAAAAIAAAAEAAAABgAAAAgAAAAKAAAADAAAAA4AAAAQAAAAEgAAABQAAAA=",
            "dtype": "i4"
           },
           "y": {
            "bdata": "AAAAAAAAAAAAAAAAAAAAAAAAAAAAAAAAAAAAAAAAAAAAAAAAAAAAAAAAAAA=",
            "dtype": "i4"
           }
          },
          {
           "mode": "lines+markers",
           "name": "user_2",
           "type": "scatter",
           "x": {
            "bdata": "AAAAAAIAAAAEAAAABgAAAAgAAAAKAAAADAAAAA4AAAAQAAAAEgAAABQAAAA=",
            "dtype": "i4"
           },
           "y": {
            "bdata": "AAAAAAAAAAAAAAAAAAAAAAAAAAAAAAAAAAAAAAAAAAA5AAAAOgAAADoAAAA=",
            "dtype": "i4"
           }
          },
          {
           "mode": "lines+markers",
           "name": "user_20",
           "type": "scatter",
           "x": {
            "bdata": "AAAAAAIAAAAEAAAABgAAAAgAAAAKAAAADAAAAA4AAAAQAAAAEgAAABQAAAA=",
            "dtype": "i4"
           },
           "y": {
            "bdata": "AAAAAAAAAAAAAAAAAAAAAAAAAAAAAAAAAAAAAAAAAAAAAAAAAAAAAAAAAAA=",
            "dtype": "i4"
           }
          },
          {
           "mode": "lines+markers",
           "name": "user_21",
           "type": "scatter",
           "x": {
            "bdata": "AAAAAAIAAAAEAAAABgAAAAgAAAAKAAAADAAAAA4AAAAQAAAAEgAAABQAAAA=",
            "dtype": "i4"
           },
           "y": {
            "bdata": "AAAAAAAAAAAAAAAAAAAAAAAAAAAAAAAAAAAAAAAAAAAAAAAAAAAAAAAAAAA=",
            "dtype": "i4"
           }
          },
          {
           "mode": "lines+markers",
           "name": "user_22",
           "type": "scatter",
           "x": {
            "bdata": "AAAAAAIAAAAEAAAABgAAAAgAAAAKAAAADAAAAA4AAAAQAAAAEgAAABQAAAA=",
            "dtype": "i4"
           },
           "y": {
            "bdata": "AAAAAAAAAAAAAAAAAAAAAAAAAAAAAAAAAQAAAAEAAAABAAAAAQAAAAEAAAA=",
            "dtype": "i4"
           }
          },
          {
           "mode": "lines+markers",
           "name": "user_24",
           "type": "scatter",
           "x": {
            "bdata": "AAAAAAIAAAAEAAAABgAAAAgAAAAKAAAADAAAAA4AAAAQAAAAEgAAABQAAAA=",
            "dtype": "i4"
           },
           "y": {
            "bdata": "AAAAAAAAAAAAAAAAAAAAAAAAAAAAAAAAAAAAAAAAAAAAAAAAAAAAAAAAAAA=",
            "dtype": "i4"
           }
          },
          {
           "mode": "lines+markers",
           "name": "user_25",
           "type": "scatter",
           "x": {
            "bdata": "AAAAAAIAAAAEAAAABgAAAAgAAAAKAAAADAAAAA4AAAAQAAAAEgAAABQAAAA=",
            "dtype": "i4"
           },
           "y": {
            "bdata": "AAAAAAAAAAAAAAAAAAAAAAAAAAAAAAAAAAAAAAAAAAAAAAAAAAAAAAAAAAA=",
            "dtype": "i4"
           }
          },
          {
           "mode": "lines+markers",
           "name": "user_26",
           "type": "scatter",
           "x": {
            "bdata": "AAAAAAIAAAAEAAAABgAAAAgAAAAKAAAADAAAAA4AAAAQAAAAEgAAABQAAAA=",
            "dtype": "i4"
           },
           "y": {
            "bdata": "AAAAAAAAAAAAAAAAAAAAAAAAAAAAAAAAAAAAAAAAAAAAAAAAAAAAAAAAAAA=",
            "dtype": "i4"
           }
          },
          {
           "mode": "lines+markers",
           "name": "user_27",
           "type": "scatter",
           "x": {
            "bdata": "AAAAAAIAAAAEAAAABgAAAAgAAAAKAAAADAAAAA4AAAAQAAAAEgAAABQAAAA=",
            "dtype": "i4"
           },
           "y": {
            "bdata": "AAAAAAAAAAAAAAAAAAAAAAAAAAAAAAAAAAAAAAAAAAAAAAAAAAAAAAAAAAA=",
            "dtype": "i4"
           }
          },
          {
           "mode": "lines+markers",
           "name": "user_28",
           "type": "scatter",
           "x": {
            "bdata": "AAAAAAIAAAAEAAAABgAAAAgAAAAKAAAADAAAAA4AAAAQAAAAEgAAABQAAAA=",
            "dtype": "i4"
           },
           "y": {
            "bdata": "AAAAAAAAAAAAAAAAAAAAAAAAAAAAAAAAAAAAAAAAAAAAAAAAAAAAAAAAAAA=",
            "dtype": "i4"
           }
          },
          {
           "mode": "lines+markers",
           "name": "user_29",
           "type": "scatter",
           "x": {
            "bdata": "AAAAAAIAAAAEAAAABgAAAAgAAAAKAAAADAAAAA4AAAAQAAAAEgAAABQAAAA=",
            "dtype": "i4"
           },
           "y": {
            "bdata": "AAAAAAAAAAAAAAAAAAAAAAAAAAAAAAAAAAAAAAAAAAAAAAAAAAAAAAAAAAA=",
            "dtype": "i4"
           }
          },
          {
           "mode": "lines+markers",
           "name": "user_3",
           "type": "scatter",
           "x": {
            "bdata": "AAAAAAIAAAAEAAAABgAAAAgAAAAKAAAADAAAAA4AAAAQAAAAEgAAABQAAAA=",
            "dtype": "i4"
           },
           "y": {
            "bdata": "AAAAAAAAAAAAAAAAAAAAAAAAAAAAAAAAAAAAAAAAAAAAAAAAAAAAAAEAAAA=",
            "dtype": "i4"
           }
          },
          {
           "mode": "lines+markers",
           "name": "user_30",
           "type": "scatter",
           "x": {
            "bdata": "AAAAAAIAAAAEAAAABgAAAAgAAAAKAAAADAAAAA4AAAAQAAAAEgAAABQAAAA=",
            "dtype": "i4"
           },
           "y": {
            "bdata": "AAAAAAAAAAAAAAAAAQAAAAIAAAACAAAABAAAAAUAAAAFAAAABQAAAAwAAAA=",
            "dtype": "i4"
           }
          },
          {
           "mode": "lines+markers",
           "name": "user_31",
           "type": "scatter",
           "x": {
            "bdata": "AAAAAAIAAAAEAAAABgAAAAgAAAAKAAAADAAAAA4AAAAQAAAAEgAAABQAAAA=",
            "dtype": "i4"
           },
           "y": {
            "bdata": "AAAAAAAAAAAAAAAAAAAAAAAAAAAAAAAAAAAAAAAAAAAAAAAAAAAAAAEAAAA=",
            "dtype": "i4"
           }
          },
          {
           "mode": "lines+markers",
           "name": "user_4",
           "type": "scatter",
           "x": {
            "bdata": "AAAAAAIAAAAEAAAABgAAAAgAAAAKAAAADAAAAA4AAAAQAAAAEgAAABQAAAA=",
            "dtype": "i4"
           },
           "y": {
            "bdata": "BwAAAAcAAAALAAAACwAAABQAAAAbAAAAIwAAADAAAAA1AAAANQAAAEcAAAA=",
            "dtype": "i4"
           }
          },
          {
           "mode": "lines+markers",
           "name": "user_6",
           "type": "scatter",
           "x": {
            "bdata": "AAAAAAIAAAAEAAAABgAAAAgAAAAKAAAADAAAAA4AAAAQAAAAEgAAABQAAAA=",
            "dtype": "i4"
           },
           "y": {
            "bdata": "AAAAAAAAAAAAAAAAAAAAAAAAAAAAAAAAAAAAAAAAAAAAAAAAAAAAAAAAAAA=",
            "dtype": "i4"
           }
          },
          {
           "mode": "lines+markers",
           "name": "user_8",
           "type": "scatter",
           "x": {
            "bdata": "AAAAAAIAAAAEAAAABgAAAAgAAAAKAAAADAAAAA4AAAAQAAAAEgAAABQAAAA=",
            "dtype": "i4"
           },
           "y": {
            "bdata": "AAAAAAAAAAAAAAAAAAAAAAAAAAAAAAAAAAAAAAAAAAAAAAAAAAAAAAAAAAA=",
            "dtype": "i4"
           }
          }
         ],
         "name": "20"
        },
        {
         "data": [
          {
           "mode": "lines+markers",
           "name": "user_1",
           "type": "scatter",
           "x": {
            "bdata": "AAAAAAIAAAAEAAAABgAAAAgAAAAKAAAADAAAAA4AAAAQAAAAEgAAABQAAAAWAAAA",
            "dtype": "i4"
           },
           "y": {
            "bdata": "AAAAAAAAAAAAAAAAAAAAAAAAAAAAAAAAAAAAAAAAAAAAAAAAAAAAAAAAAAAAAAAA",
            "dtype": "i4"
           }
          },
          {
           "mode": "lines+markers",
           "name": "user_10",
           "type": "scatter",
           "x": {
            "bdata": "AAAAAAIAAAAEAAAABgAAAAgAAAAKAAAADAAAAA4AAAAQAAAAEgAAABQAAAAWAAAA",
            "dtype": "i4"
           },
           "y": {
            "bdata": "AAAAAAAAAAAAAAAAAAAAAAAAAAAAAAAAAAAAAAAAAAAAAAAAAAAAAAAAAAAAAAAA",
            "dtype": "i4"
           }
          },
          {
           "mode": "lines+markers",
           "name": "user_11",
           "type": "scatter",
           "x": {
            "bdata": "AAAAAAIAAAAEAAAABgAAAAgAAAAKAAAADAAAAA4AAAAQAAAAEgAAABQAAAAWAAAA",
            "dtype": "i4"
           },
           "y": {
            "bdata": "AAAAAAAAAAAAAAAAAAAAAAAAAAAAAAAAAQAAAAEAAAABAAAAAQAAAAEAAAABAAAA",
            "dtype": "i4"
           }
          },
          {
           "mode": "lines+markers",
           "name": "user_12",
           "type": "scatter",
           "x": {
            "bdata": "AAAAAAIAAAAEAAAABgAAAAgAAAAKAAAADAAAAA4AAAAQAAAAEgAAABQAAAAWAAAA",
            "dtype": "i4"
           },
           "y": {
            "bdata": "AAAAAAAAAAAAAAAAAAAAAAAAAAAAAAAAAAAAAAAAAAAAAAAAAAAAAAAAAAAAAAAA",
            "dtype": "i4"
           }
          },
          {
           "mode": "lines+markers",
           "name": "user_13",
           "type": "scatter",
           "x": {
            "bdata": "AAAAAAIAAAAEAAAABgAAAAgAAAAKAAAADAAAAA4AAAAQAAAAEgAAABQAAAAWAAAA",
            "dtype": "i4"
           },
           "y": {
            "bdata": "AAAAAAAAAAAAAAAAAAAAAAAAAAAAAAAAAAAAAAAAAAAAAAAAAAAAAAAAAAAAAAAA",
            "dtype": "i4"
           }
          },
          {
           "mode": "lines+markers",
           "name": "user_14",
           "type": "scatter",
           "x": {
            "bdata": "AAAAAAIAAAAEAAAABgAAAAgAAAAKAAAADAAAAA4AAAAQAAAAEgAAABQAAAAWAAAA",
            "dtype": "i4"
           },
           "y": {
            "bdata": "AAAAAAAAAAAAAAAAAAAAAAAAAAAAAAAAAAAAAAAAAAABAAAAAQAAAAEAAAABAAAA",
            "dtype": "i4"
           }
          },
          {
           "mode": "lines+markers",
           "name": "user_15",
           "type": "scatter",
           "x": {
            "bdata": "AAAAAAIAAAAEAAAABgAAAAgAAAAKAAAADAAAAA4AAAAQAAAAEgAAABQAAAAWAAAA",
            "dtype": "i4"
           },
           "y": {
            "bdata": "AAAAAAAAAAAAAAAAAAAAAAAAAAAAAAAAAAAAAAAAAAAAAAAAAAAAAAAAAAAAAAAA",
            "dtype": "i4"
           }
          },
          {
           "mode": "lines+markers",
           "name": "user_16",
           "type": "scatter",
           "x": {
            "bdata": "AAAAAAIAAAAEAAAABgAAAAgAAAAKAAAADAAAAA4AAAAQAAAAEgAAABQAAAAWAAAA",
            "dtype": "i4"
           },
           "y": {
            "bdata": "AAAAAAAAAAAAAAAAAAAAAAAAAAAAAAAAAAAAAAAAAAAAAAAAAAAAAAAAAAAAAAAA",
            "dtype": "i4"
           }
          },
          {
           "mode": "lines+markers",
           "name": "user_17",
           "type": "scatter",
           "x": {
            "bdata": "AAAAAAIAAAAEAAAABgAAAAgAAAAKAAAADAAAAA4AAAAQAAAAEgAAABQAAAAWAAAA",
            "dtype": "i4"
           },
           "y": {
            "bdata": "AAAAAAEAAAABAAAAAQAAAAEAAAABAAAAAQAAAAEAAAABAAAAAQAAAAEAAAABAAAA",
            "dtype": "i4"
           }
          },
          {
           "mode": "lines+markers",
           "name": "user_18",
           "type": "scatter",
           "x": {
            "bdata": "AAAAAAIAAAAEAAAABgAAAAgAAAAKAAAADAAAAA4AAAAQAAAAEgAAABQAAAAWAAAA",
            "dtype": "i4"
           },
           "y": {
            "bdata": "AAAAAAAAAAAAAAAAAAAAAAAAAAAAAAAAAAAAAAAAAAAAAAAAAAAAAAAAAAAAAAAA",
            "dtype": "i4"
           }
          },
          {
           "mode": "lines+markers",
           "name": "user_19",
           "type": "scatter",
           "x": {
            "bdata": "AAAAAAIAAAAEAAAABgAAAAgAAAAKAAAADAAAAA4AAAAQAAAAEgAAABQAAAAWAAAA",
            "dtype": "i4"
           },
           "y": {
            "bdata": "AAAAAAAAAAAAAAAAAAAAAAAAAAAAAAAAAAAAAAAAAAAAAAAAAAAAAAAAAAAAAAAA",
            "dtype": "i4"
           }
          },
          {
           "mode": "lines+markers",
           "name": "user_2",
           "type": "scatter",
           "x": {
            "bdata": "AAAAAAIAAAAEAAAABgAAAAgAAAAKAAAADAAAAA4AAAAQAAAAEgAAABQAAAAWAAAA",
            "dtype": "i4"
           },
           "y": {
            "bdata": "AAAAAAAAAAAAAAAAAAAAAAAAAAAAAAAAAAAAAAAAAAA5AAAAOgAAADoAAAA6AAAA",
            "dtype": "i4"
           }
          },
          {
           "mode": "lines+markers",
           "name": "user_20",
           "type": "scatter",
           "x": {
            "bdata": "AAAAAAIAAAAEAAAABgAAAAgAAAAKAAAADAAAAA4AAAAQAAAAEgAAABQAAAAWAAAA",
            "dtype": "i4"
           },
           "y": {
            "bdata": "AAAAAAAAAAAAAAAAAAAAAAAAAAAAAAAAAAAAAAAAAAAAAAAAAAAAAAAAAAAAAAAA",
            "dtype": "i4"
           }
          },
          {
           "mode": "lines+markers",
           "name": "user_21",
           "type": "scatter",
           "x": {
            "bdata": "AAAAAAIAAAAEAAAABgAAAAgAAAAKAAAADAAAAA4AAAAQAAAAEgAAABQAAAAWAAAA",
            "dtype": "i4"
           },
           "y": {
            "bdata": "AAAAAAAAAAAAAAAAAAAAAAAAAAAAAAAAAAAAAAAAAAAAAAAAAAAAAAAAAAAAAAAA",
            "dtype": "i4"
           }
          },
          {
           "mode": "lines+markers",
           "name": "user_22",
           "type": "scatter",
           "x": {
            "bdata": "AAAAAAIAAAAEAAAABgAAAAgAAAAKAAAADAAAAA4AAAAQAAAAEgAAABQAAAAWAAAA",
            "dtype": "i4"
           },
           "y": {
            "bdata": "AAAAAAAAAAAAAAAAAAAAAAAAAAAAAAAAAQAAAAEAAAABAAAAAQAAAAEAAAABAAAA",
            "dtype": "i4"
           }
          },
          {
           "mode": "lines+markers",
           "name": "user_24",
           "type": "scatter",
           "x": {
            "bdata": "AAAAAAIAAAAEAAAABgAAAAgAAAAKAAAADAAAAA4AAAAQAAAAEgAAABQAAAAWAAAA",
            "dtype": "i4"
           },
           "y": {
            "bdata": "AAAAAAAAAAAAAAAAAAAAAAAAAAAAAAAAAAAAAAAAAAAAAAAAAAAAAAAAAAAAAAAA",
            "dtype": "i4"
           }
          },
          {
           "mode": "lines+markers",
           "name": "user_25",
           "type": "scatter",
           "x": {
            "bdata": "AAAAAAIAAAAEAAAABgAAAAgAAAAKAAAADAAAAA4AAAAQAAAAEgAAABQAAAAWAAAA",
            "dtype": "i4"
           },
           "y": {
            "bdata": "AAAAAAAAAAAAAAAAAAAAAAAAAAAAAAAAAAAAAAAAAAAAAAAAAAAAAAAAAAAFAAAA",
            "dtype": "i4"
           }
          },
          {
           "mode": "lines+markers",
           "name": "user_26",
           "type": "scatter",
           "x": {
            "bdata": "AAAAAAIAAAAEAAAABgAAAAgAAAAKAAAADAAAAA4AAAAQAAAAEgAAABQAAAAWAAAA",
            "dtype": "i4"
           },
           "y": {
            "bdata": "AAAAAAAAAAAAAAAAAAAAAAAAAAAAAAAAAAAAAAAAAAAAAAAAAAAAAAAAAAAAAAAA",
            "dtype": "i4"
           }
          },
          {
           "mode": "lines+markers",
           "name": "user_27",
           "type": "scatter",
           "x": {
            "bdata": "AAAAAAIAAAAEAAAABgAAAAgAAAAKAAAADAAAAA4AAAAQAAAAEgAAABQAAAAWAAAA",
            "dtype": "i4"
           },
           "y": {
            "bdata": "AAAAAAAAAAAAAAAAAAAAAAAAAAAAAAAAAAAAAAAAAAAAAAAAAAAAAAAAAAAAAAAA",
            "dtype": "i4"
           }
          },
          {
           "mode": "lines+markers",
           "name": "user_28",
           "type": "scatter",
           "x": {
            "bdata": "AAAAAAIAAAAEAAAABgAAAAgAAAAKAAAADAAAAA4AAAAQAAAAEgAAABQAAAAWAAAA",
            "dtype": "i4"
           },
           "y": {
            "bdata": "AAAAAAAAAAAAAAAAAAAAAAAAAAAAAAAAAAAAAAAAAAAAAAAAAAAAAAAAAAAAAAAA",
            "dtype": "i4"
           }
          },
          {
           "mode": "lines+markers",
           "name": "user_29",
           "type": "scatter",
           "x": {
            "bdata": "AAAAAAIAAAAEAAAABgAAAAgAAAAKAAAADAAAAA4AAAAQAAAAEgAAABQAAAAWAAAA",
            "dtype": "i4"
           },
           "y": {
            "bdata": "AAAAAAAAAAAAAAAAAAAAAAAAAAAAAAAAAAAAAAAAAAAAAAAAAAAAAAAAAAAAAAAA",
            "dtype": "i4"
           }
          },
          {
           "mode": "lines+markers",
           "name": "user_3",
           "type": "scatter",
           "x": {
            "bdata": "AAAAAAIAAAAEAAAABgAAAAgAAAAKAAAADAAAAA4AAAAQAAAAEgAAABQAAAAWAAAA",
            "dtype": "i4"
           },
           "y": {
            "bdata": "AAAAAAAAAAAAAAAAAAAAAAAAAAAAAAAAAAAAAAAAAAAAAAAAAAAAAAEAAAAcAAAA",
            "dtype": "i4"
           }
          },
          {
           "mode": "lines+markers",
           "name": "user_30",
           "type": "scatter",
           "x": {
            "bdata": "AAAAAAIAAAAEAAAABgAAAAgAAAAKAAAADAAAAA4AAAAQAAAAEgAAABQAAAAWAAAA",
            "dtype": "i4"
           },
           "y": {
            "bdata": "AAAAAAAAAAAAAAAAAQAAAAIAAAACAAAABAAAAAUAAAAFAAAABQAAAAwAAAAMAAAA",
            "dtype": "i4"
           }
          },
          {
           "mode": "lines+markers",
           "name": "user_31",
           "type": "scatter",
           "x": {
            "bdata": "AAAAAAIAAAAEAAAABgAAAAgAAAAKAAAADAAAAA4AAAAQAAAAEgAAABQAAAAWAAAA",
            "dtype": "i4"
           },
           "y": {
            "bdata": "AAAAAAAAAAAAAAAAAAAAAAAAAAAAAAAAAAAAAAAAAAAAAAAAAAAAAAEAAAABAAAA",
            "dtype": "i4"
           }
          },
          {
           "mode": "lines+markers",
           "name": "user_4",
           "type": "scatter",
           "x": {
            "bdata": "AAAAAAIAAAAEAAAABgAAAAgAAAAKAAAADAAAAA4AAAAQAAAAEgAAABQAAAAWAAAA",
            "dtype": "i4"
           },
           "y": {
            "bdata": "BwAAAAcAAAALAAAACwAAABQAAAAbAAAAIwAAADAAAAA1AAAANQAAAEcAAABTAAAA",
            "dtype": "i4"
           }
          },
          {
           "mode": "lines+markers",
           "name": "user_6",
           "type": "scatter",
           "x": {
            "bdata": "AAAAAAIAAAAEAAAABgAAAAgAAAAKAAAADAAAAA4AAAAQAAAAEgAAABQAAAAWAAAA",
            "dtype": "i4"
           },
           "y": {
            "bdata": "AAAAAAAAAAAAAAAAAAAAAAAAAAAAAAAAAAAAAAAAAAAAAAAAAAAAAAAAAAAAAAAA",
            "dtype": "i4"
           }
          },
          {
           "mode": "lines+markers",
           "name": "user_8",
           "type": "scatter",
           "x": {
            "bdata": "AAAAAAIAAAAEAAAABgAAAAgAAAAKAAAADAAAAA4AAAAQAAAAEgAAABQAAAAWAAAA",
            "dtype": "i4"
           },
           "y": {
            "bdata": "AAAAAAAAAAAAAAAAAAAAAAAAAAAAAAAAAAAAAAAAAAAAAAAAAAAAAAAAAAAAAAAA",
            "dtype": "i4"
           }
          }
         ],
         "name": "22"
        },
        {
         "data": [
          {
           "mode": "lines+markers",
           "name": "user_1",
           "type": "scatter",
           "x": {
            "bdata": "AAAAAAIAAAAEAAAABgAAAAgAAAAKAAAADAAAAA4AAAAQAAAAEgAAABQAAAAWAAAAGAAAAA==",
            "dtype": "i4"
           },
           "y": {
            "bdata": "AAAAAAAAAAAAAAAAAAAAAAAAAAAAAAAAAAAAAAAAAAAAAAAAAAAAAAAAAAAAAAAAAAAAAA==",
            "dtype": "i4"
           }
          },
          {
           "mode": "lines+markers",
           "name": "user_10",
           "type": "scatter",
           "x": {
            "bdata": "AAAAAAIAAAAEAAAABgAAAAgAAAAKAAAADAAAAA4AAAAQAAAAEgAAABQAAAAWAAAAGAAAAA==",
            "dtype": "i4"
           },
           "y": {
            "bdata": "AAAAAAAAAAAAAAAAAAAAAAAAAAAAAAAAAAAAAAAAAAAAAAAAAAAAAAAAAAAAAAAAAAAAAA==",
            "dtype": "i4"
           }
          },
          {
           "mode": "lines+markers",
           "name": "user_11",
           "type": "scatter",
           "x": {
            "bdata": "AAAAAAIAAAAEAAAABgAAAAgAAAAKAAAADAAAAA4AAAAQAAAAEgAAABQAAAAWAAAAGAAAAA==",
            "dtype": "i4"
           },
           "y": {
            "bdata": "AAAAAAAAAAAAAAAAAAAAAAAAAAAAAAAAAQAAAAEAAAABAAAAAQAAAAEAAAABAAAAAQAAAA==",
            "dtype": "i4"
           }
          },
          {
           "mode": "lines+markers",
           "name": "user_12",
           "type": "scatter",
           "x": {
            "bdata": "AAAAAAIAAAAEAAAABgAAAAgAAAAKAAAADAAAAA4AAAAQAAAAEgAAABQAAAAWAAAAGAAAAA==",
            "dtype": "i4"
           },
           "y": {
            "bdata": "AAAAAAAAAAAAAAAAAAAAAAAAAAAAAAAAAAAAAAAAAAAAAAAAAAAAAAAAAAAAAAAAAAAAAA==",
            "dtype": "i4"
           }
          },
          {
           "mode": "lines+markers",
           "name": "user_13",
           "type": "scatter",
           "x": {
            "bdata": "AAAAAAIAAAAEAAAABgAAAAgAAAAKAAAADAAAAA4AAAAQAAAAEgAAABQAAAAWAAAAGAAAAA==",
            "dtype": "i4"
           },
           "y": {
            "bdata": "AAAAAAAAAAAAAAAAAAAAAAAAAAAAAAAAAAAAAAAAAAAAAAAAAAAAAAAAAAAAAAAAAAAAAA==",
            "dtype": "i4"
           }
          },
          {
           "mode": "lines+markers",
           "name": "user_14",
           "type": "scatter",
           "x": {
            "bdata": "AAAAAAIAAAAEAAAABgAAAAgAAAAKAAAADAAAAA4AAAAQAAAAEgAAABQAAAAWAAAAGAAAAA==",
            "dtype": "i4"
           },
           "y": {
            "bdata": "AAAAAAAAAAAAAAAAAAAAAAAAAAAAAAAAAAAAAAAAAAABAAAAAQAAAAEAAAABAAAAEgAAAA==",
            "dtype": "i4"
           }
          },
          {
           "mode": "lines+markers",
           "name": "user_15",
           "type": "scatter",
           "x": {
            "bdata": "AAAAAAIAAAAEAAAABgAAAAgAAAAKAAAADAAAAA4AAAAQAAAAEgAAABQAAAAWAAAAGAAAAA==",
            "dtype": "i4"
           },
           "y": {
            "bdata": "AAAAAAAAAAAAAAAAAAAAAAAAAAAAAAAAAAAAAAAAAAAAAAAAAAAAAAAAAAAAAAAAAAAAAA==",
            "dtype": "i4"
           }
          },
          {
           "mode": "lines+markers",
           "name": "user_16",
           "type": "scatter",
           "x": {
            "bdata": "AAAAAAIAAAAEAAAABgAAAAgAAAAKAAAADAAAAA4AAAAQAAAAEgAAABQAAAAWAAAAGAAAAA==",
            "dtype": "i4"
           },
           "y": {
            "bdata": "AAAAAAAAAAAAAAAAAAAAAAAAAAAAAAAAAAAAAAAAAAAAAAAAAAAAAAAAAAAAAAAAAAAAAA==",
            "dtype": "i4"
           }
          },
          {
           "mode": "lines+markers",
           "name": "user_17",
           "type": "scatter",
           "x": {
            "bdata": "AAAAAAIAAAAEAAAABgAAAAgAAAAKAAAADAAAAA4AAAAQAAAAEgAAABQAAAAWAAAAGAAAAA==",
            "dtype": "i4"
           },
           "y": {
            "bdata": "AAAAAAEAAAABAAAAAQAAAAEAAAABAAAAAQAAAAEAAAABAAAAAQAAAAEAAAABAAAAAQAAAA==",
            "dtype": "i4"
           }
          },
          {
           "mode": "lines+markers",
           "name": "user_18",
           "type": "scatter",
           "x": {
            "bdata": "AAAAAAIAAAAEAAAABgAAAAgAAAAKAAAADAAAAA4AAAAQAAAAEgAAABQAAAAWAAAAGAAAAA==",
            "dtype": "i4"
           },
           "y": {
            "bdata": "AAAAAAAAAAAAAAAAAAAAAAAAAAAAAAAAAAAAAAAAAAAAAAAAAAAAAAAAAAAAAAAAAAAAAA==",
            "dtype": "i4"
           }
          },
          {
           "mode": "lines+markers",
           "name": "user_19",
           "type": "scatter",
           "x": {
            "bdata": "AAAAAAIAAAAEAAAABgAAAAgAAAAKAAAADAAAAA4AAAAQAAAAEgAAABQAAAAWAAAAGAAAAA==",
            "dtype": "i4"
           },
           "y": {
            "bdata": "AAAAAAAAAAAAAAAAAAAAAAAAAAAAAAAAAAAAAAAAAAAAAAAAAAAAAAAAAAAAAAAAAAAAAA==",
            "dtype": "i4"
           }
          },
          {
           "mode": "lines+markers",
           "name": "user_2",
           "type": "scatter",
           "x": {
            "bdata": "AAAAAAIAAAAEAAAABgAAAAgAAAAKAAAADAAAAA4AAAAQAAAAEgAAABQAAAAWAAAAGAAAAA==",
            "dtype": "i4"
           },
           "y": {
            "bdata": "AAAAAAAAAAAAAAAAAAAAAAAAAAAAAAAAAAAAAAAAAAA5AAAAOgAAADoAAAA6AAAAOgAAAA==",
            "dtype": "i4"
           }
          },
          {
           "mode": "lines+markers",
           "name": "user_20",
           "type": "scatter",
           "x": {
            "bdata": "AAAAAAIAAAAEAAAABgAAAAgAAAAKAAAADAAAAA4AAAAQAAAAEgAAABQAAAAWAAAAGAAAAA==",
            "dtype": "i4"
           },
           "y": {
            "bdata": "AAAAAAAAAAAAAAAAAAAAAAAAAAAAAAAAAAAAAAAAAAAAAAAAAAAAAAAAAAAAAAAAAAAAAA==",
            "dtype": "i4"
           }
          },
          {
           "mode": "lines+markers",
           "name": "user_21",
           "type": "scatter",
           "x": {
            "bdata": "AAAAAAIAAAAEAAAABgAAAAgAAAAKAAAADAAAAA4AAAAQAAAAEgAAABQAAAAWAAAAGAAAAA==",
            "dtype": "i4"
           },
           "y": {
            "bdata": "AAAAAAAAAAAAAAAAAAAAAAAAAAAAAAAAAAAAAAAAAAAAAAAAAAAAAAAAAAAAAAAAAAAAAA==",
            "dtype": "i4"
           }
          },
          {
           "mode": "lines+markers",
           "name": "user_22",
           "type": "scatter",
           "x": {
            "bdata": "AAAAAAIAAAAEAAAABgAAAAgAAAAKAAAADAAAAA4AAAAQAAAAEgAAABQAAAAWAAAAGAAAAA==",
            "dtype": "i4"
           },
           "y": {
            "bdata": "AAAAAAAAAAAAAAAAAAAAAAAAAAAAAAAAAQAAAAEAAAABAAAAAQAAAAEAAAABAAAAAQAAAA==",
            "dtype": "i4"
           }
          },
          {
           "mode": "lines+markers",
           "name": "user_24",
           "type": "scatter",
           "x": {
            "bdata": "AAAAAAIAAAAEAAAABgAAAAgAAAAKAAAADAAAAA4AAAAQAAAAEgAAABQAAAAWAAAAGAAAAA==",
            "dtype": "i4"
           },
           "y": {
            "bdata": "AAAAAAAAAAAAAAAAAAAAAAAAAAAAAAAAAAAAAAAAAAAAAAAAAAAAAAAAAAAAAAAAAAAAAA==",
            "dtype": "i4"
           }
          },
          {
           "mode": "lines+markers",
           "name": "user_25",
           "type": "scatter",
           "x": {
            "bdata": "AAAAAAIAAAAEAAAABgAAAAgAAAAKAAAADAAAAA4AAAAQAAAAEgAAABQAAAAWAAAAGAAAAA==",
            "dtype": "i4"
           },
           "y": {
            "bdata": "AAAAAAAAAAAAAAAAAAAAAAAAAAAAAAAAAAAAAAAAAAAAAAAAAAAAAAAAAAAFAAAAGwAAAA==",
            "dtype": "i4"
           }
          },
          {
           "mode": "lines+markers",
           "name": "user_26",
           "type": "scatter",
           "x": {
            "bdata": "AAAAAAIAAAAEAAAABgAAAAgAAAAKAAAADAAAAA4AAAAQAAAAEgAAABQAAAAWAAAAGAAAAA==",
            "dtype": "i4"
           },
           "y": {
            "bdata": "AAAAAAAAAAAAAAAAAAAAAAAAAAAAAAAAAAAAAAAAAAAAAAAAAAAAAAAAAAAAAAAAAAAAAA==",
            "dtype": "i4"
           }
          },
          {
           "mode": "lines+markers",
           "name": "user_27",
           "type": "scatter",
           "x": {
            "bdata": "AAAAAAIAAAAEAAAABgAAAAgAAAAKAAAADAAAAA4AAAAQAAAAEgAAABQAAAAWAAAAGAAAAA==",
            "dtype": "i4"
           },
           "y": {
            "bdata": "AAAAAAAAAAAAAAAAAAAAAAAAAAAAAAAAAAAAAAAAAAAAAAAAAAAAAAAAAAAAAAAAAAAAAA==",
            "dtype": "i4"
           }
          },
          {
           "mode": "lines+markers",
           "name": "user_28",
           "type": "scatter",
           "x": {
            "bdata": "AAAAAAIAAAAEAAAABgAAAAgAAAAKAAAADAAAAA4AAAAQAAAAEgAAABQAAAAWAAAAGAAAAA==",
            "dtype": "i4"
           },
           "y": {
            "bdata": "AAAAAAAAAAAAAAAAAAAAAAAAAAAAAAAAAAAAAAAAAAAAAAAAAAAAAAAAAAAAAAAAAAAAAA==",
            "dtype": "i4"
           }
          },
          {
           "mode": "lines+markers",
           "name": "user_29",
           "type": "scatter",
           "x": {
            "bdata": "AAAAAAIAAAAEAAAABgAAAAgAAAAKAAAADAAAAA4AAAAQAAAAEgAAABQAAAAWAAAAGAAAAA==",
            "dtype": "i4"
           },
           "y": {
            "bdata": "AAAAAAAAAAAAAAAAAAAAAAAAAAAAAAAAAAAAAAAAAAAAAAAAAAAAAAAAAAAAAAAAAAAAAA==",
            "dtype": "i4"
           }
          },
          {
           "mode": "lines+markers",
           "name": "user_3",
           "type": "scatter",
           "x": {
            "bdata": "AAAAAAIAAAAEAAAABgAAAAgAAAAKAAAADAAAAA4AAAAQAAAAEgAAABQAAAAWAAAAGAAAAA==",
            "dtype": "i4"
           },
           "y": {
            "bdata": "AAAAAAAAAAAAAAAAAAAAAAAAAAAAAAAAAAAAAAAAAAAAAAAAAAAAAAEAAAAcAAAAHQAAAA==",
            "dtype": "i4"
           }
          },
          {
           "mode": "lines+markers",
           "name": "user_30",
           "type": "scatter",
           "x": {
            "bdata": "AAAAAAIAAAAEAAAABgAAAAgAAAAKAAAADAAAAA4AAAAQAAAAEgAAABQAAAAWAAAAGAAAAA==",
            "dtype": "i4"
           },
           "y": {
            "bdata": "AAAAAAAAAAAAAAAAAQAAAAIAAAACAAAABAAAAAUAAAAFAAAABQAAAAwAAAAMAAAADAAAAA==",
            "dtype": "i4"
           }
          },
          {
           "mode": "lines+markers",
           "name": "user_31",
           "type": "scatter",
           "x": {
            "bdata": "AAAAAAIAAAAEAAAABgAAAAgAAAAKAAAADAAAAA4AAAAQAAAAEgAAABQAAAAWAAAAGAAAAA==",
            "dtype": "i4"
           },
           "y": {
            "bdata": "AAAAAAAAAAAAAAAAAAAAAAAAAAAAAAAAAAAAAAAAAAAAAAAAAAAAAAEAAAABAAAABAAAAA==",
            "dtype": "i4"
           }
          },
          {
           "mode": "lines+markers",
           "name": "user_4",
           "type": "scatter",
           "x": {
            "bdata": "AAAAAAIAAAAEAAAABgAAAAgAAAAKAAAADAAAAA4AAAAQAAAAEgAAABQAAAAWAAAAGAAAAA==",
            "dtype": "i4"
           },
           "y": {
            "bdata": "BwAAAAcAAAALAAAACwAAABQAAAAbAAAAIwAAADAAAAA1AAAANQAAAEcAAABTAAAAUwAAAA==",
            "dtype": "i4"
           }
          },
          {
           "mode": "lines+markers",
           "name": "user_6",
           "type": "scatter",
           "x": {
            "bdata": "AAAAAAIAAAAEAAAABgAAAAgAAAAKAAAADAAAAA4AAAAQAAAAEgAAABQAAAAWAAAAGAAAAA==",
            "dtype": "i4"
           },
           "y": {
            "bdata": "AAAAAAAAAAAAAAAAAAAAAAAAAAAAAAAAAAAAAAAAAAAAAAAAAAAAAAAAAAAAAAAAAAAAAA==",
            "dtype": "i4"
           }
          },
          {
           "mode": "lines+markers",
           "name": "user_8",
           "type": "scatter",
           "x": {
            "bdata": "AAAAAAIAAAAEAAAABgAAAAgAAAAKAAAADAAAAA4AAAAQAAAAEgAAABQAAAAWAAAAGAAAAA==",
            "dtype": "i4"
           },
           "y": {
            "bdata": "AAAAAAAAAAAAAAAAAAAAAAAAAAAAAAAAAAAAAAAAAAAAAAAAAAAAAAAAAAAAAAAAAAAAAA==",
            "dtype": "i4"
           }
          }
         ],
         "name": "24"
        },
        {
         "data": [
          {
           "mode": "lines+markers",
           "name": "user_1",
           "type": "scatter",
           "x": {
            "bdata": "AAAAAAIAAAAEAAAABgAAAAgAAAAKAAAADAAAAA4AAAAQAAAAEgAAABQAAAAWAAAAGAAAABoAAAA=",
            "dtype": "i4"
           },
           "y": {
            "bdata": "AAAAAAAAAAAAAAAAAAAAAAAAAAAAAAAAAAAAAAAAAAAAAAAAAAAAAAAAAAAAAAAAAAAAAAAAAAA=",
            "dtype": "i4"
           }
          },
          {
           "mode": "lines+markers",
           "name": "user_10",
           "type": "scatter",
           "x": {
            "bdata": "AAAAAAIAAAAEAAAABgAAAAgAAAAKAAAADAAAAA4AAAAQAAAAEgAAABQAAAAWAAAAGAAAABoAAAA=",
            "dtype": "i4"
           },
           "y": {
            "bdata": "AAAAAAAAAAAAAAAAAAAAAAAAAAAAAAAAAAAAAAAAAAAAAAAAAAAAAAAAAAAAAAAAAAAAAAAAAAA=",
            "dtype": "i4"
           }
          },
          {
           "mode": "lines+markers",
           "name": "user_11",
           "type": "scatter",
           "x": {
            "bdata": "AAAAAAIAAAAEAAAABgAAAAgAAAAKAAAADAAAAA4AAAAQAAAAEgAAABQAAAAWAAAAGAAAABoAAAA=",
            "dtype": "i4"
           },
           "y": {
            "bdata": "AAAAAAAAAAAAAAAAAAAAAAAAAAAAAAAAAQAAAAEAAAABAAAAAQAAAAEAAAABAAAAAQAAAAEAAAA=",
            "dtype": "i4"
           }
          },
          {
           "mode": "lines+markers",
           "name": "user_12",
           "type": "scatter",
           "x": {
            "bdata": "AAAAAAIAAAAEAAAABgAAAAgAAAAKAAAADAAAAA4AAAAQAAAAEgAAABQAAAAWAAAAGAAAABoAAAA=",
            "dtype": "i4"
           },
           "y": {
            "bdata": "AAAAAAAAAAAAAAAAAAAAAAAAAAAAAAAAAAAAAAAAAAAAAAAAAAAAAAAAAAAAAAAAAAAAAAAAAAA=",
            "dtype": "i4"
           }
          },
          {
           "mode": "lines+markers",
           "name": "user_13",
           "type": "scatter",
           "x": {
            "bdata": "AAAAAAIAAAAEAAAABgAAAAgAAAAKAAAADAAAAA4AAAAQAAAAEgAAABQAAAAWAAAAGAAAABoAAAA=",
            "dtype": "i4"
           },
           "y": {
            "bdata": "AAAAAAAAAAAAAAAAAAAAAAAAAAAAAAAAAAAAAAAAAAAAAAAAAAAAAAAAAAAAAAAAAAAAAAAAAAA=",
            "dtype": "i4"
           }
          },
          {
           "mode": "lines+markers",
           "name": "user_14",
           "type": "scatter",
           "x": {
            "bdata": "AAAAAAIAAAAEAAAABgAAAAgAAAAKAAAADAAAAA4AAAAQAAAAEgAAABQAAAAWAAAAGAAAABoAAAA=",
            "dtype": "i4"
           },
           "y": {
            "bdata": "AAAAAAAAAAAAAAAAAAAAAAAAAAAAAAAAAAAAAAAAAAABAAAAAQAAAAEAAAABAAAAEgAAABkAAAA=",
            "dtype": "i4"
           }
          },
          {
           "mode": "lines+markers",
           "name": "user_15",
           "type": "scatter",
           "x": {
            "bdata": "AAAAAAIAAAAEAAAABgAAAAgAAAAKAAAADAAAAA4AAAAQAAAAEgAAABQAAAAWAAAAGAAAABoAAAA=",
            "dtype": "i4"
           },
           "y": {
            "bdata": "AAAAAAAAAAAAAAAAAAAAAAAAAAAAAAAAAAAAAAAAAAAAAAAAAAAAAAAAAAAAAAAAAAAAAAAAAAA=",
            "dtype": "i4"
           }
          },
          {
           "mode": "lines+markers",
           "name": "user_16",
           "type": "scatter",
           "x": {
            "bdata": "AAAAAAIAAAAEAAAABgAAAAgAAAAKAAAADAAAAA4AAAAQAAAAEgAAABQAAAAWAAAAGAAAABoAAAA=",
            "dtype": "i4"
           },
           "y": {
            "bdata": "AAAAAAAAAAAAAAAAAAAAAAAAAAAAAAAAAAAAAAAAAAAAAAAAAAAAAAAAAAAAAAAAAAAAAAAAAAA=",
            "dtype": "i4"
           }
          },
          {
           "mode": "lines+markers",
           "name": "user_17",
           "type": "scatter",
           "x": {
            "bdata": "AAAAAAIAAAAEAAAABgAAAAgAAAAKAAAADAAAAA4AAAAQAAAAEgAAABQAAAAWAAAAGAAAABoAAAA=",
            "dtype": "i4"
           },
           "y": {
            "bdata": "AAAAAAEAAAABAAAAAQAAAAEAAAABAAAAAQAAAAEAAAABAAAAAQAAAAEAAAABAAAAAQAAAAEAAAA=",
            "dtype": "i4"
           }
          },
          {
           "mode": "lines+markers",
           "name": "user_18",
           "type": "scatter",
           "x": {
            "bdata": "AAAAAAIAAAAEAAAABgAAAAgAAAAKAAAADAAAAA4AAAAQAAAAEgAAABQAAAAWAAAAGAAAABoAAAA=",
            "dtype": "i4"
           },
           "y": {
            "bdata": "AAAAAAAAAAAAAAAAAAAAAAAAAAAAAAAAAAAAAAAAAAAAAAAAAAAAAAAAAAAAAAAAAAAAAAAAAAA=",
            "dtype": "i4"
           }
          },
          {
           "mode": "lines+markers",
           "name": "user_19",
           "type": "scatter",
           "x": {
            "bdata": "AAAAAAIAAAAEAAAABgAAAAgAAAAKAAAADAAAAA4AAAAQAAAAEgAAABQAAAAWAAAAGAAAABoAAAA=",
            "dtype": "i4"
           },
           "y": {
            "bdata": "AAAAAAAAAAAAAAAAAAAAAAAAAAAAAAAAAAAAAAAAAAAAAAAAAAAAAAAAAAAAAAAAAAAAAAAAAAA=",
            "dtype": "i4"
           }
          },
          {
           "mode": "lines+markers",
           "name": "user_2",
           "type": "scatter",
           "x": {
            "bdata": "AAAAAAIAAAAEAAAABgAAAAgAAAAKAAAADAAAAA4AAAAQAAAAEgAAABQAAAAWAAAAGAAAABoAAAA=",
            "dtype": "i4"
           },
           "y": {
            "bdata": "AAAAAAAAAAAAAAAAAAAAAAAAAAAAAAAAAAAAAAAAAAA5AAAAOgAAADoAAAA6AAAAOgAAAD4AAAA=",
            "dtype": "i4"
           }
          },
          {
           "mode": "lines+markers",
           "name": "user_20",
           "type": "scatter",
           "x": {
            "bdata": "AAAAAAIAAAAEAAAABgAAAAgAAAAKAAAADAAAAA4AAAAQAAAAEgAAABQAAAAWAAAAGAAAABoAAAA=",
            "dtype": "i4"
           },
           "y": {
            "bdata": "AAAAAAAAAAAAAAAAAAAAAAAAAAAAAAAAAAAAAAAAAAAAAAAAAAAAAAAAAAAAAAAAAAAAAAAAAAA=",
            "dtype": "i4"
           }
          },
          {
           "mode": "lines+markers",
           "name": "user_21",
           "type": "scatter",
           "x": {
            "bdata": "AAAAAAIAAAAEAAAABgAAAAgAAAAKAAAADAAAAA4AAAAQAAAAEgAAABQAAAAWAAAAGAAAABoAAAA=",
            "dtype": "i4"
           },
           "y": {
            "bdata": "AAAAAAAAAAAAAAAAAAAAAAAAAAAAAAAAAAAAAAAAAAAAAAAAAAAAAAAAAAAAAAAAAAAAAAcAAAA=",
            "dtype": "i4"
           }
          },
          {
           "mode": "lines+markers",
           "name": "user_22",
           "type": "scatter",
           "x": {
            "bdata": "AAAAAAIAAAAEAAAABgAAAAgAAAAKAAAADAAAAA4AAAAQAAAAEgAAABQAAAAWAAAAGAAAABoAAAA=",
            "dtype": "i4"
           },
           "y": {
            "bdata": "AAAAAAAAAAAAAAAAAAAAAAAAAAAAAAAAAQAAAAEAAAABAAAAAQAAAAEAAAABAAAAAQAAAAEAAAA=",
            "dtype": "i4"
           }
          },
          {
           "mode": "lines+markers",
           "name": "user_24",
           "type": "scatter",
           "x": {
            "bdata": "AAAAAAIAAAAEAAAABgAAAAgAAAAKAAAADAAAAA4AAAAQAAAAEgAAABQAAAAWAAAAGAAAABoAAAA=",
            "dtype": "i4"
           },
           "y": {
            "bdata": "AAAAAAAAAAAAAAAAAAAAAAAAAAAAAAAAAAAAAAAAAAAAAAAAAAAAAAAAAAAAAAAAAAAAAAAAAAA=",
            "dtype": "i4"
           }
          },
          {
           "mode": "lines+markers",
           "name": "user_25",
           "type": "scatter",
           "x": {
            "bdata": "AAAAAAIAAAAEAAAABgAAAAgAAAAKAAAADAAAAA4AAAAQAAAAEgAAABQAAAAWAAAAGAAAABoAAAA=",
            "dtype": "i4"
           },
           "y": {
            "bdata": "AAAAAAAAAAAAAAAAAAAAAAAAAAAAAAAAAAAAAAAAAAAAAAAAAAAAAAAAAAAFAAAAGwAAAB0AAAA=",
            "dtype": "i4"
           }
          },
          {
           "mode": "lines+markers",
           "name": "user_26",
           "type": "scatter",
           "x": {
            "bdata": "AAAAAAIAAAAEAAAABgAAAAgAAAAKAAAADAAAAA4AAAAQAAAAEgAAABQAAAAWAAAAGAAAABoAAAA=",
            "dtype": "i4"
           },
           "y": {
            "bdata": "AAAAAAAAAAAAAAAAAAAAAAAAAAAAAAAAAAAAAAAAAAAAAAAAAAAAAAAAAAAAAAAAAAAAACMAAAA=",
            "dtype": "i4"
           }
          },
          {
           "mode": "lines+markers",
           "name": "user_27",
           "type": "scatter",
           "x": {
            "bdata": "AAAAAAIAAAAEAAAABgAAAAgAAAAKAAAADAAAAA4AAAAQAAAAEgAAABQAAAAWAAAAGAAAABoAAAA=",
            "dtype": "i4"
           },
           "y": {
            "bdata": "AAAAAAAAAAAAAAAAAAAAAAAAAAAAAAAAAAAAAAAAAAAAAAAAAAAAAAAAAAAAAAAAAAAAAAAAAAA=",
            "dtype": "i4"
           }
          },
          {
           "mode": "lines+markers",
           "name": "user_28",
           "type": "scatter",
           "x": {
            "bdata": "AAAAAAIAAAAEAAAABgAAAAgAAAAKAAAADAAAAA4AAAAQAAAAEgAAABQAAAAWAAAAGAAAABoAAAA=",
            "dtype": "i4"
           },
           "y": {
            "bdata": "AAAAAAAAAAAAAAAAAAAAAAAAAAAAAAAAAAAAAAAAAAAAAAAAAAAAAAAAAAAAAAAAAAAAAAAAAAA=",
            "dtype": "i4"
           }
          },
          {
           "mode": "lines+markers",
           "name": "user_29",
           "type": "scatter",
           "x": {
            "bdata": "AAAAAAIAAAAEAAAABgAAAAgAAAAKAAAADAAAAA4AAAAQAAAAEgAAABQAAAAWAAAAGAAAABoAAAA=",
            "dtype": "i4"
           },
           "y": {
            "bdata": "AAAAAAAAAAAAAAAAAAAAAAAAAAAAAAAAAAAAAAAAAAAAAAAAAAAAAAAAAAAAAAAAAAAAAAAAAAA=",
            "dtype": "i4"
           }
          },
          {
           "mode": "lines+markers",
           "name": "user_3",
           "type": "scatter",
           "x": {
            "bdata": "AAAAAAIAAAAEAAAABgAAAAgAAAAKAAAADAAAAA4AAAAQAAAAEgAAABQAAAAWAAAAGAAAABoAAAA=",
            "dtype": "i4"
           },
           "y": {
            "bdata": "AAAAAAAAAAAAAAAAAAAAAAAAAAAAAAAAAAAAAAAAAAAAAAAAAAAAAAEAAAAcAAAAHQAAAB8AAAA=",
            "dtype": "i4"
           }
          },
          {
           "mode": "lines+markers",
           "name": "user_30",
           "type": "scatter",
           "x": {
            "bdata": "AAAAAAIAAAAEAAAABgAAAAgAAAAKAAAADAAAAA4AAAAQAAAAEgAAABQAAAAWAAAAGAAAABoAAAA=",
            "dtype": "i4"
           },
           "y": {
            "bdata": "AAAAAAAAAAAAAAAAAQAAAAIAAAACAAAABAAAAAUAAAAFAAAABQAAAAwAAAAMAAAADAAAABEAAAA=",
            "dtype": "i4"
           }
          },
          {
           "mode": "lines+markers",
           "name": "user_31",
           "type": "scatter",
           "x": {
            "bdata": "AAAAAAIAAAAEAAAABgAAAAgAAAAKAAAADAAAAA4AAAAQAAAAEgAAABQAAAAWAAAAGAAAABoAAAA=",
            "dtype": "i4"
           },
           "y": {
            "bdata": "AAAAAAAAAAAAAAAAAAAAAAAAAAAAAAAAAAAAAAAAAAAAAAAAAAAAAAEAAAABAAAABAAAAAQAAAA=",
            "dtype": "i4"
           }
          },
          {
           "mode": "lines+markers",
           "name": "user_4",
           "type": "scatter",
           "x": {
            "bdata": "AAAAAAIAAAAEAAAABgAAAAgAAAAKAAAADAAAAA4AAAAQAAAAEgAAABQAAAAWAAAAGAAAABoAAAA=",
            "dtype": "i4"
           },
           "y": {
            "bdata": "BwAAAAcAAAALAAAACwAAABQAAAAbAAAAIwAAADAAAAA1AAAANQAAAEcAAABTAAAAUwAAAFMAAAA=",
            "dtype": "i4"
           }
          },
          {
           "mode": "lines+markers",
           "name": "user_6",
           "type": "scatter",
           "x": {
            "bdata": "AAAAAAIAAAAEAAAABgAAAAgAAAAKAAAADAAAAA4AAAAQAAAAEgAAABQAAAAWAAAAGAAAABoAAAA=",
            "dtype": "i4"
           },
           "y": {
            "bdata": "AAAAAAAAAAAAAAAAAAAAAAAAAAAAAAAAAAAAAAAAAAAAAAAAAAAAAAAAAAAAAAAAAAAAAAAAAAA=",
            "dtype": "i4"
           }
          },
          {
           "mode": "lines+markers",
           "name": "user_8",
           "type": "scatter",
           "x": {
            "bdata": "AAAAAAIAAAAEAAAABgAAAAgAAAAKAAAADAAAAA4AAAAQAAAAEgAAABQAAAAWAAAAGAAAABoAAAA=",
            "dtype": "i4"
           },
           "y": {
            "bdata": "AAAAAAAAAAAAAAAAAAAAAAAAAAAAAAAAAAAAAAAAAAAAAAAAAAAAAAAAAAAAAAAAAAAAAAAAAAA=",
            "dtype": "i4"
           }
          }
         ],
         "name": "26"
        },
        {
         "data": [
          {
           "mode": "lines+markers",
           "name": "user_1",
           "type": "scatter",
           "x": {
            "bdata": "AAAAAAIAAAAEAAAABgAAAAgAAAAKAAAADAAAAA4AAAAQAAAAEgAAABQAAAAWAAAAGAAAABoAAAAcAAAA",
            "dtype": "i4"
           },
           "y": {
            "bdata": "AAAAAAAAAAAAAAAAAAAAAAAAAAAAAAAAAAAAAAAAAAAAAAAAAAAAAAAAAAAAAAAAAAAAAAAAAAAAAAAA",
            "dtype": "i4"
           }
          },
          {
           "mode": "lines+markers",
           "name": "user_10",
           "type": "scatter",
           "x": {
            "bdata": "AAAAAAIAAAAEAAAABgAAAAgAAAAKAAAADAAAAA4AAAAQAAAAEgAAABQAAAAWAAAAGAAAABoAAAAcAAAA",
            "dtype": "i4"
           },
           "y": {
            "bdata": "AAAAAAAAAAAAAAAAAAAAAAAAAAAAAAAAAAAAAAAAAAAAAAAAAAAAAAAAAAAAAAAAAAAAAAAAAAAAAAAA",
            "dtype": "i4"
           }
          },
          {
           "mode": "lines+markers",
           "name": "user_11",
           "type": "scatter",
           "x": {
            "bdata": "AAAAAAIAAAAEAAAABgAAAAgAAAAKAAAADAAAAA4AAAAQAAAAEgAAABQAAAAWAAAAGAAAABoAAAAcAAAA",
            "dtype": "i4"
           },
           "y": {
            "bdata": "AAAAAAAAAAAAAAAAAAAAAAAAAAAAAAAAAQAAAAEAAAABAAAAAQAAAAEAAAABAAAAAQAAAAEAAAABAAAA",
            "dtype": "i4"
           }
          },
          {
           "mode": "lines+markers",
           "name": "user_12",
           "type": "scatter",
           "x": {
            "bdata": "AAAAAAIAAAAEAAAABgAAAAgAAAAKAAAADAAAAA4AAAAQAAAAEgAAABQAAAAWAAAAGAAAABoAAAAcAAAA",
            "dtype": "i4"
           },
           "y": {
            "bdata": "AAAAAAAAAAAAAAAAAAAAAAAAAAAAAAAAAAAAAAAAAAAAAAAAAAAAAAAAAAAAAAAAAAAAAAAAAAAAAAAA",
            "dtype": "i4"
           }
          },
          {
           "mode": "lines+markers",
           "name": "user_13",
           "type": "scatter",
           "x": {
            "bdata": "AAAAAAIAAAAEAAAABgAAAAgAAAAKAAAADAAAAA4AAAAQAAAAEgAAABQAAAAWAAAAGAAAABoAAAAcAAAA",
            "dtype": "i4"
           },
           "y": {
            "bdata": "AAAAAAAAAAAAAAAAAAAAAAAAAAAAAAAAAAAAAAAAAAAAAAAAAAAAAAAAAAAAAAAAAAAAAAAAAAACAAAA",
            "dtype": "i4"
           }
          },
          {
           "mode": "lines+markers",
           "name": "user_14",
           "type": "scatter",
           "x": {
            "bdata": "AAAAAAIAAAAEAAAABgAAAAgAAAAKAAAADAAAAA4AAAAQAAAAEgAAABQAAAAWAAAAGAAAABoAAAAcAAAA",
            "dtype": "i4"
           },
           "y": {
            "bdata": "AAAAAAAAAAAAAAAAAAAAAAAAAAAAAAAAAAAAAAAAAAABAAAAAQAAAAEAAAABAAAAEgAAABkAAAAxAAAA",
            "dtype": "i4"
           }
          },
          {
           "mode": "lines+markers",
           "name": "user_15",
           "type": "scatter",
           "x": {
            "bdata": "AAAAAAIAAAAEAAAABgAAAAgAAAAKAAAADAAAAA4AAAAQAAAAEgAAABQAAAAWAAAAGAAAABoAAAAcAAAA",
            "dtype": "i4"
           },
           "y": {
            "bdata": "AAAAAAAAAAAAAAAAAAAAAAAAAAAAAAAAAAAAAAAAAAAAAAAAAAAAAAAAAAAAAAAAAAAAAAAAAAAAAAAA",
            "dtype": "i4"
           }
          },
          {
           "mode": "lines+markers",
           "name": "user_16",
           "type": "scatter",
           "x": {
            "bdata": "AAAAAAIAAAAEAAAABgAAAAgAAAAKAAAADAAAAA4AAAAQAAAAEgAAABQAAAAWAAAAGAAAABoAAAAcAAAA",
            "dtype": "i4"
           },
           "y": {
            "bdata": "AAAAAAAAAAAAAAAAAAAAAAAAAAAAAAAAAAAAAAAAAAAAAAAAAAAAAAAAAAAAAAAAAAAAAAAAAAAAAAAA",
            "dtype": "i4"
           }
          },
          {
           "mode": "lines+markers",
           "name": "user_17",
           "type": "scatter",
           "x": {
            "bdata": "AAAAAAIAAAAEAAAABgAAAAgAAAAKAAAADAAAAA4AAAAQAAAAEgAAABQAAAAWAAAAGAAAABoAAAAcAAAA",
            "dtype": "i4"
           },
           "y": {
            "bdata": "AAAAAAEAAAABAAAAAQAAAAEAAAABAAAAAQAAAAEAAAABAAAAAQAAAAEAAAABAAAAAQAAAAEAAAABAAAA",
            "dtype": "i4"
           }
          },
          {
           "mode": "lines+markers",
           "name": "user_18",
           "type": "scatter",
           "x": {
            "bdata": "AAAAAAIAAAAEAAAABgAAAAgAAAAKAAAADAAAAA4AAAAQAAAAEgAAABQAAAAWAAAAGAAAABoAAAAcAAAA",
            "dtype": "i4"
           },
           "y": {
            "bdata": "AAAAAAAAAAAAAAAAAAAAAAAAAAAAAAAAAAAAAAAAAAAAAAAAAAAAAAAAAAAAAAAAAAAAAAAAAAAHAAAA",
            "dtype": "i4"
           }
          },
          {
           "mode": "lines+markers",
           "name": "user_19",
           "type": "scatter",
           "x": {
            "bdata": "AAAAAAIAAAAEAAAABgAAAAgAAAAKAAAADAAAAA4AAAAQAAAAEgAAABQAAAAWAAAAGAAAABoAAAAcAAAA",
            "dtype": "i4"
           },
           "y": {
            "bdata": "AAAAAAAAAAAAAAAAAAAAAAAAAAAAAAAAAAAAAAAAAAAAAAAAAAAAAAAAAAAAAAAAAAAAAAAAAAAAAAAA",
            "dtype": "i4"
           }
          },
          {
           "mode": "lines+markers",
           "name": "user_2",
           "type": "scatter",
           "x": {
            "bdata": "AAAAAAIAAAAEAAAABgAAAAgAAAAKAAAADAAAAA4AAAAQAAAAEgAAABQAAAAWAAAAGAAAABoAAAAcAAAA",
            "dtype": "i4"
           },
           "y": {
            "bdata": "AAAAAAAAAAAAAAAAAAAAAAAAAAAAAAAAAAAAAAAAAAA5AAAAOgAAADoAAAA6AAAAOgAAAD4AAABKAAAA",
            "dtype": "i4"
           }
          },
          {
           "mode": "lines+markers",
           "name": "user_20",
           "type": "scatter",
           "x": {
            "bdata": "AAAAAAIAAAAEAAAABgAAAAgAAAAKAAAADAAAAA4AAAAQAAAAEgAAABQAAAAWAAAAGAAAABoAAAAcAAAA",
            "dtype": "i4"
           },
           "y": {
            "bdata": "AAAAAAAAAAAAAAAAAAAAAAAAAAAAAAAAAAAAAAAAAAAAAAAAAAAAAAAAAAAAAAAAAAAAAAAAAAALAAAA",
            "dtype": "i4"
           }
          },
          {
           "mode": "lines+markers",
           "name": "user_21",
           "type": "scatter",
           "x": {
            "bdata": "AAAAAAIAAAAEAAAABgAAAAgAAAAKAAAADAAAAA4AAAAQAAAAEgAAABQAAAAWAAAAGAAAABoAAAAcAAAA",
            "dtype": "i4"
           },
           "y": {
            "bdata": "AAAAAAAAAAAAAAAAAAAAAAAAAAAAAAAAAAAAAAAAAAAAAAAAAAAAAAAAAAAAAAAAAAAAAAcAAAAHAAAA",
            "dtype": "i4"
           }
          },
          {
           "mode": "lines+markers",
           "name": "user_22",
           "type": "scatter",
           "x": {
            "bdata": "AAAAAAIAAAAEAAAABgAAAAgAAAAKAAAADAAAAA4AAAAQAAAAEgAAABQAAAAWAAAAGAAAABoAAAAcAAAA",
            "dtype": "i4"
           },
           "y": {
            "bdata": "AAAAAAAAAAAAAAAAAAAAAAAAAAAAAAAAAQAAAAEAAAABAAAAAQAAAAEAAAABAAAAAQAAAAEAAAABAAAA",
            "dtype": "i4"
           }
          },
          {
           "mode": "lines+markers",
           "name": "user_24",
           "type": "scatter",
           "x": {
            "bdata": "AAAAAAIAAAAEAAAABgAAAAgAAAAKAAAADAAAAA4AAAAQAAAAEgAAABQAAAAWAAAAGAAAABoAAAAcAAAA",
            "dtype": "i4"
           },
           "y": {
            "bdata": "AAAAAAAAAAAAAAAAAAAAAAAAAAAAAAAAAAAAAAAAAAAAAAAAAAAAAAAAAAAAAAAAAAAAAAAAAAAAAAAA",
            "dtype": "i4"
           }
          },
          {
           "mode": "lines+markers",
           "name": "user_25",
           "type": "scatter",
           "x": {
            "bdata": "AAAAAAIAAAAEAAAABgAAAAgAAAAKAAAADAAAAA4AAAAQAAAAEgAAABQAAAAWAAAAGAAAABoAAAAcAAAA",
            "dtype": "i4"
           },
           "y": {
            "bdata": "AAAAAAAAAAAAAAAAAAAAAAAAAAAAAAAAAAAAAAAAAAAAAAAAAAAAAAAAAAAFAAAAGwAAAB0AAAAhAAAA",
            "dtype": "i4"
           }
          },
          {
           "mode": "lines+markers",
           "name": "user_26",
           "type": "scatter",
           "x": {
            "bdata": "AAAAAAIAAAAEAAAABgAAAAgAAAAKAAAADAAAAA4AAAAQAAAAEgAAABQAAAAWAAAAGAAAABoAAAAcAAAA",
            "dtype": "i4"
           },
           "y": {
            "bdata": "AAAAAAAAAAAAAAAAAAAAAAAAAAAAAAAAAAAAAAAAAAAAAAAAAAAAAAAAAAAAAAAAAAAAACMAAAAjAAAA",
            "dtype": "i4"
           }
          },
          {
           "mode": "lines+markers",
           "name": "user_27",
           "type": "scatter",
           "x": {
            "bdata": "AAAAAAIAAAAEAAAABgAAAAgAAAAKAAAADAAAAA4AAAAQAAAAEgAAABQAAAAWAAAAGAAAABoAAAAcAAAA",
            "dtype": "i4"
           },
           "y": {
            "bdata": "AAAAAAAAAAAAAAAAAAAAAAAAAAAAAAAAAAAAAAAAAAAAAAAAAAAAAAAAAAAAAAAAAAAAAAAAAAAAAAAA",
            "dtype": "i4"
           }
          },
          {
           "mode": "lines+markers",
           "name": "user_28",
           "type": "scatter",
           "x": {
            "bdata": "AAAAAAIAAAAEAAAABgAAAAgAAAAKAAAADAAAAA4AAAAQAAAAEgAAABQAAAAWAAAAGAAAABoAAAAcAAAA",
            "dtype": "i4"
           },
           "y": {
            "bdata": "AAAAAAAAAAAAAAAAAAAAAAAAAAAAAAAAAAAAAAAAAAAAAAAAAAAAAAAAAAAAAAAAAAAAAAAAAAAAAAAA",
            "dtype": "i4"
           }
          },
          {
           "mode": "lines+markers",
           "name": "user_29",
           "type": "scatter",
           "x": {
            "bdata": "AAAAAAIAAAAEAAAABgAAAAgAAAAKAAAADAAAAA4AAAAQAAAAEgAAABQAAAAWAAAAGAAAABoAAAAcAAAA",
            "dtype": "i4"
           },
           "y": {
            "bdata": "AAAAAAAAAAAAAAAAAAAAAAAAAAAAAAAAAAAAAAAAAAAAAAAAAAAAAAAAAAAAAAAAAAAAAAAAAAAFAAAA",
            "dtype": "i4"
           }
          },
          {
           "mode": "lines+markers",
           "name": "user_3",
           "type": "scatter",
           "x": {
            "bdata": "AAAAAAIAAAAEAAAABgAAAAgAAAAKAAAADAAAAA4AAAAQAAAAEgAAABQAAAAWAAAAGAAAABoAAAAcAAAA",
            "dtype": "i4"
           },
           "y": {
            "bdata": "AAAAAAAAAAAAAAAAAAAAAAAAAAAAAAAAAAAAAAAAAAAAAAAAAAAAAAEAAAAcAAAAHQAAAB8AAAA2AAAA",
            "dtype": "i4"
           }
          },
          {
           "mode": "lines+markers",
           "name": "user_30",
           "type": "scatter",
           "x": {
            "bdata": "AAAAAAIAAAAEAAAABgAAAAgAAAAKAAAADAAAAA4AAAAQAAAAEgAAABQAAAAWAAAAGAAAABoAAAAcAAAA",
            "dtype": "i4"
           },
           "y": {
            "bdata": "AAAAAAAAAAAAAAAAAQAAAAIAAAACAAAABAAAAAUAAAAFAAAABQAAAAwAAAAMAAAADAAAABEAAAARAAAA",
            "dtype": "i4"
           }
          },
          {
           "mode": "lines+markers",
           "name": "user_31",
           "type": "scatter",
           "x": {
            "bdata": "AAAAAAIAAAAEAAAABgAAAAgAAAAKAAAADAAAAA4AAAAQAAAAEgAAABQAAAAWAAAAGAAAABoAAAAcAAAA",
            "dtype": "i4"
           },
           "y": {
            "bdata": "AAAAAAAAAAAAAAAAAAAAAAAAAAAAAAAAAAAAAAAAAAAAAAAAAAAAAAEAAAABAAAABAAAAAQAAAAGAAAA",
            "dtype": "i4"
           }
          },
          {
           "mode": "lines+markers",
           "name": "user_4",
           "type": "scatter",
           "x": {
            "bdata": "AAAAAAIAAAAEAAAABgAAAAgAAAAKAAAADAAAAA4AAAAQAAAAEgAAABQAAAAWAAAAGAAAABoAAAAcAAAA",
            "dtype": "i4"
           },
           "y": {
            "bdata": "BwAAAAcAAAALAAAACwAAABQAAAAbAAAAIwAAADAAAAA1AAAANQAAAEcAAABTAAAAUwAAAFMAAABXAAAA",
            "dtype": "i4"
           }
          },
          {
           "mode": "lines+markers",
           "name": "user_6",
           "type": "scatter",
           "x": {
            "bdata": "AAAAAAIAAAAEAAAABgAAAAgAAAAKAAAADAAAAA4AAAAQAAAAEgAAABQAAAAWAAAAGAAAABoAAAAcAAAA",
            "dtype": "i4"
           },
           "y": {
            "bdata": "AAAAAAAAAAAAAAAAAAAAAAAAAAAAAAAAAAAAAAAAAAAAAAAAAAAAAAAAAAAAAAAAAAAAAAAAAAAAAAAA",
            "dtype": "i4"
           }
          },
          {
           "mode": "lines+markers",
           "name": "user_8",
           "type": "scatter",
           "x": {
            "bdata": "AAAAAAIAAAAEAAAABgAAAAgAAAAKAAAADAAAAA4AAAAQAAAAEgAAABQAAAAWAAAAGAAAABoAAAAcAAAA",
            "dtype": "i4"
           },
           "y": {
            "bdata": "AAAAAAAAAAAAAAAAAAAAAAAAAAAAAAAAAAAAAAAAAAAAAAAAAAAAAAAAAAAAAAAAAAAAAAAAAAAAAAAA",
            "dtype": "i4"
           }
          }
         ],
         "name": "28"
        },
        {
         "data": [
          {
           "mode": "lines+markers",
           "name": "user_1",
           "type": "scatter",
           "x": {
            "bdata": "AAAAAAIAAAAEAAAABgAAAAgAAAAKAAAADAAAAA4AAAAQAAAAEgAAABQAAAAWAAAAGAAAABoAAAAcAAAAHgAAAA==",
            "dtype": "i4"
           },
           "y": {
            "bdata": "AAAAAAAAAAAAAAAAAAAAAAAAAAAAAAAAAAAAAAAAAAAAAAAAAAAAAAAAAAAAAAAAAAAAAAAAAAAAAAAAAAAAAA==",
            "dtype": "i4"
           }
          },
          {
           "mode": "lines+markers",
           "name": "user_10",
           "type": "scatter",
           "x": {
            "bdata": "AAAAAAIAAAAEAAAABgAAAAgAAAAKAAAADAAAAA4AAAAQAAAAEgAAABQAAAAWAAAAGAAAABoAAAAcAAAAHgAAAA==",
            "dtype": "i4"
           },
           "y": {
            "bdata": "AAAAAAAAAAAAAAAAAAAAAAAAAAAAAAAAAAAAAAAAAAAAAAAAAAAAAAAAAAAAAAAAAAAAAAAAAAAAAAAABwAAAA==",
            "dtype": "i4"
           }
          },
          {
           "mode": "lines+markers",
           "name": "user_11",
           "type": "scatter",
           "x": {
            "bdata": "AAAAAAIAAAAEAAAABgAAAAgAAAAKAAAADAAAAA4AAAAQAAAAEgAAABQAAAAWAAAAGAAAABoAAAAcAAAAHgAAAA==",
            "dtype": "i4"
           },
           "y": {
            "bdata": "AAAAAAAAAAAAAAAAAAAAAAAAAAAAAAAAAQAAAAEAAAABAAAAAQAAAAEAAAABAAAAAQAAAAEAAAABAAAAAQAAAA==",
            "dtype": "i4"
           }
          },
          {
           "mode": "lines+markers",
           "name": "user_12",
           "type": "scatter",
           "x": {
            "bdata": "AAAAAAIAAAAEAAAABgAAAAgAAAAKAAAADAAAAA4AAAAQAAAAEgAAABQAAAAWAAAAGAAAABoAAAAcAAAAHgAAAA==",
            "dtype": "i4"
           },
           "y": {
            "bdata": "AAAAAAAAAAAAAAAAAAAAAAAAAAAAAAAAAAAAAAAAAAAAAAAAAAAAAAAAAAAAAAAAAAAAAAAAAAAAAAAAAAAAAA==",
            "dtype": "i4"
           }
          },
          {
           "mode": "lines+markers",
           "name": "user_13",
           "type": "scatter",
           "x": {
            "bdata": "AAAAAAIAAAAEAAAABgAAAAgAAAAKAAAADAAAAA4AAAAQAAAAEgAAABQAAAAWAAAAGAAAABoAAAAcAAAAHgAAAA==",
            "dtype": "i4"
           },
           "y": {
            "bdata": "AAAAAAAAAAAAAAAAAAAAAAAAAAAAAAAAAAAAAAAAAAAAAAAAAAAAAAAAAAAAAAAAAAAAAAAAAAACAAAAHgAAAA==",
            "dtype": "i4"
           }
          },
          {
           "mode": "lines+markers",
           "name": "user_14",
           "type": "scatter",
           "x": {
            "bdata": "AAAAAAIAAAAEAAAABgAAAAgAAAAKAAAADAAAAA4AAAAQAAAAEgAAABQAAAAWAAAAGAAAABoAAAAcAAAAHgAAAA==",
            "dtype": "i4"
           },
           "y": {
            "bdata": "AAAAAAAAAAAAAAAAAAAAAAAAAAAAAAAAAAAAAAAAAAABAAAAAQAAAAEAAAABAAAAEgAAABkAAAAxAAAAXAAAAA==",
            "dtype": "i4"
           }
          },
          {
           "mode": "lines+markers",
           "name": "user_15",
           "type": "scatter",
           "x": {
            "bdata": "AAAAAAIAAAAEAAAABgAAAAgAAAAKAAAADAAAAA4AAAAQAAAAEgAAABQAAAAWAAAAGAAAABoAAAAcAAAAHgAAAA==",
            "dtype": "i4"
           },
           "y": {
            "bdata": "AAAAAAAAAAAAAAAAAAAAAAAAAAAAAAAAAAAAAAAAAAAAAAAAAAAAAAAAAAAAAAAAAAAAAAAAAAAAAAAAAAAAAA==",
            "dtype": "i4"
           }
          },
          {
           "mode": "lines+markers",
           "name": "user_16",
           "type": "scatter",
           "x": {
            "bdata": "AAAAAAIAAAAEAAAABgAAAAgAAAAKAAAADAAAAA4AAAAQAAAAEgAAABQAAAAWAAAAGAAAABoAAAAcAAAAHgAAAA==",
            "dtype": "i4"
           },
           "y": {
            "bdata": "AAAAAAAAAAAAAAAAAAAAAAAAAAAAAAAAAAAAAAAAAAAAAAAAAAAAAAAAAAAAAAAAAAAAAAAAAAAAAAAAAwAAAA==",
            "dtype": "i4"
           }
          },
          {
           "mode": "lines+markers",
           "name": "user_17",
           "type": "scatter",
           "x": {
            "bdata": "AAAAAAIAAAAEAAAABgAAAAgAAAAKAAAADAAAAA4AAAAQAAAAEgAAABQAAAAWAAAAGAAAABoAAAAcAAAAHgAAAA==",
            "dtype": "i4"
           },
           "y": {
            "bdata": "AAAAAAEAAAABAAAAAQAAAAEAAAABAAAAAQAAAAEAAAABAAAAAQAAAAEAAAABAAAAAQAAAAEAAAABAAAAAwAAAA==",
            "dtype": "i4"
           }
          },
          {
           "mode": "lines+markers",
           "name": "user_18",
           "type": "scatter",
           "x": {
            "bdata": "AAAAAAIAAAAEAAAABgAAAAgAAAAKAAAADAAAAA4AAAAQAAAAEgAAABQAAAAWAAAAGAAAABoAAAAcAAAAHgAAAA==",
            "dtype": "i4"
           },
           "y": {
            "bdata": "AAAAAAAAAAAAAAAAAAAAAAAAAAAAAAAAAAAAAAAAAAAAAAAAAAAAAAAAAAAAAAAAAAAAAAAAAAAHAAAABwAAAA==",
            "dtype": "i4"
           }
          },
          {
           "mode": "lines+markers",
           "name": "user_19",
           "type": "scatter",
           "x": {
            "bdata": "AAAAAAIAAAAEAAAABgAAAAgAAAAKAAAADAAAAA4AAAAQAAAAEgAAABQAAAAWAAAAGAAAABoAAAAcAAAAHgAAAA==",
            "dtype": "i4"
           },
           "y": {
            "bdata": "AAAAAAAAAAAAAAAAAAAAAAAAAAAAAAAAAAAAAAAAAAAAAAAAAAAAAAAAAAAAAAAAAAAAAAAAAAAAAAAAAAAAAA==",
            "dtype": "i4"
           }
          },
          {
           "mode": "lines+markers",
           "name": "user_2",
           "type": "scatter",
           "x": {
            "bdata": "AAAAAAIAAAAEAAAABgAAAAgAAAAKAAAADAAAAA4AAAAQAAAAEgAAABQAAAAWAAAAGAAAABoAAAAcAAAAHgAAAA==",
            "dtype": "i4"
           },
           "y": {
            "bdata": "AAAAAAAAAAAAAAAAAAAAAAAAAAAAAAAAAAAAAAAAAAA5AAAAOgAAADoAAAA6AAAAOgAAAD4AAABKAAAATgAAAA==",
            "dtype": "i4"
           }
          },
          {
           "mode": "lines+markers",
           "name": "user_20",
           "type": "scatter",
           "x": {
            "bdata": "AAAAAAIAAAAEAAAABgAAAAgAAAAKAAAADAAAAA4AAAAQAAAAEgAAABQAAAAWAAAAGAAAABoAAAAcAAAAHgAAAA==",
            "dtype": "i4"
           },
           "y": {
            "bdata": "AAAAAAAAAAAAAAAAAAAAAAAAAAAAAAAAAAAAAAAAAAAAAAAAAAAAAAAAAAAAAAAAAAAAAAAAAAALAAAACwAAAA==",
            "dtype": "i4"
           }
          },
          {
           "mode": "lines+markers",
           "name": "user_21",
           "type": "scatter",
           "x": {
            "bdata": "AAAAAAIAAAAEAAAABgAAAAgAAAAKAAAADAAAAA4AAAAQAAAAEgAAABQAAAAWAAAAGAAAABoAAAAcAAAAHgAAAA==",
            "dtype": "i4"
           },
           "y": {
            "bdata": "AAAAAAAAAAAAAAAAAAAAAAAAAAAAAAAAAAAAAAAAAAAAAAAAAAAAAAAAAAAAAAAAAAAAAAcAAAAHAAAABwAAAA==",
            "dtype": "i4"
           }
          },
          {
           "mode": "lines+markers",
           "name": "user_22",
           "type": "scatter",
           "x": {
            "bdata": "AAAAAAIAAAAEAAAABgAAAAgAAAAKAAAADAAAAA4AAAAQAAAAEgAAABQAAAAWAAAAGAAAABoAAAAcAAAAHgAAAA==",
            "dtype": "i4"
           },
           "y": {
            "bdata": "AAAAAAAAAAAAAAAAAAAAAAAAAAAAAAAAAQAAAAEAAAABAAAAAQAAAAEAAAABAAAAAQAAAAEAAAABAAAAAQAAAA==",
            "dtype": "i4"
           }
          },
          {
           "mode": "lines+markers",
           "name": "user_24",
           "type": "scatter",
           "x": {
            "bdata": "AAAAAAIAAAAEAAAABgAAAAgAAAAKAAAADAAAAA4AAAAQAAAAEgAAABQAAAAWAAAAGAAAABoAAAAcAAAAHgAAAA==",
            "dtype": "i4"
           },
           "y": {
            "bdata": "AAAAAAAAAAAAAAAAAAAAAAAAAAAAAAAAAAAAAAAAAAAAAAAAAAAAAAAAAAAAAAAAAAAAAAAAAAAAAAAAAAAAAA==",
            "dtype": "i4"
           }
          },
          {
           "mode": "lines+markers",
           "name": "user_25",
           "type": "scatter",
           "x": {
            "bdata": "AAAAAAIAAAAEAAAABgAAAAgAAAAKAAAADAAAAA4AAAAQAAAAEgAAABQAAAAWAAAAGAAAABoAAAAcAAAAHgAAAA==",
            "dtype": "i4"
           },
           "y": {
            "bdata": "AAAAAAAAAAAAAAAAAAAAAAAAAAAAAAAAAAAAAAAAAAAAAAAAAAAAAAAAAAAFAAAAGwAAAB0AAAAhAAAANgAAAA==",
            "dtype": "i4"
           }
          },
          {
           "mode": "lines+markers",
           "name": "user_26",
           "type": "scatter",
           "x": {
            "bdata": "AAAAAAIAAAAEAAAABgAAAAgAAAAKAAAADAAAAA4AAAAQAAAAEgAAABQAAAAWAAAAGAAAABoAAAAcAAAAHgAAAA==",
            "dtype": "i4"
           },
           "y": {
            "bdata": "AAAAAAAAAAAAAAAAAAAAAAAAAAAAAAAAAAAAAAAAAAAAAAAAAAAAAAAAAAAAAAAAAAAAACMAAAAjAAAAIwAAAA==",
            "dtype": "i4"
           }
          },
          {
           "mode": "lines+markers",
           "name": "user_27",
           "type": "scatter",
           "x": {
            "bdata": "AAAAAAIAAAAEAAAABgAAAAgAAAAKAAAADAAAAA4AAAAQAAAAEgAAABQAAAAWAAAAGAAAABoAAAAcAAAAHgAAAA==",
            "dtype": "i4"
           },
           "y": {
            "bdata": "AAAAAAAAAAAAAAAAAAAAAAAAAAAAAAAAAAAAAAAAAAAAAAAAAAAAAAAAAAAAAAAAAAAAAAAAAAAAAAAAAAAAAA==",
            "dtype": "i4"
           }
          },
          {
           "mode": "lines+markers",
           "name": "user_28",
           "type": "scatter",
           "x": {
            "bdata": "AAAAAAIAAAAEAAAABgAAAAgAAAAKAAAADAAAAA4AAAAQAAAAEgAAABQAAAAWAAAAGAAAABoAAAAcAAAAHgAAAA==",
            "dtype": "i4"
           },
           "y": {
            "bdata": "AAAAAAAAAAAAAAAAAAAAAAAAAAAAAAAAAAAAAAAAAAAAAAAAAAAAAAAAAAAAAAAAAAAAAAAAAAAAAAAAAgAAAA==",
            "dtype": "i4"
           }
          },
          {
           "mode": "lines+markers",
           "name": "user_29",
           "type": "scatter",
           "x": {
            "bdata": "AAAAAAIAAAAEAAAABgAAAAgAAAAKAAAADAAAAA4AAAAQAAAAEgAAABQAAAAWAAAAGAAAABoAAAAcAAAAHgAAAA==",
            "dtype": "i4"
           },
           "y": {
            "bdata": "AAAAAAAAAAAAAAAAAAAAAAAAAAAAAAAAAAAAAAAAAAAAAAAAAAAAAAAAAAAAAAAAAAAAAAAAAAAFAAAAEgAAAA==",
            "dtype": "i4"
           }
          },
          {
           "mode": "lines+markers",
           "name": "user_3",
           "type": "scatter",
           "x": {
            "bdata": "AAAAAAIAAAAEAAAABgAAAAgAAAAKAAAADAAAAA4AAAAQAAAAEgAAABQAAAAWAAAAGAAAABoAAAAcAAAAHgAAAA==",
            "dtype": "i4"
           },
           "y": {
            "bdata": "AAAAAAAAAAAAAAAAAAAAAAAAAAAAAAAAAAAAAAAAAAAAAAAAAAAAAAEAAAAcAAAAHQAAAB8AAAA2AAAAOAAAAA==",
            "dtype": "i4"
           }
          },
          {
           "mode": "lines+markers",
           "name": "user_30",
           "type": "scatter",
           "x": {
            "bdata": "AAAAAAIAAAAEAAAABgAAAAgAAAAKAAAADAAAAA4AAAAQAAAAEgAAABQAAAAWAAAAGAAAABoAAAAcAAAAHgAAAA==",
            "dtype": "i4"
           },
           "y": {
            "bdata": "AAAAAAAAAAAAAAAAAQAAAAIAAAACAAAABAAAAAUAAAAFAAAABQAAAAwAAAAMAAAADAAAABEAAAARAAAAEQAAAA==",
            "dtype": "i4"
           }
          },
          {
           "mode": "lines+markers",
           "name": "user_31",
           "type": "scatter",
           "x": {
            "bdata": "AAAAAAIAAAAEAAAABgAAAAgAAAAKAAAADAAAAA4AAAAQAAAAEgAAABQAAAAWAAAAGAAAABoAAAAcAAAAHgAAAA==",
            "dtype": "i4"
           },
           "y": {
            "bdata": "AAAAAAAAAAAAAAAAAAAAAAAAAAAAAAAAAAAAAAAAAAAAAAAAAAAAAAEAAAABAAAABAAAAAQAAAAGAAAABgAAAA==",
            "dtype": "i4"
           }
          },
          {
           "mode": "lines+markers",
           "name": "user_4",
           "type": "scatter",
           "x": {
            "bdata": "AAAAAAIAAAAEAAAABgAAAAgAAAAKAAAADAAAAA4AAAAQAAAAEgAAABQAAAAWAAAAGAAAABoAAAAcAAAAHgAAAA==",
            "dtype": "i4"
           },
           "y": {
            "bdata": "BwAAAAcAAAALAAAACwAAABQAAAAbAAAAIwAAADAAAAA1AAAANQAAAEcAAABTAAAAUwAAAFMAAABXAAAAfQAAAA==",
            "dtype": "i4"
           }
          },
          {
           "mode": "lines+markers",
           "name": "user_6",
           "type": "scatter",
           "x": {
            "bdata": "AAAAAAIAAAAEAAAABgAAAAgAAAAKAAAADAAAAA4AAAAQAAAAEgAAABQAAAAWAAAAGAAAABoAAAAcAAAAHgAAAA==",
            "dtype": "i4"
           },
           "y": {
            "bdata": "AAAAAAAAAAAAAAAAAAAAAAAAAAAAAAAAAAAAAAAAAAAAAAAAAAAAAAAAAAAAAAAAAAAAAAAAAAAAAAAAAAAAAA==",
            "dtype": "i4"
           }
          },
          {
           "mode": "lines+markers",
           "name": "user_8",
           "type": "scatter",
           "x": {
            "bdata": "AAAAAAIAAAAEAAAABgAAAAgAAAAKAAAADAAAAA4AAAAQAAAAEgAAABQAAAAWAAAAGAAAABoAAAAcAAAAHgAAAA==",
            "dtype": "i4"
           },
           "y": {
            "bdata": "AAAAAAAAAAAAAAAAAAAAAAAAAAAAAAAAAAAAAAAAAAAAAAAAAAAAAAAAAAAAAAAAAAAAAAAAAAAAAAAAAAAAAA==",
            "dtype": "i4"
           }
          }
         ],
         "name": "30"
        },
        {
         "data": [
          {
           "mode": "lines+markers",
           "name": "user_1",
           "type": "scatter",
           "x": {
            "bdata": "AAAAAAIAAAAEAAAABgAAAAgAAAAKAAAADAAAAA4AAAAQAAAAEgAAABQAAAAWAAAAGAAAABoAAAAcAAAAHgAAACAAAAA=",
            "dtype": "i4"
           },
           "y": {
            "bdata": "AAAAAAAAAAAAAAAAAAAAAAAAAAAAAAAAAAAAAAAAAAAAAAAAAAAAAAAAAAAAAAAAAAAAAAAAAAAAAAAAAAAAAAAAAAA=",
            "dtype": "i4"
           }
          },
          {
           "mode": "lines+markers",
           "name": "user_10",
           "type": "scatter",
           "x": {
            "bdata": "AAAAAAIAAAAEAAAABgAAAAgAAAAKAAAADAAAAA4AAAAQAAAAEgAAABQAAAAWAAAAGAAAABoAAAAcAAAAHgAAACAAAAA=",
            "dtype": "i4"
           },
           "y": {
            "bdata": "AAAAAAAAAAAAAAAAAAAAAAAAAAAAAAAAAAAAAAAAAAAAAAAAAAAAAAAAAAAAAAAAAAAAAAAAAAAAAAAABwAAABUAAAA=",
            "dtype": "i4"
           }
          },
          {
           "mode": "lines+markers",
           "name": "user_11",
           "type": "scatter",
           "x": {
            "bdata": "AAAAAAIAAAAEAAAABgAAAAgAAAAKAAAADAAAAA4AAAAQAAAAEgAAABQAAAAWAAAAGAAAABoAAAAcAAAAHgAAACAAAAA=",
            "dtype": "i4"
           },
           "y": {
            "bdata": "AAAAAAAAAAAAAAAAAAAAAAAAAAAAAAAAAQAAAAEAAAABAAAAAQAAAAEAAAABAAAAAQAAAAEAAAABAAAAAQAAAAEAAAA=",
            "dtype": "i4"
           }
          },
          {
           "mode": "lines+markers",
           "name": "user_12",
           "type": "scatter",
           "x": {
            "bdata": "AAAAAAIAAAAEAAAABgAAAAgAAAAKAAAADAAAAA4AAAAQAAAAEgAAABQAAAAWAAAAGAAAABoAAAAcAAAAHgAAACAAAAA=",
            "dtype": "i4"
           },
           "y": {
            "bdata": "AAAAAAAAAAAAAAAAAAAAAAAAAAAAAAAAAAAAAAAAAAAAAAAAAAAAAAAAAAAAAAAAAAAAAAAAAAAAAAAAAAAAAAAAAAA=",
            "dtype": "i4"
           }
          },
          {
           "mode": "lines+markers",
           "name": "user_13",
           "type": "scatter",
           "x": {
            "bdata": "AAAAAAIAAAAEAAAABgAAAAgAAAAKAAAADAAAAA4AAAAQAAAAEgAAABQAAAAWAAAAGAAAABoAAAAcAAAAHgAAACAAAAA=",
            "dtype": "i4"
           },
           "y": {
            "bdata": "AAAAAAAAAAAAAAAAAAAAAAAAAAAAAAAAAAAAAAAAAAAAAAAAAAAAAAAAAAAAAAAAAAAAAAAAAAACAAAAHgAAAB4AAAA=",
            "dtype": "i4"
           }
          },
          {
           "mode": "lines+markers",
           "name": "user_14",
           "type": "scatter",
           "x": {
            "bdata": "AAAAAAIAAAAEAAAABgAAAAgAAAAKAAAADAAAAA4AAAAQAAAAEgAAABQAAAAWAAAAGAAAABoAAAAcAAAAHgAAACAAAAA=",
            "dtype": "i4"
           },
           "y": {
            "bdata": "AAAAAAAAAAAAAAAAAAAAAAAAAAAAAAAAAAAAAAAAAAABAAAAAQAAAAEAAAABAAAAEgAAABkAAAAxAAAAXAAAAFwAAAA=",
            "dtype": "i4"
           }
          },
          {
           "mode": "lines+markers",
           "name": "user_15",
           "type": "scatter",
           "x": {
            "bdata": "AAAAAAIAAAAEAAAABgAAAAgAAAAKAAAADAAAAA4AAAAQAAAAEgAAABQAAAAWAAAAGAAAABoAAAAcAAAAHgAAACAAAAA=",
            "dtype": "i4"
           },
           "y": {
            "bdata": "AAAAAAAAAAAAAAAAAAAAAAAAAAAAAAAAAAAAAAAAAAAAAAAAAAAAAAAAAAAAAAAAAAAAAAAAAAAAAAAAAAAAAAAAAAA=",
            "dtype": "i4"
           }
          },
          {
           "mode": "lines+markers",
           "name": "user_16",
           "type": "scatter",
           "x": {
            "bdata": "AAAAAAIAAAAEAAAABgAAAAgAAAAKAAAADAAAAA4AAAAQAAAAEgAAABQAAAAWAAAAGAAAABoAAAAcAAAAHgAAACAAAAA=",
            "dtype": "i4"
           },
           "y": {
            "bdata": "AAAAAAAAAAAAAAAAAAAAAAAAAAAAAAAAAAAAAAAAAAAAAAAAAAAAAAAAAAAAAAAAAAAAAAAAAAAAAAAAAwAAAAMAAAA=",
            "dtype": "i4"
           }
          },
          {
           "mode": "lines+markers",
           "name": "user_17",
           "type": "scatter",
           "x": {
            "bdata": "AAAAAAIAAAAEAAAABgAAAAgAAAAKAAAADAAAAA4AAAAQAAAAEgAAABQAAAAWAAAAGAAAABoAAAAcAAAAHgAAACAAAAA=",
            "dtype": "i4"
           },
           "y": {
            "bdata": "AAAAAAEAAAABAAAAAQAAAAEAAAABAAAAAQAAAAEAAAABAAAAAQAAAAEAAAABAAAAAQAAAAEAAAABAAAAAwAAAAMAAAA=",
            "dtype": "i4"
           }
          },
          {
           "mode": "lines+markers",
           "name": "user_18",
           "type": "scatter",
           "x": {
            "bdata": "AAAAAAIAAAAEAAAABgAAAAgAAAAKAAAADAAAAA4AAAAQAAAAEgAAABQAAAAWAAAAGAAAABoAAAAcAAAAHgAAACAAAAA=",
            "dtype": "i4"
           },
           "y": {
            "bdata": "AAAAAAAAAAAAAAAAAAAAAAAAAAAAAAAAAAAAAAAAAAAAAAAAAAAAAAAAAAAAAAAAAAAAAAAAAAAHAAAABwAAAAgAAAA=",
            "dtype": "i4"
           }
          },
          {
           "mode": "lines+markers",
           "name": "user_19",
           "type": "scatter",
           "x": {
            "bdata": "AAAAAAIAAAAEAAAABgAAAAgAAAAKAAAADAAAAA4AAAAQAAAAEgAAABQAAAAWAAAAGAAAABoAAAAcAAAAHgAAACAAAAA=",
            "dtype": "i4"
           },
           "y": {
            "bdata": "AAAAAAAAAAAAAAAAAAAAAAAAAAAAAAAAAAAAAAAAAAAAAAAAAAAAAAAAAAAAAAAAAAAAAAAAAAAAAAAAAAAAAAAAAAA=",
            "dtype": "i4"
           }
          },
          {
           "mode": "lines+markers",
           "name": "user_2",
           "type": "scatter",
           "x": {
            "bdata": "AAAAAAIAAAAEAAAABgAAAAgAAAAKAAAADAAAAA4AAAAQAAAAEgAAABQAAAAWAAAAGAAAABoAAAAcAAAAHgAAACAAAAA=",
            "dtype": "i4"
           },
           "y": {
            "bdata": "AAAAAAAAAAAAAAAAAAAAAAAAAAAAAAAAAAAAAAAAAAA5AAAAOgAAADoAAAA6AAAAOgAAAD4AAABKAAAATgAAAF0AAAA=",
            "dtype": "i4"
           }
          },
          {
           "mode": "lines+markers",
           "name": "user_20",
           "type": "scatter",
           "x": {
            "bdata": "AAAAAAIAAAAEAAAABgAAAAgAAAAKAAAADAAAAA4AAAAQAAAAEgAAABQAAAAWAAAAGAAAABoAAAAcAAAAHgAAACAAAAA=",
            "dtype": "i4"
           },
           "y": {
            "bdata": "AAAAAAAAAAAAAAAAAAAAAAAAAAAAAAAAAAAAAAAAAAAAAAAAAAAAAAAAAAAAAAAAAAAAAAAAAAALAAAACwAAAAsAAAA=",
            "dtype": "i4"
           }
          },
          {
           "mode": "lines+markers",
           "name": "user_21",
           "type": "scatter",
           "x": {
            "bdata": "AAAAAAIAAAAEAAAABgAAAAgAAAAKAAAADAAAAA4AAAAQAAAAEgAAABQAAAAWAAAAGAAAABoAAAAcAAAAHgAAACAAAAA=",
            "dtype": "i4"
           },
           "y": {
            "bdata": "AAAAAAAAAAAAAAAAAAAAAAAAAAAAAAAAAAAAAAAAAAAAAAAAAAAAAAAAAAAAAAAAAAAAAAcAAAAHAAAABwAAAAcAAAA=",
            "dtype": "i4"
           }
          },
          {
           "mode": "lines+markers",
           "name": "user_22",
           "type": "scatter",
           "x": {
            "bdata": "AAAAAAIAAAAEAAAABgAAAAgAAAAKAAAADAAAAA4AAAAQAAAAEgAAABQAAAAWAAAAGAAAABoAAAAcAAAAHgAAACAAAAA=",
            "dtype": "i4"
           },
           "y": {
            "bdata": "AAAAAAAAAAAAAAAAAAAAAAAAAAAAAAAAAQAAAAEAAAABAAAAAQAAAAEAAAABAAAAAQAAAAEAAAABAAAAAQAAAAEAAAA=",
            "dtype": "i4"
           }
          },
          {
           "mode": "lines+markers",
           "name": "user_24",
           "type": "scatter",
           "x": {
            "bdata": "AAAAAAIAAAAEAAAABgAAAAgAAAAKAAAADAAAAA4AAAAQAAAAEgAAABQAAAAWAAAAGAAAABoAAAAcAAAAHgAAACAAAAA=",
            "dtype": "i4"
           },
           "y": {
            "bdata": "AAAAAAAAAAAAAAAAAAAAAAAAAAAAAAAAAAAAAAAAAAAAAAAAAAAAAAAAAAAAAAAAAAAAAAAAAAAAAAAAAAAAAAkAAAA=",
            "dtype": "i4"
           }
          },
          {
           "mode": "lines+markers",
           "name": "user_25",
           "type": "scatter",
           "x": {
            "bdata": "AAAAAAIAAAAEAAAABgAAAAgAAAAKAAAADAAAAA4AAAAQAAAAEgAAABQAAAAWAAAAGAAAABoAAAAcAAAAHgAAACAAAAA=",
            "dtype": "i4"
           },
           "y": {
            "bdata": "AAAAAAAAAAAAAAAAAAAAAAAAAAAAAAAAAAAAAAAAAAAAAAAAAAAAAAAAAAAFAAAAGwAAAB0AAAAhAAAANgAAADkAAAA=",
            "dtype": "i4"
           }
          },
          {
           "mode": "lines+markers",
           "name": "user_26",
           "type": "scatter",
           "x": {
            "bdata": "AAAAAAIAAAAEAAAABgAAAAgAAAAKAAAADAAAAA4AAAAQAAAAEgAAABQAAAAWAAAAGAAAABoAAAAcAAAAHgAAACAAAAA=",
            "dtype": "i4"
           },
           "y": {
            "bdata": "AAAAAAAAAAAAAAAAAAAAAAAAAAAAAAAAAAAAAAAAAAAAAAAAAAAAAAAAAAAAAAAAAAAAACMAAAAjAAAAIwAAADQAAAA=",
            "dtype": "i4"
           }
          },
          {
           "mode": "lines+markers",
           "name": "user_27",
           "type": "scatter",
           "x": {
            "bdata": "AAAAAAIAAAAEAAAABgAAAAgAAAAKAAAADAAAAA4AAAAQAAAAEgAAABQAAAAWAAAAGAAAABoAAAAcAAAAHgAAACAAAAA=",
            "dtype": "i4"
           },
           "y": {
            "bdata": "AAAAAAAAAAAAAAAAAAAAAAAAAAAAAAAAAAAAAAAAAAAAAAAAAAAAAAAAAAAAAAAAAAAAAAAAAAAAAAAAAAAAAAAAAAA=",
            "dtype": "i4"
           }
          },
          {
           "mode": "lines+markers",
           "name": "user_28",
           "type": "scatter",
           "x": {
            "bdata": "AAAAAAIAAAAEAAAABgAAAAgAAAAKAAAADAAAAA4AAAAQAAAAEgAAABQAAAAWAAAAGAAAABoAAAAcAAAAHgAAACAAAAA=",
            "dtype": "i4"
           },
           "y": {
            "bdata": "AAAAAAAAAAAAAAAAAAAAAAAAAAAAAAAAAAAAAAAAAAAAAAAAAAAAAAAAAAAAAAAAAAAAAAAAAAAAAAAAAgAAABQAAAA=",
            "dtype": "i4"
           }
          },
          {
           "mode": "lines+markers",
           "name": "user_29",
           "type": "scatter",
           "x": {
            "bdata": "AAAAAAIAAAAEAAAABgAAAAgAAAAKAAAADAAAAA4AAAAQAAAAEgAAABQAAAAWAAAAGAAAABoAAAAcAAAAHgAAACAAAAA=",
            "dtype": "i4"
           },
           "y": {
            "bdata": "AAAAAAAAAAAAAAAAAAAAAAAAAAAAAAAAAAAAAAAAAAAAAAAAAAAAAAAAAAAAAAAAAAAAAAAAAAAFAAAAEgAAACIAAAA=",
            "dtype": "i4"
           }
          },
          {
           "mode": "lines+markers",
           "name": "user_3",
           "type": "scatter",
           "x": {
            "bdata": "AAAAAAIAAAAEAAAABgAAAAgAAAAKAAAADAAAAA4AAAAQAAAAEgAAABQAAAAWAAAAGAAAABoAAAAcAAAAHgAAACAAAAA=",
            "dtype": "i4"
           },
           "y": {
            "bdata": "AAAAAAAAAAAAAAAAAAAAAAAAAAAAAAAAAAAAAAAAAAAAAAAAAAAAAAEAAAAcAAAAHQAAAB8AAAA2AAAAOAAAADgAAAA=",
            "dtype": "i4"
           }
          },
          {
           "mode": "lines+markers",
           "name": "user_30",
           "type": "scatter",
           "x": {
            "bdata": "AAAAAAIAAAAEAAAABgAAAAgAAAAKAAAADAAAAA4AAAAQAAAAEgAAABQAAAAWAAAAGAAAABoAAAAcAAAAHgAAACAAAAA=",
            "dtype": "i4"
           },
           "y": {
            "bdata": "AAAAAAAAAAAAAAAAAQAAAAIAAAACAAAABAAAAAUAAAAFAAAABQAAAAwAAAAMAAAADAAAABEAAAARAAAAEQAAABEAAAA=",
            "dtype": "i4"
           }
          },
          {
           "mode": "lines+markers",
           "name": "user_31",
           "type": "scatter",
           "x": {
            "bdata": "AAAAAAIAAAAEAAAABgAAAAgAAAAKAAAADAAAAA4AAAAQAAAAEgAAABQAAAAWAAAAGAAAABoAAAAcAAAAHgAAACAAAAA=",
            "dtype": "i4"
           },
           "y": {
            "bdata": "AAAAAAAAAAAAAAAAAAAAAAAAAAAAAAAAAAAAAAAAAAAAAAAAAAAAAAEAAAABAAAABAAAAAQAAAAGAAAABgAAAAYAAAA=",
            "dtype": "i4"
           }
          },
          {
           "mode": "lines+markers",
           "name": "user_4",
           "type": "scatter",
           "x": {
            "bdata": "AAAAAAIAAAAEAAAABgAAAAgAAAAKAAAADAAAAA4AAAAQAAAAEgAAABQAAAAWAAAAGAAAABoAAAAcAAAAHgAAACAAAAA=",
            "dtype": "i4"
           },
           "y": {
            "bdata": "BwAAAAcAAAALAAAACwAAABQAAAAbAAAAIwAAADAAAAA1AAAANQAAAEcAAABTAAAAUwAAAFMAAABXAAAAfQAAAIkAAAA=",
            "dtype": "i4"
           }
          },
          {
           "mode": "lines+markers",
           "name": "user_6",
           "type": "scatter",
           "x": {
            "bdata": "AAAAAAIAAAAEAAAABgAAAAgAAAAKAAAADAAAAA4AAAAQAAAAEgAAABQAAAAWAAAAGAAAABoAAAAcAAAAHgAAACAAAAA=",
            "dtype": "i4"
           },
           "y": {
            "bdata": "AAAAAAAAAAAAAAAAAAAAAAAAAAAAAAAAAAAAAAAAAAAAAAAAAAAAAAAAAAAAAAAAAAAAAAAAAAAAAAAAAAAAAAEAAAA=",
            "dtype": "i4"
           }
          },
          {
           "mode": "lines+markers",
           "name": "user_8",
           "type": "scatter",
           "x": {
            "bdata": "AAAAAAIAAAAEAAAABgAAAAgAAAAKAAAADAAAAA4AAAAQAAAAEgAAABQAAAAWAAAAGAAAABoAAAAcAAAAHgAAACAAAAA=",
            "dtype": "i4"
           },
           "y": {
            "bdata": "AAAAAAAAAAAAAAAAAAAAAAAAAAAAAAAAAAAAAAAAAAAAAAAAAAAAAAAAAAAAAAAAAAAAAAAAAAAAAAAAAAAAAAAAAAA=",
            "dtype": "i4"
           }
          }
         ],
         "name": "32"
        },
        {
         "data": [
          {
           "mode": "lines+markers",
           "name": "user_1",
           "type": "scatter",
           "x": {
            "bdata": "AAAAAAIAAAAEAAAABgAAAAgAAAAKAAAADAAAAA4AAAAQAAAAEgAAABQAAAAWAAAAGAAAABoAAAAcAAAAHgAAACAAAAAiAAAA",
            "dtype": "i4"
           },
           "y": {
            "bdata": "AAAAAAAAAAAAAAAAAAAAAAAAAAAAAAAAAAAAAAAAAAAAAAAAAAAAAAAAAAAAAAAAAAAAAAAAAAAAAAAAAAAAAAAAAAALAAAA",
            "dtype": "i4"
           }
          },
          {
           "mode": "lines+markers",
           "name": "user_10",
           "type": "scatter",
           "x": {
            "bdata": "AAAAAAIAAAAEAAAABgAAAAgAAAAKAAAADAAAAA4AAAAQAAAAEgAAABQAAAAWAAAAGAAAABoAAAAcAAAAHgAAACAAAAAiAAAA",
            "dtype": "i4"
           },
           "y": {
            "bdata": "AAAAAAAAAAAAAAAAAAAAAAAAAAAAAAAAAAAAAAAAAAAAAAAAAAAAAAAAAAAAAAAAAAAAAAAAAAAAAAAABwAAABUAAAA7AAAA",
            "dtype": "i4"
           }
          },
          {
           "mode": "lines+markers",
           "name": "user_11",
           "type": "scatter",
           "x": {
            "bdata": "AAAAAAIAAAAEAAAABgAAAAgAAAAKAAAADAAAAA4AAAAQAAAAEgAAABQAAAAWAAAAGAAAABoAAAAcAAAAHgAAACAAAAAiAAAA",
            "dtype": "i4"
           },
           "y": {
            "bdata": "AAAAAAAAAAAAAAAAAAAAAAAAAAAAAAAAAQAAAAEAAAABAAAAAQAAAAEAAAABAAAAAQAAAAEAAAABAAAAAQAAAAEAAAABAAAA",
            "dtype": "i4"
           }
          },
          {
           "mode": "lines+markers",
           "name": "user_12",
           "type": "scatter",
           "x": {
            "bdata": "AAAAAAIAAAAEAAAABgAAAAgAAAAKAAAADAAAAA4AAAAQAAAAEgAAABQAAAAWAAAAGAAAABoAAAAcAAAAHgAAACAAAAAiAAAA",
            "dtype": "i4"
           },
           "y": {
            "bdata": "AAAAAAAAAAAAAAAAAAAAAAAAAAAAAAAAAAAAAAAAAAAAAAAAAAAAAAAAAAAAAAAAAAAAAAAAAAAAAAAAAAAAAAAAAAAEAAAA",
            "dtype": "i4"
           }
          },
          {
           "mode": "lines+markers",
           "name": "user_13",
           "type": "scatter",
           "x": {
            "bdata": "AAAAAAIAAAAEAAAABgAAAAgAAAAKAAAADAAAAA4AAAAQAAAAEgAAABQAAAAWAAAAGAAAABoAAAAcAAAAHgAAACAAAAAiAAAA",
            "dtype": "i4"
           },
           "y": {
            "bdata": "AAAAAAAAAAAAAAAAAAAAAAAAAAAAAAAAAAAAAAAAAAAAAAAAAAAAAAAAAAAAAAAAAAAAAAAAAAACAAAAHgAAAB4AAAAgAAAA",
            "dtype": "i4"
           }
          },
          {
           "mode": "lines+markers",
           "name": "user_14",
           "type": "scatter",
           "x": {
            "bdata": "AAAAAAIAAAAEAAAABgAAAAgAAAAKAAAADAAAAA4AAAAQAAAAEgAAABQAAAAWAAAAGAAAABoAAAAcAAAAHgAAACAAAAAiAAAA",
            "dtype": "i4"
           },
           "y": {
            "bdata": "AAAAAAAAAAAAAAAAAAAAAAAAAAAAAAAAAAAAAAAAAAABAAAAAQAAAAEAAAABAAAAEgAAABkAAAAxAAAAXAAAAFwAAABjAAAA",
            "dtype": "i4"
           }
          },
          {
           "mode": "lines+markers",
           "name": "user_15",
           "type": "scatter",
           "x": {
            "bdata": "AAAAAAIAAAAEAAAABgAAAAgAAAAKAAAADAAAAA4AAAAQAAAAEgAAABQAAAAWAAAAGAAAABoAAAAcAAAAHgAAACAAAAAiAAAA",
            "dtype": "i4"
           },
           "y": {
            "bdata": "AAAAAAAAAAAAAAAAAAAAAAAAAAAAAAAAAAAAAAAAAAAAAAAAAAAAAAAAAAAAAAAAAAAAAAAAAAAAAAAAAAAAAAAAAAADAAAA",
            "dtype": "i4"
           }
          },
          {
           "mode": "lines+markers",
           "name": "user_16",
           "type": "scatter",
           "x": {
            "bdata": "AAAAAAIAAAAEAAAABgAAAAgAAAAKAAAADAAAAA4AAAAQAAAAEgAAABQAAAAWAAAAGAAAABoAAAAcAAAAHgAAACAAAAAiAAAA",
            "dtype": "i4"
           },
           "y": {
            "bdata": "AAAAAAAAAAAAAAAAAAAAAAAAAAAAAAAAAAAAAAAAAAAAAAAAAAAAAAAAAAAAAAAAAAAAAAAAAAAAAAAAAwAAAAMAAAAKAAAA",
            "dtype": "i4"
           }
          },
          {
           "mode": "lines+markers",
           "name": "user_17",
           "type": "scatter",
           "x": {
            "bdata": "AAAAAAIAAAAEAAAABgAAAAgAAAAKAAAADAAAAA4AAAAQAAAAEgAAABQAAAAWAAAAGAAAABoAAAAcAAAAHgAAACAAAAAiAAAA",
            "dtype": "i4"
           },
           "y": {
            "bdata": "AAAAAAEAAAABAAAAAQAAAAEAAAABAAAAAQAAAAEAAAABAAAAAQAAAAEAAAABAAAAAQAAAAEAAAABAAAAAwAAAAMAAAAGAAAA",
            "dtype": "i4"
           }
          },
          {
           "mode": "lines+markers",
           "name": "user_18",
           "type": "scatter",
           "x": {
            "bdata": "AAAAAAIAAAAEAAAABgAAAAgAAAAKAAAADAAAAA4AAAAQAAAAEgAAABQAAAAWAAAAGAAAABoAAAAcAAAAHgAAACAAAAAiAAAA",
            "dtype": "i4"
           },
           "y": {
            "bdata": "AAAAAAAAAAAAAAAAAAAAAAAAAAAAAAAAAAAAAAAAAAAAAAAAAAAAAAAAAAAAAAAAAAAAAAAAAAAHAAAABwAAAAgAAAAfAAAA",
            "dtype": "i4"
           }
          },
          {
           "mode": "lines+markers",
           "name": "user_19",
           "type": "scatter",
           "x": {
            "bdata": "AAAAAAIAAAAEAAAABgAAAAgAAAAKAAAADAAAAA4AAAAQAAAAEgAAABQAAAAWAAAAGAAAABoAAAAcAAAAHgAAACAAAAAiAAAA",
            "dtype": "i4"
           },
           "y": {
            "bdata": "AAAAAAAAAAAAAAAAAAAAAAAAAAAAAAAAAAAAAAAAAAAAAAAAAAAAAAAAAAAAAAAAAAAAAAAAAAAAAAAAAAAAAAAAAAAZAAAA",
            "dtype": "i4"
           }
          },
          {
           "mode": "lines+markers",
           "name": "user_2",
           "type": "scatter",
           "x": {
            "bdata": "AAAAAAIAAAAEAAAABgAAAAgAAAAKAAAADAAAAA4AAAAQAAAAEgAAABQAAAAWAAAAGAAAABoAAAAcAAAAHgAAACAAAAAiAAAA",
            "dtype": "i4"
           },
           "y": {
            "bdata": "AAAAAAAAAAAAAAAAAAAAAAAAAAAAAAAAAAAAAAAAAAA5AAAAOgAAADoAAAA6AAAAOgAAAD4AAABKAAAATgAAAF0AAABfAAAA",
            "dtype": "i4"
           }
          },
          {
           "mode": "lines+markers",
           "name": "user_20",
           "type": "scatter",
           "x": {
            "bdata": "AAAAAAIAAAAEAAAABgAAAAgAAAAKAAAADAAAAA4AAAAQAAAAEgAAABQAAAAWAAAAGAAAABoAAAAcAAAAHgAAACAAAAAiAAAA",
            "dtype": "i4"
           },
           "y": {
            "bdata": "AAAAAAAAAAAAAAAAAAAAAAAAAAAAAAAAAAAAAAAAAAAAAAAAAAAAAAAAAAAAAAAAAAAAAAAAAAALAAAACwAAAAsAAAA2AAAA",
            "dtype": "i4"
           }
          },
          {
           "mode": "lines+markers",
           "name": "user_21",
           "type": "scatter",
           "x": {
            "bdata": "AAAAAAIAAAAEAAAABgAAAAgAAAAKAAAADAAAAA4AAAAQAAAAEgAAABQAAAAWAAAAGAAAABoAAAAcAAAAHgAAACAAAAAiAAAA",
            "dtype": "i4"
           },
           "y": {
            "bdata": "AAAAAAAAAAAAAAAAAAAAAAAAAAAAAAAAAAAAAAAAAAAAAAAAAAAAAAAAAAAAAAAAAAAAAAcAAAAHAAAABwAAAAcAAAAJAAAA",
            "dtype": "i4"
           }
          },
          {
           "mode": "lines+markers",
           "name": "user_22",
           "type": "scatter",
           "x": {
            "bdata": "AAAAAAIAAAAEAAAABgAAAAgAAAAKAAAADAAAAA4AAAAQAAAAEgAAABQAAAAWAAAAGAAAABoAAAAcAAAAHgAAACAAAAAiAAAA",
            "dtype": "i4"
           },
           "y": {
            "bdata": "AAAAAAAAAAAAAAAAAAAAAAAAAAAAAAAAAQAAAAEAAAABAAAAAQAAAAEAAAABAAAAAQAAAAEAAAABAAAAAQAAAAEAAAACAAAA",
            "dtype": "i4"
           }
          },
          {
           "mode": "lines+markers",
           "name": "user_24",
           "type": "scatter",
           "x": {
            "bdata": "AAAAAAIAAAAEAAAABgAAAAgAAAAKAAAADAAAAA4AAAAQAAAAEgAAABQAAAAWAAAAGAAAABoAAAAcAAAAHgAAACAAAAAiAAAA",
            "dtype": "i4"
           },
           "y": {
            "bdata": "AAAAAAAAAAAAAAAAAAAAAAAAAAAAAAAAAAAAAAAAAAAAAAAAAAAAAAAAAAAAAAAAAAAAAAAAAAAAAAAAAAAAAAkAAAAiAAAA",
            "dtype": "i4"
           }
          },
          {
           "mode": "lines+markers",
           "name": "user_25",
           "type": "scatter",
           "x": {
            "bdata": "AAAAAAIAAAAEAAAABgAAAAgAAAAKAAAADAAAAA4AAAAQAAAAEgAAABQAAAAWAAAAGAAAABoAAAAcAAAAHgAAACAAAAAiAAAA",
            "dtype": "i4"
           },
           "y": {
            "bdata": "AAAAAAAAAAAAAAAAAAAAAAAAAAAAAAAAAAAAAAAAAAAAAAAAAAAAAAAAAAAFAAAAGwAAAB0AAAAhAAAANgAAADkAAABNAAAA",
            "dtype": "i4"
           }
          },
          {
           "mode": "lines+markers",
           "name": "user_26",
           "type": "scatter",
           "x": {
            "bdata": "AAAAAAIAAAAEAAAABgAAAAgAAAAKAAAADAAAAA4AAAAQAAAAEgAAABQAAAAWAAAAGAAAABoAAAAcAAAAHgAAACAAAAAiAAAA",
            "dtype": "i4"
           },
           "y": {
            "bdata": "AAAAAAAAAAAAAAAAAAAAAAAAAAAAAAAAAAAAAAAAAAAAAAAAAAAAAAAAAAAAAAAAAAAAACMAAAAjAAAAIwAAADQAAABDAAAA",
            "dtype": "i4"
           }
          },
          {
           "mode": "lines+markers",
           "name": "user_27",
           "type": "scatter",
           "x": {
            "bdata": "AAAAAAIAAAAEAAAABgAAAAgAAAAKAAAADAAAAA4AAAAQAAAAEgAAABQAAAAWAAAAGAAAABoAAAAcAAAAHgAAACAAAAAiAAAA",
            "dtype": "i4"
           },
           "y": {
            "bdata": "AAAAAAAAAAAAAAAAAAAAAAAAAAAAAAAAAAAAAAAAAAAAAAAAAAAAAAAAAAAAAAAAAAAAAAAAAAAAAAAAAAAAAAAAAAAIAAAA",
            "dtype": "i4"
           }
          },
          {
           "mode": "lines+markers",
           "name": "user_28",
           "type": "scatter",
           "x": {
            "bdata": "AAAAAAIAAAAEAAAABgAAAAgAAAAKAAAADAAAAA4AAAAQAAAAEgAAABQAAAAWAAAAGAAAABoAAAAcAAAAHgAAACAAAAAiAAAA",
            "dtype": "i4"
           },
           "y": {
            "bdata": "AAAAAAAAAAAAAAAAAAAAAAAAAAAAAAAAAAAAAAAAAAAAAAAAAAAAAAAAAAAAAAAAAAAAAAAAAAAAAAAAAgAAABQAAAAaAAAA",
            "dtype": "i4"
           }
          },
          {
           "mode": "lines+markers",
           "name": "user_29",
           "type": "scatter",
           "x": {
            "bdata": "AAAAAAIAAAAEAAAABgAAAAgAAAAKAAAADAAAAA4AAAAQAAAAEgAAABQAAAAWAAAAGAAAABoAAAAcAAAAHgAAACAAAAAiAAAA",
            "dtype": "i4"
           },
           "y": {
            "bdata": "AAAAAAAAAAAAAAAAAAAAAAAAAAAAAAAAAAAAAAAAAAAAAAAAAAAAAAAAAAAAAAAAAAAAAAAAAAAFAAAAEgAAACIAAAAjAAAA",
            "dtype": "i4"
           }
          },
          {
           "mode": "lines+markers",
           "name": "user_3",
           "type": "scatter",
           "x": {
            "bdata": "AAAAAAIAAAAEAAAABgAAAAgAAAAKAAAADAAAAA4AAAAQAAAAEgAAABQAAAAWAAAAGAAAABoAAAAcAAAAHgAAACAAAAAiAAAA",
            "dtype": "i4"
           },
           "y": {
            "bdata": "AAAAAAAAAAAAAAAAAAAAAAAAAAAAAAAAAAAAAAAAAAAAAAAAAAAAAAEAAAAcAAAAHQAAAB8AAAA2AAAAOAAAADgAAAA6AAAA",
            "dtype": "i4"
           }
          },
          {
           "mode": "lines+markers",
           "name": "user_30",
           "type": "scatter",
           "x": {
            "bdata": "AAAAAAIAAAAEAAAABgAAAAgAAAAKAAAADAAAAA4AAAAQAAAAEgAAABQAAAAWAAAAGAAAABoAAAAcAAAAHgAAACAAAAAiAAAA",
            "dtype": "i4"
           },
           "y": {
            "bdata": "AAAAAAAAAAAAAAAAAQAAAAIAAAACAAAABAAAAAUAAAAFAAAABQAAAAwAAAAMAAAADAAAABEAAAARAAAAEQAAABEAAAATAAAA",
            "dtype": "i4"
           }
          },
          {
           "mode": "lines+markers",
           "name": "user_31",
           "type": "scatter",
           "x": {
            "bdata": "AAAAAAIAAAAEAAAABgAAAAgAAAAKAAAADAAAAA4AAAAQAAAAEgAAABQAAAAWAAAAGAAAABoAAAAcAAAAHgAAACAAAAAiAAAA",
            "dtype": "i4"
           },
           "y": {
            "bdata": "AAAAAAAAAAAAAAAAAAAAAAAAAAAAAAAAAAAAAAAAAAAAAAAAAAAAAAEAAAABAAAABAAAAAQAAAAGAAAABgAAAAYAAAAIAAAA",
            "dtype": "i4"
           }
          },
          {
           "mode": "lines+markers",
           "name": "user_4",
           "type": "scatter",
           "x": {
            "bdata": "AAAAAAIAAAAEAAAABgAAAAgAAAAKAAAADAAAAA4AAAAQAAAAEgAAABQAAAAWAAAAGAAAABoAAAAcAAAAHgAAACAAAAAiAAAA",
            "dtype": "i4"
           },
           "y": {
            "bdata": "BwAAAAcAAAALAAAACwAAABQAAAAbAAAAIwAAADAAAAA1AAAANQAAAEcAAABTAAAAUwAAAFMAAABXAAAAfQAAAIkAAACkAAAA",
            "dtype": "i4"
           }
          },
          {
           "mode": "lines+markers",
           "name": "user_6",
           "type": "scatter",
           "x": {
            "bdata": "AAAAAAIAAAAEAAAABgAAAAgAAAAKAAAADAAAAA4AAAAQAAAAEgAAABQAAAAWAAAAGAAAABoAAAAcAAAAHgAAACAAAAAiAAAA",
            "dtype": "i4"
           },
           "y": {
            "bdata": "AAAAAAAAAAAAAAAAAAAAAAAAAAAAAAAAAAAAAAAAAAAAAAAAAAAAAAAAAAAAAAAAAAAAAAAAAAAAAAAAAAAAAAEAAAACAAAA",
            "dtype": "i4"
           }
          },
          {
           "mode": "lines+markers",
           "name": "user_8",
           "type": "scatter",
           "x": {
            "bdata": "AAAAAAIAAAAEAAAABgAAAAgAAAAKAAAADAAAAA4AAAAQAAAAEgAAABQAAAAWAAAAGAAAABoAAAAcAAAAHgAAACAAAAAiAAAA",
            "dtype": "i4"
           },
           "y": {
            "bdata": "AAAAAAAAAAAAAAAAAAAAAAAAAAAAAAAAAAAAAAAAAAAAAAAAAAAAAAAAAAAAAAAAAAAAAAAAAAAAAAAAAAAAAAAAAAAIAAAA",
            "dtype": "i4"
           }
          }
         ],
         "name": "34"
        },
        {
         "data": [
          {
           "mode": "lines+markers",
           "name": "user_1",
           "type": "scatter",
           "x": {
            "bdata": "AAAAAAIAAAAEAAAABgAAAAgAAAAKAAAADAAAAA4AAAAQAAAAEgAAABQAAAAWAAAAGAAAABoAAAAcAAAAHgAAACAAAAAiAAAAJAAAAA==",
            "dtype": "i4"
           },
           "y": {
            "bdata": "AAAAAAAAAAAAAAAAAAAAAAAAAAAAAAAAAAAAAAAAAAAAAAAAAAAAAAAAAAAAAAAAAAAAAAAAAAAAAAAAAAAAAAAAAAALAAAACwAAAA==",
            "dtype": "i4"
           }
          },
          {
           "mode": "lines+markers",
           "name": "user_10",
           "type": "scatter",
           "x": {
            "bdata": "AAAAAAIAAAAEAAAABgAAAAgAAAAKAAAADAAAAA4AAAAQAAAAEgAAABQAAAAWAAAAGAAAABoAAAAcAAAAHgAAACAAAAAiAAAAJAAAAA==",
            "dtype": "i4"
           },
           "y": {
            "bdata": "AAAAAAAAAAAAAAAAAAAAAAAAAAAAAAAAAAAAAAAAAAAAAAAAAAAAAAAAAAAAAAAAAAAAAAAAAAAAAAAABwAAABUAAAA7AAAAOwAAAA==",
            "dtype": "i4"
           }
          },
          {
           "mode": "lines+markers",
           "name": "user_11",
           "type": "scatter",
           "x": {
            "bdata": "AAAAAAIAAAAEAAAABgAAAAgAAAAKAAAADAAAAA4AAAAQAAAAEgAAABQAAAAWAAAAGAAAABoAAAAcAAAAHgAAACAAAAAiAAAAJAAAAA==",
            "dtype": "i4"
           },
           "y": {
            "bdata": "AAAAAAAAAAAAAAAAAAAAAAAAAAAAAAAAAQAAAAEAAAABAAAAAQAAAAEAAAABAAAAAQAAAAEAAAABAAAAAQAAAAEAAAABAAAAAQAAAA==",
            "dtype": "i4"
           }
          },
          {
           "mode": "lines+markers",
           "name": "user_12",
           "type": "scatter",
           "x": {
            "bdata": "AAAAAAIAAAAEAAAABgAAAAgAAAAKAAAADAAAAA4AAAAQAAAAEgAAABQAAAAWAAAAGAAAABoAAAAcAAAAHgAAACAAAAAiAAAAJAAAAA==",
            "dtype": "i4"
           },
           "y": {
            "bdata": "AAAAAAAAAAAAAAAAAAAAAAAAAAAAAAAAAAAAAAAAAAAAAAAAAAAAAAAAAAAAAAAAAAAAAAAAAAAAAAAAAAAAAAAAAAAEAAAABAAAAA==",
            "dtype": "i4"
           }
          },
          {
           "mode": "lines+markers",
           "name": "user_13",
           "type": "scatter",
           "x": {
            "bdata": "AAAAAAIAAAAEAAAABgAAAAgAAAAKAAAADAAAAA4AAAAQAAAAEgAAABQAAAAWAAAAGAAAABoAAAAcAAAAHgAAACAAAAAiAAAAJAAAAA==",
            "dtype": "i4"
           },
           "y": {
            "bdata": "AAAAAAAAAAAAAAAAAAAAAAAAAAAAAAAAAAAAAAAAAAAAAAAAAAAAAAAAAAAAAAAAAAAAAAAAAAACAAAAHgAAAB4AAAAgAAAAIAAAAA==",
            "dtype": "i4"
           }
          },
          {
           "mode": "lines+markers",
           "name": "user_14",
           "type": "scatter",
           "x": {
            "bdata": "AAAAAAIAAAAEAAAABgAAAAgAAAAKAAAADAAAAA4AAAAQAAAAEgAAABQAAAAWAAAAGAAAABoAAAAcAAAAHgAAACAAAAAiAAAAJAAAAA==",
            "dtype": "i4"
           },
           "y": {
            "bdata": "AAAAAAAAAAAAAAAAAAAAAAAAAAAAAAAAAAAAAAAAAAABAAAAAQAAAAEAAAABAAAAEgAAABkAAAAxAAAAXAAAAFwAAABjAAAAYwAAAA==",
            "dtype": "i4"
           }
          },
          {
           "mode": "lines+markers",
           "name": "user_15",
           "type": "scatter",
           "x": {
            "bdata": "AAAAAAIAAAAEAAAABgAAAAgAAAAKAAAADAAAAA4AAAAQAAAAEgAAABQAAAAWAAAAGAAAABoAAAAcAAAAHgAAACAAAAAiAAAAJAAAAA==",
            "dtype": "i4"
           },
           "y": {
            "bdata": "AAAAAAAAAAAAAAAAAAAAAAAAAAAAAAAAAAAAAAAAAAAAAAAAAAAAAAAAAAAAAAAAAAAAAAAAAAAAAAAAAAAAAAAAAAADAAAAAwAAAA==",
            "dtype": "i4"
           }
          },
          {
           "mode": "lines+markers",
           "name": "user_16",
           "type": "scatter",
           "x": {
            "bdata": "AAAAAAIAAAAEAAAABgAAAAgAAAAKAAAADAAAAA4AAAAQAAAAEgAAABQAAAAWAAAAGAAAABoAAAAcAAAAHgAAACAAAAAiAAAAJAAAAA==",
            "dtype": "i4"
           },
           "y": {
            "bdata": "AAAAAAAAAAAAAAAAAAAAAAAAAAAAAAAAAAAAAAAAAAAAAAAAAAAAAAAAAAAAAAAAAAAAAAAAAAAAAAAAAwAAAAMAAAAKAAAACgAAAA==",
            "dtype": "i4"
           }
          },
          {
           "mode": "lines+markers",
           "name": "user_17",
           "type": "scatter",
           "x": {
            "bdata": "AAAAAAIAAAAEAAAABgAAAAgAAAAKAAAADAAAAA4AAAAQAAAAEgAAABQAAAAWAAAAGAAAABoAAAAcAAAAHgAAACAAAAAiAAAAJAAAAA==",
            "dtype": "i4"
           },
           "y": {
            "bdata": "AAAAAAEAAAABAAAAAQAAAAEAAAABAAAAAQAAAAEAAAABAAAAAQAAAAEAAAABAAAAAQAAAAEAAAABAAAAAwAAAAMAAAAGAAAABgAAAA==",
            "dtype": "i4"
           }
          },
          {
           "mode": "lines+markers",
           "name": "user_18",
           "type": "scatter",
           "x": {
            "bdata": "AAAAAAIAAAAEAAAABgAAAAgAAAAKAAAADAAAAA4AAAAQAAAAEgAAABQAAAAWAAAAGAAAABoAAAAcAAAAHgAAACAAAAAiAAAAJAAAAA==",
            "dtype": "i4"
           },
           "y": {
            "bdata": "AAAAAAAAAAAAAAAAAAAAAAAAAAAAAAAAAAAAAAAAAAAAAAAAAAAAAAAAAAAAAAAAAAAAAAAAAAAHAAAABwAAAAgAAAAfAAAAHwAAAA==",
            "dtype": "i4"
           }
          },
          {
           "mode": "lines+markers",
           "name": "user_19",
           "type": "scatter",
           "x": {
            "bdata": "AAAAAAIAAAAEAAAABgAAAAgAAAAKAAAADAAAAA4AAAAQAAAAEgAAABQAAAAWAAAAGAAAABoAAAAcAAAAHgAAACAAAAAiAAAAJAAAAA==",
            "dtype": "i4"
           },
           "y": {
            "bdata": "AAAAAAAAAAAAAAAAAAAAAAAAAAAAAAAAAAAAAAAAAAAAAAAAAAAAAAAAAAAAAAAAAAAAAAAAAAAAAAAAAAAAAAAAAAAZAAAAHQAAAA==",
            "dtype": "i4"
           }
          },
          {
           "mode": "lines+markers",
           "name": "user_2",
           "type": "scatter",
           "x": {
            "bdata": "AAAAAAIAAAAEAAAABgAAAAgAAAAKAAAADAAAAA4AAAAQAAAAEgAAABQAAAAWAAAAGAAAABoAAAAcAAAAHgAAACAAAAAiAAAAJAAAAA==",
            "dtype": "i4"
           },
           "y": {
            "bdata": "AAAAAAAAAAAAAAAAAAAAAAAAAAAAAAAAAAAAAAAAAAA5AAAAOgAAADoAAAA6AAAAOgAAAD4AAABKAAAATgAAAF0AAABfAAAAXwAAAA==",
            "dtype": "i4"
           }
          },
          {
           "mode": "lines+markers",
           "name": "user_20",
           "type": "scatter",
           "x": {
            "bdata": "AAAAAAIAAAAEAAAABgAAAAgAAAAKAAAADAAAAA4AAAAQAAAAEgAAABQAAAAWAAAAGAAAABoAAAAcAAAAHgAAACAAAAAiAAAAJAAAAA==",
            "dtype": "i4"
           },
           "y": {
            "bdata": "AAAAAAAAAAAAAAAAAAAAAAAAAAAAAAAAAAAAAAAAAAAAAAAAAAAAAAAAAAAAAAAAAAAAAAAAAAALAAAACwAAAAsAAAA2AAAANgAAAA==",
            "dtype": "i4"
           }
          },
          {
           "mode": "lines+markers",
           "name": "user_21",
           "type": "scatter",
           "x": {
            "bdata": "AAAAAAIAAAAEAAAABgAAAAgAAAAKAAAADAAAAA4AAAAQAAAAEgAAABQAAAAWAAAAGAAAABoAAAAcAAAAHgAAACAAAAAiAAAAJAAAAA==",
            "dtype": "i4"
           },
           "y": {
            "bdata": "AAAAAAAAAAAAAAAAAAAAAAAAAAAAAAAAAAAAAAAAAAAAAAAAAAAAAAAAAAAAAAAAAAAAAAcAAAAHAAAABwAAAAcAAAAJAAAACQAAAA==",
            "dtype": "i4"
           }
          },
          {
           "mode": "lines+markers",
           "name": "user_22",
           "type": "scatter",
           "x": {
            "bdata": "AAAAAAIAAAAEAAAABgAAAAgAAAAKAAAADAAAAA4AAAAQAAAAEgAAABQAAAAWAAAAGAAAABoAAAAcAAAAHgAAACAAAAAiAAAAJAAAAA==",
            "dtype": "i4"
           },
           "y": {
            "bdata": "AAAAAAAAAAAAAAAAAAAAAAAAAAAAAAAAAQAAAAEAAAABAAAAAQAAAAEAAAABAAAAAQAAAAEAAAABAAAAAQAAAAEAAAACAAAAAgAAAA==",
            "dtype": "i4"
           }
          },
          {
           "mode": "lines+markers",
           "name": "user_24",
           "type": "scatter",
           "x": {
            "bdata": "AAAAAAIAAAAEAAAABgAAAAgAAAAKAAAADAAAAA4AAAAQAAAAEgAAABQAAAAWAAAAGAAAABoAAAAcAAAAHgAAACAAAAAiAAAAJAAAAA==",
            "dtype": "i4"
           },
           "y": {
            "bdata": "AAAAAAAAAAAAAAAAAAAAAAAAAAAAAAAAAAAAAAAAAAAAAAAAAAAAAAAAAAAAAAAAAAAAAAAAAAAAAAAAAAAAAAkAAAAiAAAAIgAAAA==",
            "dtype": "i4"
           }
          },
          {
           "mode": "lines+markers",
           "name": "user_25",
           "type": "scatter",
           "x": {
            "bdata": "AAAAAAIAAAAEAAAABgAAAAgAAAAKAAAADAAAAA4AAAAQAAAAEgAAABQAAAAWAAAAGAAAABoAAAAcAAAAHgAAACAAAAAiAAAAJAAAAA==",
            "dtype": "i4"
           },
           "y": {
            "bdata": "AAAAAAAAAAAAAAAAAAAAAAAAAAAAAAAAAAAAAAAAAAAAAAAAAAAAAAAAAAAFAAAAGwAAAB0AAAAhAAAANgAAADkAAABNAAAATQAAAA==",
            "dtype": "i4"
           }
          },
          {
           "mode": "lines+markers",
           "name": "user_26",
           "type": "scatter",
           "x": {
            "bdata": "AAAAAAIAAAAEAAAABgAAAAgAAAAKAAAADAAAAA4AAAAQAAAAEgAAABQAAAAWAAAAGAAAABoAAAAcAAAAHgAAACAAAAAiAAAAJAAAAA==",
            "dtype": "i4"
           },
           "y": {
            "bdata": "AAAAAAAAAAAAAAAAAAAAAAAAAAAAAAAAAAAAAAAAAAAAAAAAAAAAAAAAAAAAAAAAAAAAACMAAAAjAAAAIwAAADQAAABDAAAAQwAAAA==",
            "dtype": "i4"
           }
          },
          {
           "mode": "lines+markers",
           "name": "user_27",
           "type": "scatter",
           "x": {
            "bdata": "AAAAAAIAAAAEAAAABgAAAAgAAAAKAAAADAAAAA4AAAAQAAAAEgAAABQAAAAWAAAAGAAAABoAAAAcAAAAHgAAACAAAAAiAAAAJAAAAA==",
            "dtype": "i4"
           },
           "y": {
            "bdata": "AAAAAAAAAAAAAAAAAAAAAAAAAAAAAAAAAAAAAAAAAAAAAAAAAAAAAAAAAAAAAAAAAAAAAAAAAAAAAAAAAAAAAAAAAAAIAAAACAAAAA==",
            "dtype": "i4"
           }
          },
          {
           "mode": "lines+markers",
           "name": "user_28",
           "type": "scatter",
           "x": {
            "bdata": "AAAAAAIAAAAEAAAABgAAAAgAAAAKAAAADAAAAA4AAAAQAAAAEgAAABQAAAAWAAAAGAAAABoAAAAcAAAAHgAAACAAAAAiAAAAJAAAAA==",
            "dtype": "i4"
           },
           "y": {
            "bdata": "AAAAAAAAAAAAAAAAAAAAAAAAAAAAAAAAAAAAAAAAAAAAAAAAAAAAAAAAAAAAAAAAAAAAAAAAAAAAAAAAAgAAABQAAAAaAAAAGwAAAA==",
            "dtype": "i4"
           }
          },
          {
           "mode": "lines+markers",
           "name": "user_29",
           "type": "scatter",
           "x": {
            "bdata": "AAAAAAIAAAAEAAAABgAAAAgAAAAKAAAADAAAAA4AAAAQAAAAEgAAABQAAAAWAAAAGAAAABoAAAAcAAAAHgAAACAAAAAiAAAAJAAAAA==",
            "dtype": "i4"
           },
           "y": {
            "bdata": "AAAAAAAAAAAAAAAAAAAAAAAAAAAAAAAAAAAAAAAAAAAAAAAAAAAAAAAAAAAAAAAAAAAAAAAAAAAFAAAAEgAAACIAAAAjAAAAIwAAAA==",
            "dtype": "i4"
           }
          },
          {
           "mode": "lines+markers",
           "name": "user_3",
           "type": "scatter",
           "x": {
            "bdata": "AAAAAAIAAAAEAAAABgAAAAgAAAAKAAAADAAAAA4AAAAQAAAAEgAAABQAAAAWAAAAGAAAABoAAAAcAAAAHgAAACAAAAAiAAAAJAAAAA==",
            "dtype": "i4"
           },
           "y": {
            "bdata": "AAAAAAAAAAAAAAAAAAAAAAAAAAAAAAAAAAAAAAAAAAAAAAAAAAAAAAEAAAAcAAAAHQAAAB8AAAA2AAAAOAAAADgAAAA6AAAAOgAAAA==",
            "dtype": "i4"
           }
          },
          {
           "mode": "lines+markers",
           "name": "user_30",
           "type": "scatter",
           "x": {
            "bdata": "AAAAAAIAAAAEAAAABgAAAAgAAAAKAAAADAAAAA4AAAAQAAAAEgAAABQAAAAWAAAAGAAAABoAAAAcAAAAHgAAACAAAAAiAAAAJAAAAA==",
            "dtype": "i4"
           },
           "y": {
            "bdata": "AAAAAAAAAAAAAAAAAQAAAAIAAAACAAAABAAAAAUAAAAFAAAABQAAAAwAAAAMAAAADAAAABEAAAARAAAAEQAAABEAAAATAAAAEwAAAA==",
            "dtype": "i4"
           }
          },
          {
           "mode": "lines+markers",
           "name": "user_31",
           "type": "scatter",
           "x": {
            "bdata": "AAAAAAIAAAAEAAAABgAAAAgAAAAKAAAADAAAAA4AAAAQAAAAEgAAABQAAAAWAAAAGAAAABoAAAAcAAAAHgAAACAAAAAiAAAAJAAAAA==",
            "dtype": "i4"
           },
           "y": {
            "bdata": "AAAAAAAAAAAAAAAAAAAAAAAAAAAAAAAAAAAAAAAAAAAAAAAAAAAAAAEAAAABAAAABAAAAAQAAAAGAAAABgAAAAYAAAAIAAAACAAAAA==",
            "dtype": "i4"
           }
          },
          {
           "mode": "lines+markers",
           "name": "user_4",
           "type": "scatter",
           "x": {
            "bdata": "AAAAAAIAAAAEAAAABgAAAAgAAAAKAAAADAAAAA4AAAAQAAAAEgAAABQAAAAWAAAAGAAAABoAAAAcAAAAHgAAACAAAAAiAAAAJAAAAA==",
            "dtype": "i4"
           },
           "y": {
            "bdata": "BwAAAAcAAAALAAAACwAAABQAAAAbAAAAIwAAADAAAAA1AAAANQAAAEcAAABTAAAAUwAAAFMAAABXAAAAfQAAAIkAAACkAAAApAAAAA==",
            "dtype": "i4"
           }
          },
          {
           "mode": "lines+markers",
           "name": "user_6",
           "type": "scatter",
           "x": {
            "bdata": "AAAAAAIAAAAEAAAABgAAAAgAAAAKAAAADAAAAA4AAAAQAAAAEgAAABQAAAAWAAAAGAAAABoAAAAcAAAAHgAAACAAAAAiAAAAJAAAAA==",
            "dtype": "i4"
           },
           "y": {
            "bdata": "AAAAAAAAAAAAAAAAAAAAAAAAAAAAAAAAAAAAAAAAAAAAAAAAAAAAAAAAAAAAAAAAAAAAAAAAAAAAAAAAAAAAAAEAAAACAAAAAgAAAA==",
            "dtype": "i4"
           }
          },
          {
           "mode": "lines+markers",
           "name": "user_8",
           "type": "scatter",
           "x": {
            "bdata": "AAAAAAIAAAAEAAAABgAAAAgAAAAKAAAADAAAAA4AAAAQAAAAEgAAABQAAAAWAAAAGAAAABoAAAAcAAAAHgAAACAAAAAiAAAAJAAAAA==",
            "dtype": "i4"
           },
           "y": {
            "bdata": "AAAAAAAAAAAAAAAAAAAAAAAAAAAAAAAAAAAAAAAAAAAAAAAAAAAAAAAAAAAAAAAAAAAAAAAAAAAAAAAAAAAAAAAAAAAIAAAACAAAAA==",
            "dtype": "i4"
           }
          }
         ],
         "name": "36"
        }
       ],
       "layout": {
        "template": {
         "data": {
          "bar": [
           {
            "error_x": {
             "color": "#2a3f5f"
            },
            "error_y": {
             "color": "#2a3f5f"
            },
            "marker": {
             "line": {
              "color": "#E5ECF6",
              "width": 0.5
             },
             "pattern": {
              "fillmode": "overlay",
              "size": 10,
              "solidity": 0.2
             }
            },
            "type": "bar"
           }
          ],
          "barpolar": [
           {
            "marker": {
             "line": {
              "color": "#E5ECF6",
              "width": 0.5
             },
             "pattern": {
              "fillmode": "overlay",
              "size": 10,
              "solidity": 0.2
             }
            },
            "type": "barpolar"
           }
          ],
          "carpet": [
           {
            "aaxis": {
             "endlinecolor": "#2a3f5f",
             "gridcolor": "white",
             "linecolor": "white",
             "minorgridcolor": "white",
             "startlinecolor": "#2a3f5f"
            },
            "baxis": {
             "endlinecolor": "#2a3f5f",
             "gridcolor": "white",
             "linecolor": "white",
             "minorgridcolor": "white",
             "startlinecolor": "#2a3f5f"
            },
            "type": "carpet"
           }
          ],
          "choropleth": [
           {
            "colorbar": {
             "outlinewidth": 0,
             "ticks": ""
            },
            "type": "choropleth"
           }
          ],
          "contour": [
           {
            "colorbar": {
             "outlinewidth": 0,
             "ticks": ""
            },
            "colorscale": [
             [
              0,
              "#0d0887"
             ],
             [
              0.1111111111111111,
              "#46039f"
             ],
             [
              0.2222222222222222,
              "#7201a8"
             ],
             [
              0.3333333333333333,
              "#9c179e"
             ],
             [
              0.4444444444444444,
              "#bd3786"
             ],
             [
              0.5555555555555556,
              "#d8576b"
             ],
             [
              0.6666666666666666,
              "#ed7953"
             ],
             [
              0.7777777777777778,
              "#fb9f3a"
             ],
             [
              0.8888888888888888,
              "#fdca26"
             ],
             [
              1,
              "#f0f921"
             ]
            ],
            "type": "contour"
           }
          ],
          "contourcarpet": [
           {
            "colorbar": {
             "outlinewidth": 0,
             "ticks": ""
            },
            "type": "contourcarpet"
           }
          ],
          "heatmap": [
           {
            "colorbar": {
             "outlinewidth": 0,
             "ticks": ""
            },
            "colorscale": [
             [
              0,
              "#0d0887"
             ],
             [
              0.1111111111111111,
              "#46039f"
             ],
             [
              0.2222222222222222,
              "#7201a8"
             ],
             [
              0.3333333333333333,
              "#9c179e"
             ],
             [
              0.4444444444444444,
              "#bd3786"
             ],
             [
              0.5555555555555556,
              "#d8576b"
             ],
             [
              0.6666666666666666,
              "#ed7953"
             ],
             [
              0.7777777777777778,
              "#fb9f3a"
             ],
             [
              0.8888888888888888,
              "#fdca26"
             ],
             [
              1,
              "#f0f921"
             ]
            ],
            "type": "heatmap"
           }
          ],
          "histogram": [
           {
            "marker": {
             "pattern": {
              "fillmode": "overlay",
              "size": 10,
              "solidity": 0.2
             }
            },
            "type": "histogram"
           }
          ],
          "histogram2d": [
           {
            "colorbar": {
             "outlinewidth": 0,
             "ticks": ""
            },
            "colorscale": [
             [
              0,
              "#0d0887"
             ],
             [
              0.1111111111111111,
              "#46039f"
             ],
             [
              0.2222222222222222,
              "#7201a8"
             ],
             [
              0.3333333333333333,
              "#9c179e"
             ],
             [
              0.4444444444444444,
              "#bd3786"
             ],
             [
              0.5555555555555556,
              "#d8576b"
             ],
             [
              0.6666666666666666,
              "#ed7953"
             ],
             [
              0.7777777777777778,
              "#fb9f3a"
             ],
             [
              0.8888888888888888,
              "#fdca26"
             ],
             [
              1,
              "#f0f921"
             ]
            ],
            "type": "histogram2d"
           }
          ],
          "histogram2dcontour": [
           {
            "colorbar": {
             "outlinewidth": 0,
             "ticks": ""
            },
            "colorscale": [
             [
              0,
              "#0d0887"
             ],
             [
              0.1111111111111111,
              "#46039f"
             ],
             [
              0.2222222222222222,
              "#7201a8"
             ],
             [
              0.3333333333333333,
              "#9c179e"
             ],
             [
              0.4444444444444444,
              "#bd3786"
             ],
             [
              0.5555555555555556,
              "#d8576b"
             ],
             [
              0.6666666666666666,
              "#ed7953"
             ],
             [
              0.7777777777777778,
              "#fb9f3a"
             ],
             [
              0.8888888888888888,
              "#fdca26"
             ],
             [
              1,
              "#f0f921"
             ]
            ],
            "type": "histogram2dcontour"
           }
          ],
          "mesh3d": [
           {
            "colorbar": {
             "outlinewidth": 0,
             "ticks": ""
            },
            "type": "mesh3d"
           }
          ],
          "parcoords": [
           {
            "line": {
             "colorbar": {
              "outlinewidth": 0,
              "ticks": ""
             }
            },
            "type": "parcoords"
           }
          ],
          "pie": [
           {
            "automargin": true,
            "type": "pie"
           }
          ],
          "scatter": [
           {
            "fillpattern": {
             "fillmode": "overlay",
             "size": 10,
             "solidity": 0.2
            },
            "type": "scatter"
           }
          ],
          "scatter3d": [
           {
            "line": {
             "colorbar": {
              "outlinewidth": 0,
              "ticks": ""
             }
            },
            "marker": {
             "colorbar": {
              "outlinewidth": 0,
              "ticks": ""
             }
            },
            "type": "scatter3d"
           }
          ],
          "scattercarpet": [
           {
            "marker": {
             "colorbar": {
              "outlinewidth": 0,
              "ticks": ""
             }
            },
            "type": "scattercarpet"
           }
          ],
          "scattergeo": [
           {
            "marker": {
             "colorbar": {
              "outlinewidth": 0,
              "ticks": ""
             }
            },
            "type": "scattergeo"
           }
          ],
          "scattergl": [
           {
            "marker": {
             "colorbar": {
              "outlinewidth": 0,
              "ticks": ""
             }
            },
            "type": "scattergl"
           }
          ],
          "scattermap": [
           {
            "marker": {
             "colorbar": {
              "outlinewidth": 0,
              "ticks": ""
             }
            },
            "type": "scattermap"
           }
          ],
          "scattermapbox": [
           {
            "marker": {
             "colorbar": {
              "outlinewidth": 0,
              "ticks": ""
             }
            },
            "type": "scattermapbox"
           }
          ],
          "scatterpolar": [
           {
            "marker": {
             "colorbar": {
              "outlinewidth": 0,
              "ticks": ""
             }
            },
            "type": "scatterpolar"
           }
          ],
          "scatterpolargl": [
           {
            "marker": {
             "colorbar": {
              "outlinewidth": 0,
              "ticks": ""
             }
            },
            "type": "scatterpolargl"
           }
          ],
          "scatterternary": [
           {
            "marker": {
             "colorbar": {
              "outlinewidth": 0,
              "ticks": ""
             }
            },
            "type": "scatterternary"
           }
          ],
          "surface": [
           {
            "colorbar": {
             "outlinewidth": 0,
             "ticks": ""
            },
            "colorscale": [
             [
              0,
              "#0d0887"
             ],
             [
              0.1111111111111111,
              "#46039f"
             ],
             [
              0.2222222222222222,
              "#7201a8"
             ],
             [
              0.3333333333333333,
              "#9c179e"
             ],
             [
              0.4444444444444444,
              "#bd3786"
             ],
             [
              0.5555555555555556,
              "#d8576b"
             ],
             [
              0.6666666666666666,
              "#ed7953"
             ],
             [
              0.7777777777777778,
              "#fb9f3a"
             ],
             [
              0.8888888888888888,
              "#fdca26"
             ],
             [
              1,
              "#f0f921"
             ]
            ],
            "type": "surface"
           }
          ],
          "table": [
           {
            "cells": {
             "fill": {
              "color": "#EBF0F8"
             },
             "line": {
              "color": "white"
             }
            },
            "header": {
             "fill": {
              "color": "#C8D4E3"
             },
             "line": {
              "color": "white"
             }
            },
            "type": "table"
           }
          ]
         },
         "layout": {
          "annotationdefaults": {
           "arrowcolor": "#2a3f5f",
           "arrowhead": 0,
           "arrowwidth": 1
          },
          "autotypenumbers": "strict",
          "coloraxis": {
           "colorbar": {
            "outlinewidth": 0,
            "ticks": ""
           }
          },
          "colorscale": {
           "diverging": [
            [
             0,
             "#8e0152"
            ],
            [
             0.1,
             "#c51b7d"
            ],
            [
             0.2,
             "#de77ae"
            ],
            [
             0.3,
             "#f1b6da"
            ],
            [
             0.4,
             "#fde0ef"
            ],
            [
             0.5,
             "#f7f7f7"
            ],
            [
             0.6,
             "#e6f5d0"
            ],
            [
             0.7,
             "#b8e186"
            ],
            [
             0.8,
             "#7fbc41"
            ],
            [
             0.9,
             "#4d9221"
            ],
            [
             1,
             "#276419"
            ]
           ],
           "sequential": [
            [
             0,
             "#0d0887"
            ],
            [
             0.1111111111111111,
             "#46039f"
            ],
            [
             0.2222222222222222,
             "#7201a8"
            ],
            [
             0.3333333333333333,
             "#9c179e"
            ],
            [
             0.4444444444444444,
             "#bd3786"
            ],
            [
             0.5555555555555556,
             "#d8576b"
            ],
            [
             0.6666666666666666,
             "#ed7953"
            ],
            [
             0.7777777777777778,
             "#fb9f3a"
            ],
            [
             0.8888888888888888,
             "#fdca26"
            ],
            [
             1,
             "#f0f921"
            ]
           ],
           "sequentialminus": [
            [
             0,
             "#0d0887"
            ],
            [
             0.1111111111111111,
             "#46039f"
            ],
            [
             0.2222222222222222,
             "#7201a8"
            ],
            [
             0.3333333333333333,
             "#9c179e"
            ],
            [
             0.4444444444444444,
             "#bd3786"
            ],
            [
             0.5555555555555556,
             "#d8576b"
            ],
            [
             0.6666666666666666,
             "#ed7953"
            ],
            [
             0.7777777777777778,
             "#fb9f3a"
            ],
            [
             0.8888888888888888,
             "#fdca26"
            ],
            [
             1,
             "#f0f921"
            ]
           ]
          },
          "colorway": [
           "#636efa",
           "#EF553B",
           "#00cc96",
           "#ab63fa",
           "#FFA15A",
           "#19d3f3",
           "#FF6692",
           "#B6E880",
           "#FF97FF",
           "#FECB52"
          ],
          "font": {
           "color": "#2a3f5f"
          },
          "geo": {
           "bgcolor": "white",
           "lakecolor": "white",
           "landcolor": "#E5ECF6",
           "showlakes": true,
           "showland": true,
           "subunitcolor": "white"
          },
          "hoverlabel": {
           "align": "left"
          },
          "hovermode": "closest",
          "mapbox": {
           "style": "light"
          },
          "paper_bgcolor": "white",
          "plot_bgcolor": "#E5ECF6",
          "polar": {
           "angularaxis": {
            "gridcolor": "white",
            "linecolor": "white",
            "ticks": ""
           },
           "bgcolor": "#E5ECF6",
           "radialaxis": {
            "gridcolor": "white",
            "linecolor": "white",
            "ticks": ""
           }
          },
          "scene": {
           "xaxis": {
            "backgroundcolor": "#E5ECF6",
            "gridcolor": "white",
            "gridwidth": 2,
            "linecolor": "white",
            "showbackground": true,
            "ticks": "",
            "zerolinecolor": "white"
           },
           "yaxis": {
            "backgroundcolor": "#E5ECF6",
            "gridcolor": "white",
            "gridwidth": 2,
            "linecolor": "white",
            "showbackground": true,
            "ticks": "",
            "zerolinecolor": "white"
           },
           "zaxis": {
            "backgroundcolor": "#E5ECF6",
            "gridcolor": "white",
            "gridwidth": 2,
            "linecolor": "white",
            "showbackground": true,
            "ticks": "",
            "zerolinecolor": "white"
           }
          },
          "shapedefaults": {
           "line": {
            "color": "#2a3f5f"
           }
          },
          "ternary": {
           "aaxis": {
            "gridcolor": "white",
            "linecolor": "white",
            "ticks": ""
           },
           "baxis": {
            "gridcolor": "white",
            "linecolor": "white",
            "ticks": ""
           },
           "bgcolor": "#E5ECF6",
           "caxis": {
            "gridcolor": "white",
            "linecolor": "white",
            "ticks": ""
           }
          },
          "title": {
           "x": 0.05
          },
          "xaxis": {
           "automargin": true,
           "gridcolor": "white",
           "linecolor": "white",
           "ticks": "",
           "title": {
            "standoff": 15
           },
           "zerolinecolor": "white",
           "zerolinewidth": 2
          },
          "yaxis": {
           "automargin": true,
           "gridcolor": "white",
           "linecolor": "white",
           "ticks": "",
           "title": {
            "standoff": 15
           },
           "zerolinecolor": "white",
           "zerolinewidth": 2
          }
         }
        },
        "title": {
         "text": "Dynamic of commits per user in project1"
        },
        "updatemenus": [
         {
          "buttons": [
           {
            "args": [
             null
            ],
            "label": "Play",
            "method": "animate"
           }
          ],
          "type": "buttons"
         }
        ],
        "xaxis": {
         "dtick": 2,
         "fixedrange": true,
         "range": [
          0,
          40
         ],
         "tickmode": "array",
         "ticktext": [
          "0",
          "1",
          "2",
          "3",
          "4",
          "5",
          "6",
          "7",
          "8",
          "9",
          "10",
          "11",
          "12",
          "13",
          "14",
          "15",
          "16",
          "17",
          "18"
         ],
         "tickvals": [
          0,
          2,
          4,
          6,
          8,
          10,
          12,
          14,
          16,
          18,
          20,
          22,
          24,
          26,
          28,
          30,
          32,
          34,
          36
         ],
         "zeroline": true
        },
        "yaxis": {
         "dtick": 20,
         "fixedrange": true,
         "range": [
          0,
          180
         ],
         "zeroline": true
        }
       }
      }
     },
     "metadata": {},
     "output_type": "display_data"
    }
   ],
   "source": [
    "import pandas as pd\n",
    "import sqlite3\n",
    "import plotly.graph_objects as go\n",
    "\n",
    "# Подключение к базе и фильтрация\n",
    "conn = sqlite3.connect(\"../data/checking-logs.sqlite\")\n",
    "df = pd.read_sql(\"SELECT uid, status, timestamp, numTrials, labname FROM checker\", conn)\n",
    "\n",
    "df = df[\n",
    "    df['uid'].str.startswith(\"user_\") &\n",
    "    (df['status'] == 'ready') &\n",
    "    (df['labname'] == 'project1')\n",
    "].copy()\n",
    "\n",
    "if df.empty:\n",
    "    raise ValueError(\"❌ После фильтрации не осталось записей. Проверь labname и status!\")\n",
    "\n",
    "df['timestamp'] = pd.to_datetime(df['timestamp'])\n",
    "df = df.sort_values(['uid', 'timestamp'])\n",
    "\n",
    "# Вычисление изменений и накопление\n",
    "df['numTrials_diff'] = df.groupby('uid')['numTrials'].diff()\n",
    "df['numTrials_diff'] = df['numTrials_diff'].fillna(df['numTrials'])\n",
    "df.loc[df['numTrials_diff'] < 0, 'numTrials_diff'] = 0\n",
    "df['numTrials'] = df['numTrials_diff'].round().astype(int)\n",
    "\n",
    "df['timestamp'] = df['timestamp'].dt.date\n",
    "\n",
    "# Группировка по пользователям и датам\n",
    "grouped = df.groupby(['timestamp', 'uid'])['numTrials'].sum().reset_index()\n",
    "\n",
    "# Создание полного набора всех возможных дат и пользователей\n",
    "all_dates = pd.date_range(start=min(grouped['timestamp']), end=max(grouped['timestamp'])).date\n",
    "all_users = grouped['uid'].unique()\n",
    "full_index = pd.MultiIndex.from_product([all_dates, all_users], names=['timestamp', 'uid'])\n",
    "\n",
    "# Объединение с нулями и накопление\n",
    "full_data = grouped.set_index(['timestamp', 'uid']).reindex(full_index, fill_value=0).reset_index()\n",
    "full_data['cumulative_trials'] = full_data.groupby('uid')['numTrials'].cumsum()\n",
    "\n",
    "# Только активные дни\n",
    "active_days = full_data.groupby('timestamp')['numTrials'].sum()\n",
    "active_days = active_days[active_days > 0].index\n",
    "active_dates_sorted = sorted(active_days)\n",
    "\n",
    "# Ограничим до 21 дня (чтобы были подписи от 0 до 20)\n",
    "max_days = 21\n",
    "active_dates_sorted = active_dates_sorted[:max_days]\n",
    "date_to_idx_scaled = {date: i * 2 for i, date in enumerate(active_dates_sorted)}\n",
    "\n",
    "# Назначаем индексы активным дням\n",
    "full_data['time_idx_scaled'] = full_data['timestamp'].map(date_to_idx_scaled)\n",
    "full_data = full_data[full_data['time_idx_scaled'].notna()].copy()\n",
    "full_data['time_idx_scaled'] = full_data['time_idx_scaled'].astype(int)\n",
    "\n",
    "# Подготовка данных\n",
    "users = sorted(full_data['uid'].unique())\n",
    "init_data = [\n",
    "    go.Scatter(x=[], y=[], mode='lines+markers', name=user)\n",
    "    for user in users\n",
    "]\n",
    "\n",
    "# Анимационные кадры\n",
    "frames = []\n",
    "for idx_scaled in sorted(full_data['time_idx_scaled'].unique()):\n",
    "    frame_data = []\n",
    "    for user in users:\n",
    "        user_data = full_data[(full_data['uid'] == user) & (full_data['time_idx_scaled'] <= idx_scaled)]\n",
    "        if not user_data.empty:\n",
    "            frame_data.append(go.Scatter(\n",
    "                x=user_data['time_idx_scaled'],\n",
    "                y=user_data['cumulative_trials'],\n",
    "                mode='lines+markers',\n",
    "                name=user\n",
    "            ))\n",
    "    frames.append(go.Frame(data=frame_data, name=str(idx_scaled)))\n",
    "\n",
    "# Автоматическое определение диапазона по Y\n",
    "y_max = full_data['cumulative_trials'].max()\n",
    "y_range_max = int(y_max * 1.1 // 20 * 20)\n",
    "\n",
    "# Создание графика\n",
    "fig = go.Figure(\n",
    "    data=init_data,\n",
    "    layout=go.Layout(\n",
    "        title=\"Dynamic of commits per user in project1\",\n",
    "        xaxis=dict(\n",
    "            zeroline=True,\n",
    "            range=[0, 2 * (max_days - 1)],\n",
    "            dtick=2,\n",
    "            fixedrange=True,\n",
    "            tickmode='array',\n",
    "            tickvals=list(date_to_idx_scaled.values()),\n",
    "            ticktext=[str(i) for i in range(len(date_to_idx_scaled))]\n",
    "        ),\n",
    "        yaxis=dict(\n",
    "            zeroline=True,\n",
    "            dtick=20,\n",
    "            range=[0, y_range_max],\n",
    "            fixedrange=True\n",
    "        ),\n",
    "        updatemenus=[\n",
    "            dict(\n",
    "                type=\"buttons\",\n",
    "                buttons=[dict(label=\"Play\", method=\"animate\", args=[None])]\n",
    "            )\n",
    "        ]\n",
    "    ),\n",
    "    frames=frames\n",
    ")\n",
    "\n",
    "fig.show()\n"
   ]
  }
 ],
 "metadata": {
  "kernelspec": {
   "display_name": "Python 3.8 (myenv)",
   "language": "python",
   "name": "myenv"
  },
  "language_info": {
   "codemirror_mode": {
    "name": "ipython",
    "version": 3
   },
   "file_extension": ".py",
   "mimetype": "text/x-python",
   "name": "python",
   "nbconvert_exporter": "python",
   "pygments_lexer": "ipython3",
   "version": "3.8.18"
  }
 },
 "nbformat": 4,
 "nbformat_minor": 5
}
