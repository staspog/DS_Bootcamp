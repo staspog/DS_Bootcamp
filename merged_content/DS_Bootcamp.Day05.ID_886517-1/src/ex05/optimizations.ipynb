{
 "cells": [
  {
   "cell_type": "markdown",
   "id": "721093a0",
   "metadata": {},
   "source": [
    "# EX05\n",
    "## read the fines.csv that you saved in the previous exercise"
   ]
  },
  {
   "cell_type": "code",
   "execution_count": 42,
   "id": "70aa1ffe",
   "metadata": {},
   "outputs": [
    {
     "data": {
      "text/html": [
       "<div>\n",
       "<style scoped>\n",
       "    .dataframe tbody tr th:only-of-type {\n",
       "        vertical-align: middle;\n",
       "    }\n",
       "\n",
       "    .dataframe tbody tr th {\n",
       "        vertical-align: top;\n",
       "    }\n",
       "\n",
       "    .dataframe thead th {\n",
       "        text-align: right;\n",
       "    }\n",
       "</style>\n",
       "<table border=\"1\" class=\"dataframe\">\n",
       "  <thead>\n",
       "    <tr style=\"text-align: right;\">\n",
       "      <th></th>\n",
       "      <th>CarNumber</th>\n",
       "      <th>Refund</th>\n",
       "      <th>Fines</th>\n",
       "      <th>Make</th>\n",
       "      <th>Model</th>\n",
       "      <th>Year</th>\n",
       "    </tr>\n",
       "  </thead>\n",
       "  <tbody>\n",
       "    <tr>\n",
       "      <th>0</th>\n",
       "      <td>Y163O8161RUS</td>\n",
       "      <td>2</td>\n",
       "      <td>3200.0</td>\n",
       "      <td>Ford</td>\n",
       "      <td>Focus</td>\n",
       "      <td>1989</td>\n",
       "    </tr>\n",
       "    <tr>\n",
       "      <th>1</th>\n",
       "      <td>E432XX77RUS</td>\n",
       "      <td>1</td>\n",
       "      <td>6500.0</td>\n",
       "      <td>Toyota</td>\n",
       "      <td>Camry</td>\n",
       "      <td>1995</td>\n",
       "    </tr>\n",
       "    <tr>\n",
       "      <th>2</th>\n",
       "      <td>7184TT36RUS</td>\n",
       "      <td>1</td>\n",
       "      <td>2100.0</td>\n",
       "      <td>Ford</td>\n",
       "      <td>Focus</td>\n",
       "      <td>1984</td>\n",
       "    </tr>\n",
       "    <tr>\n",
       "      <th>3</th>\n",
       "      <td>X582HE161RUS</td>\n",
       "      <td>2</td>\n",
       "      <td>2000.0</td>\n",
       "      <td>Ford</td>\n",
       "      <td>Focus</td>\n",
       "      <td>2015</td>\n",
       "    </tr>\n",
       "    <tr>\n",
       "      <th>4</th>\n",
       "      <td>92918M178RUS</td>\n",
       "      <td>1</td>\n",
       "      <td>5700.0</td>\n",
       "      <td>Ford</td>\n",
       "      <td>Focus</td>\n",
       "      <td>2014</td>\n",
       "    </tr>\n",
       "  </tbody>\n",
       "</table>\n",
       "</div>"
      ],
      "text/plain": [
       "      CarNumber  Refund   Fines    Make  Model  Year\n",
       "0  Y163O8161RUS       2  3200.0    Ford  Focus  1989\n",
       "1   E432XX77RUS       1  6500.0  Toyota  Camry  1995\n",
       "2   7184TT36RUS       1  2100.0    Ford  Focus  1984\n",
       "3  X582HE161RUS       2  2000.0    Ford  Focus  2015\n",
       "4  92918M178RUS       1  5700.0    Ford  Focus  2014"
      ]
     },
     "execution_count": 42,
     "metadata": {},
     "output_type": "execute_result"
    }
   ],
   "source": [
    "import pandas as pd\n",
    "import gc\n",
    "import timeit\n",
    "\n",
    "# Загрузка данных\n",
    "df = pd.read_csv('..\\ex04\\\\fines.csv')\n",
    "df.head()"
   ]
  },
  {
   "cell_type": "markdown",
   "id": "79717d20",
   "metadata": {},
   "source": [
    "## iterations: in all the following subtasks, you need to calculate fines/refund*year for each row and create a new column with the calculated data and measure the time using the magic command %%timeit in the cell"
   ]
  },
  {
   "cell_type": "code",
   "execution_count": 43,
   "id": "1f76e5b8",
   "metadata": {},
   "outputs": [
    {
     "name": "stdout",
     "output_type": "stream",
     "text": [
      "179 ms ± 4.59 ms per loop (mean ± std. dev. of 7 runs, 10 loops each)\n"
     ]
    }
   ],
   "source": [
    "%%timeit\n",
    "# 1. Через for + iloc + append\n",
    "result = []\n",
    "for i in range(len(df)):\n",
    "    val = df.iloc[i]['Fines'] / df.iloc[i]['Refund'] * df.iloc[i]['Year']\n",
    "    result.append(val)\n",
    "df['loop_calc'] = result"
   ]
  },
  {
   "cell_type": "code",
   "execution_count": 44,
   "id": "c141f055",
   "metadata": {},
   "outputs": [
    {
     "name": "stdout",
     "output_type": "stream",
     "text": [
      "60.4 ms ± 1.21 ms per loop (mean ± std. dev. of 7 runs, 10 loops each)\n"
     ]
    }
   ],
   "source": [
    "%%timeit\n",
    "# 2. Через iterrows\n",
    "result = []\n",
    "for idx, row in df.iterrows():\n",
    "    val = row['Fines'] / row['Refund'] * row['Year']\n",
    "    result.append(val)\n",
    "df['iterrows_calc'] = result"
   ]
  },
  {
   "cell_type": "code",
   "execution_count": 45,
   "id": "afa7bd28",
   "metadata": {},
   "outputs": [
    {
     "name": "stdout",
     "output_type": "stream",
     "text": [
      "12.9 ms ± 402 µs per loop (mean ± std. dev. of 7 runs, 100 loops each)\n"
     ]
    }
   ],
   "source": [
    "%%timeit\n",
    "#  3. Через apply и lambda\n",
    "df['apply_calc'] = df.apply(lambda row: row['Fines'] / row['Refund'] * row['Year'], axis=1)"
   ]
  },
  {
   "cell_type": "code",
   "execution_count": 46,
   "id": "a57022ca",
   "metadata": {},
   "outputs": [
    {
     "name": "stdout",
     "output_type": "stream",
     "text": [
      "345 µs ± 22.5 µs per loop (mean ± std. dev. of 7 runs, 1,000 loops each)\n"
     ]
    }
   ],
   "source": [
    "%%timeit\n",
    "# 4. Через Series напрямую\n",
    "df['series_calc'] = df['Fines'] / df['Refund'] * df['Year']"
   ]
  },
  {
   "cell_type": "code",
   "execution_count": 47,
   "id": "fce70e2c",
   "metadata": {},
   "outputs": [
    {
     "name": "stdout",
     "output_type": "stream",
     "text": [
      "130 µs ± 2.17 µs per loop (mean ± std. dev. of 7 runs, 10,000 loops each)\n"
     ]
    }
   ],
   "source": [
    "%%timeit\n",
    "# 5. Через .values (NumPy)\n",
    "df['values_calc'] = (df['Fines'].values / df['Refund'].values) * df['Year'].values"
   ]
  },
  {
   "cell_type": "markdown",
   "id": "a4cd796c",
   "metadata": {},
   "source": [
    "## indexing: measure the time using the magic command %%timeit in the cell"
   ]
  },
  {
   "cell_type": "code",
   "execution_count": 48,
   "id": "a9eaacf5",
   "metadata": {},
   "outputs": [],
   "source": [
    "car_number = 'O136HO197RUS'"
   ]
  },
  {
   "cell_type": "code",
   "execution_count": 49,
   "id": "fd122237",
   "metadata": {},
   "outputs": [
    {
     "name": "stdout",
     "output_type": "stream",
     "text": [
      "407 µs ± 7.74 µs per loop (mean ± std. dev. of 7 runs, 1,000 loops each)\n"
     ]
    }
   ],
   "source": [
    "%%timeit\n",
    "# Получение строки без индекса\n",
    "df[df['CarNumber'] == car_number]"
   ]
  },
  {
   "cell_type": "code",
   "execution_count": 50,
   "id": "7177ae54",
   "metadata": {},
   "outputs": [],
   "source": [
    "# Установка индекса\n",
    "df_indexed = df.set_index('CarNumber')"
   ]
  },
  {
   "cell_type": "code",
   "execution_count": 51,
   "id": "47450eea",
   "metadata": {},
   "outputs": [
    {
     "name": "stdout",
     "output_type": "stream",
     "text": [
      "198 µs ± 2.98 µs per loop (mean ± std. dev. of 7 runs, 10,000 loops each)\n"
     ]
    }
   ],
   "source": [
    "%%timeit\n",
    "# Получение строки с индексом\n",
    "df_indexed.loc[car_number]"
   ]
  },
  {
   "cell_type": "markdown",
   "id": "31400bfd",
   "metadata": {},
   "source": [
    "## downcasting"
   ]
  },
  {
   "cell_type": "code",
   "execution_count": 52,
   "id": "04c8f65e",
   "metadata": {},
   "outputs": [
    {
     "name": "stdout",
     "output_type": "stream",
     "text": [
      "<class 'pandas.core.frame.DataFrame'>\n",
      "RangeIndex: 930 entries, 0 to 929\n",
      "Data columns (total 11 columns):\n",
      " #   Column         Non-Null Count  Dtype  \n",
      "---  ------         --------------  -----  \n",
      " 0   CarNumber      930 non-null    object \n",
      " 1   Refund         930 non-null    int64  \n",
      " 2   Fines          930 non-null    float64\n",
      " 3   Make           930 non-null    object \n",
      " 4   Model          919 non-null    object \n",
      " 5   Year           930 non-null    int64  \n",
      " 6   loop_calc      930 non-null    float64\n",
      " 7   iterrows_calc  930 non-null    float64\n",
      " 8   apply_calc     930 non-null    float64\n",
      " 9   series_calc    930 non-null    float64\n",
      " 10  values_calc    930 non-null    float64\n",
      "dtypes: float64(6), int64(2), object(3)\n",
      "memory usage: 232.9 KB\n",
      "<class 'pandas.core.frame.DataFrame'>\n",
      "RangeIndex: 930 entries, 0 to 929\n",
      "Data columns (total 11 columns):\n",
      " #   Column         Non-Null Count  Dtype  \n",
      "---  ------         --------------  -----  \n",
      " 0   CarNumber      930 non-null    object \n",
      " 1   Refund         930 non-null    int16  \n",
      " 2   Fines          930 non-null    float32\n",
      " 3   Make           930 non-null    object \n",
      " 4   Model          919 non-null    object \n",
      " 5   Year           930 non-null    int16  \n",
      " 6   loop_calc      930 non-null    float64\n",
      " 7   iterrows_calc  930 non-null    float64\n",
      " 8   apply_calc     930 non-null    float64\n",
      " 9   series_calc    930 non-null    float64\n",
      " 10  values_calc    930 non-null    float64\n",
      "dtypes: float32(1), float64(5), int16(2), object(3)\n",
      "memory usage: 218.3 KB\n"
     ]
    }
   ],
   "source": [
    "# Проверка исходной памяти\n",
    "df.info(memory_usage='deep')\n",
    "\n",
    "# Копия датафрейма\n",
    "df_optimized = df.copy()\n",
    "\n",
    "# Downcast чисел\n",
    "for col in df_optimized.select_dtypes(include='float64'):\n",
    "    df_optimized[col] = pd.to_numeric(df_optimized[col], downcast='float')\n",
    "\n",
    "for col in df_optimized.select_dtypes(include='int64'):\n",
    "    df_optimized[col] = pd.to_numeric(df_optimized[col], downcast='integer')\n",
    "\n",
    "# Проверка новой памяти\n",
    "df_optimized.info(memory_usage='deep')"
   ]
  },
  {
   "cell_type": "markdown",
   "id": "5a2b5eaf",
   "metadata": {},
   "source": [
    "## categories"
   ]
  },
  {
   "cell_type": "code",
   "execution_count": 53,
   "id": "750080a1",
   "metadata": {},
   "outputs": [
    {
     "name": "stdout",
     "output_type": "stream",
     "text": [
      "<class 'pandas.core.frame.DataFrame'>\n",
      "RangeIndex: 930 entries, 0 to 929\n",
      "Data columns (total 11 columns):\n",
      " #   Column         Non-Null Count  Dtype   \n",
      "---  ------         --------------  -----   \n",
      " 0   CarNumber      930 non-null    category\n",
      " 1   Refund         930 non-null    int16   \n",
      " 2   Fines          930 non-null    float32 \n",
      " 3   Make           930 non-null    category\n",
      " 4   Model          919 non-null    category\n",
      " 5   Year           930 non-null    int16   \n",
      " 6   loop_calc      930 non-null    float64 \n",
      " 7   iterrows_calc  930 non-null    float64 \n",
      " 8   apply_calc     930 non-null    float64 \n",
      " 9   series_calc    930 non-null    float64 \n",
      " 10  values_calc    930 non-null    float64 \n",
      "dtypes: category(3), float32(1), float64(5), int16(2)\n",
      "memory usage: 101.3 KB\n"
     ]
    }
   ],
   "source": [
    "for col in df_optimized.select_dtypes(include='object'):\n",
    "    df_optimized[col] = df_optimized[col].astype('category')\n",
    "\n",
    "# Снова проверим память\n",
    "df_optimized.info(memory_usage='deep')"
   ]
  },
  {
   "cell_type": "markdown",
   "id": "7ff56790",
   "metadata": {},
   "source": [
    "## memory clean"
   ]
  },
  {
   "cell_type": "code",
   "execution_count": 55,
   "id": "8adf82b9",
   "metadata": {},
   "outputs": [
    {
     "data": {
      "text/plain": [
       "509"
      ]
     },
     "execution_count": 55,
     "metadata": {},
     "output_type": "execute_result"
    }
   ],
   "source": [
    "# Удалим исходный df\n",
    "%reset_selective -f df\n",
    "gc.collect()"
   ]
  },
  {
   "cell_type": "code",
   "execution_count": null,
   "id": "43b2d7d2",
   "metadata": {},
   "outputs": [],
   "source": []
  }
 ],
 "metadata": {
  "kernelspec": {
   "display_name": "Python 3.8 (myenv)",
   "language": "python",
   "name": "myenv"
  },
  "language_info": {
   "codemirror_mode": {
    "name": "ipython",
    "version": 3
   },
   "file_extension": ".py",
   "mimetype": "text/x-python",
   "name": "python",
   "nbconvert_exporter": "python",
   "pygments_lexer": "ipython3",
   "version": "3.8.18"
  }
 },
 "nbformat": 4,
 "nbformat_minor": 5
}
