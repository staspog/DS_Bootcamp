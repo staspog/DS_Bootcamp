{
 "cells": [
  {
   "cell_type": "markdown",
   "id": "e0bf1a08",
   "metadata": {},
   "source": [
    "# Exercise 04 : A/B-testing\n",
    "## Create a connection to the database using the library sqlite3\n"
   ]
  },
  {
   "cell_type": "code",
   "execution_count": 95,
   "id": "0dc34752",
   "metadata": {},
   "outputs": [],
   "source": [
    "import pandas as pd\n",
    "import sqlite3\n",
    "\n",
    "# Подключение к базе\n",
    "conn = sqlite3.connect('../data/checking-logs.sqlite')  # укажи свой путь к базе"
   ]
  },
  {
   "cell_type": "markdown",
   "id": "cfbd3580",
   "metadata": {},
   "source": [
    "## Получаем средний timestamp первого просмотра из тестовой группы"
   ]
  },
  {
   "cell_type": "code",
   "execution_count": 96,
   "id": "d4ee08e5",
   "metadata": {},
   "outputs": [
    {
     "data": {
      "text/plain": [
       "2458966.651581563"
      ]
     },
     "execution_count": 96,
     "metadata": {},
     "output_type": "execute_result"
    }
   ],
   "source": [
    "query_avg_first_view = \"\"\"\n",
    "SELECT AVG(julianday(first_view_ts)) AS avg_first_view_jd\n",
    "FROM test\n",
    "WHERE labname != 'project1' AND first_view_ts IS NOT NULL;\n",
    "\"\"\"\n",
    "\n",
    "avg_first_view_jd = pd.read_sql(query_avg_first_view, conn).iloc[0, 0]\n",
    "avg_first_view_jd"
   ]
  },
  {
   "cell_type": "markdown",
   "id": "9b33c18e",
   "metadata": {},
   "source": [
    "## Запрос и получение результатов для тестовой группы"
   ]
  },
  {
   "cell_type": "code",
   "execution_count": 97,
   "id": "02f41043",
   "metadata": {},
   "outputs": [
    {
     "data": {
      "text/html": [
       "<div>\n",
       "<style scoped>\n",
       "    .dataframe tbody tr th:only-of-type {\n",
       "        vertical-align: middle;\n",
       "    }\n",
       "\n",
       "    .dataframe tbody tr th {\n",
       "        vertical-align: top;\n",
       "    }\n",
       "\n",
       "    .dataframe thead th {\n",
       "        text-align: right;\n",
       "    }\n",
       "</style>\n",
       "<table border=\"1\" class=\"dataframe\">\n",
       "  <thead>\n",
       "    <tr style=\"text-align: right;\">\n",
       "      <th></th>\n",
       "      <th>time</th>\n",
       "      <th>avg_diff</th>\n",
       "    </tr>\n",
       "  </thead>\n",
       "  <tbody>\n",
       "    <tr>\n",
       "      <th>0</th>\n",
       "      <td>after</td>\n",
       "      <td>-105.229101</td>\n",
       "    </tr>\n",
       "    <tr>\n",
       "      <th>1</th>\n",
       "      <td>before</td>\n",
       "      <td>-61.156438</td>\n",
       "    </tr>\n",
       "  </tbody>\n",
       "</table>\n",
       "</div>"
      ],
      "text/plain": [
       "     time    avg_diff\n",
       "0   after -105.229101\n",
       "1  before  -61.156438"
      ]
     },
     "execution_count": 97,
     "metadata": {},
     "output_type": "execute_result"
    }
   ],
   "source": [
    "query_test_results = \"\"\"\n",
    "WITH filtered_users AS (\n",
    "    SELECT uid\n",
    "    FROM test\n",
    "    WHERE labname != 'project1'\n",
    "    GROUP BY uid\n",
    "    HAVING SUM(CASE WHEN first_commit_ts < first_view_ts THEN 1 ELSE 0 END) > 0\n",
    "       AND SUM(CASE WHEN first_commit_ts >= first_view_ts THEN 1 ELSE 0 END) > 0\n",
    ")\n",
    "SELECT 'before' AS time,\n",
    "       AVG((julianday(first_commit_ts) - julianday(deadlines.deadlines, 'unixepoch')) * 24) AS avg_diff\n",
    "FROM test\n",
    "JOIN deadlines ON test.labname = deadlines.labs\n",
    "JOIN filtered_users ON test.uid = filtered_users.uid\n",
    "WHERE test.labname != 'project1' AND julianday(first_commit_ts) < julianday(first_view_ts)\n",
    "\n",
    "UNION\n",
    "\n",
    "SELECT 'after' AS time,\n",
    "       AVG((julianday(first_commit_ts) - julianday(deadlines.deadlines, 'unixepoch')) * 24) AS avg_diff\n",
    "FROM test\n",
    "JOIN deadlines ON test.labname = deadlines.labs\n",
    "JOIN filtered_users ON test.uid = filtered_users.uid\n",
    "WHERE test.labname != 'project1' AND julianday(first_commit_ts) >= julianday(first_view_ts);\n",
    "\"\"\"\n",
    "\n",
    "test_results = pd.read_sql(query_test_results, conn)\n",
    "test_results\n"
   ]
  },
  {
   "cell_type": "markdown",
   "id": "6815169d",
   "metadata": {},
   "source": [
    "## Запрос и получение результатов для контрольной группы"
   ]
  },
  {
   "cell_type": "code",
   "execution_count": 98,
   "id": "7526659d",
   "metadata": {},
   "outputs": [
    {
     "data": {
      "text/html": [
       "<div>\n",
       "<style scoped>\n",
       "    .dataframe tbody tr th:only-of-type {\n",
       "        vertical-align: middle;\n",
       "    }\n",
       "\n",
       "    .dataframe tbody tr th {\n",
       "        vertical-align: top;\n",
       "    }\n",
       "\n",
       "    .dataframe thead th {\n",
       "        text-align: right;\n",
       "    }\n",
       "</style>\n",
       "<table border=\"1\" class=\"dataframe\">\n",
       "  <thead>\n",
       "    <tr style=\"text-align: right;\">\n",
       "      <th></th>\n",
       "      <th>time</th>\n",
       "      <th>avg_diff</th>\n",
       "    </tr>\n",
       "  </thead>\n",
       "  <tbody>\n",
       "    <tr>\n",
       "      <th>0</th>\n",
       "      <td>before</td>\n",
       "      <td>-99.901295</td>\n",
       "    </tr>\n",
       "    <tr>\n",
       "      <th>1</th>\n",
       "      <td>after</td>\n",
       "      <td>-118.144425</td>\n",
       "    </tr>\n",
       "  </tbody>\n",
       "</table>\n",
       "</div>"
      ],
      "text/plain": [
       "     time    avg_diff\n",
       "0  before  -99.901295\n",
       "1   after -118.144425"
      ]
     },
     "execution_count": 98,
     "metadata": {},
     "output_type": "execute_result"
    }
   ],
   "source": [
    "query_control_results = f\"\"\"\n",
    "WITH filtered_users AS (\n",
    "    SELECT uid\n",
    "    FROM control\n",
    "    WHERE labname != 'project1'\n",
    "    GROUP BY uid\n",
    "    HAVING SUM(CASE WHEN julianday(first_commit_ts) < {avg_first_view_jd} THEN 1 ELSE 0 END) > 0\n",
    "       AND SUM(CASE WHEN julianday(first_commit_ts) >= {avg_first_view_jd} THEN 1 ELSE 0 END) > 0\n",
    ")\n",
    "SELECT 'before' AS time,\n",
    "       AVG((julianday(first_commit_ts) - julianday(deadlines.deadlines, 'unixepoch')) * 24) AS avg_diff\n",
    "FROM control\n",
    "JOIN deadlines ON control.labname = deadlines.labs\n",
    "JOIN filtered_users ON control.uid = filtered_users.uid\n",
    "WHERE control.labname != 'project1' AND julianday(first_commit_ts) < {avg_first_view_jd}\n",
    "\n",
    "UNION ALL\n",
    "\n",
    "SELECT 'after' AS time,\n",
    "       AVG((julianday(first_commit_ts) - julianday(deadlines.deadlines, 'unixepoch')) * 24) AS avg_diff\n",
    "FROM control\n",
    "JOIN deadlines ON control.labname = deadlines.labs\n",
    "JOIN filtered_users ON control.uid = filtered_users.uid\n",
    "WHERE control.labname != 'project1' AND julianday(first_commit_ts) >= {avg_first_view_jd};\n",
    "\"\"\"\n",
    "\n",
    "control_results = pd.read_sql(query_control_results, conn)\n",
    "control_results\n"
   ]
  },
  {
   "cell_type": "markdown",
   "id": "7216e86d",
   "metadata": {},
   "source": [
    "## Закрываем соединение"
   ]
  },
  {
   "cell_type": "code",
   "execution_count": 99,
   "id": "e2f9f29c",
   "metadata": {},
   "outputs": [],
   "source": [
    "conn.close()"
   ]
  },
  {
   "cell_type": "markdown",
   "id": "ee115071",
   "metadata": {},
   "source": [
    "💡 Интерпретация результата:\n",
    "```\n",
    "Test Group:\n",
    "time\tavg_diff (часы)\n",
    "before\t-61.16\n",
    "after\t-105.23\n",
    "```\n",
    "→ После показа новостной ленты студенты стали сдавать раньше (отрицательная разница стала больше по модулю) — положительный эффект.\n",
    "\n",
    "```\n",
    "Control Group:\n",
    "time\tavg_diff (часы)\n",
    "before\t-99.90\n",
    "after\t-118.14\n",
    "```\n",
    "→ У контрольной группы тоже наблюдается ускорение, но оно меньше, чем у тестовой группы.\n",
    "\n",
    "📌 Вывод: новостная лента оказала положительное влияние, так как ускорение выполнения заданий у тестовой группы значительно больше."
   ]
  }
 ],
 "metadata": {
  "language_info": {
   "name": "python"
  }
 },
 "nbformat": 4,
 "nbformat_minor": 5
}
