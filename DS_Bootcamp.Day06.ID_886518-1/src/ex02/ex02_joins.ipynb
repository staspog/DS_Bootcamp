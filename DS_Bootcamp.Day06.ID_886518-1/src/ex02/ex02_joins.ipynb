{
 "cells": [
  {
   "cell_type": "markdown",
   "id": "2211cd93",
   "metadata": {},
   "source": [
    "# Exercise 02 : Join\n",
    "\n",
    "## Create a connection to the database using the library sqlite3\n"
   ]
  },
  {
   "cell_type": "code",
   "execution_count": 11,
   "id": "ec3f375b",
   "metadata": {},
   "outputs": [],
   "source": [
    "import pandas as pd\n",
    "import sqlite3\n",
    "\n",
    "conn = sqlite3.connect(\"../data/checking-logs.sqlite\")"
   ]
  },
  {
   "cell_type": "markdown",
   "id": "fd06b23e",
   "metadata": {},
   "source": [
    "## Create a new table datamart in the database by joining the tables pageviews and checker using only one query\n"
   ]
  },
  {
   "cell_type": "code",
   "execution_count": 12,
   "id": "e980f4bb",
   "metadata": {},
   "outputs": [
    {
     "data": {
      "text/plain": [
       "uid                        object\n",
       "labname                    object\n",
       "first_commit_ts    datetime64[ns]\n",
       "first_view_ts      datetime64[ns]\n",
       "dtype: object"
      ]
     },
     "execution_count": 12,
     "metadata": {},
     "output_type": "execute_result"
    }
   ],
   "source": [
    "create_datamart_sql = \"\"\"\n",
    "CREATE TABLE IF NOT EXISTS datamart AS\n",
    "SELECT\n",
    "  c.uid,\n",
    "  c.labname,\n",
    "  c.timestamp      AS first_commit_ts,\n",
    "  pv.datetime      AS first_view_ts\n",
    "FROM\n",
    "  checker AS c\n",
    "LEFT JOIN\n",
    "  (\n",
    "    SELECT\n",
    "      uid,\n",
    "      MIN(datetime) AS datetime\n",
    "    FROM pageviews\n",
    "    WHERE uid LIKE 'user_%'\n",
    "    GROUP BY uid\n",
    "  ) AS pv\n",
    "ON c.uid = pv.uid\n",
    "WHERE\n",
    "  c.status   = 'ready'\n",
    "  AND c.numTrials = 1\n",
    "  AND c.labname IN (\n",
    "    'laba04','laba04s','laba05','laba06','laba06s','project1'\n",
    "  )\n",
    "  AND c.uid LIKE 'user_%'\n",
    ";\n",
    "\"\"\"\n",
    "conn.execute(create_datamart_sql)\n",
    "conn.commit()\n",
    "\n",
    "# ## Шаг 3: Загрузка datamart в Pandas и приведение типов\n",
    "datamart = pd.read_sql(\n",
    "    \"SELECT * FROM datamart;\",\n",
    "    conn,\n",
    "    parse_dates=[\"first_commit_ts\", \"first_view_ts\"]\n",
    ")\n",
    "datamart.dtypes\n"
   ]
  },
  {
   "cell_type": "markdown",
   "id": "1c604f61",
   "metadata": {},
   "source": [
    "## Using Pandas methods, create two dataframes: test and control\n"
   ]
  },
  {
   "cell_type": "code",
   "execution_count": 13,
   "id": "fe74a5c7",
   "metadata": {},
   "outputs": [
    {
     "data": {
      "text/plain": [
       "81"
      ]
     },
     "execution_count": 13,
     "metadata": {},
     "output_type": "execute_result"
    }
   ],
   "source": [
    "# ## Шаг 4: Разделение на test и control группы\n",
    "test    = datamart[datamart[\"first_view_ts\"].notna()].copy()\n",
    "control = datamart[datamart[\"first_view_ts\"].isna()].copy()\n",
    "# ## Шаг 5: Замена пропусков в control на среднее first_view_ts из test\n",
    "mean_view_ts = test[\"first_view_ts\"].mean()\n",
    "control[\"first_view_ts\"].fillna(mean_view_ts, inplace=True)\n",
    "# ## Шаг 6: Сохранение test и control обратно в базу\n",
    "test.to_sql     (\"test\",    conn, if_exists=\"replace\", index=False)\n",
    "control.to_sql  (\"control\", conn, if_exists=\"replace\", index=False)"
   ]
  },
  {
   "cell_type": "markdown",
   "id": "15683f36",
   "metadata": {},
   "source": [
    "## Close the connection\n"
   ]
  },
  {
   "cell_type": "code",
   "execution_count": 14,
   "id": "8b4727ff",
   "metadata": {},
   "outputs": [],
   "source": [
    "# ## Шаг 7: Закрытие соединения\n",
    "conn.close()"
   ]
  }
 ],
 "metadata": {
  "kernelspec": {
   "display_name": "Python 3.8 (myenv)",
   "language": "python",
   "name": "myenv"
  },
  "language_info": {
   "codemirror_mode": {
    "name": "ipython",
    "version": 3
   },
   "file_extension": ".py",
   "mimetype": "text/x-python",
   "name": "python",
   "nbconvert_exporter": "python",
   "pygments_lexer": "ipython3",
   "version": "3.8.18"
  }
 },
 "nbformat": 4,
 "nbformat_minor": 5
}
